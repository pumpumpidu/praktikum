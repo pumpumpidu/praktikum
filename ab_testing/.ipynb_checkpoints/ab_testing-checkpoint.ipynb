{
 "cells": [
  {
   "cell_type": "markdown",
   "metadata": {},
   "source": [
    "# А/Б тестирование гипотез для интернет магазина"
   ]
  },
  {
   "cell_type": "markdown",
   "metadata": {},
   "source": [
    "__Описание проекта__:\n",
    "\n",
    "Вместе с отделом маркетинга были подготовлены гипотезы для увличения выручки. \n",
    "Необходимо приоритезировать гипотезы, запустить А/Б тестирование и проанализировать результаты.\n",
    "\n",
    "\n",
    "__Описание данных__:\n",
    "\n",
    "Датасет с гипотезами:\n",
    "- Hypothesis — краткое описание гипотезы;\n",
    "- Reach — охват пользователей по 10-балльной шкале;\n",
    "- Impact — влияние на пользователей по 10-балльной шкале;\n",
    "- Confidence — уверенность в гипотезе по 10-балльной шкале;\n",
    "- Efforts — затраты ресурсов на проверку гипотезы по 10-балльной шкале. Чем больше значение Efforts, тем дороже проверка гипотезы.\n",
    "\n",
    "\n",
    "Датасет с заказами\n",
    "- transactionId — идентификатор заказа;\n",
    "- visitorId — идентификатор пользователя, совершившего заказ;\n",
    "- date — дата, когда был совершён заказ;\n",
    "- revenue — выручка заказа;\n",
    "- group — группа A/B-теста, в которую попал заказ.\n",
    "\n",
    "\n",
    "Датасет с результатами тестирования:\n",
    "- date — дата;\n",
    "- group — группа A/B-теста;\n",
    "- visitors — количество пользователей в указанную дату в указанной группе A/B-теста"
   ]
  },
  {
   "cell_type": "markdown",
   "metadata": {},
   "source": [
    "## Загрузка данных"
   ]
  },
  {
   "cell_type": "code",
   "execution_count": 1,
   "metadata": {},
   "outputs": [],
   "source": [
    "import pandas as pd\n",
    "import matplotlib.pyplot as plt\n",
    "import numpy as np\n",
    "import scipy.stats as stats"
   ]
  },
  {
   "cell_type": "markdown",
   "metadata": {},
   "source": [
    "### Загрузка датасета с гипотезами"
   ]
  },
  {
   "cell_type": "code",
   "execution_count": 2,
   "metadata": {
    "scrolled": false
   },
   "outputs": [
    {
     "name": "stdout",
     "output_type": "stream",
     "text": [
      "\u001b[1mИсходный датасет:\u001b[0m\n",
      "<class 'pandas.core.frame.DataFrame'>\n",
      "RangeIndex: 9 entries, 0 to 8\n",
      "Data columns (total 5 columns):\n",
      "Hypothesis    9 non-null object\n",
      "Reach         9 non-null int64\n",
      "Impact        9 non-null int64\n",
      "Confidence    9 non-null int64\n",
      "Efforts       9 non-null int64\n",
      "dtypes: int64(4), object(1)\n",
      "memory usage: 488.0+ bytes\n"
     ]
    },
    {
     "data": {
      "text/plain": [
       "None"
      ]
     },
     "metadata": {},
     "output_type": "display_data"
    },
    {
     "name": "stdout",
     "output_type": "stream",
     "text": [
      "\u001b[1mДатасет после коректировок:\u001b[0m\n",
      "<class 'pandas.core.frame.DataFrame'>\n",
      "Index: 9 entries, Добавить два новых канала привлечения трафика, что позволит привлекать на 30% больше пользователей to Запустить акцию, дающую скидку на товар в день рождения\n",
      "Data columns (total 4 columns):\n",
      "reach         9 non-null int64\n",
      "impact        9 non-null int64\n",
      "confidence    9 non-null int64\n",
      "efforts       9 non-null int64\n",
      "dtypes: int64(4)\n",
      "memory usage: 360.0+ bytes\n"
     ]
    },
    {
     "data": {
      "text/plain": [
       "None"
      ]
     },
     "metadata": {},
     "output_type": "display_data"
    },
    {
     "data": {
      "text/html": [
       "<div>\n",
       "<style scoped>\n",
       "    .dataframe tbody tr th:only-of-type {\n",
       "        vertical-align: middle;\n",
       "    }\n",
       "\n",
       "    .dataframe tbody tr th {\n",
       "        vertical-align: top;\n",
       "    }\n",
       "\n",
       "    .dataframe thead th {\n",
       "        text-align: right;\n",
       "    }\n",
       "</style>\n",
       "<table border=\"1\" class=\"dataframe\">\n",
       "  <thead>\n",
       "    <tr style=\"text-align: right;\">\n",
       "      <th></th>\n",
       "      <th>reach</th>\n",
       "      <th>impact</th>\n",
       "      <th>confidence</th>\n",
       "      <th>efforts</th>\n",
       "    </tr>\n",
       "    <tr>\n",
       "      <th>hypothesis</th>\n",
       "      <th></th>\n",
       "      <th></th>\n",
       "      <th></th>\n",
       "      <th></th>\n",
       "    </tr>\n",
       "  </thead>\n",
       "  <tbody>\n",
       "    <tr>\n",
       "      <td>Добавить два новых канала привлечения трафика, что позволит привлекать на 30% больше пользователей</td>\n",
       "      <td>3</td>\n",
       "      <td>10</td>\n",
       "      <td>8</td>\n",
       "      <td>6</td>\n",
       "    </tr>\n",
       "    <tr>\n",
       "      <td>Запустить собственную службу доставки, что сократит срок доставки заказов</td>\n",
       "      <td>2</td>\n",
       "      <td>5</td>\n",
       "      <td>4</td>\n",
       "      <td>10</td>\n",
       "    </tr>\n",
       "    <tr>\n",
       "      <td>Добавить блоки рекомендаций товаров на сайт интернет магазина, чтобы повысить конверсию и средний чек заказа</td>\n",
       "      <td>8</td>\n",
       "      <td>3</td>\n",
       "      <td>7</td>\n",
       "      <td>3</td>\n",
       "    </tr>\n",
       "    <tr>\n",
       "      <td>Изменить структура категорий, что увеличит конверсию, т.к. пользователи быстрее найдут нужный товар</td>\n",
       "      <td>8</td>\n",
       "      <td>3</td>\n",
       "      <td>3</td>\n",
       "      <td>8</td>\n",
       "    </tr>\n",
       "    <tr>\n",
       "      <td>Изменить цвет фона главной страницы, чтобы увеличить вовлеченность пользователей</td>\n",
       "      <td>3</td>\n",
       "      <td>1</td>\n",
       "      <td>1</td>\n",
       "      <td>1</td>\n",
       "    </tr>\n",
       "  </tbody>\n",
       "</table>\n",
       "</div>"
      ],
      "text/plain": [
       "                                                    reach  impact  confidence  \\\n",
       "hypothesis                                                                      \n",
       "Добавить два новых канала привлечения трафика, ...      3      10           8   \n",
       "Запустить собственную службу доставки, что сокр...      2       5           4   \n",
       "Добавить блоки рекомендаций товаров на сайт инт...      8       3           7   \n",
       "Изменить структура категорий, что увеличит конв...      8       3           3   \n",
       "Изменить цвет фона главной страницы, чтобы увел...      3       1           1   \n",
       "\n",
       "                                                    efforts  \n",
       "hypothesis                                                   \n",
       "Добавить два новых канала привлечения трафика, ...        6  \n",
       "Запустить собственную службу доставки, что сокр...       10  \n",
       "Добавить блоки рекомендаций товаров на сайт инт...        3  \n",
       "Изменить структура категорий, что увеличит конв...        8  \n",
       "Изменить цвет фона главной страницы, чтобы увел...        1  "
      ]
     },
     "execution_count": 2,
     "metadata": {},
     "output_type": "execute_result"
    }
   ],
   "source": [
    "#загружаю датасет\n",
    "hypothesis = pd.read_csv('/datasets/hypothesis.csv')\n",
    "print('\\033[1m' +'Исходный датасет:'+ '\\033[0m')\n",
    "display(hypothesis.info())\n",
    "#меняю регистр, убираю пробелы\n",
    "hypothesis.columns = hypothesis.columns.str.lower().str.replace(' ','_')\n",
    "#переношу гипотезы в индекс\n",
    "hypothesis = hypothesis.set_index('hypothesis', drop=True)\n",
    "print('\\033[1m' +'Датасет после коректировок:'+ '\\033[0m')\n",
    "display(hypothesis.info())\n",
    "hypothesis.head()"
   ]
  },
  {
   "cell_type": "markdown",
   "metadata": {},
   "source": [
    "### Загрузка датасета с заказами"
   ]
  },
  {
   "cell_type": "code",
   "execution_count": 4,
   "metadata": {
    "scrolled": false
   },
   "outputs": [
    {
     "name": "stdout",
     "output_type": "stream",
     "text": [
      "\u001b[1mИсходный датасет:\u001b[0m\n",
      "<class 'pandas.core.frame.DataFrame'>\n",
      "RangeIndex: 1197 entries, 0 to 1196\n",
      "Data columns (total 5 columns):\n",
      "transactionId    1197 non-null int64\n",
      "visitorId        1197 non-null int64\n",
      "date             1197 non-null object\n",
      "revenue          1197 non-null int64\n",
      "group            1197 non-null object\n",
      "dtypes: int64(3), object(2)\n",
      "memory usage: 46.9+ KB\n"
     ]
    },
    {
     "data": {
      "text/plain": [
       "None"
      ]
     },
     "metadata": {},
     "output_type": "display_data"
    },
    {
     "name": "stdout",
     "output_type": "stream",
     "text": [
      "\u001b[1mДатасет после коректировок:\u001b[0m\n",
      "<class 'pandas.core.frame.DataFrame'>\n",
      "RangeIndex: 1197 entries, 0 to 1196\n",
      "Data columns (total 5 columns):\n",
      "transaction_id    1197 non-null int64\n",
      "visitor_id        1197 non-null int64\n",
      "date              1197 non-null datetime64[ns]\n",
      "revenue           1197 non-null int64\n",
      "group             1197 non-null object\n",
      "dtypes: datetime64[ns](1), int64(3), object(1)\n",
      "memory usage: 46.9+ KB\n"
     ]
    },
    {
     "data": {
      "text/plain": [
       "None"
      ]
     },
     "metadata": {},
     "output_type": "display_data"
    },
    {
     "data": {
      "text/html": [
       "<div>\n",
       "<style scoped>\n",
       "    .dataframe tbody tr th:only-of-type {\n",
       "        vertical-align: middle;\n",
       "    }\n",
       "\n",
       "    .dataframe tbody tr th {\n",
       "        vertical-align: top;\n",
       "    }\n",
       "\n",
       "    .dataframe thead th {\n",
       "        text-align: right;\n",
       "    }\n",
       "</style>\n",
       "<table border=\"1\" class=\"dataframe\">\n",
       "  <thead>\n",
       "    <tr style=\"text-align: right;\">\n",
       "      <th></th>\n",
       "      <th>transaction_id</th>\n",
       "      <th>visitor_id</th>\n",
       "      <th>date</th>\n",
       "      <th>revenue</th>\n",
       "      <th>group</th>\n",
       "    </tr>\n",
       "  </thead>\n",
       "  <tbody>\n",
       "    <tr>\n",
       "      <td>0</td>\n",
       "      <td>3667963787</td>\n",
       "      <td>3312258926</td>\n",
       "      <td>2019-08-15</td>\n",
       "      <td>1650</td>\n",
       "      <td>B</td>\n",
       "    </tr>\n",
       "    <tr>\n",
       "      <td>1</td>\n",
       "      <td>2804400009</td>\n",
       "      <td>3642806036</td>\n",
       "      <td>2019-08-15</td>\n",
       "      <td>730</td>\n",
       "      <td>B</td>\n",
       "    </tr>\n",
       "    <tr>\n",
       "      <td>2</td>\n",
       "      <td>2961555356</td>\n",
       "      <td>4069496402</td>\n",
       "      <td>2019-08-15</td>\n",
       "      <td>400</td>\n",
       "      <td>A</td>\n",
       "    </tr>\n",
       "    <tr>\n",
       "      <td>3</td>\n",
       "      <td>3797467345</td>\n",
       "      <td>1196621759</td>\n",
       "      <td>2019-08-15</td>\n",
       "      <td>9759</td>\n",
       "      <td>B</td>\n",
       "    </tr>\n",
       "    <tr>\n",
       "      <td>4</td>\n",
       "      <td>2282983706</td>\n",
       "      <td>2322279887</td>\n",
       "      <td>2019-08-15</td>\n",
       "      <td>2308</td>\n",
       "      <td>B</td>\n",
       "    </tr>\n",
       "  </tbody>\n",
       "</table>\n",
       "</div>"
      ],
      "text/plain": [
       "   transaction_id  visitor_id       date  revenue group\n",
       "0      3667963787  3312258926 2019-08-15     1650     B\n",
       "1      2804400009  3642806036 2019-08-15      730     B\n",
       "2      2961555356  4069496402 2019-08-15      400     A\n",
       "3      3797467345  1196621759 2019-08-15     9759     B\n",
       "4      2282983706  2322279887 2019-08-15     2308     B"
      ]
     },
     "execution_count": 4,
     "metadata": {},
     "output_type": "execute_result"
    }
   ],
   "source": [
    "#загружаю датасет\n",
    "orders = pd.read_csv('/datasets/orders.csv')\n",
    "print('\\033[1m' + 'Исходный датасет:' + '\\033[0m')\n",
    "display(orders.info())\n",
    "#меняю формат столбца с датой\n",
    "orders['date'] =  pd.to_datetime(orders['date'])\n",
    "#меняю регистр\n",
    "orders.rename({'transactionId': 'transaction_id', 'visitorId': 'visitor_id'}, axis=1, inplace=True)\n",
    "print('\\033[1m' + 'Датасет после коректировок:' + '\\033[0m')\n",
    "display(orders.info())\n",
    "orders.head()"
   ]
  },
  {
   "cell_type": "markdown",
   "metadata": {},
   "source": [
    "### Загрузка датасета с посетителями"
   ]
  },
  {
   "cell_type": "code",
   "execution_count": 5,
   "metadata": {
    "scrolled": false
   },
   "outputs": [
    {
     "name": "stdout",
     "output_type": "stream",
     "text": [
      "\u001b[1mИсходный датасет:\u001b[0m\n",
      "<class 'pandas.core.frame.DataFrame'>\n",
      "RangeIndex: 62 entries, 0 to 61\n",
      "Data columns (total 3 columns):\n",
      "date        62 non-null object\n",
      "group       62 non-null object\n",
      "visitors    62 non-null int64\n",
      "dtypes: int64(1), object(2)\n",
      "memory usage: 1.6+ KB\n"
     ]
    },
    {
     "data": {
      "text/plain": [
       "None"
      ]
     },
     "metadata": {},
     "output_type": "display_data"
    },
    {
     "name": "stdout",
     "output_type": "stream",
     "text": [
      "\u001b[1mДатасет после коректировок:\u001b[0m\n",
      "<class 'pandas.core.frame.DataFrame'>\n",
      "RangeIndex: 62 entries, 0 to 61\n",
      "Data columns (total 3 columns):\n",
      "date        62 non-null datetime64[ns]\n",
      "group       62 non-null object\n",
      "visitors    62 non-null int64\n",
      "dtypes: datetime64[ns](1), int64(1), object(1)\n",
      "memory usage: 1.6+ KB\n"
     ]
    },
    {
     "data": {
      "text/plain": [
       "None"
      ]
     },
     "metadata": {},
     "output_type": "display_data"
    },
    {
     "data": {
      "text/html": [
       "<div>\n",
       "<style scoped>\n",
       "    .dataframe tbody tr th:only-of-type {\n",
       "        vertical-align: middle;\n",
       "    }\n",
       "\n",
       "    .dataframe tbody tr th {\n",
       "        vertical-align: top;\n",
       "    }\n",
       "\n",
       "    .dataframe thead th {\n",
       "        text-align: right;\n",
       "    }\n",
       "</style>\n",
       "<table border=\"1\" class=\"dataframe\">\n",
       "  <thead>\n",
       "    <tr style=\"text-align: right;\">\n",
       "      <th></th>\n",
       "      <th>date</th>\n",
       "      <th>group</th>\n",
       "      <th>visitors</th>\n",
       "    </tr>\n",
       "  </thead>\n",
       "  <tbody>\n",
       "    <tr>\n",
       "      <td>0</td>\n",
       "      <td>2019-08-01</td>\n",
       "      <td>A</td>\n",
       "      <td>719</td>\n",
       "    </tr>\n",
       "    <tr>\n",
       "      <td>1</td>\n",
       "      <td>2019-08-02</td>\n",
       "      <td>A</td>\n",
       "      <td>619</td>\n",
       "    </tr>\n",
       "    <tr>\n",
       "      <td>2</td>\n",
       "      <td>2019-08-03</td>\n",
       "      <td>A</td>\n",
       "      <td>507</td>\n",
       "    </tr>\n",
       "    <tr>\n",
       "      <td>3</td>\n",
       "      <td>2019-08-04</td>\n",
       "      <td>A</td>\n",
       "      <td>717</td>\n",
       "    </tr>\n",
       "    <tr>\n",
       "      <td>4</td>\n",
       "      <td>2019-08-05</td>\n",
       "      <td>A</td>\n",
       "      <td>756</td>\n",
       "    </tr>\n",
       "  </tbody>\n",
       "</table>\n",
       "</div>"
      ],
      "text/plain": [
       "        date group  visitors\n",
       "0 2019-08-01     A       719\n",
       "1 2019-08-02     A       619\n",
       "2 2019-08-03     A       507\n",
       "3 2019-08-04     A       717\n",
       "4 2019-08-05     A       756"
      ]
     },
     "execution_count": 5,
     "metadata": {},
     "output_type": "execute_result"
    }
   ],
   "source": [
    "#загружаю датасет\n",
    "visitors = pd.read_csv('/datasets/visitors.csv')\n",
    "print('\\033[1m' + 'Исходный датасет:' +'\\033[0m')\n",
    "display(visitors.info())\n",
    "#меняю формат столбца с датой\n",
    "visitors['date'] =  pd.to_datetime(visitors['date'])\n",
    "print('\\033[1m' + 'Датасет после коректировок:' + '\\033[0m')\n",
    "display(visitors.info())\n",
    "visitors.head()"
   ]
  },
  {
   "cell_type": "markdown",
   "metadata": {},
   "source": [
    "___Заключение___:\n",
    "- В датасете с гипотезами названия колонок приведениы к нижнему регистру\n",
    "- В датасете с заказами колонка с датой приведена к формату даты\n",
    "- В датасете с визитами колонка с датой приведена к формату даты"
   ]
  },
  {
   "cell_type": "markdown",
   "metadata": {},
   "source": [
    "## Приоритезация гипотез"
   ]
  },
  {
   "cell_type": "markdown",
   "metadata": {},
   "source": [
    "### Приоритезация по фреймворку ICE"
   ]
  },
  {
   "cell_type": "code",
   "execution_count": 6,
   "metadata": {
    "scrolled": true
   },
   "outputs": [
    {
     "data": {
      "text/html": [
       "<div>\n",
       "<style scoped>\n",
       "    .dataframe tbody tr th:only-of-type {\n",
       "        vertical-align: middle;\n",
       "    }\n",
       "\n",
       "    .dataframe tbody tr th {\n",
       "        vertical-align: top;\n",
       "    }\n",
       "\n",
       "    .dataframe thead th {\n",
       "        text-align: right;\n",
       "    }\n",
       "</style>\n",
       "<table border=\"1\" class=\"dataframe\">\n",
       "  <thead>\n",
       "    <tr style=\"text-align: right;\">\n",
       "      <th></th>\n",
       "      <th>reach</th>\n",
       "      <th>impact</th>\n",
       "      <th>confidence</th>\n",
       "      <th>efforts</th>\n",
       "      <th>ice</th>\n",
       "      <th>rank_ice</th>\n",
       "    </tr>\n",
       "    <tr>\n",
       "      <th>hypothesis</th>\n",
       "      <th></th>\n",
       "      <th></th>\n",
       "      <th></th>\n",
       "      <th></th>\n",
       "      <th></th>\n",
       "      <th></th>\n",
       "    </tr>\n",
       "  </thead>\n",
       "  <tbody>\n",
       "    <tr>\n",
       "      <td>Добавить два новых канала привлечения трафика, что позволит привлекать на 30% больше пользователей</td>\n",
       "      <td>3</td>\n",
       "      <td>10</td>\n",
       "      <td>8</td>\n",
       "      <td>6</td>\n",
       "      <td>10.0</td>\n",
       "      <td>1</td>\n",
       "    </tr>\n",
       "    <tr>\n",
       "      <td>Запустить акцию, дающую скидку на товар в день рождения</td>\n",
       "      <td>1</td>\n",
       "      <td>9</td>\n",
       "      <td>9</td>\n",
       "      <td>5</td>\n",
       "      <td>9.0</td>\n",
       "      <td>2</td>\n",
       "    </tr>\n",
       "    <tr>\n",
       "      <td>Добавить форму подписки на все основные страницы, чтобы собрать базу клиентов для email-рассылок</td>\n",
       "      <td>10</td>\n",
       "      <td>7</td>\n",
       "      <td>8</td>\n",
       "      <td>5</td>\n",
       "      <td>7.0</td>\n",
       "      <td>3</td>\n",
       "    </tr>\n",
       "    <tr>\n",
       "      <td>Запустить собственную службу доставки, что сократит срок доставки заказов</td>\n",
       "      <td>2</td>\n",
       "      <td>5</td>\n",
       "      <td>4</td>\n",
       "      <td>10</td>\n",
       "      <td>5.0</td>\n",
       "      <td>4</td>\n",
       "    </tr>\n",
       "    <tr>\n",
       "      <td>Добавить блоки рекомендаций товаров на сайт интернет магазина, чтобы повысить конверсию и средний чек заказа</td>\n",
       "      <td>8</td>\n",
       "      <td>3</td>\n",
       "      <td>7</td>\n",
       "      <td>3</td>\n",
       "      <td>3.0</td>\n",
       "      <td>6</td>\n",
       "    </tr>\n",
       "    <tr>\n",
       "      <td>Изменить структура категорий, что увеличит конверсию, т.к. пользователи быстрее найдут нужный товар</td>\n",
       "      <td>8</td>\n",
       "      <td>3</td>\n",
       "      <td>3</td>\n",
       "      <td>8</td>\n",
       "      <td>3.0</td>\n",
       "      <td>6</td>\n",
       "    </tr>\n",
       "    <tr>\n",
       "      <td>Показать на главной странице баннеры с актуальными акциями и распродажами, чтобы увеличить конверсию</td>\n",
       "      <td>5</td>\n",
       "      <td>3</td>\n",
       "      <td>8</td>\n",
       "      <td>3</td>\n",
       "      <td>3.0</td>\n",
       "      <td>6</td>\n",
       "    </tr>\n",
       "    <tr>\n",
       "      <td>Добавить страницу отзывов клиентов о магазине, что позволит увеличить количество заказов</td>\n",
       "      <td>3</td>\n",
       "      <td>2</td>\n",
       "      <td>2</td>\n",
       "      <td>3</td>\n",
       "      <td>2.0</td>\n",
       "      <td>8</td>\n",
       "    </tr>\n",
       "    <tr>\n",
       "      <td>Изменить цвет фона главной страницы, чтобы увеличить вовлеченность пользователей</td>\n",
       "      <td>3</td>\n",
       "      <td>1</td>\n",
       "      <td>1</td>\n",
       "      <td>1</td>\n",
       "      <td>1.0</td>\n",
       "      <td>9</td>\n",
       "    </tr>\n",
       "  </tbody>\n",
       "</table>\n",
       "</div>"
      ],
      "text/plain": [
       "                                                    reach  impact  confidence  \\\n",
       "hypothesis                                                                      \n",
       "Добавить два новых канала привлечения трафика, ...      3      10           8   \n",
       "Запустить акцию, дающую скидку на товар в день ...      1       9           9   \n",
       "Добавить форму подписки на все основные страниц...     10       7           8   \n",
       "Запустить собственную службу доставки, что сокр...      2       5           4   \n",
       "Добавить блоки рекомендаций товаров на сайт инт...      8       3           7   \n",
       "Изменить структура категорий, что увеличит конв...      8       3           3   \n",
       "Показать на главной странице баннеры с актуальн...      5       3           8   \n",
       "Добавить страницу отзывов клиентов о магазине, ...      3       2           2   \n",
       "Изменить цвет фона главной страницы, чтобы увел...      3       1           1   \n",
       "\n",
       "                                                    efforts   ice  rank_ice  \n",
       "hypothesis                                                                   \n",
       "Добавить два новых канала привлечения трафика, ...        6  10.0         1  \n",
       "Запустить акцию, дающую скидку на товар в день ...        5   9.0         2  \n",
       "Добавить форму подписки на все основные страниц...        5   7.0         3  \n",
       "Запустить собственную службу доставки, что сокр...       10   5.0         4  \n",
       "Добавить блоки рекомендаций товаров на сайт инт...        3   3.0         6  \n",
       "Изменить структура категорий, что увеличит конв...        8   3.0         6  \n",
       "Показать на главной странице баннеры с актуальн...        3   3.0         6  \n",
       "Добавить страницу отзывов клиентов о магазине, ...        3   2.0         8  \n",
       "Изменить цвет фона главной страницы, чтобы увел...        1   1.0         9  "
      ]
     },
     "execution_count": 6,
     "metadata": {},
     "output_type": "execute_result"
    }
   ],
   "source": [
    "hypothesis['ice'] = ((hypothesis['impact'] \n",
    "                      * hypothesis['confidence']) \n",
    "                     / hypothesis['confidence'])\n",
    "hypothesis['rank_ice'] = hypothesis['ice'].rank(ascending=False).astype('int')\n",
    "hypothesis.sort_values('ice', ascending=False)"
   ]
  },
  {
   "cell_type": "markdown",
   "metadata": {},
   "source": [
    "### Приоритезация по фреймворку RICE"
   ]
  },
  {
   "cell_type": "code",
   "execution_count": 7,
   "metadata": {
    "scrolled": false
   },
   "outputs": [
    {
     "data": {
      "text/html": [
       "<div>\n",
       "<style scoped>\n",
       "    .dataframe tbody tr th:only-of-type {\n",
       "        vertical-align: middle;\n",
       "    }\n",
       "\n",
       "    .dataframe tbody tr th {\n",
       "        vertical-align: top;\n",
       "    }\n",
       "\n",
       "    .dataframe thead th {\n",
       "        text-align: right;\n",
       "    }\n",
       "</style>\n",
       "<table border=\"1\" class=\"dataframe\">\n",
       "  <thead>\n",
       "    <tr style=\"text-align: right;\">\n",
       "      <th></th>\n",
       "      <th>reach</th>\n",
       "      <th>impact</th>\n",
       "      <th>confidence</th>\n",
       "      <th>efforts</th>\n",
       "      <th>ice</th>\n",
       "      <th>rank_ice</th>\n",
       "      <th>rice</th>\n",
       "      <th>rank_rice</th>\n",
       "    </tr>\n",
       "    <tr>\n",
       "      <th>hypothesis</th>\n",
       "      <th></th>\n",
       "      <th></th>\n",
       "      <th></th>\n",
       "      <th></th>\n",
       "      <th></th>\n",
       "      <th></th>\n",
       "      <th></th>\n",
       "      <th></th>\n",
       "    </tr>\n",
       "  </thead>\n",
       "  <tbody>\n",
       "    <tr>\n",
       "      <td>Добавить форму подписки на все основные страницы, чтобы собрать базу клиентов для email-рассылок</td>\n",
       "      <td>10</td>\n",
       "      <td>7</td>\n",
       "      <td>8</td>\n",
       "      <td>5</td>\n",
       "      <td>7.0</td>\n",
       "      <td>3</td>\n",
       "      <td>70.0</td>\n",
       "      <td>1</td>\n",
       "    </tr>\n",
       "    <tr>\n",
       "      <td>Добавить два новых канала привлечения трафика, что позволит привлекать на 30% больше пользователей</td>\n",
       "      <td>3</td>\n",
       "      <td>10</td>\n",
       "      <td>8</td>\n",
       "      <td>6</td>\n",
       "      <td>10.0</td>\n",
       "      <td>1</td>\n",
       "      <td>30.0</td>\n",
       "      <td>2</td>\n",
       "    </tr>\n",
       "    <tr>\n",
       "      <td>Добавить блоки рекомендаций товаров на сайт интернет магазина, чтобы повысить конверсию и средний чек заказа</td>\n",
       "      <td>8</td>\n",
       "      <td>3</td>\n",
       "      <td>7</td>\n",
       "      <td>3</td>\n",
       "      <td>3.0</td>\n",
       "      <td>6</td>\n",
       "      <td>24.0</td>\n",
       "      <td>3</td>\n",
       "    </tr>\n",
       "    <tr>\n",
       "      <td>Изменить структура категорий, что увеличит конверсию, т.к. пользователи быстрее найдут нужный товар</td>\n",
       "      <td>8</td>\n",
       "      <td>3</td>\n",
       "      <td>3</td>\n",
       "      <td>8</td>\n",
       "      <td>3.0</td>\n",
       "      <td>6</td>\n",
       "      <td>24.0</td>\n",
       "      <td>3</td>\n",
       "    </tr>\n",
       "    <tr>\n",
       "      <td>Показать на главной странице баннеры с актуальными акциями и распродажами, чтобы увеличить конверсию</td>\n",
       "      <td>5</td>\n",
       "      <td>3</td>\n",
       "      <td>8</td>\n",
       "      <td>3</td>\n",
       "      <td>3.0</td>\n",
       "      <td>6</td>\n",
       "      <td>15.0</td>\n",
       "      <td>5</td>\n",
       "    </tr>\n",
       "    <tr>\n",
       "      <td>Запустить собственную службу доставки, что сократит срок доставки заказов</td>\n",
       "      <td>2</td>\n",
       "      <td>5</td>\n",
       "      <td>4</td>\n",
       "      <td>10</td>\n",
       "      <td>5.0</td>\n",
       "      <td>4</td>\n",
       "      <td>10.0</td>\n",
       "      <td>6</td>\n",
       "    </tr>\n",
       "    <tr>\n",
       "      <td>Запустить акцию, дающую скидку на товар в день рождения</td>\n",
       "      <td>1</td>\n",
       "      <td>9</td>\n",
       "      <td>9</td>\n",
       "      <td>5</td>\n",
       "      <td>9.0</td>\n",
       "      <td>2</td>\n",
       "      <td>9.0</td>\n",
       "      <td>7</td>\n",
       "    </tr>\n",
       "    <tr>\n",
       "      <td>Добавить страницу отзывов клиентов о магазине, что позволит увеличить количество заказов</td>\n",
       "      <td>3</td>\n",
       "      <td>2</td>\n",
       "      <td>2</td>\n",
       "      <td>3</td>\n",
       "      <td>2.0</td>\n",
       "      <td>8</td>\n",
       "      <td>6.0</td>\n",
       "      <td>8</td>\n",
       "    </tr>\n",
       "    <tr>\n",
       "      <td>Изменить цвет фона главной страницы, чтобы увеличить вовлеченность пользователей</td>\n",
       "      <td>3</td>\n",
       "      <td>1</td>\n",
       "      <td>1</td>\n",
       "      <td>1</td>\n",
       "      <td>1.0</td>\n",
       "      <td>9</td>\n",
       "      <td>3.0</td>\n",
       "      <td>9</td>\n",
       "    </tr>\n",
       "  </tbody>\n",
       "</table>\n",
       "</div>"
      ],
      "text/plain": [
       "                                                    reach  impact  confidence  \\\n",
       "hypothesis                                                                      \n",
       "Добавить форму подписки на все основные страниц...     10       7           8   \n",
       "Добавить два новых канала привлечения трафика, ...      3      10           8   \n",
       "Добавить блоки рекомендаций товаров на сайт инт...      8       3           7   \n",
       "Изменить структура категорий, что увеличит конв...      8       3           3   \n",
       "Показать на главной странице баннеры с актуальн...      5       3           8   \n",
       "Запустить собственную службу доставки, что сокр...      2       5           4   \n",
       "Запустить акцию, дающую скидку на товар в день ...      1       9           9   \n",
       "Добавить страницу отзывов клиентов о магазине, ...      3       2           2   \n",
       "Изменить цвет фона главной страницы, чтобы увел...      3       1           1   \n",
       "\n",
       "                                                    efforts   ice  rank_ice  \\\n",
       "hypothesis                                                                    \n",
       "Добавить форму подписки на все основные страниц...        5   7.0         3   \n",
       "Добавить два новых канала привлечения трафика, ...        6  10.0         1   \n",
       "Добавить блоки рекомендаций товаров на сайт инт...        3   3.0         6   \n",
       "Изменить структура категорий, что увеличит конв...        8   3.0         6   \n",
       "Показать на главной странице баннеры с актуальн...        3   3.0         6   \n",
       "Запустить собственную службу доставки, что сокр...       10   5.0         4   \n",
       "Запустить акцию, дающую скидку на товар в день ...        5   9.0         2   \n",
       "Добавить страницу отзывов клиентов о магазине, ...        3   2.0         8   \n",
       "Изменить цвет фона главной страницы, чтобы увел...        1   1.0         9   \n",
       "\n",
       "                                                    rice  rank_rice  \n",
       "hypothesis                                                           \n",
       "Добавить форму подписки на все основные страниц...  70.0          1  \n",
       "Добавить два новых канала привлечения трафика, ...  30.0          2  \n",
       "Добавить блоки рекомендаций товаров на сайт инт...  24.0          3  \n",
       "Изменить структура категорий, что увеличит конв...  24.0          3  \n",
       "Показать на главной странице баннеры с актуальн...  15.0          5  \n",
       "Запустить собственную службу доставки, что сокр...  10.0          6  \n",
       "Запустить акцию, дающую скидку на товар в день ...   9.0          7  \n",
       "Добавить страницу отзывов клиентов о магазине, ...   6.0          8  \n",
       "Изменить цвет фона главной страницы, чтобы увел...   3.0          9  "
      ]
     },
     "execution_count": 7,
     "metadata": {},
     "output_type": "execute_result"
    }
   ],
   "source": [
    "hypothesis['rice'] = ((hypothesis['reach'] \n",
    "                       * hypothesis['impact'] \n",
    "                       * hypothesis['confidence']) \n",
    "                      / hypothesis['confidence'])\n",
    "hypothesis['rank_rice'] = hypothesis['rice'].rank(ascending=False).astype('int')\n",
    "hypothesis.sort_values('rice', ascending=False)"
   ]
  },
  {
   "cell_type": "markdown",
   "metadata": {},
   "source": [
    "___Вывод___:\n",
    "- По методике ICE, самой приоритетной гипотизей является гипотеза о добавлении новых каналов привлечения\n",
    "- По методике RICE, самой приоритетной гипотизей является гипотеза о добавлении формы подписки\n",
    "- Разница объясняется тем что метод RICE учитывает охват пользователей которых затронет изменение. Добавление формы для сбора Email затроент всех пользователей, в отличии от добавления каналов привлечния, что затронет только 30% пользователей"
   ]
  },
  {
   "cell_type": "markdown",
   "metadata": {},
   "source": [
    "## Анализ результатов А/Б тестирования\n",
    "После проведения А/Б тестов были получены датасеты с результатами"
   ]
  },
  {
   "cell_type": "code",
   "execution_count": 8,
   "metadata": {},
   "outputs": [
    {
     "name": "stdout",
     "output_type": "stream",
     "text": [
      "\u001b[1mПолных дублей в датасете с заказами: 0\n",
      "Полных дублей в датасете с визитами: 0\n",
      "Строк в датасете с заказами, с неуникальными идентификаторами пользователя: 166\n"
     ]
    }
   ],
   "source": [
    "temp = orders[orders.duplicated()]\n",
    "print('\\033[1m' + 'Полных дублей в датасете с заказами:', temp['visitor_id'].count())\n",
    "temp = visitors[visitors.duplicated()]\n",
    "print('Полных дублей в датасете с визитами:', temp['visitors'].nunique())\n",
    "temp = orders['visitor_id'].nunique()\n",
    "print('Строк в датасете с заказами, с неуникальными идентификаторами пользователя:',orders['visitor_id'].count() - orders['visitor_id'].nunique())"
   ]
  },
  {
   "cell_type": "code",
   "execution_count": 9,
   "metadata": {},
   "outputs": [
    {
     "name": "stdout",
     "output_type": "stream",
     "text": [
      "\u001b[1mКоличество пересекающихся пользователей в группах: 58\n",
      "Количество пользователей в группе А: 557\n",
      "Количество пользователей в группе B: 640\n",
      "Относительная разница В к А: 14.9%\n"
     ]
    }
   ],
   "source": [
    "orders_a_user_id = orders[orders['group'] == 'A']['visitor_id']\n",
    "orders_b_user_id = orders[orders['group'] == 'B']['visitor_id']\n",
    "intersection = orders.query('group == \"B\" and visitor_id.isin(@orders_a_user_id)')\n",
    "print('\\033[1m' + 'Количество пересекающихся пользователей в группах:', intersection['visitor_id'].nunique())\n",
    "print('Количество пользователей в группе А:',orders_a_user_id.count())\n",
    "print('Количество пользователей в группе B:',orders_b_user_id.count())\n",
    "print('Относительная разница В к А:', \"{0:.1%}\".format(orders_b_user_id.count() / orders_a_user_id.count() - 1))\n",
    "\n",
    "#код для удаления пересекающихся пользователей\n",
    "#orders = orders[~orders['visitor_id'].isin(intersection['visitor_id'])]"
   ]
  },
  {
   "cell_type": "markdown",
   "metadata": {},
   "source": [
    "###  График кумулятивной выручки по группам"
   ]
  },
  {
   "cell_type": "markdown",
   "metadata": {},
   "source": [
    "Создаю агрегированные данные по транзакциям"
   ]
  },
  {
   "cell_type": "code",
   "execution_count": 10,
   "metadata": {
    "scrolled": false
   },
   "outputs": [
    {
     "data": {
      "text/html": [
       "<div>\n",
       "<style scoped>\n",
       "    .dataframe tbody tr th:only-of-type {\n",
       "        vertical-align: middle;\n",
       "    }\n",
       "\n",
       "    .dataframe tbody tr th {\n",
       "        vertical-align: top;\n",
       "    }\n",
       "\n",
       "    .dataframe thead th {\n",
       "        text-align: right;\n",
       "    }\n",
       "</style>\n",
       "<table border=\"1\" class=\"dataframe\">\n",
       "  <thead>\n",
       "    <tr style=\"text-align: right;\">\n",
       "      <th></th>\n",
       "      <th>date</th>\n",
       "      <th>group</th>\n",
       "      <th>transaction_id</th>\n",
       "      <th>visitor_id</th>\n",
       "      <th>revenue</th>\n",
       "    </tr>\n",
       "  </thead>\n",
       "  <tbody>\n",
       "    <tr>\n",
       "      <td>55</td>\n",
       "      <td>2019-08-01</td>\n",
       "      <td>A</td>\n",
       "      <td>24</td>\n",
       "      <td>20</td>\n",
       "      <td>148579</td>\n",
       "    </tr>\n",
       "    <tr>\n",
       "      <td>66</td>\n",
       "      <td>2019-08-01</td>\n",
       "      <td>B</td>\n",
       "      <td>21</td>\n",
       "      <td>20</td>\n",
       "      <td>101217</td>\n",
       "    </tr>\n",
       "    <tr>\n",
       "      <td>175</td>\n",
       "      <td>2019-08-02</td>\n",
       "      <td>A</td>\n",
       "      <td>44</td>\n",
       "      <td>38</td>\n",
       "      <td>242401</td>\n",
       "    </tr>\n",
       "    <tr>\n",
       "      <td>173</td>\n",
       "      <td>2019-08-02</td>\n",
       "      <td>B</td>\n",
       "      <td>45</td>\n",
       "      <td>43</td>\n",
       "      <td>266748</td>\n",
       "    </tr>\n",
       "    <tr>\n",
       "      <td>291</td>\n",
       "      <td>2019-08-03</td>\n",
       "      <td>A</td>\n",
       "      <td>68</td>\n",
       "      <td>62</td>\n",
       "      <td>354874</td>\n",
       "    </tr>\n",
       "    <tr>\n",
       "      <td>...</td>\n",
       "      <td>...</td>\n",
       "      <td>...</td>\n",
       "      <td>...</td>\n",
       "      <td>...</td>\n",
       "      <td>...</td>\n",
       "    </tr>\n",
       "    <tr>\n",
       "      <td>496</td>\n",
       "      <td>2019-08-29</td>\n",
       "      <td>B</td>\n",
       "      <td>596</td>\n",
       "      <td>544</td>\n",
       "      <td>5559398</td>\n",
       "    </tr>\n",
       "    <tr>\n",
       "      <td>730</td>\n",
       "      <td>2019-08-30</td>\n",
       "      <td>A</td>\n",
       "      <td>545</td>\n",
       "      <td>493</td>\n",
       "      <td>4022970</td>\n",
       "    </tr>\n",
       "    <tr>\n",
       "      <td>690</td>\n",
       "      <td>2019-08-30</td>\n",
       "      <td>B</td>\n",
       "      <td>620</td>\n",
       "      <td>567</td>\n",
       "      <td>5774631</td>\n",
       "    </tr>\n",
       "    <tr>\n",
       "      <td>958</td>\n",
       "      <td>2019-08-31</td>\n",
       "      <td>A</td>\n",
       "      <td>557</td>\n",
       "      <td>503</td>\n",
       "      <td>4084803</td>\n",
       "    </tr>\n",
       "    <tr>\n",
       "      <td>930</td>\n",
       "      <td>2019-08-31</td>\n",
       "      <td>B</td>\n",
       "      <td>640</td>\n",
       "      <td>586</td>\n",
       "      <td>5907760</td>\n",
       "    </tr>\n",
       "  </tbody>\n",
       "</table>\n",
       "<p>62 rows × 5 columns</p>\n",
       "</div>"
      ],
      "text/plain": [
       "          date group  transaction_id  visitor_id  revenue\n",
       "55  2019-08-01     A              24          20   148579\n",
       "66  2019-08-01     B              21          20   101217\n",
       "175 2019-08-02     A              44          38   242401\n",
       "173 2019-08-02     B              45          43   266748\n",
       "291 2019-08-03     A              68          62   354874\n",
       "..         ...   ...             ...         ...      ...\n",
       "496 2019-08-29     B             596         544  5559398\n",
       "730 2019-08-30     A             545         493  4022970\n",
       "690 2019-08-30     B             620         567  5774631\n",
       "958 2019-08-31     A             557         503  4084803\n",
       "930 2019-08-31     B             640         586  5907760\n",
       "\n",
       "[62 rows x 5 columns]"
      ]
     },
     "metadata": {},
     "output_type": "display_data"
    }
   ],
   "source": [
    "dates_groups = orders[['date','group']].drop_duplicates()\n",
    "orders_aggregated = dates_groups.apply(lambda x: orders[np.logical_and(orders['date'] <= x['date'], orders['group'] == x['group'])]\\\n",
    ".agg({'date' : 'max', 'group' : 'max', 'transaction_id' : 'nunique', 'visitor_id' : 'nunique', 'revenue' : 'sum'}), axis=1).sort_values(by=['date','group'])\n",
    "display(orders_aggregated)"
   ]
  },
  {
   "cell_type": "markdown",
   "metadata": {},
   "source": [
    "Создаю агрегированные данные по пользователям"
   ]
  },
  {
   "cell_type": "code",
   "execution_count": 11,
   "metadata": {},
   "outputs": [
    {
     "data": {
      "text/html": [
       "<div>\n",
       "<style scoped>\n",
       "    .dataframe tbody tr th:only-of-type {\n",
       "        vertical-align: middle;\n",
       "    }\n",
       "\n",
       "    .dataframe tbody tr th {\n",
       "        vertical-align: top;\n",
       "    }\n",
       "\n",
       "    .dataframe thead th {\n",
       "        text-align: right;\n",
       "    }\n",
       "</style>\n",
       "<table border=\"1\" class=\"dataframe\">\n",
       "  <thead>\n",
       "    <tr style=\"text-align: right;\">\n",
       "      <th></th>\n",
       "      <th>date</th>\n",
       "      <th>group</th>\n",
       "      <th>visitors</th>\n",
       "    </tr>\n",
       "  </thead>\n",
       "  <tbody>\n",
       "    <tr>\n",
       "      <td>55</td>\n",
       "      <td>2019-08-01</td>\n",
       "      <td>A</td>\n",
       "      <td>719</td>\n",
       "    </tr>\n",
       "    <tr>\n",
       "      <td>66</td>\n",
       "      <td>2019-08-01</td>\n",
       "      <td>B</td>\n",
       "      <td>713</td>\n",
       "    </tr>\n",
       "    <tr>\n",
       "      <td>175</td>\n",
       "      <td>2019-08-02</td>\n",
       "      <td>A</td>\n",
       "      <td>1338</td>\n",
       "    </tr>\n",
       "    <tr>\n",
       "      <td>173</td>\n",
       "      <td>2019-08-02</td>\n",
       "      <td>B</td>\n",
       "      <td>1294</td>\n",
       "    </tr>\n",
       "    <tr>\n",
       "      <td>291</td>\n",
       "      <td>2019-08-03</td>\n",
       "      <td>A</td>\n",
       "      <td>1845</td>\n",
       "    </tr>\n",
       "    <tr>\n",
       "      <td>...</td>\n",
       "      <td>...</td>\n",
       "      <td>...</td>\n",
       "      <td>...</td>\n",
       "    </tr>\n",
       "    <tr>\n",
       "      <td>496</td>\n",
       "      <td>2019-08-29</td>\n",
       "      <td>B</td>\n",
       "      <td>17708</td>\n",
       "    </tr>\n",
       "    <tr>\n",
       "      <td>730</td>\n",
       "      <td>2019-08-30</td>\n",
       "      <td>A</td>\n",
       "      <td>18037</td>\n",
       "    </tr>\n",
       "    <tr>\n",
       "      <td>690</td>\n",
       "      <td>2019-08-30</td>\n",
       "      <td>B</td>\n",
       "      <td>18198</td>\n",
       "    </tr>\n",
       "    <tr>\n",
       "      <td>958</td>\n",
       "      <td>2019-08-31</td>\n",
       "      <td>A</td>\n",
       "      <td>18736</td>\n",
       "    </tr>\n",
       "    <tr>\n",
       "      <td>930</td>\n",
       "      <td>2019-08-31</td>\n",
       "      <td>B</td>\n",
       "      <td>18916</td>\n",
       "    </tr>\n",
       "  </tbody>\n",
       "</table>\n",
       "<p>62 rows × 3 columns</p>\n",
       "</div>"
      ],
      "text/plain": [
       "          date group  visitors\n",
       "55  2019-08-01     A       719\n",
       "66  2019-08-01     B       713\n",
       "175 2019-08-02     A      1338\n",
       "173 2019-08-02     B      1294\n",
       "291 2019-08-03     A      1845\n",
       "..         ...   ...       ...\n",
       "496 2019-08-29     B     17708\n",
       "730 2019-08-30     A     18037\n",
       "690 2019-08-30     B     18198\n",
       "958 2019-08-31     A     18736\n",
       "930 2019-08-31     B     18916\n",
       "\n",
       "[62 rows x 3 columns]"
      ]
     },
     "execution_count": 11,
     "metadata": {},
     "output_type": "execute_result"
    }
   ],
   "source": [
    "visitors_aggregated = dates_groups.apply(lambda x: visitors[np.logical_and(visitors['date'] <= x['date'], visitors['group'] == x['group'])].agg({'date' : 'max', 'group' : 'max', 'visitors' : 'sum'}), axis=1).sort_values(by=['date','group'])\n",
    "visitors_aggregated"
   ]
  },
  {
   "cell_type": "code",
   "execution_count": 12,
   "metadata": {},
   "outputs": [
    {
     "name": "stdout",
     "output_type": "stream",
     "text": [
      "        date group  orders  buyers  revenue  visitors\n",
      "0 2019-08-01     A      24      20   148579       719\n",
      "1 2019-08-01     B      21      20   101217       713\n",
      "2 2019-08-02     A      44      38   242401      1338\n",
      "3 2019-08-02     B      45      43   266748      1294\n",
      "4 2019-08-03     A      68      62   354874      1845\n"
     ]
    }
   ],
   "source": [
    "# объединяем кумулятивные данные в одной таблице и присваиваем ее столбцам понятные названия\n",
    "cumulative_data = orders_aggregated.merge(visitors_aggregated, left_on=['date', 'group'], right_on=['date', 'group'])\n",
    "cumulative_data.columns = ['date', 'group', 'orders', 'buyers', 'revenue', 'visitors']\n",
    "\n",
    "print(cumulative_data.head(5))"
   ]
  },
  {
   "cell_type": "code",
   "execution_count": 13,
   "metadata": {},
   "outputs": [
    {
     "name": "stdout",
     "output_type": "stream",
     "text": [
      "\n"
     ]
    },
    {
     "name": "stderr",
     "output_type": "stream",
     "text": [
      "/opt/conda/lib/python3.7/site-packages/pandas/plotting/_matplotlib/converter.py:103: FutureWarning: Using an implicitly registered datetime converter for a matplotlib plotting method. The converter was registered by pandas on import. Future versions of pandas will require you to explicitly register matplotlib converters.\n",
      "\n",
      "To register the converters:\n",
      "\t>>> from pandas.plotting import register_matplotlib_converters\n",
      "\t>>> register_matplotlib_converters()\n",
      "  warnings.warn(msg, FutureWarning)\n"
     ]
    },
    {
     "data": {
      "image/png": "[encoded data removed]",
      "text/plain": [
       "<Figure size 1080x720 with 1 Axes>"
      ]
     },
     "metadata": {
      "needs_background": "light"
     },
     "output_type": "display_data"
    }
   ],
   "source": [
    "plt.figure(figsize=(15,10))\n",
    "# датафрейм с кумулятивным количеством заказов и кумулятивной выручкой по дням в группе А\n",
    "cumulative_revenue_a = cumulative_data[cumulative_data['group']=='A'][['date','revenue', 'orders']]\n",
    "\n",
    "# датафрейм с кумулятивным количеством заказов и кумулятивной выручкой по дням в группе B\n",
    "cumulative_revenue_b = cumulative_data[cumulative_data['group']=='B'][['date','revenue', 'orders']]\n",
    "\n",
    "# Строим график выручки группы А\n",
    "plt.plot(cumulative_revenue_a['date'], cumulative_revenue_a['revenue'], label='A')\n",
    "\n",
    "# Строим график выручки группы B\n",
    "plt.plot(cumulative_revenue_b['date'], cumulative_revenue_b['revenue'], label='B')\n",
    "plt.legend()\n",
    "plt.xticks(rotation=45)\n",
    "plt.axis([\"2019-08-01\", '2019-08-31', 0,7000000])\n",
    "plt.title('График кумулятивной выручки по группам')\n",
    "plt.xlabel('дата')\n",
    "plt.ylabel('выручка')\n",
    "print()"
   ]
  },
  {
   "cell_type": "markdown",
   "metadata": {},
   "source": [
    "___Вывод___:\n",
    "- На графике виден резкий рост выручки в группе В, что возможно связано с выбросами. \n",
    "- Если не брать в расчет резкий скачок на графике то выручка в группах растет примрно равными темпами"
   ]
  },
  {
   "cell_type": "markdown",
   "metadata": {},
   "source": [
    "### График кумулятивного среднего чека по группам"
   ]
  },
  {
   "cell_type": "code",
   "execution_count": 14,
   "metadata": {},
   "outputs": [
    {
     "name": "stdout",
     "output_type": "stream",
     "text": [
      "\n"
     ]
    },
    {
     "data": {
      "image/png": "[encoded data removed]",
      "text/plain": [
       "<Figure size 1080x720 with 1 Axes>"
      ]
     },
     "metadata": {
      "needs_background": "light"
     },
     "output_type": "display_data"
    }
   ],
   "source": [
    "plt.figure(figsize=(15,10))\n",
    "plt.plot(cumulative_revenue_a['date'], cumulative_revenue_a['revenue']/cumulative_revenue_a['orders'], label='A')\n",
    "plt.plot(cumulative_revenue_b['date'], cumulative_revenue_b['revenue']/cumulative_revenue_b['orders'], label='B')\n",
    "plt.legend()\n",
    "plt.xticks(rotation=45)\n",
    "plt.axis([\"2019-08-01\", '2019-08-31', 1000, 13000])\n",
    "plt.title('График кумулятивного среднего чека по группам')\n",
    "plt.xlabel('дата')\n",
    "plt.ylabel('средний чек')\n",
    "print()"
   ]
  },
  {
   "cell_type": "markdown",
   "metadata": {},
   "source": [
    "__Вывд___:\n",
    "- График по группам в начале пересекается в нескольких точках\n",
    "- На графике резкий скачок у группы В. Вероятно он связан с выбросами"
   ]
  },
  {
   "cell_type": "markdown",
   "metadata": {},
   "source": [
    "### График относительного изменения кумулятивного среднего чека группы B к группе A"
   ]
  },
  {
   "cell_type": "code",
   "execution_count": 15,
   "metadata": {},
   "outputs": [
    {
     "name": "stdout",
     "output_type": "stream",
     "text": [
      "\n"
     ]
    },
    {
     "data": {
      "image/png": "[encoded data removed]",
      "text/plain": [
       "<Figure size 1080x720 with 1 Axes>"
      ]
     },
     "metadata": {
      "needs_background": "light"
     },
     "output_type": "display_data"
    }
   ],
   "source": [
    "plt.figure(figsize=(15,10))\n",
    "# собираем данные в одном датафрейме\n",
    "merged_cumulative_revenue = cumulative_revenue_a.merge(cumulative_revenue_b, left_on='date', right_on='date', how='left', suffixes=['_a', '_b'])\n",
    "\n",
    "# cтроим отношение средних чеков\n",
    "plt.plot(merged_cumulative_revenue['date'], (merged_cumulative_revenue['revenue_b']/merged_cumulative_revenue['orders_b'])/(merged_cumulative_revenue['revenue_a']/merged_cumulative_revenue['orders_a'])-1)\n",
    "\n",
    "# добавляем ось X\n",
    "plt.axhline(y=0, color='black', linestyle='--')\n",
    "plt.xticks(rotation=45)\n",
    "plt.axis([\"2019-08-01\", '2019-08-31', -1, 1.1])\n",
    "plt.title('График относительного изменения кумулятивного среднего чека группы B к группе A')\n",
    "plt.xlabel('дата')\n",
    "plt.ylabel('Отношение группы В к группе А')\n",
    "print()"
   ]
  },
  {
   "cell_type": "markdown",
   "metadata": {},
   "source": [
    "___Вывод___:\n",
    "- Почти на всем протяжении график среднего чека в пользу группы В\n",
    "- Есть только два пересечения центральной оси - в начале и в середине"
   ]
  },
  {
   "cell_type": "markdown",
   "metadata": {},
   "source": [
    "### График кумулятивной конверсии по группам"
   ]
  },
  {
   "cell_type": "code",
   "execution_count": 16,
   "metadata": {},
   "outputs": [
    {
     "name": "stdout",
     "output_type": "stream",
     "text": [
      "\n"
     ]
    },
    {
     "data": {
      "image/png": "[encoded data removed]",
      "text/plain": [
       "<Figure size 1080x720 with 1 Axes>"
      ]
     },
     "metadata": {
      "needs_background": "light"
     },
     "output_type": "display_data"
    }
   ],
   "source": [
    "plt.figure(figsize=(15,10))\n",
    "# считаем кумулятивную конверсию\n",
    "cumulative_data['conversion'] = cumulative_data['orders']/cumulative_data['visitors']\n",
    "\n",
    "# отделяем данные по группе A\n",
    "cumulative_data_a = cumulative_data[cumulative_data['group']=='A']\n",
    "\n",
    "# отделяем данные по группе B\n",
    "cumulative_data_b = cumulative_data[cumulative_data['group']=='B']\n",
    "\n",
    "# строим графики\n",
    "plt.plot(cumulative_data_a['date'], cumulative_data_a['conversion'], label='A')\n",
    "plt.plot(cumulative_data_b['date'], cumulative_data_b['conversion'], label='B')\n",
    "plt.legend()\n",
    "\n",
    "# задаем масштаб осей\n",
    "plt.axis([\"2019-08-01\", '2019-08-31', 0.000, 0.045])\n",
    "plt.xticks(rotation=45)\n",
    "plt.title('График кумулятивной конверсии по группам')\n",
    "plt.xlabel('дата')\n",
    "plt.ylabel('Конверсия')\n",
    "print()"
   ]
  },
  {
   "cell_type": "markdown",
   "metadata": {},
   "source": [
    "___Вывод___:\n",
    "- График кумулятивной конверсии по группа стабилизируется к последним анализируемым датам"
   ]
  },
  {
   "cell_type": "markdown",
   "metadata": {},
   "source": [
    "### График относительного изменения кумулятивной конверсии группы B к группе A"
   ]
  },
  {
   "cell_type": "code",
   "execution_count": 17,
   "metadata": {},
   "outputs": [
    {
     "name": "stdout",
     "output_type": "stream",
     "text": [
      "\n"
     ]
    },
    {
     "data": {
      "image/png": "[encoded data removed]",
      "text/plain": [
       "<Figure size 1080x720 with 1 Axes>"
      ]
     },
     "metadata": {
      "needs_background": "light"
     },
     "output_type": "display_data"
    }
   ],
   "source": [
    "plt.figure(figsize=(15,10))\n",
    "merged_cumulative_conversions = cumulative_data_a[['date','conversion']].merge(cumulative_data_b[['date','conversion']], left_on='date', right_on='date', how='left', suffixes=['_a', '_b'])\n",
    "\n",
    "plt.plot(merged_cumulative_conversions['date'], merged_cumulative_conversions['conversion_b']/merged_cumulative_conversions['conversion_a']-1, label=\"Относительный прирост конверсии группы B относительно группы A\")\n",
    "plt.legend()\n",
    "\n",
    "# задаем масштаб осей\n",
    "plt.axis([\"2019-08-01\", '2019-08-31', -0.5, 0.5])\n",
    "plt.xticks(rotation=45)\n",
    "plt.axhline(y=0, color='black', linestyle='--')\n",
    "plt.axhline(y=0.138, color='grey', linestyle='--')\n",
    "plt.title('График относительного изменения кумулятивной конверсии группы B к группе A')\n",
    "plt.xlabel('Дата')\n",
    "plt.ylabel('Отношение')\n",
    "print()"
   ]
  },
  {
   "cell_type": "markdown",
   "metadata": {},
   "source": [
    "___Вывод___: \n",
    "- Вначале тестирования график сильно колебался\n",
    "- Начиная с середины тестирования график стабилизировался\n",
    "- К концу тестирования преимущество группы В над группой А составило 14%"
   ]
  },
  {
   "cell_type": "markdown",
   "metadata": {},
   "source": [
    "### Точечный график количества заказов по пользователям"
   ]
  },
  {
   "cell_type": "code",
   "execution_count": 18,
   "metadata": {},
   "outputs": [
    {
     "name": "stdout",
     "output_type": "stream",
     "text": [
      "\n"
     ]
    },
    {
     "data": {
      "image/png": "[encoded data removed]",
      "text/plain": [
       "<Figure size 1080x720 with 1 Axes>"
      ]
     },
     "metadata": {
      "needs_background": "light"
     },
     "output_type": "display_data"
    }
   ],
   "source": [
    "plt.figure(figsize=(15,10))\n",
    "orders_by_users = orders.groupby('visitor_id', as_index=False).agg({'transaction_id':'nunique'})\n",
    "orders_by_users.columns=('user_id', 'orders')\n",
    "x_values = pd.Series(range(0, len(orders_by_users)))\n",
    "plt.scatter(x_values, orders_by_users['orders'])\n",
    "plt.title('Точечный график количества заказов по пользователям')\n",
    "plt.xlabel('номер пользователя')\n",
    "plt.ylabel('количество заказов')\n",
    "print()"
   ]
  },
  {
   "cell_type": "markdown",
   "metadata": {},
   "source": [
    "___Вывод___:\n",
    "- В основном пользователи совершают по 1 заказу\n",
    "- Редко совершаются 4 и более покупок"
   ]
  },
  {
   "cell_type": "markdown",
   "metadata": {},
   "source": [
    "### 95-й и 99-й перцентили количества заказов на пользователя"
   ]
  },
  {
   "cell_type": "code",
   "execution_count": 19,
   "metadata": {},
   "outputs": [
    {
     "name": "stdout",
     "output_type": "stream",
     "text": [
      "[2. 4.]\n"
     ]
    }
   ],
   "source": [
    "print(np.percentile(orders_by_users['orders'], [95,99]))"
   ]
  },
  {
   "cell_type": "markdown",
   "metadata": {},
   "source": [
    "___Вывод___:\n",
    "- 95% пользоваелей соверают до 2 покупок включительно\n",
    "- 99% пользователей совершают до 4 покупок включительно\n",
    "- Возьмем за грницу 4 и более покупок и примем что значения выше этой отметки аномальные"
   ]
  },
  {
   "cell_type": "markdown",
   "metadata": {},
   "source": [
    "### Точечный график стоимостей заказов"
   ]
  },
  {
   "cell_type": "code",
   "execution_count": 20,
   "metadata": {},
   "outputs": [
    {
     "name": "stdout",
     "output_type": "stream",
     "text": [
      "\n"
     ]
    },
    {
     "data": {
      "image/png": "[encoded data removed]",
      "text/plain": [
       "<Figure size 1080x720 with 1 Axes>"
      ]
     },
     "metadata": {
      "needs_background": "light"
     },
     "output_type": "display_data"
    }
   ],
   "source": [
    "plt.figure(figsize=(15,10))\n",
    "orders_revenue = orders[['transaction_id', 'revenue']]\n",
    "x_values = pd.Series(range(0,len(orders_revenue['transaction_id'])))\n",
    "plt.scatter(x_values, orders_revenue['revenue'])\n",
    "plt.title('Точечный график стоимостей заказов')\n",
    "plt.xlabel('номер пользователя')\n",
    "plt.ylabel('стоимость заказа')\n",
    "print()"
   ]
  },
  {
   "cell_type": "markdown",
   "metadata": {},
   "source": [
    "На графике присутствуе аномальное значение которое изиеняет масштаб и затрудняет анализ графика. Зададим ограничения для графика вручную"
   ]
  },
  {
   "cell_type": "code",
   "execution_count": 21,
   "metadata": {},
   "outputs": [
    {
     "name": "stdout",
     "output_type": "stream",
     "text": [
      "\n"
     ]
    },
    {
     "data": {
      "image/png": "[encoded data removed]",
      "text/plain": [
       "<Figure size 1080x720 with 1 Axes>"
      ]
     },
     "metadata": {
      "needs_background": "light"
     },
     "output_type": "display_data"
    }
   ],
   "source": [
    "plt.figure(figsize=(15,10))\n",
    "orders_revenue = orders[['transaction_id', 'revenue']]\n",
    "x_values = pd.Series(range(0,len(orders_revenue['transaction_id'])))\n",
    "plt.scatter(x_values, orders_revenue['revenue'])\n",
    "plt.ylim(0,100000)\n",
    "plt.title('Точечный график стоимостей заказов')\n",
    "plt.xlabel('номер пользователя')\n",
    "plt.ylabel('стоимость заказа')\n",
    "print()"
   ]
  },
  {
   "cell_type": "markdown",
   "metadata": {},
   "source": [
    "___Вывод___:\n",
    "- На графике пристуствую два явно аномальных значения\n",
    "- Стоимость большинства заказов не превышает 20 000"
   ]
  },
  {
   "cell_type": "markdown",
   "metadata": {},
   "source": [
    "### 95-й и 99-й перцентили стоимости заказов."
   ]
  },
  {
   "cell_type": "code",
   "execution_count": 22,
   "metadata": {},
   "outputs": [
    {
     "name": "stdout",
     "output_type": "stream",
     "text": [
      "[28000.  58233.2]\n"
     ]
    }
   ],
   "source": [
    "print(np.percentile(orders_revenue['revenue'], [95,99]))"
   ]
  },
  {
   "cell_type": "markdown",
   "metadata": {},
   "source": [
    "___Вывод___:\n",
    "- Стоимость 95% закозов до 28000\n",
    "- Стоимость 99% заказов до 58233\n",
    "- Примем значение 28000 за границу аномальных значений"
   ]
  },
  {
   "cell_type": "markdown",
   "metadata": {},
   "source": [
    "### Статистическая значимость различий в конверсии между группами по «сырым» данным."
   ]
  },
  {
   "cell_type": "code",
   "execution_count": 23,
   "metadata": {},
   "outputs": [],
   "source": [
    "orders_by_users_a = (\n",
    "    orders[orders['group'] == 'A']\n",
    "    .groupby('visitor_id', as_index=False)\n",
    "    .agg({'transaction_id': pd.Series.nunique})\n",
    ")\n",
    "orders_by_users_a.columns = ['user_id', 'orders']\n",
    "\n",
    "orders_by_users_b = (\n",
    "    orders[orders['group'] == 'B']\n",
    "    .groupby('visitor_id', as_index=False)\n",
    "    .agg({'transaction_id': pd.Series.nunique})\n",
    ")\n",
    "orders_by_users_b.columns = ['user_id', 'orders'] \n"
   ]
  },
  {
   "cell_type": "code",
   "execution_count": 24,
   "metadata": {},
   "outputs": [
    {
     "name": "stdout",
     "output_type": "stream",
     "text": [
      "Нулевая гипотеза: Конверсии в группах А и В равны\n",
      "Альтернативная гипотеза: Конверсии в группах А и В отличаются.\n",
      "\n",
      "Значение критерия Манна — Уитни = 0.006\n",
      "Относительная разница конверсии В к А = 0.149\n",
      "\n",
      "Отвергаем нулевую гипотезу\n"
     ]
    }
   ],
   "source": [
    "sample_a = pd.concat(\n",
    "    [\n",
    "        orders_by_users_a['orders'],\n",
    "        pd.Series(\n",
    "            0,\n",
    "            index=np.arange(\n",
    "                visitors['visitors'].sum() - len(orders_by_users_a['orders'])\n",
    "            ),\n",
    "            name='orders',\n",
    "        ),\n",
    "    ],\n",
    "    axis=0,\n",
    ")\n",
    "\n",
    "sample_b = pd.concat(\n",
    "    [\n",
    "        orders_by_users_b['orders'],\n",
    "        pd.Series(\n",
    "            0,\n",
    "            index=np.arange(\n",
    "                visitors['visitors'].sum() - len(orders_by_users_b['orders'])\n",
    "            ),\n",
    "            name='orders',\n",
    "        ),\n",
    "    ],\n",
    "    axis=0,\n",
    ")\n",
    "\n",
    "print('Нулевая гипотеза: Конверсии в группах А и В равны')\n",
    "print('Альтернативная гипотеза: Конверсии в группах А и В отличаются.')\n",
    "print('')\n",
    "print('Значение критерия Манна — Уитни =',\"{0:.3f}\".format(stats.mannwhitneyu(sample_a, sample_b)[1]))\n",
    "print('Относительная разница конверсии В к А =', \"{0:.3f}\".format(sample_b.mean() / sample_a.mean() - 1))\n",
    "print('')\n",
    "alpha = 0.05\n",
    "if stats.mannwhitneyu(sample_a, sample_b)[1] > alpha:\n",
    "    print('Не отвергаем нулевую гипотезу')\n",
    "else:\n",
    "    print('Отвергаем нулевую гипотезу')\n"
   ]
  },
  {
   "cell_type": "markdown",
   "metadata": {},
   "source": [
    "___Вывод___:\n",
    "Вероятно конверсии отличаются"
   ]
  },
  {
   "cell_type": "markdown",
   "metadata": {},
   "source": [
    "### Статистическая значимость различий в среднем чеке заказа между группами по «сырым» данным"
   ]
  },
  {
   "cell_type": "code",
   "execution_count": 25,
   "metadata": {},
   "outputs": [
    {
     "name": "stdout",
     "output_type": "stream",
     "text": [
      "Значение критерия Манна — Уитни = 0.365\n",
      "Относительная разница среднего чека В к А = 0.259\n",
      "\n",
      "Нулевая гипотеза: Средний чек в группах А и В равный\n",
      "Альтернативная гипотеза: Средний чек в группах А и В отличается\n",
      "\n",
      "Не отвергаем нулевую гипотезу\n"
     ]
    }
   ],
   "source": [
    "print('Значение критерия Манна — Уитни =','{0:.3f}'.format(stats.mannwhitneyu(orders[orders['group']=='A']['revenue'], orders[orders['group']=='B']['revenue'])[1]))\n",
    "print('Относительная разница среднего чека В к А =','{0:.3f}'.format(orders[orders['group']=='B']['revenue'].mean()/orders[orders['group']=='A']['revenue'].mean()-1))\n",
    "print('')\n",
    "print('Нулевая гипотеза: Средний чек в группах А и В равный')\n",
    "print('Альтернативная гипотеза: Средний чек в группах А и В отличается')\n",
    "print('')\n",
    "alpha = 0.05\n",
    "if stats.mannwhitneyu(orders[orders['group']=='A']['revenue'], orders[orders['group']=='B']['revenue'])[1] > alpha:\n",
    "    print('Не отвергаем нулевую гипотезу')\n",
    "else:\n",
    "    print('Отвергаем нулевую гипотезу')"
   ]
  },
  {
   "cell_type": "markdown",
   "metadata": {},
   "source": [
    "___Вывод___:\n",
    "Вероятно средний чек в группах не отличается"
   ]
  },
  {
   "cell_type": "markdown",
   "metadata": {},
   "source": [
    "### Статистическая значимость различий в конверсии между группами по «очищенным» данным"
   ]
  },
  {
   "cell_type": "code",
   "execution_count": 26,
   "metadata": {},
   "outputs": [
    {
     "name": "stdout",
     "output_type": "stream",
     "text": [
      "568     113298937\n",
      "1099    148427295\n",
      "461     154576532\n",
      "18      199603092\n",
      "928     204675465\n",
      "dtype: int64\n",
      "(90,)\n"
     ]
    }
   ],
   "source": [
    "users_with_many_orders = pd.concat(\n",
    "    [\n",
    "        orders_by_users_a[orders_by_users_a['orders'] > 3]['user_id'],\n",
    "        orders_by_users_b[orders_by_users_b['orders'] > 3]['user_id'],\n",
    "    ],\n",
    "    axis=0,\n",
    ")\n",
    "users_with_expensive_orders = orders[orders['revenue'] > 20000]['visitor_id']\n",
    "abnormal_users = (\n",
    "    pd.concat([users_with_many_orders, users_with_expensive_orders], axis=0)\n",
    "    .drop_duplicates()\n",
    "    .sort_values()\n",
    ")\n",
    "print(abnormal_users.head(5))\n",
    "print(abnormal_users.shape)"
   ]
  },
  {
   "cell_type": "code",
   "execution_count": 27,
   "metadata": {},
   "outputs": [
    {
     "name": "stdout",
     "output_type": "stream",
     "text": [
      "Значение критерия Манна — Уитни = 0.008\n",
      "Относительная разница конверсии В к А = 0.163\n",
      "\n",
      "Нулевая гипотеза: Конверсия в группах А и В равная\n",
      "Альтернативная гипотеза: Конверсия в группах А и В отличается\n",
      "\n",
      "Отвергаем нулевую гипотезу\n"
     ]
    }
   ],
   "source": [
    "sample_a_filtered = pd.concat(\n",
    "    [\n",
    "        orders_by_users_a[\n",
    "            np.logical_not(orders_by_users_a['user_id'].isin(abnormal_users))\n",
    "        ]['orders'],\n",
    "        pd.Series(\n",
    "            0,\n",
    "            index=np.arange(\n",
    "                visitors['visitors'].sum() - len(orders_by_users_a['orders'])\n",
    "            ),\n",
    "            name='orders',\n",
    "        ),\n",
    "    ],\n",
    "    axis=0,\n",
    ")\n",
    "\n",
    "sample_b_filtered = pd.concat(\n",
    "    [\n",
    "        orders_by_users_b[\n",
    "            np.logical_not(orders_by_users_b['user_id'].isin(abnormal_users))\n",
    "        ]['orders'],\n",
    "        pd.Series(\n",
    "            0,\n",
    "            index=np.arange(\n",
    "                visitors['visitors'].sum() - len(orders_by_users_b['orders'])\n",
    "            ),\n",
    "            name='orders',\n",
    "        ),\n",
    "    ],\n",
    "    axis=0,\n",
    ")\n",
    "print('Значение критерия Манна — Уитни =','{0:.3f}'.format(stats.mannwhitneyu(sample_a_filtered, sample_b_filtered)[1]))\n",
    "print('Относительная разница конверсии В к А =','{0:.3f}'.format(sample_b_filtered.mean()/sample_a_filtered.mean()-1))\n",
    "print('')\n",
    "print('Нулевая гипотеза: Конверсия в группах А и В равная')\n",
    "print('Альтернативная гипотеза: Конверсия в группах А и В отличается')\n",
    "print('')\n",
    "alpha = 0.05\n",
    "if stats.mannwhitneyu(sample_a_filtered, sample_b_filtered)[1] > alpha:\n",
    "    print('Не отвергаем нулевую гипотезу')\n",
    "else:\n",
    "    print('Отвергаем нулевую гипотезу')"
   ]
  },
  {
   "cell_type": "markdown",
   "metadata": {},
   "source": [
    "___Вывод___:\n",
    "- Вероятно конверсия в группах А и В отличается\n",
    "- После \"очистки\" данных, разница в конверсии увеличилась с 0.149 до 0.163"
   ]
  },
  {
   "cell_type": "markdown",
   "metadata": {},
   "source": [
    "### Статистическая значимость различий в среднем чеке заказа между группами по «очищенным» данным"
   ]
  },
  {
   "cell_type": "code",
   "execution_count": 28,
   "metadata": {},
   "outputs": [
    {
     "name": "stdout",
     "output_type": "stream",
     "text": [
      "Значение критерия Манна — Уитни = 0.464\n",
      "Относительная разница конверсии В к А = -0.005\n",
      "\n",
      "Нулевая гипотеза: Средний чек в группах А и В равный\n",
      "Альтернативная гипотеза: Средний чек в группах А и В отличается\n",
      "\n",
      "Не отвергаем нулевую гипотезу\n"
     ]
    }
   ],
   "source": [
    "print('Значение критерия Манна — Уитни =',\n",
    "    '{0:.3f}'.format(\n",
    "        stats.mannwhitneyu(\n",
    "            orders[\n",
    "                np.logical_and(\n",
    "                    orders['group'] == 'A',\n",
    "                    np.logical_not(orders['visitor_id'].isin(abnormal_users)),\n",
    "                )\n",
    "            ]['revenue'],\n",
    "            orders[\n",
    "                np.logical_and(\n",
    "                    orders['group'] == 'B',\n",
    "                    np.logical_not(orders['visitor_id'].isin(abnormal_users)),\n",
    "                )\n",
    "            ]['revenue'],\n",
    "        )[1]\n",
    "    )\n",
    ")\n",
    "\n",
    "print('Относительная разница конверсии В к А =',\n",
    "    \"{0:.3f}\".format(\n",
    "        orders[\n",
    "            np.logical_and(\n",
    "                orders['group'] == 'B',\n",
    "                np.logical_not(orders['visitor_id'].isin(abnormal_users)),\n",
    "            )\n",
    "        ]['revenue'].mean()\n",
    "        / orders[\n",
    "            np.logical_and(\n",
    "                orders['group'] == 'A',\n",
    "                np.logical_not(orders['visitor_id'].isin(abnormal_users)),\n",
    "            )\n",
    "        ]['revenue'].mean()\n",
    "        - 1\n",
    "    )\n",
    ")\n",
    "print('')\n",
    "print('Нулевая гипотеза: Средний чек в группах А и В равный')\n",
    "print('Альтернативная гипотеза: Средний чек в группах А и В отличается')\n",
    "print('')\n",
    "alpha = 0.05\n",
    "if (\n",
    "        stats.mannwhitneyu(\n",
    "            orders[\n",
    "                np.logical_and(\n",
    "                    orders['group'] == 'A',\n",
    "                    np.logical_not(orders['visitor_id'].isin(abnormal_users)),\n",
    "                )\n",
    "            ]['revenue'],\n",
    "            orders[\n",
    "                np.logical_and(\n",
    "                    orders['group'] == 'B',\n",
    "                    np.logical_not(orders['visitor_id'].isin(abnormal_users)),\n",
    "                )\n",
    "            ]['revenue'],\n",
    "        )[1]\n",
    ") > alpha:\n",
    "    print('Не отвергаем нулевую гипотезу')\n",
    "else:\n",
    "    print('Отвергаем нулевую гипотезу')"
   ]
  },
  {
   "cell_type": "markdown",
   "metadata": {},
   "source": [
    "___Вывод___:\n",
    " - Вероятно средний чек в группах А и В не отличается\n",
    " - После \"очистки\" данных, средний чек значительно изменился, с 0.259 до -0.005"
   ]
  },
  {
   "cell_type": "markdown",
   "metadata": {},
   "source": [
    "### Решение по результатам теста"
   ]
  },
  {
   "cell_type": "markdown",
   "metadata": {},
   "source": [
    "По итогам тестирования и по очищенным и по сырым данным результаты одинаковы:\n",
    "- Средний чек в группах не отличается\n",
    "- Конверсия в группах отличается\n",
    "\n",
    "Тест следует признать успешным и остановить его.\n"
   ]
  }
 ],
 "metadata": {
  "ExecuteTimeLog": [
   {
    "duration": 4,
    "start_time": "2022-02-25T08:17:34.303Z"
   },
   {
    "duration": 843,
    "start_time": "2022-02-25T08:23:55.393Z"
   },
   {
    "duration": 50,
    "start_time": "2022-02-25T08:24:29.480Z"
   },
   {
    "duration": 34,
    "start_time": "2022-02-25T08:30:43.064Z"
   },
   {
    "duration": 33,
    "start_time": "2022-02-25T08:30:50.371Z"
   },
   {
    "duration": 35,
    "start_time": "2022-02-25T08:31:31.457Z"
   },
   {
    "duration": 43,
    "start_time": "2022-02-25T08:32:09.984Z"
   },
   {
    "duration": 97,
    "start_time": "2022-02-25T08:34:14.438Z"
   },
   {
    "duration": 42,
    "start_time": "2022-02-25T08:34:47.331Z"
   },
   {
    "duration": 70,
    "start_time": "2022-02-25T08:35:25.258Z"
   },
   {
    "duration": 42,
    "start_time": "2022-02-25T08:36:17.870Z"
   },
   {
    "duration": 85,
    "start_time": "2022-02-25T08:38:15.528Z"
   },
   {
    "duration": 52,
    "start_time": "2022-02-25T08:41:07.252Z"
   },
   {
    "duration": 44,
    "start_time": "2022-02-25T08:41:39.212Z"
   },
   {
    "duration": 12,
    "start_time": "2022-02-25T09:06:36.469Z"
   },
   {
    "duration": 14,
    "start_time": "2022-02-25T09:07:32.944Z"
   },
   {
    "duration": 15,
    "start_time": "2022-02-25T09:07:37.092Z"
   },
   {
    "duration": 622,
    "start_time": "2022-02-25T09:08:34.095Z"
   },
   {
    "duration": 489,
    "start_time": "2022-02-25T09:08:51.259Z"
   },
   {
    "duration": 15,
    "start_time": "2022-02-25T09:09:11.605Z"
   },
   {
    "duration": 487,
    "start_time": "2022-02-25T09:09:26.030Z"
   },
   {
    "duration": 16,
    "start_time": "2022-02-25T09:09:36.254Z"
   },
   {
    "duration": 20,
    "start_time": "2022-02-25T09:10:44.602Z"
   },
   {
    "duration": 460,
    "start_time": "2022-02-25T09:17:52.249Z"
   },
   {
    "duration": 456,
    "start_time": "2022-02-25T09:18:18.101Z"
   },
   {
    "duration": 18,
    "start_time": "2022-02-25T09:20:31.551Z"
   },
   {
    "duration": 17,
    "start_time": "2022-02-25T09:21:44.669Z"
   },
   {
    "duration": 409,
    "start_time": "2022-02-25T09:23:08.111Z"
   },
   {
    "duration": 511,
    "start_time": "2022-02-25T09:23:29.690Z"
   },
   {
    "duration": 55,
    "start_time": "2022-02-25T09:24:32.714Z"
   },
   {
    "duration": 825,
    "start_time": "2022-02-25T09:24:42.494Z"
   },
   {
    "duration": 55,
    "start_time": "2022-02-25T09:24:43.322Z"
   },
   {
    "duration": 82,
    "start_time": "2022-02-25T09:24:43.380Z"
   },
   {
    "duration": 45,
    "start_time": "2022-02-25T09:24:43.465Z"
   },
   {
    "duration": 22,
    "start_time": "2022-02-25T09:24:43.513Z"
   },
   {
    "duration": 17,
    "start_time": "2022-02-25T09:24:43.538Z"
   },
   {
    "duration": 25,
    "start_time": "2022-02-25T09:25:06.403Z"
   },
   {
    "duration": 20,
    "start_time": "2022-02-25T09:25:31.851Z"
   },
   {
    "duration": 20,
    "start_time": "2022-02-25T09:26:13.298Z"
   },
   {
    "duration": 17,
    "start_time": "2022-02-25T09:27:40.331Z"
   },
   {
    "duration": 19,
    "start_time": "2022-02-25T09:27:53.773Z"
   },
   {
    "duration": 21,
    "start_time": "2022-02-25T09:28:14.753Z"
   },
   {
    "duration": 10,
    "start_time": "2022-02-25T12:51:44.487Z"
   },
   {
    "duration": 18,
    "start_time": "2022-02-25T12:51:48.069Z"
   },
   {
    "duration": 741,
    "start_time": "2022-02-25T12:55:49.146Z"
   },
   {
    "duration": 4,
    "start_time": "2022-02-25T12:56:12.688Z"
   },
   {
    "duration": 10482,
    "start_time": "2022-02-25T12:56:17.831Z"
   },
   {
    "duration": 9907,
    "start_time": "2022-02-25T12:56:28.545Z"
   },
   {
    "duration": 82,
    "start_time": "2022-02-25T12:57:43.596Z"
   },
   {
    "duration": 71,
    "start_time": "2022-02-25T12:59:08.170Z"
   },
   {
    "duration": 71,
    "start_time": "2022-02-25T12:59:20.286Z"
   },
   {
    "duration": 324,
    "start_time": "2022-02-25T13:00:03.431Z"
   },
   {
    "duration": 425,
    "start_time": "2022-02-25T13:02:52.773Z"
   },
   {
    "duration": 272,
    "start_time": "2022-02-25T13:03:03.361Z"
   },
   {
    "duration": 288,
    "start_time": "2022-02-25T13:03:12.254Z"
   },
   {
    "duration": 16,
    "start_time": "2022-02-25T13:04:43.741Z"
   },
   {
    "duration": 474,
    "start_time": "2022-02-25T13:06:01.928Z"
   },
   {
    "duration": 113,
    "start_time": "2022-02-25T13:06:25.115Z"
   },
   {
    "duration": 348,
    "start_time": "2022-02-25T13:06:29.166Z"
   },
   {
    "duration": 352,
    "start_time": "2022-02-25T13:06:40.689Z"
   },
   {
    "duration": 314,
    "start_time": "2022-02-25T13:08:28.034Z"
   },
   {
    "duration": 874,
    "start_time": "2022-02-25T13:08:32.942Z"
   },
   {
    "duration": 312,
    "start_time": "2022-02-25T13:08:36.701Z"
   },
   {
    "duration": 10586,
    "start_time": "2022-02-25T13:11:29.686Z"
   },
   {
    "duration": 9,
    "start_time": "2022-02-25T13:12:02.926Z"
   },
   {
    "duration": 22,
    "start_time": "2022-02-25T13:12:07.159Z"
   },
   {
    "duration": 23,
    "start_time": "2022-02-25T13:12:22.488Z"
   },
   {
    "duration": 418,
    "start_time": "2022-02-25T13:12:33.783Z"
   },
   {
    "duration": 390,
    "start_time": "2022-02-25T13:12:43.249Z"
   },
   {
    "duration": 983,
    "start_time": "2022-02-25T13:13:09.700Z"
   },
   {
    "duration": 58,
    "start_time": "2022-02-25T13:13:10.686Z"
   },
   {
    "duration": 70,
    "start_time": "2022-02-25T13:13:10.748Z"
   },
   {
    "duration": 43,
    "start_time": "2022-02-25T13:13:10.821Z"
   },
   {
    "duration": 20,
    "start_time": "2022-02-25T13:13:10.866Z"
   },
   {
    "duration": 45,
    "start_time": "2022-02-25T13:13:10.888Z"
   },
   {
    "duration": 377,
    "start_time": "2022-02-25T13:13:10.936Z"
   },
   {
    "duration": 301,
    "start_time": "2022-02-25T13:13:11.316Z"
   },
   {
    "duration": 16,
    "start_time": "2022-02-25T13:13:11.621Z"
   },
   {
    "duration": 372,
    "start_time": "2022-02-25T13:13:11.640Z"
   },
   {
    "duration": 321,
    "start_time": "2022-02-25T13:13:12.015Z"
   },
   {
    "duration": 403,
    "start_time": "2022-02-25T13:13:12.338Z"
   },
   {
    "duration": 463,
    "start_time": "2022-02-25T13:16:47.747Z"
   },
   {
    "duration": 386,
    "start_time": "2022-02-25T13:17:24.345Z"
   },
   {
    "duration": 435,
    "start_time": "2022-02-25T13:17:31.877Z"
   },
   {
    "duration": 372,
    "start_time": "2022-02-25T13:20:43.821Z"
   },
   {
    "duration": 329,
    "start_time": "2022-02-25T13:20:49.733Z"
   },
   {
    "duration": 273,
    "start_time": "2022-02-25T13:20:57.448Z"
   },
   {
    "duration": 403,
    "start_time": "2022-02-25T13:21:01.207Z"
   },
   {
    "duration": 339,
    "start_time": "2022-02-25T13:21:23.198Z"
   },
   {
    "duration": 336,
    "start_time": "2022-02-25T13:21:37.855Z"
   },
   {
    "duration": 345,
    "start_time": "2022-02-25T13:21:54.385Z"
   },
   {
    "duration": 350,
    "start_time": "2022-02-25T13:22:01.404Z"
   },
   {
    "duration": 1074,
    "start_time": "2022-02-25T13:22:24.223Z"
   },
   {
    "duration": 322,
    "start_time": "2022-02-25T13:22:53.113Z"
   },
   {
    "duration": 321,
    "start_time": "2022-02-25T13:23:05.984Z"
   },
   {
    "duration": 308,
    "start_time": "2022-02-25T13:23:12.238Z"
   },
   {
    "duration": 322,
    "start_time": "2022-02-25T13:23:21.614Z"
   },
   {
    "duration": 315,
    "start_time": "2022-02-25T13:24:28.574Z"
   },
   {
    "duration": 320,
    "start_time": "2022-02-25T13:24:40.455Z"
   },
   {
    "duration": 303,
    "start_time": "2022-02-25T13:24:56.761Z"
   },
   {
    "duration": 339,
    "start_time": "2022-02-25T13:25:02.910Z"
   },
   {
    "duration": 321,
    "start_time": "2022-02-25T13:25:08.012Z"
   },
   {
    "duration": 321,
    "start_time": "2022-02-25T13:27:53.782Z"
   },
   {
    "duration": 406,
    "start_time": "2022-02-25T13:27:58.777Z"
   },
   {
    "duration": 437,
    "start_time": "2022-02-25T13:28:03.999Z"
   },
   {
    "duration": 326,
    "start_time": "2022-02-25T13:28:09.294Z"
   },
   {
    "duration": 1317,
    "start_time": "2022-02-25T13:31:14.430Z"
   },
   {
    "duration": 419,
    "start_time": "2022-02-25T13:31:29.715Z"
   },
   {
    "duration": 320,
    "start_time": "2022-02-25T13:31:49.334Z"
   },
   {
    "duration": 359,
    "start_time": "2022-02-25T13:31:57.016Z"
   },
   {
    "duration": 344,
    "start_time": "2022-02-25T13:32:02.401Z"
   },
   {
    "duration": 371,
    "start_time": "2022-02-25T13:32:24.422Z"
   },
   {
    "duration": 339,
    "start_time": "2022-02-25T13:32:39.556Z"
   },
   {
    "duration": 359,
    "start_time": "2022-02-25T13:32:45.483Z"
   },
   {
    "duration": 346,
    "start_time": "2022-02-25T13:32:52.875Z"
   },
   {
    "duration": 472,
    "start_time": "2022-02-25T13:33:00.028Z"
   },
   {
    "duration": 337,
    "start_time": "2022-02-25T13:33:05.028Z"
   },
   {
    "duration": 436,
    "start_time": "2022-02-25T13:33:28.580Z"
   },
   {
    "duration": 434,
    "start_time": "2022-02-25T13:33:48.916Z"
   },
   {
    "duration": 426,
    "start_time": "2022-02-25T13:35:12.022Z"
   },
   {
    "duration": 427,
    "start_time": "2022-02-25T13:36:02.320Z"
   },
   {
    "duration": 426,
    "start_time": "2022-02-25T13:36:10.553Z"
   },
   {
    "duration": 330,
    "start_time": "2022-02-28T13:19:03.612Z"
   },
   {
    "duration": 678,
    "start_time": "2022-02-28T13:19:13.428Z"
   },
   {
    "duration": 33,
    "start_time": "2022-02-28T13:19:14.109Z"
   },
   {
    "duration": 43,
    "start_time": "2022-02-28T13:19:14.145Z"
   },
   {
    "duration": 39,
    "start_time": "2022-02-28T13:19:14.190Z"
   },
   {
    "duration": 20,
    "start_time": "2022-02-28T13:19:14.231Z"
   },
   {
    "duration": 22,
    "start_time": "2022-02-28T13:19:14.253Z"
   },
   {
    "duration": 253,
    "start_time": "2022-02-28T13:19:14.277Z"
   },
   {
    "duration": 195,
    "start_time": "2022-02-28T13:19:14.533Z"
   },
   {
    "duration": 11,
    "start_time": "2022-02-28T13:19:14.730Z"
   },
   {
    "duration": 264,
    "start_time": "2022-02-28T13:19:14.743Z"
   },
   {
    "duration": 239,
    "start_time": "2022-02-28T13:19:15.010Z"
   },
   {
    "duration": 305,
    "start_time": "2022-02-28T13:19:15.251Z"
   },
   {
    "duration": 263,
    "start_time": "2022-02-28T13:19:15.558Z"
   },
   {
    "duration": 423,
    "start_time": "2022-02-28T13:19:15.823Z"
   },
   {
    "duration": 16,
    "start_time": "2022-02-28T13:19:16.249Z"
   },
   {
    "duration": 15,
    "start_time": "2022-02-28T13:20:00.106Z"
   },
   {
    "duration": 198,
    "start_time": "2022-02-28T13:20:20.086Z"
   },
   {
    "duration": 275,
    "start_time": "2022-02-28T13:20:32.640Z"
   },
   {
    "duration": 293,
    "start_time": "2022-02-28T13:22:30.228Z"
   },
   {
    "duration": 420,
    "start_time": "2022-02-28T13:22:35.830Z"
   },
   {
    "duration": 404,
    "start_time": "2022-02-28T13:23:03.482Z"
   },
   {
    "duration": 267,
    "start_time": "2022-02-28T13:30:00.234Z"
   },
   {
    "duration": 274,
    "start_time": "2022-02-28T13:30:26.130Z"
   },
   {
    "duration": 14,
    "start_time": "2022-02-28T13:32:41.577Z"
   },
   {
    "duration": 11,
    "start_time": "2022-02-28T13:34:07.308Z"
   },
   {
    "duration": 187,
    "start_time": "2022-02-28T13:34:14.707Z"
   },
   {
    "duration": 327,
    "start_time": "2022-02-28T13:34:36.467Z"
   },
   {
    "duration": 236,
    "start_time": "2022-02-28T13:35:07.178Z"
   },
   {
    "duration": 3,
    "start_time": "2022-02-28T13:35:27.903Z"
   },
   {
    "duration": 15,
    "start_time": "2022-02-28T13:35:33.998Z"
   },
   {
    "duration": 295,
    "start_time": "2022-02-28T13:35:44.576Z"
   },
   {
    "duration": 364,
    "start_time": "2022-02-28T13:35:49.659Z"
   },
   {
    "duration": 12,
    "start_time": "2022-02-28T13:35:57.357Z"
   },
   {
    "duration": 7,
    "start_time": "2022-02-28T13:37:56.269Z"
   },
   {
    "duration": 180,
    "start_time": "2022-02-28T13:38:19.578Z"
   },
   {
    "duration": 181,
    "start_time": "2022-02-28T13:39:44.067Z"
   },
   {
    "duration": 178,
    "start_time": "2022-02-28T13:39:48.076Z"
   },
   {
    "duration": 317,
    "start_time": "2022-02-28T13:40:29.416Z"
   },
   {
    "duration": 284,
    "start_time": "2022-02-28T13:40:47.922Z"
   },
   {
    "duration": 269,
    "start_time": "2022-02-28T13:41:04.824Z"
   },
   {
    "duration": 278,
    "start_time": "2022-02-28T13:41:52.629Z"
   },
   {
    "duration": 300,
    "start_time": "2022-02-28T13:42:06.470Z"
   },
   {
    "duration": 269,
    "start_time": "2022-02-28T13:42:17.134Z"
   },
   {
    "duration": 280,
    "start_time": "2022-02-28T13:42:29.423Z"
   },
   {
    "duration": 367,
    "start_time": "2022-02-28T13:43:30.622Z"
   },
   {
    "duration": 6,
    "start_time": "2022-02-28T13:47:42.848Z"
   },
   {
    "duration": 5,
    "start_time": "2022-02-28T13:48:19.367Z"
   },
   {
    "duration": 13,
    "start_time": "2022-02-28T13:54:04.165Z"
   },
   {
    "duration": 6,
    "start_time": "2022-02-28T13:57:59.846Z"
   },
   {
    "duration": 10,
    "start_time": "2022-02-28T13:58:04.171Z"
   },
   {
    "duration": 5,
    "start_time": "2022-02-28T13:59:53.651Z"
   },
   {
    "duration": 8,
    "start_time": "2022-02-28T13:59:58.857Z"
   },
   {
    "duration": 294,
    "start_time": "2022-02-28T14:00:31.634Z"
   },
   {
    "duration": 5,
    "start_time": "2022-02-28T14:03:34.242Z"
   },
   {
    "duration": 222,
    "start_time": "2022-02-28T15:33:31.498Z"
   },
   {
    "duration": 202,
    "start_time": "2022-02-28T15:34:50.849Z"
   },
   {
    "duration": 194,
    "start_time": "2022-02-28T15:34:58.123Z"
   },
   {
    "duration": 200,
    "start_time": "2022-02-28T15:35:05.754Z"
   },
   {
    "duration": 429,
    "start_time": "2022-02-28T15:35:38.205Z"
   },
   {
    "duration": 208,
    "start_time": "2022-02-28T15:35:47.814Z"
   },
   {
    "duration": 220,
    "start_time": "2022-02-28T15:35:52.729Z"
   },
   {
    "duration": 213,
    "start_time": "2022-02-28T15:36:09.392Z"
   },
   {
    "duration": 286,
    "start_time": "2022-02-28T15:45:41.219Z"
   },
   {
    "duration": 299,
    "start_time": "2022-02-28T15:45:47.654Z"
   },
   {
    "duration": 404,
    "start_time": "2022-02-28T15:45:58.049Z"
   },
   {
    "duration": 340,
    "start_time": "2022-02-28T15:54:39.995Z"
   },
   {
    "duration": 356,
    "start_time": "2022-02-28T15:54:47.486Z"
   },
   {
    "duration": 347,
    "start_time": "2022-02-28T15:55:06.281Z"
   },
   {
    "duration": 306,
    "start_time": "2022-02-28T15:58:15.781Z"
   },
   {
    "duration": 299,
    "start_time": "2022-02-28T15:58:27.317Z"
   },
   {
    "duration": 306,
    "start_time": "2022-02-28T16:14:12.523Z"
   },
   {
    "duration": 333,
    "start_time": "2022-02-28T16:14:19.770Z"
   },
   {
    "duration": 282,
    "start_time": "2022-02-28T16:14:24.929Z"
   },
   {
    "duration": 339,
    "start_time": "2022-02-28T16:14:35.983Z"
   },
   {
    "duration": 301,
    "start_time": "2022-02-28T16:14:42.617Z"
   },
   {
    "duration": 307,
    "start_time": "2022-02-28T16:14:51.778Z"
   },
   {
    "duration": 225,
    "start_time": "2022-02-28T16:27:28.090Z"
   },
   {
    "duration": 5719,
    "start_time": "2022-02-28T16:28:34.552Z"
   },
   {
    "duration": 6465,
    "start_time": "2022-02-28T16:28:40.450Z"
   },
   {
    "duration": 140,
    "start_time": "2022-02-28T16:29:14.623Z"
   },
   {
    "duration": 227,
    "start_time": "2022-02-28T16:32:40.049Z"
   },
   {
    "duration": 236,
    "start_time": "2022-02-28T16:33:21.748Z"
   },
   {
    "duration": 218,
    "start_time": "2022-02-28T16:34:52.335Z"
   },
   {
    "duration": 210,
    "start_time": "2022-02-28T16:35:39.689Z"
   },
   {
    "duration": 8,
    "start_time": "2022-02-28T16:37:57.276Z"
   },
   {
    "duration": 11,
    "start_time": "2022-02-28T16:38:01.486Z"
   },
   {
    "duration": 366,
    "start_time": "2022-02-28T16:39:51.570Z"
   },
   {
    "duration": 431,
    "start_time": "2022-02-28T16:40:13.922Z"
   },
   {
    "duration": 17,
    "start_time": "2022-02-28T16:40:17.989Z"
   },
   {
    "duration": 13,
    "start_time": "2022-02-28T16:44:46.546Z"
   },
   {
    "duration": 5369,
    "start_time": "2022-02-28T16:56:40.625Z"
   },
   {
    "duration": 10,
    "start_time": "2022-02-28T16:57:46.926Z"
   },
   {
    "duration": 10,
    "start_time": "2022-02-28T17:01:11.391Z"
   },
   {
    "duration": 237,
    "start_time": "2022-02-28T17:01:26.917Z"
   },
   {
    "duration": 19,
    "start_time": "2022-02-28T17:01:45.289Z"
   },
   {
    "duration": 5686,
    "start_time": "2022-02-28T17:03:59.392Z"
   },
   {
    "duration": 18,
    "start_time": "2022-02-28T17:05:17.845Z"
   },
   {
    "duration": 1018,
    "start_time": "2022-03-01T12:29:50.473Z"
   },
   {
    "duration": 32,
    "start_time": "2022-03-01T12:29:51.493Z"
   },
   {
    "duration": 50,
    "start_time": "2022-03-01T12:29:51.527Z"
   },
   {
    "duration": 28,
    "start_time": "2022-03-01T12:29:51.579Z"
   },
   {
    "duration": 13,
    "start_time": "2022-03-01T12:29:51.609Z"
   },
   {
    "duration": 12,
    "start_time": "2022-03-01T12:29:51.624Z"
   },
   {
    "duration": 207,
    "start_time": "2022-03-01T12:29:51.638Z"
   },
   {
    "duration": 162,
    "start_time": "2022-03-01T12:29:51.847Z"
   },
   {
    "duration": 8,
    "start_time": "2022-03-01T12:29:52.011Z"
   },
   {
    "duration": 190,
    "start_time": "2022-03-01T12:29:52.021Z"
   },
   {
    "duration": 173,
    "start_time": "2022-03-01T12:29:52.213Z"
   },
   {
    "duration": 290,
    "start_time": "2022-03-01T12:29:52.387Z"
   },
   {
    "duration": 183,
    "start_time": "2022-03-01T12:29:52.679Z"
   },
   {
    "duration": 322,
    "start_time": "2022-03-01T12:29:52.863Z"
   },
   {
    "duration": 273,
    "start_time": "2022-03-01T12:29:53.187Z"
   },
   {
    "duration": 4,
    "start_time": "2022-03-01T12:29:53.461Z"
   },
   {
    "duration": 276,
    "start_time": "2022-03-01T12:29:53.466Z"
   },
   {
    "duration": 243,
    "start_time": "2022-03-01T12:29:53.744Z"
   },
   {
    "duration": 12,
    "start_time": "2022-03-01T12:29:53.989Z"
   },
   {
    "duration": 113,
    "start_time": "2022-03-01T12:29:54.003Z"
   },
   {
    "duration": 14,
    "start_time": "2022-03-01T12:29:54.118Z"
   },
   {
    "duration": 8,
    "start_time": "2022-03-01T12:29:54.133Z"
   },
   {
    "duration": 8,
    "start_time": "2022-03-01T12:29:54.144Z"
   },
   {
    "duration": 15,
    "start_time": "2022-03-01T12:29:54.154Z"
   },
   {
    "duration": 39,
    "start_time": "2022-03-01T12:29:54.170Z"
   },
   {
    "duration": 1052,
    "start_time": "2022-03-01T13:59:04.921Z"
   },
   {
    "duration": 47,
    "start_time": "2022-03-01T13:59:05.975Z"
   },
   {
    "duration": 55,
    "start_time": "2022-03-01T13:59:06.024Z"
   },
   {
    "duration": 31,
    "start_time": "2022-03-01T13:59:06.081Z"
   },
   {
    "duration": 13,
    "start_time": "2022-03-01T13:59:06.114Z"
   },
   {
    "duration": 14,
    "start_time": "2022-03-01T13:59:06.129Z"
   },
   {
    "duration": 226,
    "start_time": "2022-03-01T13:59:06.145Z"
   },
   {
    "duration": 167,
    "start_time": "2022-03-01T13:59:06.373Z"
   },
   {
    "duration": 9,
    "start_time": "2022-03-01T13:59:06.543Z"
   },
   {
    "duration": 254,
    "start_time": "2022-03-01T13:59:06.554Z"
   },
   {
    "duration": 220,
    "start_time": "2022-03-01T13:59:06.810Z"
   },
   {
    "duration": 317,
    "start_time": "2022-03-01T13:59:07.032Z"
   },
   {
    "duration": 229,
    "start_time": "2022-03-01T13:59:07.351Z"
   },
   {
    "duration": 343,
    "start_time": "2022-03-01T13:59:07.582Z"
   },
   {
    "duration": 289,
    "start_time": "2022-03-01T13:59:07.927Z"
   },
   {
    "duration": 5,
    "start_time": "2022-03-01T13:59:08.218Z"
   },
   {
    "duration": 289,
    "start_time": "2022-03-01T13:59:08.224Z"
   },
   {
    "duration": 300,
    "start_time": "2022-03-01T13:59:08.515Z"
   },
   {
    "duration": 4,
    "start_time": "2022-03-01T13:59:08.817Z"
   },
   {
    "duration": 131,
    "start_time": "2022-03-01T13:59:08.822Z"
   },
   {
    "duration": 27,
    "start_time": "2022-03-01T13:59:08.955Z"
   },
   {
    "duration": 12,
    "start_time": "2022-03-01T13:59:08.984Z"
   },
   {
    "duration": 11,
    "start_time": "2022-03-01T13:59:08.998Z"
   },
   {
    "duration": 21,
    "start_time": "2022-03-01T13:59:09.011Z"
   },
   {
    "duration": 44,
    "start_time": "2022-03-01T13:59:09.034Z"
   },
   {
    "duration": 232,
    "start_time": "2022-03-01T13:59:45.545Z"
   },
   {
    "duration": 311,
    "start_time": "2022-03-01T14:00:03.609Z"
   },
   {
    "duration": 240,
    "start_time": "2022-03-01T14:00:33.460Z"
   },
   {
    "duration": 606,
    "start_time": "2022-03-01T14:00:53.368Z"
   },
   {
    "duration": 239,
    "start_time": "2022-03-01T14:01:58.846Z"
   },
   {
    "duration": 236,
    "start_time": "2022-03-01T14:04:11.867Z"
   },
   {
    "duration": 232,
    "start_time": "2022-03-01T14:04:17.687Z"
   },
   {
    "duration": 238,
    "start_time": "2022-03-01T14:04:28.583Z"
   },
   {
    "duration": 448,
    "start_time": "2022-03-01T14:04:44.501Z"
   },
   {
    "duration": 524,
    "start_time": "2022-03-01T14:05:08.441Z"
   },
   {
    "duration": 315,
    "start_time": "2022-03-01T14:05:25.920Z"
   },
   {
    "duration": 403,
    "start_time": "2022-03-01T14:05:38.708Z"
   },
   {
    "duration": 381,
    "start_time": "2022-03-01T14:05:46.088Z"
   },
   {
    "duration": 391,
    "start_time": "2022-03-01T14:06:20.260Z"
   },
   {
    "duration": 455,
    "start_time": "2022-03-01T14:06:46.712Z"
   },
   {
    "duration": 221,
    "start_time": "2022-03-01T14:07:07.389Z"
   },
   {
    "duration": 357,
    "start_time": "2022-03-01T14:07:21.182Z"
   },
   {
    "duration": 355,
    "start_time": "2022-03-01T14:07:49.024Z"
   },
   {
    "duration": 335,
    "start_time": "2022-03-01T14:08:55.899Z"
   },
   {
    "duration": 321,
    "start_time": "2022-03-01T14:09:26.619Z"
   },
   {
    "duration": 371,
    "start_time": "2022-03-01T14:09:40.667Z"
   },
   {
    "duration": 510,
    "start_time": "2022-03-01T14:09:58.358Z"
   },
   {
    "duration": 388,
    "start_time": "2022-03-01T14:11:04.584Z"
   },
   {
    "duration": 376,
    "start_time": "2022-03-01T14:11:17.861Z"
   },
   {
    "duration": 474,
    "start_time": "2022-03-01T14:17:21.666Z"
   },
   {
    "duration": 561,
    "start_time": "2022-03-01T14:19:49.865Z"
   },
   {
    "duration": 468,
    "start_time": "2022-03-01T14:19:52.891Z"
   },
   {
    "duration": 493,
    "start_time": "2022-03-01T14:19:57.840Z"
   },
   {
    "duration": 425,
    "start_time": "2022-03-01T14:21:46.788Z"
   },
   {
    "duration": 452,
    "start_time": "2022-03-01T14:22:06.743Z"
   },
   {
    "duration": 432,
    "start_time": "2022-03-01T14:23:14.138Z"
   },
   {
    "duration": 476,
    "start_time": "2022-03-01T14:24:31.673Z"
   },
   {
    "duration": 461,
    "start_time": "2022-03-01T14:24:56.597Z"
   },
   {
    "duration": 88,
    "start_time": "2022-03-01T14:48:05.693Z"
   },
   {
    "duration": 16,
    "start_time": "2022-03-01T14:48:23.528Z"
   },
   {
    "duration": 15,
    "start_time": "2022-03-01T14:48:45.231Z"
   },
   {
    "duration": 15,
    "start_time": "2022-03-01T14:50:36.472Z"
   },
   {
    "duration": 14,
    "start_time": "2022-03-01T14:50:48.106Z"
   },
   {
    "duration": 15,
    "start_time": "2022-03-01T14:51:40.375Z"
   },
   {
    "duration": 14,
    "start_time": "2022-03-01T14:51:51.125Z"
   },
   {
    "duration": 215,
    "start_time": "2022-03-01T17:55:33.241Z"
   },
   {
    "duration": 992,
    "start_time": "2022-03-01T17:55:42.919Z"
   },
   {
    "duration": 30,
    "start_time": "2022-03-01T17:55:43.914Z"
   },
   {
    "duration": 53,
    "start_time": "2022-03-01T17:55:43.946Z"
   },
   {
    "duration": 31,
    "start_time": "2022-03-01T17:55:44.001Z"
   },
   {
    "duration": 27,
    "start_time": "2022-03-01T17:55:44.033Z"
   },
   {
    "duration": 13,
    "start_time": "2022-03-01T17:55:44.061Z"
   },
   {
    "duration": 181,
    "start_time": "2022-03-01T17:55:44.075Z"
   },
   {
    "duration": 152,
    "start_time": "2022-03-01T17:55:44.259Z"
   },
   {
    "duration": 9,
    "start_time": "2022-03-01T17:55:44.413Z"
   },
   {
    "duration": 360,
    "start_time": "2022-03-01T17:55:44.438Z"
   },
   {
    "duration": 357,
    "start_time": "2022-03-01T17:55:44.799Z"
   },
   {
    "duration": 449,
    "start_time": "2022-03-01T17:55:45.157Z"
   },
   {
    "duration": 353,
    "start_time": "2022-03-01T17:55:45.608Z"
   },
   {
    "duration": 424,
    "start_time": "2022-03-01T17:55:45.963Z"
   },
   {
    "duration": 391,
    "start_time": "2022-03-01T17:55:46.389Z"
   },
   {
    "duration": 5,
    "start_time": "2022-03-01T17:55:46.783Z"
   },
   {
    "duration": 425,
    "start_time": "2022-03-01T17:55:46.790Z"
   },
   {
    "duration": 450,
    "start_time": "2022-03-01T17:55:47.217Z"
   },
   {
    "duration": 4,
    "start_time": "2022-03-01T17:55:47.668Z"
   },
   {
    "duration": 122,
    "start_time": "2022-03-01T17:55:47.673Z"
   },
   {
    "duration": 21,
    "start_time": "2022-03-01T17:55:47.796Z"
   },
   {
    "duration": 27,
    "start_time": "2022-03-01T17:55:47.819Z"
   },
   {
    "duration": 32,
    "start_time": "2022-03-01T17:55:47.849Z"
   },
   {
    "duration": 38,
    "start_time": "2022-03-01T17:55:47.882Z"
   },
   {
    "duration": 34,
    "start_time": "2022-03-01T17:55:47.921Z"
   },
   {
    "duration": 19,
    "start_time": "2022-03-01T17:57:50.642Z"
   },
   {
    "duration": 19,
    "start_time": "2022-03-01T17:57:58.134Z"
   },
   {
    "duration": 10,
    "start_time": "2022-03-01T18:01:45.334Z"
   },
   {
    "duration": 11,
    "start_time": "2022-03-01T18:01:56.186Z"
   },
   {
    "duration": 59,
    "start_time": "2022-03-01T18:03:10.772Z"
   },
   {
    "duration": 15,
    "start_time": "2022-03-01T18:03:20.315Z"
   },
   {
    "duration": 20,
    "start_time": "2022-03-01T18:05:41.663Z"
   },
   {
    "duration": 65,
    "start_time": "2022-03-01T18:06:06.198Z"
   },
   {
    "duration": 23,
    "start_time": "2022-03-01T18:06:25.168Z"
   },
   {
    "duration": 22,
    "start_time": "2022-03-01T18:11:10.842Z"
   },
   {
    "duration": 6,
    "start_time": "2022-03-01T18:11:36.082Z"
   },
   {
    "duration": 20,
    "start_time": "2022-03-01T18:11:54.097Z"
   },
   {
    "duration": 1064,
    "start_time": "2022-03-01T19:25:51.734Z"
   },
   {
    "duration": 38,
    "start_time": "2022-03-01T19:25:52.800Z"
   },
   {
    "duration": 39,
    "start_time": "2022-03-01T19:25:52.840Z"
   },
   {
    "duration": 25,
    "start_time": "2022-03-01T19:25:52.881Z"
   },
   {
    "duration": 15,
    "start_time": "2022-03-01T19:25:52.908Z"
   },
   {
    "duration": 15,
    "start_time": "2022-03-01T19:25:52.938Z"
   },
   {
    "duration": 202,
    "start_time": "2022-03-01T19:25:52.955Z"
   },
   {
    "duration": 164,
    "start_time": "2022-03-01T19:25:53.160Z"
   },
   {
    "duration": 13,
    "start_time": "2022-03-01T19:25:53.338Z"
   },
   {
    "duration": 400,
    "start_time": "2022-03-01T19:25:53.353Z"
   },
   {
    "duration": 343,
    "start_time": "2022-03-01T19:25:53.755Z"
   },
   {
    "duration": 441,
    "start_time": "2022-03-01T19:25:54.100Z"
   },
   {
    "duration": 357,
    "start_time": "2022-03-01T19:25:54.543Z"
   },
   {
    "duration": 486,
    "start_time": "2022-03-01T19:25:54.902Z"
   },
   {
    "duration": 391,
    "start_time": "2022-03-01T19:25:55.389Z"
   },
   {
    "duration": 4,
    "start_time": "2022-03-01T19:25:55.782Z"
   },
   {
    "duration": 414,
    "start_time": "2022-03-01T19:25:55.788Z"
   },
   {
    "duration": 422,
    "start_time": "2022-03-01T19:25:56.204Z"
   },
   {
    "duration": 4,
    "start_time": "2022-03-01T19:25:56.627Z"
   },
   {
    "duration": 119,
    "start_time": "2022-03-01T19:25:56.637Z"
   },
   {
    "duration": 20,
    "start_time": "2022-03-01T19:25:56.758Z"
   },
   {
    "duration": 14,
    "start_time": "2022-03-01T19:25:56.779Z"
   },
   {
    "duration": 9,
    "start_time": "2022-03-01T19:25:56.796Z"
   },
   {
    "duration": 47,
    "start_time": "2022-03-01T19:25:56.807Z"
   },
   {
    "duration": 19,
    "start_time": "2022-03-01T19:25:56.856Z"
   },
   {
    "duration": 88,
    "start_time": "2022-03-01T19:25:56.877Z"
   },
   {
    "duration": 15,
    "start_time": "2022-03-01T19:27:50.522Z"
   },
   {
    "duration": 21,
    "start_time": "2022-03-01T19:28:40.952Z"
   },
   {
    "duration": 18,
    "start_time": "2022-03-01T19:29:26.679Z"
   },
   {
    "duration": 950,
    "start_time": "2022-03-02T05:21:33.352Z"
   },
   {
    "duration": 33,
    "start_time": "2022-03-02T05:21:34.304Z"
   },
   {
    "duration": 42,
    "start_time": "2022-03-02T05:21:34.339Z"
   },
   {
    "duration": 24,
    "start_time": "2022-03-02T05:21:34.383Z"
   },
   {
    "duration": 11,
    "start_time": "2022-03-02T05:21:34.408Z"
   },
   {
    "duration": 24,
    "start_time": "2022-03-02T05:21:34.420Z"
   },
   {
    "duration": 196,
    "start_time": "2022-03-02T05:21:34.445Z"
   },
   {
    "duration": 158,
    "start_time": "2022-03-02T05:21:34.643Z"
   },
   {
    "duration": 9,
    "start_time": "2022-03-02T05:21:34.803Z"
   },
   {
    "duration": 356,
    "start_time": "2022-03-02T05:21:34.813Z"
   },
   {
    "duration": 313,
    "start_time": "2022-03-02T05:21:35.170Z"
   },
   {
    "duration": 399,
    "start_time": "2022-03-02T05:21:35.485Z"
   },
   {
    "duration": 325,
    "start_time": "2022-03-02T05:21:35.885Z"
   },
   {
    "duration": 462,
    "start_time": "2022-03-02T05:21:36.211Z"
   },
   {
    "duration": 389,
    "start_time": "2022-03-02T05:21:36.675Z"
   },
   {
    "duration": 4,
    "start_time": "2022-03-02T05:21:37.065Z"
   },
   {
    "duration": 390,
    "start_time": "2022-03-02T05:21:37.071Z"
   },
   {
    "duration": 409,
    "start_time": "2022-03-02T05:21:37.463Z"
   },
   {
    "duration": 4,
    "start_time": "2022-03-02T05:21:37.873Z"
   },
   {
    "duration": 115,
    "start_time": "2022-03-02T05:21:37.879Z"
   },
   {
    "duration": 21,
    "start_time": "2022-03-02T05:21:37.995Z"
   },
   {
    "duration": 26,
    "start_time": "2022-03-02T05:21:38.017Z"
   },
   {
    "duration": 8,
    "start_time": "2022-03-02T05:21:38.046Z"
   },
   {
    "duration": 20,
    "start_time": "2022-03-02T05:21:38.056Z"
   },
   {
    "duration": 20,
    "start_time": "2022-03-02T05:21:38.077Z"
   },
   {
    "duration": 3,
    "start_time": "2022-03-02T05:23:35.456Z"
   },
   {
    "duration": 3,
    "start_time": "2022-03-02T05:23:38.180Z"
   },
   {
    "duration": 3,
    "start_time": "2022-03-02T05:23:42.528Z"
   },
   {
    "duration": 3,
    "start_time": "2022-03-02T05:23:47.378Z"
   },
   {
    "duration": 3,
    "start_time": "2022-03-02T05:23:53.551Z"
   },
   {
    "duration": 3,
    "start_time": "2022-03-02T05:25:26.912Z"
   },
   {
    "duration": 3,
    "start_time": "2022-03-02T05:25:39.051Z"
   },
   {
    "duration": 3,
    "start_time": "2022-03-02T05:25:42.152Z"
   },
   {
    "duration": 3,
    "start_time": "2022-03-02T05:25:51.200Z"
   },
   {
    "duration": 3,
    "start_time": "2022-03-02T05:26:22.174Z"
   },
   {
    "duration": 232,
    "start_time": "2022-03-02T15:48:22.114Z"
   },
   {
    "duration": 1115,
    "start_time": "2022-03-02T15:48:28.734Z"
   },
   {
    "duration": 31,
    "start_time": "2022-03-02T15:48:29.851Z"
   },
   {
    "duration": 3,
    "start_time": "2022-03-02T15:48:29.885Z"
   },
   {
    "duration": 39,
    "start_time": "2022-03-02T15:48:29.890Z"
   },
   {
    "duration": 38,
    "start_time": "2022-03-02T15:48:29.930Z"
   },
   {
    "duration": 12,
    "start_time": "2022-03-02T15:48:29.969Z"
   },
   {
    "duration": 12,
    "start_time": "2022-03-02T15:48:29.982Z"
   },
   {
    "duration": 229,
    "start_time": "2022-03-02T15:48:29.996Z"
   },
   {
    "duration": 169,
    "start_time": "2022-03-02T15:48:30.227Z"
   },
   {
    "duration": 10,
    "start_time": "2022-03-02T15:48:30.397Z"
   },
   {
    "duration": 389,
    "start_time": "2022-03-02T15:48:30.408Z"
   },
   {
    "duration": 336,
    "start_time": "2022-03-02T15:48:30.799Z"
   },
   {
    "duration": 500,
    "start_time": "2022-03-02T15:48:31.137Z"
   },
   {
    "duration": 359,
    "start_time": "2022-03-02T15:48:31.639Z"
   },
   {
    "duration": 433,
    "start_time": "2022-03-02T15:48:31.999Z"
   },
   {
    "duration": 544,
    "start_time": "2022-03-02T15:48:32.434Z"
   },
   {
    "duration": 4,
    "start_time": "2022-03-02T15:48:32.980Z"
   },
   {
    "duration": 414,
    "start_time": "2022-03-02T15:48:32.985Z"
   },
   {
    "duration": 414,
    "start_time": "2022-03-02T15:48:33.401Z"
   },
   {
    "duration": 4,
    "start_time": "2022-03-02T15:48:33.817Z"
   },
   {
    "duration": 121,
    "start_time": "2022-03-02T15:48:33.822Z"
   },
   {
    "duration": 34,
    "start_time": "2022-03-02T15:48:33.944Z"
   },
   {
    "duration": 15,
    "start_time": "2022-03-02T15:48:33.981Z"
   },
   {
    "duration": 9,
    "start_time": "2022-03-02T15:48:33.997Z"
   },
   {
    "duration": 21,
    "start_time": "2022-03-02T15:48:34.008Z"
   },
   {
    "duration": 50,
    "start_time": "2022-03-02T15:48:34.031Z"
   },
   {
    "duration": 31,
    "start_time": "2022-03-02T15:52:51.642Z"
   },
   {
    "duration": 27,
    "start_time": "2022-03-02T15:52:56.882Z"
   },
   {
    "duration": 30,
    "start_time": "2022-03-02T15:54:43.264Z"
   },
   {
    "duration": 26,
    "start_time": "2022-03-02T15:55:04.076Z"
   },
   {
    "duration": 37,
    "start_time": "2022-03-02T15:55:46.112Z"
   },
   {
    "duration": 38,
    "start_time": "2022-03-02T15:56:00.438Z"
   },
   {
    "duration": 39,
    "start_time": "2022-03-02T15:56:12.878Z"
   },
   {
    "duration": 31,
    "start_time": "2022-03-02T15:56:47.664Z"
   },
   {
    "duration": 7,
    "start_time": "2022-03-02T16:11:51.276Z"
   },
   {
    "duration": 6,
    "start_time": "2022-03-02T16:12:02.477Z"
   },
   {
    "duration": 8,
    "start_time": "2022-03-02T16:14:32.243Z"
   },
   {
    "duration": 6,
    "start_time": "2022-03-02T16:16:20.713Z"
   },
   {
    "duration": 8,
    "start_time": "2022-03-02T16:16:49.963Z"
   },
   {
    "duration": 10,
    "start_time": "2022-03-02T16:16:58.763Z"
   },
   {
    "duration": 6,
    "start_time": "2022-03-02T16:17:15.633Z"
   },
   {
    "duration": 4,
    "start_time": "2022-03-02T16:17:22.932Z"
   },
   {
    "duration": 5,
    "start_time": "2022-03-02T16:17:29.224Z"
   },
   {
    "duration": 5,
    "start_time": "2022-03-02T16:17:39.571Z"
   },
   {
    "duration": 8,
    "start_time": "2022-03-02T16:17:52.670Z"
   },
   {
    "duration": 8,
    "start_time": "2022-03-02T16:19:09.237Z"
   },
   {
    "duration": 7,
    "start_time": "2022-03-02T16:19:23.566Z"
   },
   {
    "duration": 11,
    "start_time": "2022-03-02T16:20:25.109Z"
   },
   {
    "duration": 11,
    "start_time": "2022-03-02T16:20:50.963Z"
   },
   {
    "duration": 13,
    "start_time": "2022-03-02T16:21:33.505Z"
   },
   {
    "duration": 325,
    "start_time": "2022-03-02T16:22:09.647Z"
   },
   {
    "duration": 5,
    "start_time": "2022-03-02T16:22:12.095Z"
   },
   {
    "duration": 7,
    "start_time": "2022-03-02T16:22:15.852Z"
   },
   {
    "duration": 15,
    "start_time": "2022-03-02T16:24:09.075Z"
   },
   {
    "duration": 17,
    "start_time": "2022-03-02T16:24:25.366Z"
   },
   {
    "duration": 88,
    "start_time": "2022-03-02T16:24:58.129Z"
   },
   {
    "duration": 17,
    "start_time": "2022-03-02T16:25:16.843Z"
   },
   {
    "duration": 11,
    "start_time": "2022-03-02T16:25:26.924Z"
   },
   {
    "duration": 16,
    "start_time": "2022-03-02T16:28:18.309Z"
   },
   {
    "duration": 209,
    "start_time": "2022-03-02T16:35:07.784Z"
   },
   {
    "duration": 235,
    "start_time": "2022-03-02T16:35:24.054Z"
   },
   {
    "duration": 10,
    "start_time": "2022-03-02T16:35:33.663Z"
   },
   {
    "duration": 10,
    "start_time": "2022-03-02T16:35:39.561Z"
   },
   {
    "duration": 92,
    "start_time": "2022-03-02T16:36:28.384Z"
   },
   {
    "duration": 10,
    "start_time": "2022-03-02T16:36:35.509Z"
   },
   {
    "duration": 9,
    "start_time": "2022-03-02T16:36:44.056Z"
   },
   {
    "duration": 10,
    "start_time": "2022-03-02T16:40:20.180Z"
   },
   {
    "duration": 12,
    "start_time": "2022-03-02T16:40:31.321Z"
   },
   {
    "duration": 12,
    "start_time": "2022-03-02T16:40:55.708Z"
   },
   {
    "duration": 13,
    "start_time": "2022-03-02T16:41:35.553Z"
   },
   {
    "duration": 12,
    "start_time": "2022-03-02T16:42:33.674Z"
   },
   {
    "duration": 13,
    "start_time": "2022-03-02T16:42:43.910Z"
   },
   {
    "duration": 190,
    "start_time": "2022-03-02T16:42:49.829Z"
   },
   {
    "duration": 14,
    "start_time": "2022-03-02T16:46:26.304Z"
   },
   {
    "duration": 16,
    "start_time": "2022-03-02T16:46:34.900Z"
   },
   {
    "duration": 12,
    "start_time": "2022-03-02T16:47:33.444Z"
   },
   {
    "duration": 12,
    "start_time": "2022-03-02T16:47:41.929Z"
   },
   {
    "duration": 14,
    "start_time": "2022-03-02T16:47:53.085Z"
   },
   {
    "duration": 23,
    "start_time": "2022-03-02T16:54:28.772Z"
   },
   {
    "duration": 15,
    "start_time": "2022-03-02T16:55:22.145Z"
   },
   {
    "duration": 21,
    "start_time": "2022-03-02T16:55:52.902Z"
   },
   {
    "duration": 14,
    "start_time": "2022-03-02T16:56:18.349Z"
   },
   {
    "duration": 16,
    "start_time": "2022-03-02T16:56:30.545Z"
   },
   {
    "duration": 13,
    "start_time": "2022-03-02T16:56:38.489Z"
   },
   {
    "duration": 1057,
    "start_time": "2022-03-02T16:56:50.691Z"
   },
   {
    "duration": 34,
    "start_time": "2022-03-02T16:56:51.750Z"
   },
   {
    "duration": 4,
    "start_time": "2022-03-02T16:56:51.786Z"
   },
   {
    "duration": 38,
    "start_time": "2022-03-02T16:56:51.792Z"
   },
   {
    "duration": 43,
    "start_time": "2022-03-02T16:56:51.832Z"
   },
   {
    "duration": 12,
    "start_time": "2022-03-02T16:56:51.880Z"
   },
   {
    "duration": 13,
    "start_time": "2022-03-02T16:56:51.894Z"
   },
   {
    "duration": 11,
    "start_time": "2022-03-02T16:56:51.909Z"
   },
   {
    "duration": 5,
    "start_time": "2022-03-02T16:56:51.922Z"
   },
   {
    "duration": 39,
    "start_time": "2022-03-02T16:56:51.929Z"
   },
   {
    "duration": 22,
    "start_time": "2022-03-02T16:56:51.971Z"
   },
   {
    "duration": 216,
    "start_time": "2022-03-02T16:56:51.995Z"
   },
   {
    "duration": 172,
    "start_time": "2022-03-02T16:56:52.213Z"
   },
   {
    "duration": 10,
    "start_time": "2022-03-02T16:56:52.387Z"
   },
   {
    "duration": 393,
    "start_time": "2022-03-02T16:56:52.399Z"
   },
   {
    "duration": 342,
    "start_time": "2022-03-02T16:56:52.793Z"
   },
   {
    "duration": 482,
    "start_time": "2022-03-02T16:56:53.137Z"
   },
   {
    "duration": 363,
    "start_time": "2022-03-02T16:56:53.621Z"
   },
   {
    "duration": 423,
    "start_time": "2022-03-02T16:56:53.986Z"
   },
   {
    "duration": 408,
    "start_time": "2022-03-02T16:56:54.411Z"
   },
   {
    "duration": 3,
    "start_time": "2022-03-02T16:56:54.821Z"
   },
   {
    "duration": 432,
    "start_time": "2022-03-02T16:56:54.826Z"
   },
   {
    "duration": 448,
    "start_time": "2022-03-02T16:56:55.261Z"
   },
   {
    "duration": 5,
    "start_time": "2022-03-02T16:56:55.711Z"
   },
   {
    "duration": 116,
    "start_time": "2022-03-02T16:56:55.717Z"
   },
   {
    "duration": 35,
    "start_time": "2022-03-02T16:56:55.835Z"
   },
   {
    "duration": 16,
    "start_time": "2022-03-02T16:56:55.872Z"
   },
   {
    "duration": 9,
    "start_time": "2022-03-02T16:56:55.889Z"
   },
   {
    "duration": 22,
    "start_time": "2022-03-02T16:56:55.899Z"
   },
   {
    "duration": 50,
    "start_time": "2022-03-02T16:56:55.923Z"
   },
   {
    "duration": 10,
    "start_time": "2022-03-02T17:06:07.557Z"
   },
   {
    "duration": 10,
    "start_time": "2022-03-02T17:06:23.553Z"
   },
   {
    "duration": 479,
    "start_time": "2022-03-02T17:07:10.873Z"
   },
   {
    "duration": 169,
    "start_time": "2022-03-02T17:07:16.608Z"
   },
   {
    "duration": 178,
    "start_time": "2022-03-02T17:07:19.737Z"
   },
   {
    "duration": 1307,
    "start_time": "2022-03-02T17:07:38.392Z"
   },
   {
    "duration": 42,
    "start_time": "2022-03-02T17:07:39.701Z"
   },
   {
    "duration": 4,
    "start_time": "2022-03-02T17:07:39.745Z"
   },
   {
    "duration": 38,
    "start_time": "2022-03-02T17:07:39.763Z"
   },
   {
    "duration": 26,
    "start_time": "2022-03-02T17:07:39.802Z"
   },
   {
    "duration": 32,
    "start_time": "2022-03-02T17:07:39.830Z"
   },
   {
    "duration": 19,
    "start_time": "2022-03-02T17:07:39.865Z"
   },
   {
    "duration": 8,
    "start_time": "2022-03-02T17:07:39.887Z"
   },
   {
    "duration": 6,
    "start_time": "2022-03-02T17:07:39.898Z"
   },
   {
    "duration": 224,
    "start_time": "2022-03-02T17:07:39.906Z"
   },
   {
    "duration": 16,
    "start_time": "2022-03-02T17:07:40.131Z"
   },
   {
    "duration": 308,
    "start_time": "2022-03-02T17:07:40.149Z"
   },
   {
    "duration": 188,
    "start_time": "2022-03-02T17:07:40.459Z"
   },
   {
    "duration": 18,
    "start_time": "2022-03-02T17:07:40.649Z"
   },
   {
    "duration": 405,
    "start_time": "2022-03-02T17:07:40.669Z"
   },
   {
    "duration": 366,
    "start_time": "2022-03-02T17:07:41.076Z"
   },
   {
    "duration": 494,
    "start_time": "2022-03-02T17:07:41.444Z"
   },
   {
    "duration": 363,
    "start_time": "2022-03-02T17:07:41.940Z"
   },
   {
    "duration": 460,
    "start_time": "2022-03-02T17:07:42.305Z"
   },
   {
    "duration": 443,
    "start_time": "2022-03-02T17:07:42.766Z"
   },
   {
    "duration": 4,
    "start_time": "2022-03-02T17:07:43.212Z"
   },
   {
    "duration": 435,
    "start_time": "2022-03-02T17:07:43.218Z"
   },
   {
    "duration": 448,
    "start_time": "2022-03-02T17:07:43.664Z"
   },
   {
    "duration": 4,
    "start_time": "2022-03-02T17:07:44.114Z"
   },
   {
    "duration": 126,
    "start_time": "2022-03-02T17:07:44.120Z"
   },
   {
    "duration": 34,
    "start_time": "2022-03-02T17:07:44.248Z"
   },
   {
    "duration": 16,
    "start_time": "2022-03-02T17:07:44.284Z"
   },
   {
    "duration": 9,
    "start_time": "2022-03-02T17:07:44.302Z"
   },
   {
    "duration": 23,
    "start_time": "2022-03-02T17:07:44.313Z"
   },
   {
    "duration": 21,
    "start_time": "2022-03-02T17:07:44.363Z"
   },
   {
    "duration": 648,
    "start_time": "2022-03-02T17:08:30.167Z"
   },
   {
    "duration": 406,
    "start_time": "2022-03-02T17:09:00.094Z"
   },
   {
    "duration": 193,
    "start_time": "2022-03-02T17:09:04.318Z"
   },
   {
    "duration": 186,
    "start_time": "2022-03-02T17:09:13.977Z"
   },
   {
    "duration": 174,
    "start_time": "2022-03-02T17:09:41.944Z"
   },
   {
    "duration": 13,
    "start_time": "2022-03-02T17:10:51.219Z"
   },
   {
    "duration": 62,
    "start_time": "2022-03-02T17:12:38.916Z"
   },
   {
    "duration": 14,
    "start_time": "2022-03-02T17:12:51.995Z"
   },
   {
    "duration": 10,
    "start_time": "2022-03-02T17:13:01.226Z"
   },
   {
    "duration": 14,
    "start_time": "2022-03-02T17:15:24.463Z"
   },
   {
    "duration": 16,
    "start_time": "2022-03-02T17:21:41.071Z"
   },
   {
    "duration": 24,
    "start_time": "2022-03-02T17:21:48.997Z"
   },
   {
    "duration": 472,
    "start_time": "2022-03-02T17:26:15.844Z"
   },
   {
    "duration": 550,
    "start_time": "2022-03-02T17:26:52.670Z"
   },
   {
    "duration": 461,
    "start_time": "2022-03-02T17:29:29.952Z"
   },
   {
    "duration": 22,
    "start_time": "2022-03-02T17:36:25.623Z"
   },
   {
    "duration": 336,
    "start_time": "2022-03-02T17:39:52.366Z"
   },
   {
    "duration": 16,
    "start_time": "2022-03-02T17:40:06.752Z"
   },
   {
    "duration": 17,
    "start_time": "2022-03-02T17:40:31.841Z"
   },
   {
    "duration": 22,
    "start_time": "2022-03-02T17:41:48.541Z"
   },
   {
    "duration": 12,
    "start_time": "2022-03-02T17:42:05.417Z"
   },
   {
    "duration": 6,
    "start_time": "2022-03-02T17:45:25.510Z"
   },
   {
    "duration": 7,
    "start_time": "2022-03-02T17:46:29.254Z"
   },
   {
    "duration": 7,
    "start_time": "2022-03-02T17:47:38.709Z"
   },
   {
    "duration": 4976,
    "start_time": "2022-03-02T17:47:48.429Z"
   },
   {
    "duration": 3,
    "start_time": "2022-03-02T17:47:54.798Z"
   },
   {
    "duration": 3,
    "start_time": "2022-03-02T17:47:59.523Z"
   },
   {
    "duration": 5,
    "start_time": "2022-03-02T17:48:12.437Z"
   },
   {
    "duration": 4,
    "start_time": "2022-03-02T17:48:22.697Z"
   },
   {
    "duration": 4,
    "start_time": "2022-03-02T17:48:35.995Z"
   },
   {
    "duration": 7,
    "start_time": "2022-03-02T17:49:09.565Z"
   },
   {
    "duration": 9,
    "start_time": "2022-03-02T17:49:33.011Z"
   },
   {
    "duration": 5109,
    "start_time": "2022-03-02T17:49:46.452Z"
   },
   {
    "duration": 9,
    "start_time": "2022-03-02T17:50:11.823Z"
   },
   {
    "duration": 9,
    "start_time": "2022-03-02T17:50:33.086Z"
   },
   {
    "duration": 9,
    "start_time": "2022-03-02T17:58:22.169Z"
   },
   {
    "duration": 12,
    "start_time": "2022-03-02T17:58:26.724Z"
   },
   {
    "duration": 12,
    "start_time": "2022-03-02T17:59:32.144Z"
   },
   {
    "duration": 1102,
    "start_time": "2022-03-03T11:37:35.890Z"
   },
   {
    "duration": 34,
    "start_time": "2022-03-03T11:37:36.994Z"
   },
   {
    "duration": 3,
    "start_time": "2022-03-03T11:37:37.030Z"
   },
   {
    "duration": 48,
    "start_time": "2022-03-03T11:37:37.035Z"
   },
   {
    "duration": 38,
    "start_time": "2022-03-03T11:37:37.085Z"
   },
   {
    "duration": 34,
    "start_time": "2022-03-03T11:37:37.125Z"
   },
   {
    "duration": 24,
    "start_time": "2022-03-03T11:37:37.162Z"
   },
   {
    "duration": 23,
    "start_time": "2022-03-03T11:37:37.190Z"
   },
   {
    "duration": 20,
    "start_time": "2022-03-03T11:37:37.216Z"
   },
   {
    "duration": 240,
    "start_time": "2022-03-03T11:37:37.238Z"
   },
   {
    "duration": 181,
    "start_time": "2022-03-03T11:37:37.480Z"
   },
   {
    "duration": 11,
    "start_time": "2022-03-03T11:37:37.663Z"
   },
   {
    "duration": 419,
    "start_time": "2022-03-03T11:37:37.675Z"
   },
   {
    "duration": 384,
    "start_time": "2022-03-03T11:37:38.096Z"
   },
   {
    "duration": 519,
    "start_time": "2022-03-03T11:37:38.482Z"
   },
   {
    "duration": 394,
    "start_time": "2022-03-03T11:37:39.007Z"
   },
   {
    "duration": 515,
    "start_time": "2022-03-03T11:37:39.405Z"
   },
   {
    "duration": 452,
    "start_time": "2022-03-03T11:37:39.922Z"
   },
   {
    "duration": 4,
    "start_time": "2022-03-03T11:37:40.376Z"
   },
   {
    "duration": 497,
    "start_time": "2022-03-03T11:37:40.382Z"
   },
   {
    "duration": 516,
    "start_time": "2022-03-03T11:37:40.881Z"
   },
   {
    "duration": 5,
    "start_time": "2022-03-03T11:37:41.399Z"
   },
   {
    "duration": 150,
    "start_time": "2022-03-03T11:37:41.408Z"
   },
   {
    "duration": 23,
    "start_time": "2022-03-03T11:37:41.560Z"
   },
   {
    "duration": 35,
    "start_time": "2022-03-03T11:37:41.584Z"
   },
   {
    "duration": 11,
    "start_time": "2022-03-03T11:37:41.621Z"
   },
   {
    "duration": 24,
    "start_time": "2022-03-03T11:37:41.633Z"
   },
   {
    "duration": 52,
    "start_time": "2022-03-03T11:37:41.659Z"
   },
   {
    "duration": 12,
    "start_time": "2022-03-03T11:38:52.671Z"
   },
   {
    "duration": 14,
    "start_time": "2022-03-03T11:39:25.149Z"
   },
   {
    "duration": 14,
    "start_time": "2022-03-03T11:40:54.996Z"
   },
   {
    "duration": 13,
    "start_time": "2022-03-03T11:41:01.901Z"
   },
   {
    "duration": 12,
    "start_time": "2022-03-03T11:41:35.121Z"
   },
   {
    "duration": 12,
    "start_time": "2022-03-03T11:41:50.382Z"
   },
   {
    "duration": 1324,
    "start_time": "2022-03-04T03:28:55.349Z"
   },
   {
    "duration": 62,
    "start_time": "2022-03-04T03:28:56.677Z"
   },
   {
    "duration": 4,
    "start_time": "2022-03-04T03:28:56.742Z"
   },
   {
    "duration": 118,
    "start_time": "2022-03-04T03:28:56.749Z"
   },
   {
    "duration": 45,
    "start_time": "2022-03-04T03:28:56.869Z"
   },
   {
    "duration": 32,
    "start_time": "2022-03-04T03:28:56.917Z"
   },
   {
    "duration": 21,
    "start_time": "2022-03-04T03:28:56.952Z"
   },
   {
    "duration": 60,
    "start_time": "2022-03-04T03:28:56.979Z"
   },
   {
    "duration": 18,
    "start_time": "2022-03-04T03:28:57.042Z"
   },
   {
    "duration": 333,
    "start_time": "2022-03-04T03:28:57.062Z"
   },
   {
    "duration": 289,
    "start_time": "2022-03-04T03:28:57.397Z"
   },
   {
    "duration": 13,
    "start_time": "2022-03-04T03:28:57.689Z"
   },
   {
    "duration": 608,
    "start_time": "2022-03-04T03:28:57.705Z"
   },
   {
    "duration": 542,
    "start_time": "2022-03-04T03:28:58.315Z"
   },
   {
    "duration": 631,
    "start_time": "2022-03-04T03:28:58.859Z"
   },
   {
    "duration": 585,
    "start_time": "2022-03-04T03:28:59.492Z"
   },
   {
    "duration": 683,
    "start_time": "2022-03-04T03:29:00.080Z"
   },
   {
    "duration": 588,
    "start_time": "2022-03-04T03:29:00.766Z"
   },
   {
    "duration": 5,
    "start_time": "2022-03-04T03:29:01.356Z"
   },
   {
    "duration": 642,
    "start_time": "2022-03-04T03:29:01.363Z"
   },
   {
    "duration": 665,
    "start_time": "2022-03-04T03:29:02.008Z"
   },
   {
    "duration": 7,
    "start_time": "2022-03-04T03:29:02.676Z"
   },
   {
    "duration": 228,
    "start_time": "2022-03-04T03:29:02.690Z"
   },
   {
    "duration": 33,
    "start_time": "2022-03-04T03:29:02.921Z"
   },
   {
    "duration": 24,
    "start_time": "2022-03-04T03:29:02.957Z"
   },
   {
    "duration": 50,
    "start_time": "2022-03-04T03:29:02.984Z"
   },
   {
    "duration": 33,
    "start_time": "2022-03-04T03:29:03.037Z"
   },
   {
    "duration": 59,
    "start_time": "2022-03-04T03:29:03.073Z"
   }
  ],
  "kernelspec": {
   "display_name": "Python 3",
   "language": "python",
   "name": "python3"
  },
  "language_info": {
   "codemirror_mode": {
    "name": "ipython",
    "version": 3
   },
   "file_extension": ".py",
   "mimetype": "text/x-python",
   "name": "python",
   "nbconvert_exporter": "python",
   "pygments_lexer": "ipython3",
   "version": "3.8.8"
  },
  "toc": {
   "base_numbering": 1,
   "nav_menu": {},
   "number_sections": true,
   "sideBar": true,
   "skip_h1_title": true,
   "title_cell": "Table of Contents",
   "title_sidebar": "Contents",
   "toc_cell": false,
   "toc_position": {},
   "toc_section_display": true,
   "toc_window_display": false
  }
 },
 "nbformat": 4,
 "nbformat_minor": 2
}
