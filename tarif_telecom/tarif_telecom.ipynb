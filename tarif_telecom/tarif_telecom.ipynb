{
 "cells": [
  {
   "cell_type": "markdown",
   "metadata": {},
   "source": [
    "# Определение перспективного тарифа для телеком-компании"
   ]
  },
  {
   "cell_type": "markdown",
   "metadata": {},
   "source": [
    "___Описание проекта___:\n",
    "\n",
    "На основе данных клиентов оператора сотовой связи проанализировать поведение клиентов и поиск оптимального тарифа\n",
    "\n",
    "\n",
    "___Описание данных___:\n",
    "\n",
    "\n",
    "Таблица users (информация о пользователях):\n",
    " - user_id — уникальный идентификатор пользователя\n",
    " - first_name — имя пользователя\n",
    " - last_name — фамилия пользователя\n",
    " - age — возраст пользователя (годы)\n",
    " - reg_date — дата подключения тарифа (день, месяц, год)\n",
    " - churn_date — дата прекращения пользования тарифом (если значение пропущено, то тариф ещё действовал на момент  выгрузки данных)\n",
    " - city — город проживания пользователя\n",
    " - tarif — название тарифного плана\n",
    " - Таблица calls (информация о звонках):\n",
    " - id — уникальный номер звонка\n",
    " - call_date — дата звонка\n",
    " - duration — длительность звонка в минутах\n",
    " - user_id — идентификатор пользователя, сделавшего звонок\n",
    "\n",
    "\n",
    "Таблица messages (информация о сообщениях):\n",
    " - id — уникальный номер сообщения\n",
    " - message_date — дата сообщения\n",
    " - user_id — идентификатор пользователя, отправившего сообщение\n",
    " - Таблица internet (информация об интернет-сессиях):\n",
    " - id — уникальный номер сессии\n",
    " - mb_used — объём потраченного за сессию интернет-трафика (в мегабайтах)\n",
    " - session_date — дата интернет-сессии\n",
    " - user_id — идентификатор пользователя\n",
    "\n",
    "\n",
    "Таблица tariffs (информация о тарифах):\n",
    " - tariff_name — название тарифа\n",
    " - rub_monthly_fee — ежемесячная абонентская плата в рублях\n",
    " - minutes_included — количество минут разговора в месяц, включённых в абонентскую плату\n",
    " - messages_included — количество сообщений в месяц, включённых в абонентскую плату\n",
    " - mb_per_month_included — объём интернет-трафика, включённого в абонентскую плату (в мегабайтах)\n",
    " - rub_per_minute — стоимость минуты разговора сверх тарифного пакета (например, если в тарифе 100 минут разговора в месяц, то со 101 минуты будет взиматься плата)\n",
    " - rub_per_message — стоимость отправки сообщения сверх тарифного пакета\n",
    " - rub_per_gb — стоимость дополнительного гигабайта интернет-трафика сверх тарифного пакета (1 гигабайт = 1024 мегабайта)"
   ]
  },
  {
   "cell_type": "markdown",
   "metadata": {},
   "source": [
    "## Загрузка данных"
   ]
  },
  {
   "cell_type": "markdown",
   "metadata": {},
   "source": [
    "### Звонки"
   ]
  },
  {
   "cell_type": "code",
   "execution_count": 1,
   "metadata": {},
   "outputs": [],
   "source": [
    "#импорт билиотек\n",
    "import pandas as pd\n",
    "import numpy as np\n",
    "import matplotlib.pyplot as plt\n",
    "from scipy import stats as st"
   ]
  },
  {
   "cell_type": "code",
   "execution_count": 2,
   "metadata": {
    "scrolled": false
   },
   "outputs": [
    {
     "name": "stdout",
     "output_type": "stream",
     "text": [
      "Данные по звонкам:\n",
      "<class 'pandas.core.frame.DataFrame'>\n",
      "RangeIndex: 202607 entries, 0 to 202606\n",
      "Data columns (total 4 columns):\n",
      "id           202607 non-null object\n",
      "call_date    202607 non-null object\n",
      "duration     202607 non-null float64\n",
      "user_id      202607 non-null int64\n",
      "dtypes: float64(1), int64(1), object(2)\n",
      "memory usage: 6.2+ MB\n"
     ]
    },
    {
     "data": {
      "text/plain": [
       "None"
      ]
     },
     "metadata": {},
     "output_type": "display_data"
    }
   ],
   "source": [
    "calls = pd.read_csv('/datasets/calls.csv')\n",
    "print('Данные по звонкам:')\n",
    "display(calls.info())"
   ]
  },
  {
   "cell_type": "markdown",
   "metadata": {},
   "source": [
    "### Интернет"
   ]
  },
  {
   "cell_type": "code",
   "execution_count": 3,
   "metadata": {
    "scrolled": false
   },
   "outputs": [
    {
     "name": "stdout",
     "output_type": "stream",
     "text": [
      "<class 'pandas.core.frame.DataFrame'>\n",
      "Int64Index: 149396 entries, 0 to 149395\n",
      "Data columns (total 4 columns):\n",
      "id              149396 non-null object\n",
      "mb_used         149396 non-null float64\n",
      "session_date    149396 non-null object\n",
      "user_id         149396 non-null int64\n",
      "dtypes: float64(1), int64(1), object(2)\n",
      "memory usage: 5.7+ MB\n"
     ]
    },
    {
     "data": {
      "text/plain": [
       "None"
      ]
     },
     "metadata": {},
     "output_type": "display_data"
    }
   ],
   "source": [
    "internet = pd.read_csv('/datasets/internet.csv', index_col=0)\n",
    "display(internet.info())"
   ]
  },
  {
   "cell_type": "markdown",
   "metadata": {},
   "source": [
    "### Сообщения"
   ]
  },
  {
   "cell_type": "code",
   "execution_count": 4,
   "metadata": {
    "scrolled": false
   },
   "outputs": [
    {
     "name": "stdout",
     "output_type": "stream",
     "text": [
      "<class 'pandas.core.frame.DataFrame'>\n",
      "RangeIndex: 123036 entries, 0 to 123035\n",
      "Data columns (total 3 columns):\n",
      "id              123036 non-null object\n",
      "message_date    123036 non-null object\n",
      "user_id         123036 non-null int64\n",
      "dtypes: int64(1), object(2)\n",
      "memory usage: 2.8+ MB\n"
     ]
    },
    {
     "data": {
      "text/plain": [
       "None"
      ]
     },
     "metadata": {},
     "output_type": "display_data"
    }
   ],
   "source": [
    "messages = pd.read_csv('/datasets/messages.csv')\n",
    "display(messages.info())"
   ]
  },
  {
   "cell_type": "markdown",
   "metadata": {},
   "source": [
    "### Тарифы"
   ]
  },
  {
   "cell_type": "code",
   "execution_count": 5,
   "metadata": {
    "scrolled": true
   },
   "outputs": [
    {
     "data": {
      "text/html": [
       "<div>\n",
       "<style scoped>\n",
       "    .dataframe tbody tr th:only-of-type {\n",
       "        vertical-align: middle;\n",
       "    }\n",
       "\n",
       "    .dataframe tbody tr th {\n",
       "        vertical-align: top;\n",
       "    }\n",
       "\n",
       "    .dataframe thead th {\n",
       "        text-align: right;\n",
       "    }\n",
       "</style>\n",
       "<table border=\"1\" class=\"dataframe\">\n",
       "  <thead>\n",
       "    <tr style=\"text-align: right;\">\n",
       "      <th></th>\n",
       "      <th>messages_included</th>\n",
       "      <th>mb_per_month_included</th>\n",
       "      <th>minutes_included</th>\n",
       "      <th>rub_monthly_fee</th>\n",
       "      <th>rub_per_gb</th>\n",
       "      <th>rub_per_message</th>\n",
       "      <th>rub_per_minute</th>\n",
       "      <th>tariff_name</th>\n",
       "    </tr>\n",
       "  </thead>\n",
       "  <tbody>\n",
       "    <tr>\n",
       "      <td>0</td>\n",
       "      <td>50</td>\n",
       "      <td>15360</td>\n",
       "      <td>500</td>\n",
       "      <td>550</td>\n",
       "      <td>200</td>\n",
       "      <td>3</td>\n",
       "      <td>3</td>\n",
       "      <td>smart</td>\n",
       "    </tr>\n",
       "    <tr>\n",
       "      <td>1</td>\n",
       "      <td>1000</td>\n",
       "      <td>30720</td>\n",
       "      <td>3000</td>\n",
       "      <td>1950</td>\n",
       "      <td>150</td>\n",
       "      <td>1</td>\n",
       "      <td>1</td>\n",
       "      <td>ultra</td>\n",
       "    </tr>\n",
       "  </tbody>\n",
       "</table>\n",
       "</div>"
      ],
      "text/plain": [
       "   messages_included  mb_per_month_included  minutes_included  \\\n",
       "0                 50                  15360               500   \n",
       "1               1000                  30720              3000   \n",
       "\n",
       "   rub_monthly_fee  rub_per_gb  rub_per_message  rub_per_minute tariff_name  \n",
       "0              550         200                3               3       smart  \n",
       "1             1950         150                1               1       ultra  "
      ]
     },
     "metadata": {},
     "output_type": "display_data"
    }
   ],
   "source": [
    "tariffs = pd.read_csv('/datasets/tariffs.csv')\n",
    "display(tariffs.head())"
   ]
  },
  {
   "cell_type": "markdown",
   "metadata": {},
   "source": [
    "### Пользователи"
   ]
  },
  {
   "cell_type": "code",
   "execution_count": 6,
   "metadata": {
    "scrolled": false
   },
   "outputs": [
    {
     "name": "stdout",
     "output_type": "stream",
     "text": [
      "<class 'pandas.core.frame.DataFrame'>\n",
      "RangeIndex: 500 entries, 0 to 499\n",
      "Data columns (total 8 columns):\n",
      "user_id       500 non-null int64\n",
      "age           500 non-null int64\n",
      "churn_date    38 non-null object\n",
      "city          500 non-null object\n",
      "first_name    500 non-null object\n",
      "last_name     500 non-null object\n",
      "reg_date      500 non-null object\n",
      "tariff        500 non-null object\n",
      "dtypes: int64(2), object(6)\n",
      "memory usage: 31.4+ KB\n"
     ]
    },
    {
     "data": {
      "text/plain": [
       "None"
      ]
     },
     "metadata": {},
     "output_type": "display_data"
    }
   ],
   "source": [
    "users = pd.read_csv('/datasets/users.csv')\n",
    "display(users.info())"
   ]
  },
  {
   "cell_type": "markdown",
   "metadata": {},
   "source": [
    "### Вывод\n",
    "Данные требуют предобработки:\n",
    "- Перевод колонок с датами в формат даты\n",
    "- Округение времени разговора и интернет траффика согласно условиям оператора связи\n",
    "- Добавление колонок с номером мсяца к которому относятся данные в строке"
   ]
  },
  {
   "cell_type": "markdown",
   "metadata": {},
   "source": [
    "## Предобработка данных"
   ]
  },
  {
   "cell_type": "markdown",
   "metadata": {},
   "source": [
    "###  Предобработка данных по звонкам"
   ]
  },
  {
   "cell_type": "code",
   "execution_count": 7,
   "metadata": {
    "scrolled": false
   },
   "outputs": [
    {
     "name": "stdout",
     "output_type": "stream",
     "text": [
      "Удалено выбросов: 65 ( 2.0478890989287963 %)\n"
     ]
    },
    {
     "data": {
      "text/html": [
       "<div>\n",
       "<style scoped>\n",
       "    .dataframe tbody tr th:only-of-type {\n",
       "        vertical-align: middle;\n",
       "    }\n",
       "\n",
       "    .dataframe tbody tr th {\n",
       "        vertical-align: top;\n",
       "    }\n",
       "\n",
       "    .dataframe thead th {\n",
       "        text-align: right;\n",
       "    }\n",
       "</style>\n",
       "<table border=\"1\" class=\"dataframe\">\n",
       "  <thead>\n",
       "    <tr style=\"text-align: right;\">\n",
       "      <th></th>\n",
       "      <th>user_id</th>\n",
       "      <th>month</th>\n",
       "      <th>duration</th>\n",
       "    </tr>\n",
       "  </thead>\n",
       "  <tbody>\n",
       "    <tr>\n",
       "      <td>0</td>\n",
       "      <td>1000</td>\n",
       "      <td>5</td>\n",
       "      <td>159</td>\n",
       "    </tr>\n",
       "    <tr>\n",
       "      <td>1</td>\n",
       "      <td>1000</td>\n",
       "      <td>6</td>\n",
       "      <td>172</td>\n",
       "    </tr>\n",
       "    <tr>\n",
       "      <td>2</td>\n",
       "      <td>1000</td>\n",
       "      <td>7</td>\n",
       "      <td>340</td>\n",
       "    </tr>\n",
       "    <tr>\n",
       "      <td>3</td>\n",
       "      <td>1000</td>\n",
       "      <td>8</td>\n",
       "      <td>408</td>\n",
       "    </tr>\n",
       "    <tr>\n",
       "      <td>4</td>\n",
       "      <td>1000</td>\n",
       "      <td>9</td>\n",
       "      <td>466</td>\n",
       "    </tr>\n",
       "  </tbody>\n",
       "</table>\n",
       "</div>"
      ],
      "text/plain": [
       "   user_id  month  duration\n",
       "0     1000      5       159\n",
       "1     1000      6       172\n",
       "2     1000      7       340\n",
       "3     1000      8       408\n",
       "4     1000      9       466"
      ]
     },
     "execution_count": 7,
     "metadata": {},
     "output_type": "execute_result"
    }
   ],
   "source": [
    "#переводим колонку с датой в формат даты\n",
    "calls['call_date'] = pd.to_datetime(calls['call_date'], format='%Y-%m-%d')\n",
    "\n",
    "#округляем звонки в большую сторону\n",
    "calls['duration'] = calls['duration'].apply(np.ceil).astype('int')\n",
    "\n",
    "#добавляем колонку с месяцем\n",
    "calls['month'] = calls['call_date'].dt.month\n",
    "\n",
    "#группируем таблицу в зависимости от месяца и id пользователя\n",
    "calls_grouping = calls.groupby(['user_id', 'month'])['duration'].sum().reset_index()\n",
    "\n",
    "#убираем выбросы\n",
    "after = len(calls_grouping['duration'])\n",
    "q1 = calls_grouping['duration'].quantile(0.25)\n",
    "q3 = calls_grouping['duration'].quantile(0.75)\n",
    "iqr = q3-q1\n",
    "calls_grouping = calls_grouping.query('@q1 - 1.5*@iqr < duration and @q3 + 1.5*@iqr > duration')\n",
    "before = len(calls_grouping['duration'])\n",
    "print('Удалено выбросов:', after - before, '(', ((after-before)/after*100), '%)')\n",
    "\n",
    "calls_grouping.head()\n",
    "\n",
    "#calls_grouping.boxplot('duration')"
   ]
  },
  {
   "cell_type": "markdown",
   "metadata": {},
   "source": [
    "### Предобработка данных по использованому интернету"
   ]
  },
  {
   "cell_type": "code",
   "execution_count": 8,
   "metadata": {
    "scrolled": true
   },
   "outputs": [
    {
     "name": "stdout",
     "output_type": "stream",
     "text": [
      "Удалено выбросов: 77 ( 2.4039962535123323 %)\n"
     ]
    },
    {
     "data": {
      "text/html": [
       "<div>\n",
       "<style scoped>\n",
       "    .dataframe tbody tr th:only-of-type {\n",
       "        vertical-align: middle;\n",
       "    }\n",
       "\n",
       "    .dataframe tbody tr th {\n",
       "        vertical-align: top;\n",
       "    }\n",
       "\n",
       "    .dataframe thead th {\n",
       "        text-align: right;\n",
       "    }\n",
       "</style>\n",
       "<table border=\"1\" class=\"dataframe\">\n",
       "  <thead>\n",
       "    <tr style=\"text-align: right;\">\n",
       "      <th></th>\n",
       "      <th>user_id</th>\n",
       "      <th>month</th>\n",
       "      <th>mb_used</th>\n",
       "    </tr>\n",
       "  </thead>\n",
       "  <tbody>\n",
       "    <tr>\n",
       "      <td>0</td>\n",
       "      <td>1000</td>\n",
       "      <td>5</td>\n",
       "      <td>2254</td>\n",
       "    </tr>\n",
       "    <tr>\n",
       "      <td>1</td>\n",
       "      <td>1000</td>\n",
       "      <td>6</td>\n",
       "      <td>23234</td>\n",
       "    </tr>\n",
       "    <tr>\n",
       "      <td>2</td>\n",
       "      <td>1000</td>\n",
       "      <td>7</td>\n",
       "      <td>14004</td>\n",
       "    </tr>\n",
       "    <tr>\n",
       "      <td>3</td>\n",
       "      <td>1000</td>\n",
       "      <td>8</td>\n",
       "      <td>14056</td>\n",
       "    </tr>\n",
       "    <tr>\n",
       "      <td>4</td>\n",
       "      <td>1000</td>\n",
       "      <td>9</td>\n",
       "      <td>14569</td>\n",
       "    </tr>\n",
       "  </tbody>\n",
       "</table>\n",
       "</div>"
      ],
      "text/plain": [
       "   user_id  month  mb_used\n",
       "0     1000      5     2254\n",
       "1     1000      6    23234\n",
       "2     1000      7    14004\n",
       "3     1000      8    14056\n",
       "4     1000      9    14569"
      ]
     },
     "execution_count": 8,
     "metadata": {},
     "output_type": "execute_result"
    }
   ],
   "source": [
    "#переводим колонку с датой в формат даты\n",
    "internet['session_date'] = pd.to_datetime(internet['session_date'], format='%Y-%m-%d')\n",
    "\n",
    "#добавляем колонку с месяцем\n",
    "internet['month'] = internet['session_date'].dt.month\n",
    "\n",
    "#группируем таблицу в зависимости от даты и id пользователя\n",
    "internet_grouping = internet.groupby(['user_id', 'month'])['mb_used'].sum().apply(np.ceil).astype('int').reset_index()\n",
    "\n",
    "#убираем выбросы\n",
    "after = len(internet_grouping['mb_used'])\n",
    "q1 = internet_grouping['mb_used'].quantile(0.25)\n",
    "q3 = internet_grouping['mb_used'].quantile(0.75)\n",
    "iqr = q3-q1\n",
    "internet_grouping = internet_grouping.query('@q1 - 1.5*@iqr < mb_used and @q3 + 1.5*@iqr > mb_used')\n",
    "before = len(internet_grouping['mb_used'])\n",
    "print('Удалено выбросов:', after - before, '(', ((after-before)/after*100), '%)')\n",
    "\n",
    "internet_grouping.head()"
   ]
  },
  {
   "cell_type": "markdown",
   "metadata": {},
   "source": [
    "### Предоработка данных по отправленным сообщениям"
   ]
  },
  {
   "cell_type": "code",
   "execution_count": 9,
   "metadata": {
    "scrolled": true
   },
   "outputs": [
    {
     "name": "stdout",
     "output_type": "stream",
     "text": [
      "Удалено выбросов: 95 ( 3.4965034965034967 %)\n"
     ]
    },
    {
     "data": {
      "text/html": [
       "<div>\n",
       "<style scoped>\n",
       "    .dataframe tbody tr th:only-of-type {\n",
       "        vertical-align: middle;\n",
       "    }\n",
       "\n",
       "    .dataframe tbody tr th {\n",
       "        vertical-align: top;\n",
       "    }\n",
       "\n",
       "    .dataframe thead th {\n",
       "        text-align: right;\n",
       "    }\n",
       "</style>\n",
       "<table border=\"1\" class=\"dataframe\">\n",
       "  <thead>\n",
       "    <tr style=\"text-align: right;\">\n",
       "      <th></th>\n",
       "      <th>user_id</th>\n",
       "      <th>month</th>\n",
       "      <th>massages_count</th>\n",
       "    </tr>\n",
       "  </thead>\n",
       "  <tbody>\n",
       "    <tr>\n",
       "      <td>0</td>\n",
       "      <td>1000</td>\n",
       "      <td>5</td>\n",
       "      <td>22</td>\n",
       "    </tr>\n",
       "    <tr>\n",
       "      <td>1</td>\n",
       "      <td>1000</td>\n",
       "      <td>6</td>\n",
       "      <td>60</td>\n",
       "    </tr>\n",
       "    <tr>\n",
       "      <td>2</td>\n",
       "      <td>1000</td>\n",
       "      <td>7</td>\n",
       "      <td>75</td>\n",
       "    </tr>\n",
       "    <tr>\n",
       "      <td>3</td>\n",
       "      <td>1000</td>\n",
       "      <td>8</td>\n",
       "      <td>81</td>\n",
       "    </tr>\n",
       "    <tr>\n",
       "      <td>4</td>\n",
       "      <td>1000</td>\n",
       "      <td>9</td>\n",
       "      <td>57</td>\n",
       "    </tr>\n",
       "  </tbody>\n",
       "</table>\n",
       "</div>"
      ],
      "text/plain": [
       "   user_id  month  massages_count\n",
       "0     1000      5              22\n",
       "1     1000      6              60\n",
       "2     1000      7              75\n",
       "3     1000      8              81\n",
       "4     1000      9              57"
      ]
     },
     "execution_count": 9,
     "metadata": {},
     "output_type": "execute_result"
    }
   ],
   "source": [
    "#переводим колонку с датой в формат даты\n",
    "messages['message_date'] = pd.to_datetime(messages['message_date'], format='%Y-%m-%d')\n",
    "\n",
    "#добавляем колонку с месяцем\n",
    "messages['month'] = messages['message_date'].dt.month\n",
    "\n",
    "#группируем таблицу в зависимости от даты и id пользователя\n",
    "messages_grouping = messages.groupby(['user_id', 'month'])['id'].count().reset_index()\n",
    "messages_grouping.rename({'id': 'massages_count'}, axis=1, inplace=True)\n",
    "\n",
    "#убираем выбросы\n",
    "after = len(messages_grouping['massages_count'])\n",
    "q1 = messages_grouping['massages_count'].quantile(0.25)\n",
    "q3 = messages_grouping['massages_count'].quantile(0.75)\n",
    "iqr = q3-q1\n",
    "messages_grouping = messages_grouping.query('@q1 - 1.5*@iqr < massages_count and @q3 + 1.5*@iqr > massages_count')\n",
    "before = len(messages_grouping['massages_count'])\n",
    "print('Удалено выбросов:', after - before, '(', ((after-before)/after*100), '%)')\n",
    "\n",
    "messages_grouping.head()"
   ]
  },
  {
   "cell_type": "markdown",
   "metadata": {},
   "source": [
    "### Предобработка данных по пользователям"
   ]
  },
  {
   "cell_type": "code",
   "execution_count": 10,
   "metadata": {
    "scrolled": false
   },
   "outputs": [
    {
     "data": {
      "text/html": [
       "<div>\n",
       "<style scoped>\n",
       "    .dataframe tbody tr th:only-of-type {\n",
       "        vertical-align: middle;\n",
       "    }\n",
       "\n",
       "    .dataframe tbody tr th {\n",
       "        vertical-align: top;\n",
       "    }\n",
       "\n",
       "    .dataframe thead th {\n",
       "        text-align: right;\n",
       "    }\n",
       "</style>\n",
       "<table border=\"1\" class=\"dataframe\">\n",
       "  <thead>\n",
       "    <tr style=\"text-align: right;\">\n",
       "      <th></th>\n",
       "      <th>user_id</th>\n",
       "      <th>age</th>\n",
       "      <th>churn_date</th>\n",
       "      <th>city</th>\n",
       "      <th>first_name</th>\n",
       "      <th>last_name</th>\n",
       "      <th>reg_date</th>\n",
       "      <th>tariff</th>\n",
       "      <th>reg_month</th>\n",
       "      <th>churn_month</th>\n",
       "    </tr>\n",
       "  </thead>\n",
       "  <tbody>\n",
       "    <tr>\n",
       "      <td>0</td>\n",
       "      <td>1000</td>\n",
       "      <td>52</td>\n",
       "      <td>NaT</td>\n",
       "      <td>Краснодар</td>\n",
       "      <td>Рафаил</td>\n",
       "      <td>Верещагин</td>\n",
       "      <td>2018-05-25</td>\n",
       "      <td>ultra</td>\n",
       "      <td>5</td>\n",
       "      <td>NaN</td>\n",
       "    </tr>\n",
       "    <tr>\n",
       "      <td>1</td>\n",
       "      <td>1001</td>\n",
       "      <td>41</td>\n",
       "      <td>NaT</td>\n",
       "      <td>Москва</td>\n",
       "      <td>Иван</td>\n",
       "      <td>Ежов</td>\n",
       "      <td>2018-11-01</td>\n",
       "      <td>smart</td>\n",
       "      <td>11</td>\n",
       "      <td>NaN</td>\n",
       "    </tr>\n",
       "    <tr>\n",
       "      <td>2</td>\n",
       "      <td>1002</td>\n",
       "      <td>59</td>\n",
       "      <td>NaT</td>\n",
       "      <td>Стерлитамак</td>\n",
       "      <td>Евгений</td>\n",
       "      <td>Абрамович</td>\n",
       "      <td>2018-06-17</td>\n",
       "      <td>smart</td>\n",
       "      <td>6</td>\n",
       "      <td>NaN</td>\n",
       "    </tr>\n",
       "    <tr>\n",
       "      <td>3</td>\n",
       "      <td>1003</td>\n",
       "      <td>23</td>\n",
       "      <td>NaT</td>\n",
       "      <td>Москва</td>\n",
       "      <td>Белла</td>\n",
       "      <td>Белякова</td>\n",
       "      <td>2018-08-17</td>\n",
       "      <td>ultra</td>\n",
       "      <td>8</td>\n",
       "      <td>NaN</td>\n",
       "    </tr>\n",
       "    <tr>\n",
       "      <td>4</td>\n",
       "      <td>1004</td>\n",
       "      <td>68</td>\n",
       "      <td>NaT</td>\n",
       "      <td>Новокузнецк</td>\n",
       "      <td>Татьяна</td>\n",
       "      <td>Авдеенко</td>\n",
       "      <td>2018-05-14</td>\n",
       "      <td>ultra</td>\n",
       "      <td>5</td>\n",
       "      <td>NaN</td>\n",
       "    </tr>\n",
       "  </tbody>\n",
       "</table>\n",
       "</div>"
      ],
      "text/plain": [
       "   user_id  age churn_date         city first_name  last_name   reg_date  \\\n",
       "0     1000   52        NaT    Краснодар     Рафаил  Верещагин 2018-05-25   \n",
       "1     1001   41        NaT       Москва       Иван       Ежов 2018-11-01   \n",
       "2     1002   59        NaT  Стерлитамак    Евгений  Абрамович 2018-06-17   \n",
       "3     1003   23        NaT       Москва      Белла   Белякова 2018-08-17   \n",
       "4     1004   68        NaT  Новокузнецк    Татьяна   Авдеенко 2018-05-14   \n",
       "\n",
       "  tariff  reg_month  churn_month  \n",
       "0  ultra          5          NaN  \n",
       "1  smart         11          NaN  \n",
       "2  smart          6          NaN  \n",
       "3  ultra          8          NaN  \n",
       "4  ultra          5          NaN  "
      ]
     },
     "execution_count": 10,
     "metadata": {},
     "output_type": "execute_result"
    }
   ],
   "source": [
    "#переводим колонку с датой в формат даты\n",
    "users['reg_date'] = pd.to_datetime(users['reg_date'], format='%Y-%m-%d')\n",
    "users['churn_date'] = pd.to_datetime(users['churn_date'], format='%Y-%m-%d')\n",
    "\n",
    "#добавляем столбцы с месяцами подключния и отключения тарифа\n",
    "users['reg_month'] = users['reg_date'].dt.month\n",
    "users['churn_month'] = users['churn_date'].dt.month\n",
    "\n",
    "users.head()"
   ]
  },
  {
   "cell_type": "markdown",
   "metadata": {},
   "source": [
    "### Объединение таблиц"
   ]
  },
  {
   "cell_type": "code",
   "execution_count": 11,
   "metadata": {
    "scrolled": true
   },
   "outputs": [
    {
     "data": {
      "text/html": [
       "<div>\n",
       "<style scoped>\n",
       "    .dataframe tbody tr th:only-of-type {\n",
       "        vertical-align: middle;\n",
       "    }\n",
       "\n",
       "    .dataframe tbody tr th {\n",
       "        vertical-align: top;\n",
       "    }\n",
       "\n",
       "    .dataframe thead th {\n",
       "        text-align: right;\n",
       "    }\n",
       "</style>\n",
       "<table border=\"1\" class=\"dataframe\">\n",
       "  <thead>\n",
       "    <tr style=\"text-align: right;\">\n",
       "      <th></th>\n",
       "      <th>user_id</th>\n",
       "      <th>month</th>\n",
       "      <th>duration</th>\n",
       "      <th>mb_used</th>\n",
       "      <th>massages_count</th>\n",
       "      <th>age</th>\n",
       "      <th>churn_date</th>\n",
       "      <th>city</th>\n",
       "      <th>first_name</th>\n",
       "      <th>last_name</th>\n",
       "      <th>...</th>\n",
       "      <th>reg_month</th>\n",
       "      <th>churn_month</th>\n",
       "      <th>messages_included</th>\n",
       "      <th>mb_per_month_included</th>\n",
       "      <th>minutes_included</th>\n",
       "      <th>rub_monthly_fee</th>\n",
       "      <th>rub_per_gb</th>\n",
       "      <th>rub_per_message</th>\n",
       "      <th>rub_per_minute</th>\n",
       "      <th>tariff_name</th>\n",
       "    </tr>\n",
       "  </thead>\n",
       "  <tbody>\n",
       "    <tr>\n",
       "      <td>0</td>\n",
       "      <td>1000</td>\n",
       "      <td>5</td>\n",
       "      <td>159</td>\n",
       "      <td>2254</td>\n",
       "      <td>22</td>\n",
       "      <td>52</td>\n",
       "      <td>NaT</td>\n",
       "      <td>Краснодар</td>\n",
       "      <td>Рафаил</td>\n",
       "      <td>Верещагин</td>\n",
       "      <td>...</td>\n",
       "      <td>5</td>\n",
       "      <td>NaN</td>\n",
       "      <td>1000</td>\n",
       "      <td>30720</td>\n",
       "      <td>3000</td>\n",
       "      <td>1950</td>\n",
       "      <td>150</td>\n",
       "      <td>1</td>\n",
       "      <td>1</td>\n",
       "      <td>ultra</td>\n",
       "    </tr>\n",
       "    <tr>\n",
       "      <td>1</td>\n",
       "      <td>1000</td>\n",
       "      <td>6</td>\n",
       "      <td>172</td>\n",
       "      <td>23234</td>\n",
       "      <td>60</td>\n",
       "      <td>52</td>\n",
       "      <td>NaT</td>\n",
       "      <td>Краснодар</td>\n",
       "      <td>Рафаил</td>\n",
       "      <td>Верещагин</td>\n",
       "      <td>...</td>\n",
       "      <td>5</td>\n",
       "      <td>NaN</td>\n",
       "      <td>1000</td>\n",
       "      <td>30720</td>\n",
       "      <td>3000</td>\n",
       "      <td>1950</td>\n",
       "      <td>150</td>\n",
       "      <td>1</td>\n",
       "      <td>1</td>\n",
       "      <td>ultra</td>\n",
       "    </tr>\n",
       "    <tr>\n",
       "      <td>2</td>\n",
       "      <td>1000</td>\n",
       "      <td>7</td>\n",
       "      <td>340</td>\n",
       "      <td>14004</td>\n",
       "      <td>75</td>\n",
       "      <td>52</td>\n",
       "      <td>NaT</td>\n",
       "      <td>Краснодар</td>\n",
       "      <td>Рафаил</td>\n",
       "      <td>Верещагин</td>\n",
       "      <td>...</td>\n",
       "      <td>5</td>\n",
       "      <td>NaN</td>\n",
       "      <td>1000</td>\n",
       "      <td>30720</td>\n",
       "      <td>3000</td>\n",
       "      <td>1950</td>\n",
       "      <td>150</td>\n",
       "      <td>1</td>\n",
       "      <td>1</td>\n",
       "      <td>ultra</td>\n",
       "    </tr>\n",
       "    <tr>\n",
       "      <td>3</td>\n",
       "      <td>1000</td>\n",
       "      <td>8</td>\n",
       "      <td>408</td>\n",
       "      <td>14056</td>\n",
       "      <td>81</td>\n",
       "      <td>52</td>\n",
       "      <td>NaT</td>\n",
       "      <td>Краснодар</td>\n",
       "      <td>Рафаил</td>\n",
       "      <td>Верещагин</td>\n",
       "      <td>...</td>\n",
       "      <td>5</td>\n",
       "      <td>NaN</td>\n",
       "      <td>1000</td>\n",
       "      <td>30720</td>\n",
       "      <td>3000</td>\n",
       "      <td>1950</td>\n",
       "      <td>150</td>\n",
       "      <td>1</td>\n",
       "      <td>1</td>\n",
       "      <td>ultra</td>\n",
       "    </tr>\n",
       "    <tr>\n",
       "      <td>4</td>\n",
       "      <td>1000</td>\n",
       "      <td>9</td>\n",
       "      <td>466</td>\n",
       "      <td>14569</td>\n",
       "      <td>57</td>\n",
       "      <td>52</td>\n",
       "      <td>NaT</td>\n",
       "      <td>Краснодар</td>\n",
       "      <td>Рафаил</td>\n",
       "      <td>Верещагин</td>\n",
       "      <td>...</td>\n",
       "      <td>5</td>\n",
       "      <td>NaN</td>\n",
       "      <td>1000</td>\n",
       "      <td>30720</td>\n",
       "      <td>3000</td>\n",
       "      <td>1950</td>\n",
       "      <td>150</td>\n",
       "      <td>1</td>\n",
       "      <td>1</td>\n",
       "      <td>ultra</td>\n",
       "    </tr>\n",
       "  </tbody>\n",
       "</table>\n",
       "<p>5 rows × 22 columns</p>\n",
       "</div>"
      ],
      "text/plain": [
       "   user_id  month  duration  mb_used  massages_count  age churn_date  \\\n",
       "0     1000      5       159     2254              22   52        NaT   \n",
       "1     1000      6       172    23234              60   52        NaT   \n",
       "2     1000      7       340    14004              75   52        NaT   \n",
       "3     1000      8       408    14056              81   52        NaT   \n",
       "4     1000      9       466    14569              57   52        NaT   \n",
       "\n",
       "        city first_name  last_name  ... reg_month churn_month  \\\n",
       "0  Краснодар     Рафаил  Верещагин  ...         5         NaN   \n",
       "1  Краснодар     Рафаил  Верещагин  ...         5         NaN   \n",
       "2  Краснодар     Рафаил  Верещагин  ...         5         NaN   \n",
       "3  Краснодар     Рафаил  Верещагин  ...         5         NaN   \n",
       "4  Краснодар     Рафаил  Верещагин  ...         5         NaN   \n",
       "\n",
       "   messages_included  mb_per_month_included  minutes_included  \\\n",
       "0               1000                  30720              3000   \n",
       "1               1000                  30720              3000   \n",
       "2               1000                  30720              3000   \n",
       "3               1000                  30720              3000   \n",
       "4               1000                  30720              3000   \n",
       "\n",
       "   rub_monthly_fee  rub_per_gb  rub_per_message  rub_per_minute  tariff_name  \n",
       "0             1950         150                1               1        ultra  \n",
       "1             1950         150                1               1        ultra  \n",
       "2             1950         150                1               1        ultra  \n",
       "3             1950         150                1               1        ultra  \n",
       "4             1950         150                1               1        ultra  \n",
       "\n",
       "[5 rows x 22 columns]"
      ]
     },
     "execution_count": 11,
     "metadata": {},
     "output_type": "execute_result"
    }
   ],
   "source": [
    "data_month_merged = (calls_grouping\n",
    "               .merge(internet_grouping, how='outer', on=['user_id','month'])\n",
    "               .merge(messages_grouping, how='outer', on=['user_id','month'])\n",
    "               .merge(users, how='outer', on=['user_id'])      \n",
    "               .merge(tariffs, left_on='tariff', right_on='tariff_name', how='left')           \n",
    "              )\n",
    "\n",
    "data_month_merged[['month', 'duration', 'mb_used', 'massages_count']] = (\n",
    "    data_month_merged[['month', 'duration', 'mb_used', 'massages_count']]\n",
    "    .fillna(0)\n",
    "    .astype('int')\n",
    ")\n",
    "data_month_merged.head()"
   ]
  },
  {
   "cell_type": "markdown",
   "metadata": {},
   "source": [
    "### Добавление столбцов с выручкой"
   ]
  },
  {
   "cell_type": "code",
   "execution_count": 12,
   "metadata": {
    "scrolled": true
   },
   "outputs": [
    {
     "data": {
      "text/html": [
       "<div>\n",
       "<style scoped>\n",
       "    .dataframe tbody tr th:only-of-type {\n",
       "        vertical-align: middle;\n",
       "    }\n",
       "\n",
       "    .dataframe tbody tr th {\n",
       "        vertical-align: top;\n",
       "    }\n",
       "\n",
       "    .dataframe thead th {\n",
       "        text-align: right;\n",
       "    }\n",
       "</style>\n",
       "<table border=\"1\" class=\"dataframe\">\n",
       "  <thead>\n",
       "    <tr style=\"text-align: right;\">\n",
       "      <th></th>\n",
       "      <th>user_id</th>\n",
       "      <th>month</th>\n",
       "      <th>duration</th>\n",
       "      <th>mb_used</th>\n",
       "      <th>massages_count</th>\n",
       "      <th>age</th>\n",
       "      <th>churn_date</th>\n",
       "      <th>city</th>\n",
       "      <th>first_name</th>\n",
       "      <th>last_name</th>\n",
       "      <th>...</th>\n",
       "      <th>minutes_included</th>\n",
       "      <th>rub_monthly_fee</th>\n",
       "      <th>rub_per_gb</th>\n",
       "      <th>rub_per_message</th>\n",
       "      <th>rub_per_minute</th>\n",
       "      <th>tariff_name</th>\n",
       "      <th>massage_fee</th>\n",
       "      <th>internet_fee</th>\n",
       "      <th>duration_fee</th>\n",
       "      <th>total_fee</th>\n",
       "    </tr>\n",
       "  </thead>\n",
       "  <tbody>\n",
       "    <tr>\n",
       "      <td>0</td>\n",
       "      <td>1000</td>\n",
       "      <td>5</td>\n",
       "      <td>159</td>\n",
       "      <td>2254</td>\n",
       "      <td>22</td>\n",
       "      <td>52</td>\n",
       "      <td>NaT</td>\n",
       "      <td>Краснодар</td>\n",
       "      <td>Рафаил</td>\n",
       "      <td>Верещагин</td>\n",
       "      <td>...</td>\n",
       "      <td>3000</td>\n",
       "      <td>1950</td>\n",
       "      <td>150</td>\n",
       "      <td>1</td>\n",
       "      <td>1</td>\n",
       "      <td>ultra</td>\n",
       "      <td>0</td>\n",
       "      <td>0.0</td>\n",
       "      <td>0</td>\n",
       "      <td>1950.0</td>\n",
       "    </tr>\n",
       "    <tr>\n",
       "      <td>1</td>\n",
       "      <td>1000</td>\n",
       "      <td>6</td>\n",
       "      <td>172</td>\n",
       "      <td>23234</td>\n",
       "      <td>60</td>\n",
       "      <td>52</td>\n",
       "      <td>NaT</td>\n",
       "      <td>Краснодар</td>\n",
       "      <td>Рафаил</td>\n",
       "      <td>Верещагин</td>\n",
       "      <td>...</td>\n",
       "      <td>3000</td>\n",
       "      <td>1950</td>\n",
       "      <td>150</td>\n",
       "      <td>1</td>\n",
       "      <td>1</td>\n",
       "      <td>ultra</td>\n",
       "      <td>0</td>\n",
       "      <td>0.0</td>\n",
       "      <td>0</td>\n",
       "      <td>1950.0</td>\n",
       "    </tr>\n",
       "    <tr>\n",
       "      <td>2</td>\n",
       "      <td>1000</td>\n",
       "      <td>7</td>\n",
       "      <td>340</td>\n",
       "      <td>14004</td>\n",
       "      <td>75</td>\n",
       "      <td>52</td>\n",
       "      <td>NaT</td>\n",
       "      <td>Краснодар</td>\n",
       "      <td>Рафаил</td>\n",
       "      <td>Верещагин</td>\n",
       "      <td>...</td>\n",
       "      <td>3000</td>\n",
       "      <td>1950</td>\n",
       "      <td>150</td>\n",
       "      <td>1</td>\n",
       "      <td>1</td>\n",
       "      <td>ultra</td>\n",
       "      <td>0</td>\n",
       "      <td>0.0</td>\n",
       "      <td>0</td>\n",
       "      <td>1950.0</td>\n",
       "    </tr>\n",
       "    <tr>\n",
       "      <td>3</td>\n",
       "      <td>1000</td>\n",
       "      <td>8</td>\n",
       "      <td>408</td>\n",
       "      <td>14056</td>\n",
       "      <td>81</td>\n",
       "      <td>52</td>\n",
       "      <td>NaT</td>\n",
       "      <td>Краснодар</td>\n",
       "      <td>Рафаил</td>\n",
       "      <td>Верещагин</td>\n",
       "      <td>...</td>\n",
       "      <td>3000</td>\n",
       "      <td>1950</td>\n",
       "      <td>150</td>\n",
       "      <td>1</td>\n",
       "      <td>1</td>\n",
       "      <td>ultra</td>\n",
       "      <td>0</td>\n",
       "      <td>0.0</td>\n",
       "      <td>0</td>\n",
       "      <td>1950.0</td>\n",
       "    </tr>\n",
       "    <tr>\n",
       "      <td>4</td>\n",
       "      <td>1000</td>\n",
       "      <td>9</td>\n",
       "      <td>466</td>\n",
       "      <td>14569</td>\n",
       "      <td>57</td>\n",
       "      <td>52</td>\n",
       "      <td>NaT</td>\n",
       "      <td>Краснодар</td>\n",
       "      <td>Рафаил</td>\n",
       "      <td>Верещагин</td>\n",
       "      <td>...</td>\n",
       "      <td>3000</td>\n",
       "      <td>1950</td>\n",
       "      <td>150</td>\n",
       "      <td>1</td>\n",
       "      <td>1</td>\n",
       "      <td>ultra</td>\n",
       "      <td>0</td>\n",
       "      <td>0.0</td>\n",
       "      <td>0</td>\n",
       "      <td>1950.0</td>\n",
       "    </tr>\n",
       "  </tbody>\n",
       "</table>\n",
       "<p>5 rows × 26 columns</p>\n",
       "</div>"
      ],
      "text/plain": [
       "   user_id  month  duration  mb_used  massages_count  age churn_date  \\\n",
       "0     1000      5       159     2254              22   52        NaT   \n",
       "1     1000      6       172    23234              60   52        NaT   \n",
       "2     1000      7       340    14004              75   52        NaT   \n",
       "3     1000      8       408    14056              81   52        NaT   \n",
       "4     1000      9       466    14569              57   52        NaT   \n",
       "\n",
       "        city first_name  last_name  ... minutes_included rub_monthly_fee  \\\n",
       "0  Краснодар     Рафаил  Верещагин  ...             3000            1950   \n",
       "1  Краснодар     Рафаил  Верещагин  ...             3000            1950   \n",
       "2  Краснодар     Рафаил  Верещагин  ...             3000            1950   \n",
       "3  Краснодар     Рафаил  Верещагин  ...             3000            1950   \n",
       "4  Краснодар     Рафаил  Верещагин  ...             3000            1950   \n",
       "\n",
       "   rub_per_gb  rub_per_message  rub_per_minute  tariff_name  massage_fee  \\\n",
       "0         150                1               1        ultra            0   \n",
       "1         150                1               1        ultra            0   \n",
       "2         150                1               1        ultra            0   \n",
       "3         150                1               1        ultra            0   \n",
       "4         150                1               1        ultra            0   \n",
       "\n",
       "   internet_fee  duration_fee  total_fee  \n",
       "0           0.0             0     1950.0  \n",
       "1           0.0             0     1950.0  \n",
       "2           0.0             0     1950.0  \n",
       "3           0.0             0     1950.0  \n",
       "4           0.0             0     1950.0  \n",
       "\n",
       "[5 rows x 26 columns]"
      ]
     },
     "execution_count": 12,
     "metadata": {},
     "output_type": "execute_result"
    }
   ],
   "source": [
    "#считаем выручку за сообщения\n",
    "data_month_merged['massage_fee'] = (\n",
    "    (data_month_merged['massages_count']\n",
    "     - data_month_merged['messages_included']) \n",
    "    * data_month_merged['rub_per_message']\n",
    ")\n",
    "data_month_merged.loc[data_month_merged['massage_fee'] < 0, 'massage_fee'] = 0\n",
    "\n",
    "#считаем выручку за интернет\n",
    "data_month_merged['internet_fee'] = (\n",
    "    (data_month_merged['mb_used'] \n",
    "     - data_month_merged['mb_per_month_included']) \n",
    "    / 1024 * data_month_merged['rub_per_gb']\n",
    ")\n",
    "data_month_merged.loc[data_month_merged['internet_fee'] < 0, 'internet_fee'] = 0\n",
    "\n",
    "#считаем выручку за звонки\n",
    "data_month_merged['duration_fee'] = (\n",
    "    (data_month_merged['duration'] \n",
    "     - data_month_merged['minutes_included']) \n",
    "    * data_month_merged['rub_per_minute']\n",
    ")\n",
    "data_month_merged.loc[data_month_merged['duration_fee'] < 0, 'duration_fee'] = 0\n",
    "\n",
    "#считаем общую выручку по месяцам\n",
    "data_month_merged['total_fee'] = (\n",
    "    data_month_merged['rub_monthly_fee'] \n",
    "    + data_month_merged['massage_fee'] \n",
    "    + data_month_merged['internet_fee'] \n",
    "    + data_month_merged['duration_fee']\n",
    ")\n",
    "\n",
    "data_month_merged.head()"
   ]
  },
  {
   "cell_type": "markdown",
   "metadata": {},
   "source": [
    "___Вывод___:\n",
    "В данных присутствовало небольще количество выбросов, больше всего по количеству отправленных сообщений.\n"
   ]
  },
  {
   "cell_type": "markdown",
   "metadata": {},
   "source": [
    "## Анализ данных"
   ]
  },
  {
   "cell_type": "markdown",
   "metadata": {},
   "source": [
    "### Поведение пользователей в разных тарифах"
   ]
  },
  {
   "cell_type": "code",
   "execution_count": 13,
   "metadata": {},
   "outputs": [
    {
     "data": {
      "text/html": [
       "<div>\n",
       "<style scoped>\n",
       "    .dataframe tbody tr th:only-of-type {\n",
       "        vertical-align: middle;\n",
       "    }\n",
       "\n",
       "    .dataframe tbody tr th {\n",
       "        vertical-align: top;\n",
       "    }\n",
       "\n",
       "    .dataframe thead tr th {\n",
       "        text-align: left;\n",
       "    }\n",
       "\n",
       "    .dataframe thead tr:last-of-type th {\n",
       "        text-align: right;\n",
       "    }\n",
       "</style>\n",
       "<table border=\"1\" class=\"dataframe\">\n",
       "  <thead>\n",
       "    <tr>\n",
       "      <th></th>\n",
       "      <th colspan=\"3\" halign=\"left\">mean</th>\n",
       "      <th colspan=\"3\" halign=\"left\">std</th>\n",
       "      <th colspan=\"3\" halign=\"left\">var</th>\n",
       "    </tr>\n",
       "    <tr>\n",
       "      <th></th>\n",
       "      <th>duration</th>\n",
       "      <th>massages_count</th>\n",
       "      <th>mb_used</th>\n",
       "      <th>duration</th>\n",
       "      <th>massages_count</th>\n",
       "      <th>mb_used</th>\n",
       "      <th>duration</th>\n",
       "      <th>massages_count</th>\n",
       "      <th>mb_used</th>\n",
       "    </tr>\n",
       "    <tr>\n",
       "      <th>tariff</th>\n",
       "      <th></th>\n",
       "      <th></th>\n",
       "      <th></th>\n",
       "      <th></th>\n",
       "      <th></th>\n",
       "      <th></th>\n",
       "      <th></th>\n",
       "      <th></th>\n",
       "      <th></th>\n",
       "    </tr>\n",
       "  </thead>\n",
       "  <tbody>\n",
       "    <tr>\n",
       "      <td>smart</td>\n",
       "      <td>416</td>\n",
       "      <td>32</td>\n",
       "      <td>16087</td>\n",
       "      <td>188</td>\n",
       "      <td>27</td>\n",
       "      <td>5840</td>\n",
       "      <td>35619</td>\n",
       "      <td>767</td>\n",
       "      <td>34110794</td>\n",
       "    </tr>\n",
       "    <tr>\n",
       "      <td>ultra</td>\n",
       "      <td>451</td>\n",
       "      <td>35</td>\n",
       "      <td>16669</td>\n",
       "      <td>288</td>\n",
       "      <td>35</td>\n",
       "      <td>9586</td>\n",
       "      <td>83326</td>\n",
       "      <td>1280</td>\n",
       "      <td>91892398</td>\n",
       "    </tr>\n",
       "  </tbody>\n",
       "</table>\n",
       "</div>"
      ],
      "text/plain": [
       "           mean                             std                         \\\n",
       "       duration massages_count mb_used duration massages_count mb_used   \n",
       "tariff                                                                   \n",
       "smart       416             32   16087      188             27    5840   \n",
       "ultra       451             35   16669      288             35    9586   \n",
       "\n",
       "            var                           \n",
       "       duration massages_count   mb_used  \n",
       "tariff                                    \n",
       "smart     35619            767  34110794  \n",
       "ultra     83326           1280  91892398  "
      ]
     },
     "execution_count": 13,
     "metadata": {},
     "output_type": "execute_result"
    }
   ],
   "source": [
    "tariff_pivot = pd.pivot_table(data_month_merged, \n",
    "                              index = ['tariff'],\n",
    "                              aggfunc=['mean', 'std', 'var'],\n",
    "                              values = ['duration', 'mb_used', 'massages_count']\n",
    "                             ).astype('int')\n",
    "tariff_pivot"
   ]
  },
  {
   "cell_type": "markdown",
   "metadata": {},
   "source": [
    "___Вывод___: пользователи тарифа smart менее активны по всем показателям - количество потраченных минут, количество сообщений, объем использванного траффика.\n",
    "Также на тарифе Smart наблюдается значительно меньший разброс данных"
   ]
  },
  {
   "cell_type": "markdown",
   "metadata": {},
   "source": [
    "### Сравнение по количеству минут разговора"
   ]
  },
  {
   "cell_type": "code",
   "execution_count": 14,
   "metadata": {
    "scrolled": false
   },
   "outputs": [
    {
     "data": {
      "text/plain": [
       "<matplotlib.legend.Legend at 0x7fd5db1f2390>"
      ]
     },
     "execution_count": 14,
     "metadata": {},
     "output_type": "execute_result"
    },
    {
     "data": {
      "image/png": "[encoded data removed]",
      "text/plain": [
       "<Figure size 864x504 with 1 Axes>"
      ]
     },
     "metadata": {
      "needs_background": "light"
     },
     "output_type": "display_data"
    }
   ],
   "source": [
    "ax = data_month_merged.query('tariff == \"smart\"').plot(y='duration', kind='hist', bins=30, grid=True, label='smart')\n",
    "data_month_merged.query('tariff == \"ultra\"').plot(y='duration', kind='hist', bins=30, grid=True, ax=ax, label='ultra', alpha=0.7, figsize=(12,7), title='Сравнение по количеству минут разговора')\n",
    "plt.xlabel('Минуты')\n",
    "plt.ylabel('Пользователи')\n",
    "plt.axvline(x=tariffs['minutes_included'][0], color='b', label=\"Лимит Smart\", linestyle='dashed')\n",
    "plt.axvline(x=tariffs['minutes_included'][1], color='r', label=\"Лимит Ultra\", linestyle='dashed')\n",
    "plt.legend()\n"
   ]
  },
  {
   "cell_type": "markdown",
   "metadata": {},
   "source": [
    "___Вывод___: На тарифе Smart пользователи чаще всего расхдуют количество минут в месяц равное лимиту в 500 минут.\n",
    "\n",
    "Среди пользователей на тарифе Ultra значительно больший разброс по количеству проговоренных минут, но в среднем это количество, значительно меньше чем установленный лимит"
   ]
  },
  {
   "cell_type": "markdown",
   "metadata": {},
   "source": [
    "### Сравнение по количеству сообщений"
   ]
  },
  {
   "cell_type": "code",
   "execution_count": 15,
   "metadata": {
    "scrolled": false
   },
   "outputs": [
    {
     "data": {
      "text/plain": [
       "<matplotlib.legend.Legend at 0x7fd5db044b10>"
      ]
     },
     "execution_count": 15,
     "metadata": {},
     "output_type": "execute_result"
    },
    {
     "data": {
      "image/png": "[encoded data removed]",
      "text/plain": [
       "<Figure size 864x504 with 1 Axes>"
      ]
     },
     "metadata": {
      "needs_background": "light"
     },
     "output_type": "display_data"
    }
   ],
   "source": [
    "ax = data_month_merged.query('tariff == \"smart\"').plot(y='massages_count', kind='hist', bins=20, grid=True, label='smart', range=(1,250))\n",
    "data_month_merged.query('tariff == \"ultra\"').plot(y='massages_count', kind='hist', bins=20, grid=True, ax=ax, label='ultra', alpha=0.7, range=(1,250), figsize=(12,7), title='Сравнение по количеству сообщений')\n",
    "plt.xlabel('Сообщения')\n",
    "plt.ylabel('Пользователи')\n",
    "plt.axvline(x=tariffs['messages_included'][0], color='b', label=\"Лимит Smart\", linestyle='dashed')\n",
    "plt.axvline(x=tariffs['messages_included'][1], color='r', label=\"Лимит Ultra\", linestyle='dashed')\n",
    "plt.legend()"
   ]
  },
  {
   "cell_type": "markdown",
   "metadata": {},
   "source": [
    "___Вывод___: \n",
    "\n",
    "- На тарифе Смарт пользователи часто превышают бесплатный лимит сообщений\n",
    "\n",
    "- На тариф Ультра пользователи отправляют примерно столько же сообщений как и на тарифе Смарт, но общее количество сообщений значительно меньше чем установленный лимит"
   ]
  },
  {
   "cell_type": "markdown",
   "metadata": {},
   "source": [
    "### Сравнение по объему трафика"
   ]
  },
  {
   "cell_type": "code",
   "execution_count": 16,
   "metadata": {
    "scrolled": false
   },
   "outputs": [
    {
     "data": {
      "text/plain": [
       "<matplotlib.legend.Legend at 0x7fd5daa65f50>"
      ]
     },
     "execution_count": 16,
     "metadata": {},
     "output_type": "execute_result"
    },
    {
     "data": {
      "image/png": "[encoded data removed]",
      "text/plain": [
       "<Figure size 864x504 with 1 Axes>"
      ]
     },
     "metadata": {
      "needs_background": "light"
     },
     "output_type": "display_data"
    }
   ],
   "source": [
    "ax = data_month_merged.query('tariff == \"smart\"').plot(y='mb_used', kind='hist', bins=20, grid=True, label='smart')\n",
    "data_month_merged.query('tariff == \"ultra\"').plot(y='mb_used', kind='hist', bins=20, grid=True, ax=ax, label='ultra', alpha=0.7, figsize=(12,7), title='Сравнение израсходованного интернета')\n",
    "plt.xlabel('Мб')\n",
    "plt.ylabel('Пользователи')\n",
    "plt.axvline(x=tariffs['mb_per_month_included'][0], color='b', label=\"Лимит Smart\", linestyle='dashed')\n",
    "plt.axvline(x=tariffs['mb_per_month_included'][1], color='r', label=\"Лимит Ultra\", linestyle='dashed')\n",
    "\n",
    "plt.legend()"
   ]
  },
  {
   "cell_type": "markdown",
   "metadata": {},
   "source": [
    "___Вывод___: \n",
    "- На тарифе Смарт чаще всего пользователи превышают бесплатный лимит.\n",
    "\n",
    "- На тарифе Ультра большинство пользователей укладываються в бесплатный лимит, при объем израсходованного интернета распределяеться значительно более равномерно чем на арифе Смарт."
   ]
  },
  {
   "cell_type": "markdown",
   "metadata": {},
   "source": [
    "### Сравнение по выручке"
   ]
  },
  {
   "cell_type": "code",
   "execution_count": 17,
   "metadata": {
    "scrolled": false
   },
   "outputs": [
    {
     "name": "stdout",
     "output_type": "stream",
     "text": [
      "Средняя выручка c 1 пользователя на тарифе Smart: 1213\n",
      "Средняя выручка c 1 пользователя на тарифе Ultra: 1969\n"
     ]
    },
    {
     "data": {
      "image/png": "[encoded data removed]",
      "text/plain": [
       "<Figure size 864x504 with 1 Axes>"
      ]
     },
     "metadata": {
      "needs_background": "light"
     },
     "output_type": "display_data"
    }
   ],
   "source": [
    "ax = data_month_merged.query('tariff == \"smart\"').plot(y='total_fee', kind='hist', bins=50, grid=True, label='smart')\n",
    "data_month_merged.query('tariff == \"ultra\"').plot(y='total_fee', kind='hist', bins=20, grid=True, ax=ax, label='ultra', alpha=0.7, figsize=(12,7), title='')\n",
    "plt.xlabel('Мб')\n",
    "plt.ylabel('Пользователи')\n",
    "plt.legend()\n",
    "\n",
    "print('Средняя выручка c 1 пользователя на тарифе Smart:', data_month_merged.query('tariff == \"smart\"')['total_fee'].mean().astype('int'))\n",
    "print('Средняя выручка c 1 пользователя на тарифе Ultra:', data_month_merged.query('tariff == \"ultra\"')['total_fee'].mean().astype('int'))"
   ]
  },
  {
   "cell_type": "markdown",
   "metadata": {},
   "source": [
    "___Вывод___: Средняя выручка на тарифе Ультра выше чем на тарифе Смарт примерно на 40%, по данным из получнных выборок"
   ]
  },
  {
   "cell_type": "markdown",
   "metadata": {},
   "source": [
    "## Проверка гипотез"
   ]
  },
  {
   "cell_type": "markdown",
   "metadata": {},
   "source": [
    "### Средняя выручка пользователей тарифов «Ультра» и «Смарт» различаются"
   ]
  },
  {
   "cell_type": "code",
   "execution_count": 18,
   "metadata": {},
   "outputs": [
    {
     "data": {
      "text/html": [
       "<div>\n",
       "<style scoped>\n",
       "    .dataframe tbody tr th:only-of-type {\n",
       "        vertical-align: middle;\n",
       "    }\n",
       "\n",
       "    .dataframe tbody tr th {\n",
       "        vertical-align: top;\n",
       "    }\n",
       "\n",
       "    .dataframe thead th {\n",
       "        text-align: right;\n",
       "    }\n",
       "</style>\n",
       "<table border=\"1\" class=\"dataframe\">\n",
       "  <thead>\n",
       "    <tr style=\"text-align: right;\">\n",
       "      <th></th>\n",
       "      <th>Среднее</th>\n",
       "      <th>Медиана</th>\n",
       "      <th>Дисперсия</th>\n",
       "    </tr>\n",
       "    <tr>\n",
       "      <th>tariff</th>\n",
       "      <th></th>\n",
       "      <th></th>\n",
       "      <th></th>\n",
       "    </tr>\n",
       "  </thead>\n",
       "  <tbody>\n",
       "    <tr>\n",
       "      <td>smart</td>\n",
       "      <td>1213</td>\n",
       "      <td>955</td>\n",
       "      <td>549760</td>\n",
       "    </tr>\n",
       "    <tr>\n",
       "      <td>ultra</td>\n",
       "      <td>1969</td>\n",
       "      <td>1950</td>\n",
       "      <td>6981</td>\n",
       "    </tr>\n",
       "  </tbody>\n",
       "</table>\n",
       "</div>"
      ],
      "text/plain": [
       "        Среднее  Медиана  Дисперсия\n",
       "tariff                             \n",
       "smart      1213      955     549760\n",
       "ultra      1969     1950       6981"
      ]
     },
     "execution_count": 18,
     "metadata": {},
     "output_type": "execute_result"
    }
   ],
   "source": [
    "fee_pivot = pd.pivot_table(data_month_merged, \n",
    "                              index = ['tariff'],\n",
    "                              aggfunc=['mean', 'median', 'var'],\n",
    "                              values = ['total_fee']\n",
    "                             ).astype('int')\n",
    "fee_pivot.columns=('Среднее', 'Медиана', 'Дисперсия')\n",
    "fee_pivot"
   ]
  },
  {
   "cell_type": "markdown",
   "metadata": {},
   "source": [
    "Нулевая гипотеза звучит как - Средняя выручка пользователей тарифов «Ультра» и «Смарт» равны\n",
    "\n",
    "Альтернативная гипотеза - Средняя выручка пользователей тарифов «Ультра» и «Смарт» различаются"
   ]
  },
  {
   "cell_type": "code",
   "execution_count": 19,
   "metadata": {},
   "outputs": [
    {
     "name": "stdout",
     "output_type": "stream",
     "text": [
      "p-значение:  2.839784701927119e-194\n",
      "Отвергаем нулевую гипотезу\n"
     ]
    }
   ],
   "source": [
    "sample_smart = data_month_merged.query('tariff == \"smart\"')['total_fee']\n",
    "sample_ultra = data_month_merged.query('tariff == \"ultra\"')['total_fee']\n",
    "\n",
    "alpha = 0.05\n",
    "results = st.ttest_ind(sample_smart, sample_ultra, equal_var = True)\n",
    "\n",
    "print('p-значение: ', results.pvalue)\n",
    "\n",
    "if results.pvalue < alpha:\n",
    "    print('Отвергаем нулевую гипотезу')\n",
    "else:\n",
    "    print('Не отвергаем нулевую гипотезу')"
   ]
  },
  {
   "cell_type": "markdown",
   "metadata": {},
   "source": [
    "### Cредняя выручка пользователей из Москвы отличается от выручки пользователей из других регионов."
   ]
  },
  {
   "cell_type": "code",
   "execution_count": 20,
   "metadata": {},
   "outputs": [
    {
     "data": {
      "text/html": [
       "<div>\n",
       "<style scoped>\n",
       "    .dataframe tbody tr th:only-of-type {\n",
       "        vertical-align: middle;\n",
       "    }\n",
       "\n",
       "    .dataframe tbody tr th {\n",
       "        vertical-align: top;\n",
       "    }\n",
       "\n",
       "    .dataframe thead th {\n",
       "        text-align: right;\n",
       "    }\n",
       "</style>\n",
       "<table border=\"1\" class=\"dataframe\">\n",
       "  <thead>\n",
       "    <tr style=\"text-align: right;\">\n",
       "      <th></th>\n",
       "      <th>Среднее</th>\n",
       "      <th>Медиана</th>\n",
       "      <th>Дисперсия</th>\n",
       "    </tr>\n",
       "    <tr>\n",
       "      <th>geo</th>\n",
       "      <th></th>\n",
       "      <th></th>\n",
       "      <th></th>\n",
       "    </tr>\n",
       "  </thead>\n",
       "  <tbody>\n",
       "    <tr>\n",
       "      <td>Москва</td>\n",
       "      <td>1469</td>\n",
       "      <td>1675</td>\n",
       "      <td>456480</td>\n",
       "    </tr>\n",
       "    <tr>\n",
       "      <td>Регионы</td>\n",
       "      <td>1439</td>\n",
       "      <td>1500</td>\n",
       "      <td>516241</td>\n",
       "    </tr>\n",
       "  </tbody>\n",
       "</table>\n",
       "</div>"
      ],
      "text/plain": [
       "         Среднее  Медиана  Дисперсия\n",
       "geo                                 \n",
       "Москва      1469     1675     456480\n",
       "Регионы     1439     1500     516241"
      ]
     },
     "execution_count": 20,
     "metadata": {},
     "output_type": "execute_result"
    }
   ],
   "source": [
    "def geo_grouping(row):\n",
    "    if row == 'Москва':\n",
    "        return 'Москва'\n",
    "    else:\n",
    "        return 'Регионы'\n",
    "\n",
    "data_month_merged['geo'] = data_month_merged['city'].apply(geo_grouping)\n",
    "\n",
    "region_pivot = pd.pivot_table(data_month_merged, \n",
    "                              index = ['geo'],\n",
    "                              aggfunc=['mean', 'median', 'var'],\n",
    "                              values = ['total_fee']\n",
    "                             ).astype('int')\n",
    "region_pivot.columns=('Среднее', 'Медиана', 'Дисперсия')\n",
    "region_pivot\n",
    "region_pivot\n"
   ]
  },
  {
   "cell_type": "markdown",
   "metadata": {},
   "source": [
    "Нулевая гипотеза звучит как - Cредняя выручка пользователей из Москвы и выручка пользователей из других регионов равны\n",
    "\n",
    "Альтернативная гипотеза - Cредняя выручка пользователей из Москвы и выручка пользователей из других регионов отличаются"
   ]
  },
  {
   "cell_type": "code",
   "execution_count": 21,
   "metadata": {
    "scrolled": true
   },
   "outputs": [
    {
     "name": "stdout",
     "output_type": "stream",
     "text": [
      "p-значение:  0.353641834003659\n",
      "Не отвергаем нулевую гипотезу\n"
     ]
    }
   ],
   "source": [
    "sample_moscow = data_month_merged.query('city == \"Москва\"')['total_fee']\n",
    "sample_regions = data_month_merged.query('city != \"Москва\"')['total_fee']\n",
    "\n",
    "results = st.ttest_ind(sample_regions, sample_moscow, equal_var = True)\n",
    "\n",
    "print('p-значение: ', results.pvalue)\n",
    "\n",
    "if results.pvalue < alpha:\n",
    "    print('Отвергаем нулевую гипотезу')\n",
    "else:\n",
    "    print('Не отвергаем нулевую гипотезу')"
   ]
  },
  {
   "cell_type": "markdown",
   "metadata": {},
   "source": [
    "## Общий вывод"
   ]
  },
  {
   "cell_type": "markdown",
   "metadata": {},
   "source": [
    "Пользователи тарифа Ультра ведут себя активнее, но редко превышают бесплатные лимит. Также пользователи тарифа Ультра оличаются большим разбросом по количеству минут разговора и по объему трафика.\n",
    "Пользователи тарифа Смарт менее активны, вероятно они стараються уложиться в бесплатные лимиты но достаточно часто у них это не получается\n",
    "\n",
    "Подтвердилась гипотеза о том что средняя выручка пользователей тарифов «Ультра» и «Смарт» различаются\n",
    "А гипотеза о том средняя выручка пользователей из Москвы отличается от выручки пользователей из других регионов, не подтврдилась"
   ]
  }
 ],
 "metadata": {
  "ExecuteTimeLog": [
   {
    "duration": 675,
    "start_time": "2021-12-21T11:41:25.093Z"
   },
   {
    "duration": 2522,
    "start_time": "2021-12-21T11:42:16.676Z"
   },
   {
    "duration": 200,
    "start_time": "2021-12-21T11:42:38.624Z"
   },
   {
    "duration": 211,
    "start_time": "2021-12-21T11:43:08.201Z"
   },
   {
    "duration": 210,
    "start_time": "2021-12-21T11:43:17.381Z"
   },
   {
    "duration": 183,
    "start_time": "2021-12-21T11:44:10.986Z"
   },
   {
    "duration": 151,
    "start_time": "2021-12-21T11:44:20.326Z"
   },
   {
    "duration": 164,
    "start_time": "2021-12-21T11:44:36.988Z"
   },
   {
    "duration": 437,
    "start_time": "2021-12-21T11:45:15.293Z"
   },
   {
    "duration": 493,
    "start_time": "2021-12-21T11:46:12.658Z"
   },
   {
    "duration": 159,
    "start_time": "2021-12-21T11:46:33.099Z"
   },
   {
    "duration": 164,
    "start_time": "2021-12-21T11:48:03.599Z"
   },
   {
    "duration": 178,
    "start_time": "2021-12-21T11:48:21.441Z"
   },
   {
    "duration": 174,
    "start_time": "2021-12-21T11:49:08.186Z"
   },
   {
    "duration": 128,
    "start_time": "2021-12-21T11:49:42.455Z"
   },
   {
    "duration": 156,
    "start_time": "2021-12-21T11:49:52.107Z"
   },
   {
    "duration": 95,
    "start_time": "2021-12-21T11:50:05.767Z"
   },
   {
    "duration": 161,
    "start_time": "2021-12-21T11:50:11.719Z"
   },
   {
    "duration": 109,
    "start_time": "2021-12-21T11:50:20.648Z"
   },
   {
    "duration": 158,
    "start_time": "2021-12-21T11:50:44.062Z"
   },
   {
    "duration": 180,
    "start_time": "2021-12-21T11:50:49.935Z"
   },
   {
    "duration": 121,
    "start_time": "2021-12-21T11:50:56.102Z"
   },
   {
    "duration": 23,
    "start_time": "2021-12-21T11:51:43.384Z"
   },
   {
    "duration": 22,
    "start_time": "2021-12-21T11:51:55.809Z"
   },
   {
    "duration": 23,
    "start_time": "2021-12-21T11:52:13.763Z"
   },
   {
    "duration": 31,
    "start_time": "2021-12-21T11:52:50.810Z"
   },
   {
    "duration": 41,
    "start_time": "2021-12-21T11:53:14.256Z"
   },
   {
    "duration": 29,
    "start_time": "2021-12-21T11:53:32.516Z"
   },
   {
    "duration": 32,
    "start_time": "2021-12-21T11:53:44.922Z"
   },
   {
    "duration": 31,
    "start_time": "2021-12-21T11:54:06.974Z"
   },
   {
    "duration": 239,
    "start_time": "2021-12-21T11:54:55.756Z"
   },
   {
    "duration": 164,
    "start_time": "2021-12-21T11:55:18.594Z"
   },
   {
    "duration": 167,
    "start_time": "2021-12-21T11:55:29.394Z"
   },
   {
    "duration": 196,
    "start_time": "2021-12-21T11:55:44.751Z"
   },
   {
    "duration": 195,
    "start_time": "2021-12-21T11:57:09.287Z"
   },
   {
    "duration": 184,
    "start_time": "2021-12-21T11:57:12.423Z"
   },
   {
    "duration": 128,
    "start_time": "2021-12-21T11:57:21.638Z"
   },
   {
    "duration": 26,
    "start_time": "2021-12-21T11:57:24.647Z"
   },
   {
    "duration": 35,
    "start_time": "2021-12-21T11:57:28.768Z"
   },
   {
    "duration": 44,
    "start_time": "2021-12-21T12:00:22.681Z"
   },
   {
    "duration": 64,
    "start_time": "2021-12-21T12:02:49.856Z"
   },
   {
    "duration": 35,
    "start_time": "2021-12-21T12:05:14.560Z"
   },
   {
    "duration": 58,
    "start_time": "2021-12-21T12:05:49.444Z"
   },
   {
    "duration": 269,
    "start_time": "2021-12-21T12:33:22.325Z"
   },
   {
    "duration": 3,
    "start_time": "2021-12-21T12:33:51.010Z"
   },
   {
    "duration": 31,
    "start_time": "2021-12-21T12:34:06.006Z"
   },
   {
    "duration": 35,
    "start_time": "2021-12-21T12:34:24.526Z"
   },
   {
    "duration": 31,
    "start_time": "2021-12-21T12:34:34.401Z"
   },
   {
    "duration": 24,
    "start_time": "2021-12-21T12:35:41.094Z"
   },
   {
    "duration": 2,
    "start_time": "2021-12-21T12:35:58.548Z"
   },
   {
    "duration": 176,
    "start_time": "2021-12-21T12:35:58.552Z"
   },
   {
    "duration": 167,
    "start_time": "2021-12-21T12:35:58.730Z"
   },
   {
    "duration": 108,
    "start_time": "2021-12-21T12:35:58.899Z"
   },
   {
    "duration": 25,
    "start_time": "2021-12-21T12:35:59.008Z"
   },
   {
    "duration": 48,
    "start_time": "2021-12-21T12:35:59.035Z"
   },
   {
    "duration": 43,
    "start_time": "2021-12-21T12:35:59.085Z"
   },
   {
    "duration": 49,
    "start_time": "2021-12-21T12:35:59.130Z"
   },
   {
    "duration": 36,
    "start_time": "2021-12-21T12:36:34.196Z"
   },
   {
    "duration": 49,
    "start_time": "2021-12-21T12:37:10.691Z"
   },
   {
    "duration": 4,
    "start_time": "2021-12-21T12:37:15.467Z"
   },
   {
    "duration": 217,
    "start_time": "2021-12-21T12:37:15.473Z"
   },
   {
    "duration": 173,
    "start_time": "2021-12-21T12:37:15.692Z"
   },
   {
    "duration": 121,
    "start_time": "2021-12-21T12:37:15.867Z"
   },
   {
    "duration": 26,
    "start_time": "2021-12-21T12:37:15.990Z"
   },
   {
    "duration": 47,
    "start_time": "2021-12-21T12:37:16.018Z"
   },
   {
    "duration": 55,
    "start_time": "2021-12-21T12:37:16.067Z"
   },
   {
    "duration": 67,
    "start_time": "2021-12-21T12:37:16.124Z"
   },
   {
    "duration": 38,
    "start_time": "2021-12-21T12:37:53.093Z"
   },
   {
    "duration": 33,
    "start_time": "2021-12-21T12:38:07.069Z"
   },
   {
    "duration": 65,
    "start_time": "2021-12-21T12:57:49.978Z"
   },
   {
    "duration": 67,
    "start_time": "2021-12-21T13:00:28.875Z"
   },
   {
    "duration": 41,
    "start_time": "2021-12-21T13:00:41.235Z"
   },
   {
    "duration": 291,
    "start_time": "2021-12-21T13:00:58.650Z"
   },
   {
    "duration": 49,
    "start_time": "2021-12-21T13:01:06.134Z"
   },
   {
    "duration": 53,
    "start_time": "2021-12-21T13:01:31.680Z"
   },
   {
    "duration": 44,
    "start_time": "2021-12-21T13:01:47.493Z"
   },
   {
    "duration": 52,
    "start_time": "2021-12-21T13:30:24.048Z"
   },
   {
    "duration": 50,
    "start_time": "2021-12-21T13:32:15.103Z"
   },
   {
    "duration": 54,
    "start_time": "2021-12-21T13:32:41.971Z"
   },
   {
    "duration": 70,
    "start_time": "2021-12-21T13:34:28.681Z"
   },
   {
    "duration": 69,
    "start_time": "2021-12-21T13:34:53.689Z"
   },
   {
    "duration": 59,
    "start_time": "2021-12-21T13:35:07.238Z"
   },
   {
    "duration": 42,
    "start_time": "2021-12-21T13:36:43.805Z"
   },
   {
    "duration": 28,
    "start_time": "2021-12-21T13:36:51.478Z"
   },
   {
    "duration": 46,
    "start_time": "2021-12-21T13:38:29.840Z"
   },
   {
    "duration": 43,
    "start_time": "2021-12-21T13:38:53.613Z"
   },
   {
    "duration": 98,
    "start_time": "2021-12-21T13:39:16.802Z"
   },
   {
    "duration": 44,
    "start_time": "2021-12-21T13:39:30.421Z"
   },
   {
    "duration": 55,
    "start_time": "2021-12-21T13:39:43.696Z"
   },
   {
    "duration": 26,
    "start_time": "2021-12-21T13:41:21.182Z"
   },
   {
    "duration": 26,
    "start_time": "2021-12-21T13:42:09.087Z"
   },
   {
    "duration": 40,
    "start_time": "2021-12-21T13:43:03.806Z"
   },
   {
    "duration": 38,
    "start_time": "2021-12-21T13:43:09.983Z"
   },
   {
    "duration": 96,
    "start_time": "2021-12-21T13:45:09.248Z"
   },
   {
    "duration": 304,
    "start_time": "2021-12-21T13:45:17.540Z"
   },
   {
    "duration": 44,
    "start_time": "2021-12-21T13:45:35.835Z"
   },
   {
    "duration": 40,
    "start_time": "2021-12-21T13:46:45.563Z"
   },
   {
    "duration": 38,
    "start_time": "2021-12-21T13:47:11.391Z"
   },
   {
    "duration": 13,
    "start_time": "2021-12-21T13:49:14.922Z"
   },
   {
    "duration": 19,
    "start_time": "2021-12-21T13:49:53.534Z"
   },
   {
    "duration": 20,
    "start_time": "2021-12-21T13:50:24.898Z"
   },
   {
    "duration": 2,
    "start_time": "2021-12-21T13:51:29.854Z"
   },
   {
    "duration": 202,
    "start_time": "2021-12-21T13:51:29.858Z"
   },
   {
    "duration": 184,
    "start_time": "2021-12-21T13:51:30.063Z"
   },
   {
    "duration": 131,
    "start_time": "2021-12-21T13:51:30.249Z"
   },
   {
    "duration": 26,
    "start_time": "2021-12-21T13:51:30.382Z"
   },
   {
    "duration": 53,
    "start_time": "2021-12-21T13:51:30.410Z"
   },
   {
    "duration": 92,
    "start_time": "2021-12-21T13:51:30.465Z"
   },
   {
    "duration": 59,
    "start_time": "2021-12-21T13:51:30.560Z"
   },
   {
    "duration": 64,
    "start_time": "2021-12-21T13:51:30.621Z"
   },
   {
    "duration": 14,
    "start_time": "2021-12-21T13:51:30.688Z"
   },
   {
    "duration": 37,
    "start_time": "2021-12-21T13:51:30.704Z"
   },
   {
    "duration": 16,
    "start_time": "2021-12-21T13:51:52.550Z"
   },
   {
    "duration": 424,
    "start_time": "2021-12-22T09:33:02.680Z"
   },
   {
    "duration": 617,
    "start_time": "2021-12-22T09:33:23.232Z"
   },
   {
    "duration": 180,
    "start_time": "2021-12-22T09:33:23.851Z"
   },
   {
    "duration": 151,
    "start_time": "2021-12-22T09:33:24.033Z"
   },
   {
    "duration": 104,
    "start_time": "2021-12-22T09:33:24.185Z"
   },
   {
    "duration": 25,
    "start_time": "2021-12-22T09:33:24.290Z"
   },
   {
    "duration": 66,
    "start_time": "2021-12-22T09:33:24.317Z"
   },
   {
    "duration": 78,
    "start_time": "2021-12-22T09:33:24.385Z"
   },
   {
    "duration": 60,
    "start_time": "2021-12-22T09:33:24.465Z"
   },
   {
    "duration": 48,
    "start_time": "2021-12-22T09:33:24.527Z"
   },
   {
    "duration": 32,
    "start_time": "2021-12-22T09:33:24.577Z"
   },
   {
    "duration": 402,
    "start_time": "2021-12-22T09:33:24.611Z"
   },
   {
    "duration": 452,
    "start_time": "2021-12-22T09:33:35.929Z"
   },
   {
    "duration": 1354,
    "start_time": "2021-12-22T09:33:59.794Z"
   },
   {
    "duration": 1446,
    "start_time": "2021-12-22T09:34:06.766Z"
   },
   {
    "duration": 1352,
    "start_time": "2021-12-22T09:34:23.273Z"
   },
   {
    "duration": 56,
    "start_time": "2021-12-22T09:34:52.969Z"
   },
   {
    "duration": 24,
    "start_time": "2021-12-22T09:36:04.101Z"
   },
   {
    "duration": 123,
    "start_time": "2021-12-22T09:39:44.814Z"
   },
   {
    "duration": 25,
    "start_time": "2021-12-22T09:39:49.690Z"
   },
   {
    "duration": 398,
    "start_time": "2021-12-22T09:40:57.731Z"
   },
   {
    "duration": 23,
    "start_time": "2021-12-22T09:41:04.840Z"
   },
   {
    "duration": 9572,
    "start_time": "2021-12-22T09:41:35.771Z"
   },
   {
    "duration": 23,
    "start_time": "2021-12-22T09:41:55.753Z"
   },
   {
    "duration": 20,
    "start_time": "2021-12-22T09:42:06.297Z"
   },
   {
    "duration": 365,
    "start_time": "2021-12-22T09:42:34.139Z"
   },
   {
    "duration": 17,
    "start_time": "2021-12-22T09:43:05.487Z"
   },
   {
    "duration": 1252,
    "start_time": "2021-12-22T09:44:45.550Z"
   },
   {
    "duration": 19,
    "start_time": "2021-12-22T09:46:21.662Z"
   },
   {
    "duration": 16,
    "start_time": "2021-12-22T09:54:29.595Z"
   },
   {
    "duration": 446,
    "start_time": "2021-12-22T09:55:06.973Z"
   },
   {
    "duration": 11,
    "start_time": "2021-12-22T09:55:13.719Z"
   },
   {
    "duration": 16,
    "start_time": "2021-12-22T09:55:22.644Z"
   },
   {
    "duration": 18,
    "start_time": "2021-12-22T09:55:31.363Z"
   },
   {
    "duration": 22,
    "start_time": "2021-12-22T09:58:17.012Z"
   },
   {
    "duration": 23,
    "start_time": "2021-12-22T09:58:37.037Z"
   },
   {
    "duration": 350,
    "start_time": "2021-12-22T10:00:48.681Z"
   },
   {
    "duration": 350,
    "start_time": "2021-12-22T10:01:34.310Z"
   },
   {
    "duration": 27,
    "start_time": "2021-12-22T10:02:03.048Z"
   },
   {
    "duration": 16,
    "start_time": "2021-12-22T10:16:54.590Z"
   },
   {
    "duration": 18,
    "start_time": "2021-12-22T10:17:17.331Z"
   },
   {
    "duration": 19,
    "start_time": "2021-12-22T10:17:39.411Z"
   },
   {
    "duration": 18,
    "start_time": "2021-12-22T10:18:10.178Z"
   },
   {
    "duration": 349,
    "start_time": "2021-12-22T10:27:21.227Z"
   },
   {
    "duration": 116,
    "start_time": "2021-12-22T10:28:51.363Z"
   },
   {
    "duration": 341,
    "start_time": "2021-12-22T10:29:08.718Z"
   },
   {
    "duration": 8,
    "start_time": "2021-12-22T10:29:34.654Z"
   },
   {
    "duration": 29,
    "start_time": "2021-12-22T10:29:41.541Z"
   },
   {
    "duration": 16,
    "start_time": "2021-12-22T10:31:54.231Z"
   },
   {
    "duration": 9,
    "start_time": "2021-12-22T10:32:28.363Z"
   },
   {
    "duration": 40,
    "start_time": "2021-12-22T10:32:33.007Z"
   },
   {
    "duration": 15,
    "start_time": "2021-12-22T10:33:55.432Z"
   },
   {
    "duration": 20,
    "start_time": "2021-12-22T10:34:32.681Z"
   },
   {
    "duration": 22,
    "start_time": "2021-12-22T10:35:14.680Z"
   },
   {
    "duration": 9,
    "start_time": "2021-12-22T10:51:17.355Z"
   },
   {
    "duration": 29,
    "start_time": "2021-12-22T10:51:26.778Z"
   },
   {
    "duration": 36,
    "start_time": "2021-12-22T10:52:12.954Z"
   },
   {
    "duration": 29,
    "start_time": "2021-12-22T10:54:28.833Z"
   },
   {
    "duration": 30,
    "start_time": "2021-12-22T10:55:16.842Z"
   },
   {
    "duration": 30,
    "start_time": "2021-12-22T10:56:33.195Z"
   },
   {
    "duration": 33,
    "start_time": "2021-12-22T10:59:14.088Z"
   },
   {
    "duration": 36,
    "start_time": "2021-12-22T11:01:48.658Z"
   },
   {
    "duration": 38,
    "start_time": "2021-12-22T11:02:06.656Z"
   },
   {
    "duration": 36,
    "start_time": "2021-12-22T11:05:06.842Z"
   },
   {
    "duration": 24,
    "start_time": "2021-12-22T11:05:45.086Z"
   },
   {
    "duration": 32,
    "start_time": "2021-12-22T11:05:49.685Z"
   },
   {
    "duration": 20,
    "start_time": "2021-12-22T11:41:07.368Z"
   },
   {
    "duration": 13,
    "start_time": "2021-12-22T11:45:00.761Z"
   },
   {
    "duration": 20,
    "start_time": "2021-12-22T11:45:08.892Z"
   },
   {
    "duration": 20,
    "start_time": "2021-12-22T11:47:03.107Z"
   },
   {
    "duration": 16,
    "start_time": "2021-12-22T11:48:34.144Z"
   },
   {
    "duration": 14,
    "start_time": "2021-12-22T11:48:55.573Z"
   },
   {
    "duration": 14,
    "start_time": "2021-12-22T11:49:05.751Z"
   },
   {
    "duration": 15,
    "start_time": "2021-12-22T11:49:20.149Z"
   },
   {
    "duration": 24,
    "start_time": "2021-12-22T11:51:20.492Z"
   },
   {
    "duration": 24,
    "start_time": "2021-12-22T11:51:59.648Z"
   },
   {
    "duration": 365,
    "start_time": "2021-12-22T11:54:03.819Z"
   },
   {
    "duration": 511,
    "start_time": "2021-12-22T11:54:09.165Z"
   },
   {
    "duration": 359,
    "start_time": "2021-12-22T11:54:20.620Z"
   },
   {
    "duration": 24,
    "start_time": "2021-12-22T11:54:48.819Z"
   },
   {
    "duration": 35,
    "start_time": "2021-12-22T11:55:25.823Z"
   },
   {
    "duration": 428,
    "start_time": "2021-12-22T11:56:43.391Z"
   },
   {
    "duration": 34,
    "start_time": "2021-12-22T11:56:56.860Z"
   },
   {
    "duration": 19,
    "start_time": "2021-12-22T11:58:45.869Z"
   },
   {
    "duration": 2,
    "start_time": "2021-12-22T11:58:56.135Z"
   },
   {
    "duration": 169,
    "start_time": "2021-12-22T11:58:56.140Z"
   },
   {
    "duration": 161,
    "start_time": "2021-12-22T11:58:56.311Z"
   },
   {
    "duration": 100,
    "start_time": "2021-12-22T11:58:56.474Z"
   },
   {
    "duration": 26,
    "start_time": "2021-12-22T11:58:56.576Z"
   },
   {
    "duration": 41,
    "start_time": "2021-12-22T11:58:56.603Z"
   },
   {
    "duration": 68,
    "start_time": "2021-12-22T11:58:56.646Z"
   },
   {
    "duration": 51,
    "start_time": "2021-12-22T11:58:56.716Z"
   },
   {
    "duration": 60,
    "start_time": "2021-12-22T11:58:56.769Z"
   },
   {
    "duration": 18,
    "start_time": "2021-12-22T11:58:56.831Z"
   },
   {
    "duration": 19,
    "start_time": "2021-12-22T11:58:56.851Z"
   },
   {
    "duration": 36,
    "start_time": "2021-12-22T11:58:56.871Z"
   },
   {
    "duration": 22,
    "start_time": "2021-12-22T11:58:56.909Z"
   },
   {
    "duration": 20,
    "start_time": "2021-12-22T11:58:56.933Z"
   },
   {
    "duration": 57,
    "start_time": "2021-12-22T11:58:56.955Z"
   },
   {
    "duration": 20,
    "start_time": "2021-12-22T11:59:58.094Z"
   },
   {
    "duration": 19,
    "start_time": "2021-12-22T12:00:54.075Z"
   },
   {
    "duration": 871,
    "start_time": "2021-12-23T08:35:46.143Z"
   },
   {
    "duration": 334,
    "start_time": "2021-12-23T08:35:47.017Z"
   },
   {
    "duration": 481,
    "start_time": "2021-12-23T08:35:47.354Z"
   },
   {
    "duration": 466,
    "start_time": "2021-12-23T08:35:47.838Z"
   },
   {
    "duration": 51,
    "start_time": "2021-12-23T08:35:48.307Z"
   },
   {
    "duration": 50,
    "start_time": "2021-12-23T08:35:48.361Z"
   },
   {
    "duration": 111,
    "start_time": "2021-12-23T08:35:48.414Z"
   },
   {
    "duration": 85,
    "start_time": "2021-12-23T08:35:48.529Z"
   },
   {
    "duration": 82,
    "start_time": "2021-12-23T08:35:48.616Z"
   },
   {
    "duration": 26,
    "start_time": "2021-12-23T08:35:48.700Z"
   },
   {
    "duration": 49,
    "start_time": "2021-12-23T08:35:48.729Z"
   },
   {
    "duration": 35,
    "start_time": "2021-12-23T08:35:48.783Z"
   },
   {
    "duration": 66,
    "start_time": "2021-12-23T08:35:48.821Z"
   },
   {
    "duration": 43,
    "start_time": "2021-12-23T08:35:48.889Z"
   },
   {
    "duration": 79,
    "start_time": "2021-12-23T08:35:48.935Z"
   },
   {
    "duration": 841,
    "start_time": "2021-12-23T08:50:41.544Z"
   },
   {
    "duration": 9218,
    "start_time": "2021-12-23T08:51:39.782Z"
   },
   {
    "duration": 47,
    "start_time": "2021-12-23T08:53:54.913Z"
   },
   {
    "duration": 54,
    "start_time": "2021-12-23T09:27:01.540Z"
   },
   {
    "duration": 403,
    "start_time": "2021-12-23T09:47:42.300Z"
   },
   {
    "duration": 320,
    "start_time": "2021-12-23T09:47:45.128Z"
   },
   {
    "duration": 30,
    "start_time": "2021-12-23T09:47:51.476Z"
   },
   {
    "duration": 300,
    "start_time": "2021-12-23T09:48:18.252Z"
   },
   {
    "duration": 336,
    "start_time": "2021-12-23T09:50:59.500Z"
   },
   {
    "duration": 136,
    "start_time": "2021-12-23T09:51:27.987Z"
   },
   {
    "duration": 659,
    "start_time": "2021-12-23T09:51:49.330Z"
   },
   {
    "duration": 652,
    "start_time": "2021-12-23T09:51:59.267Z"
   },
   {
    "duration": 327,
    "start_time": "2021-12-23T09:52:34.980Z"
   },
   {
    "duration": 379,
    "start_time": "2021-12-23T09:52:46.227Z"
   },
   {
    "duration": 428,
    "start_time": "2021-12-23T09:53:09.915Z"
   },
   {
    "duration": 512,
    "start_time": "2021-12-23T09:53:21.240Z"
   },
   {
    "duration": 514,
    "start_time": "2021-12-23T09:53:45.645Z"
   },
   {
    "duration": 675,
    "start_time": "2021-12-23T09:54:18.975Z"
   },
   {
    "duration": 509,
    "start_time": "2021-12-23T09:54:26.286Z"
   },
   {
    "duration": 512,
    "start_time": "2021-12-23T09:54:38.446Z"
   },
   {
    "duration": 531,
    "start_time": "2021-12-23T09:56:08.809Z"
   },
   {
    "duration": 599,
    "start_time": "2021-12-23T09:56:34.787Z"
   },
   {
    "duration": 508,
    "start_time": "2021-12-23T09:56:39.768Z"
   },
   {
    "duration": 517,
    "start_time": "2021-12-23T09:56:47.552Z"
   },
   {
    "duration": 512,
    "start_time": "2021-12-23T09:56:56.300Z"
   },
   {
    "duration": 524,
    "start_time": "2021-12-23T09:57:09.064Z"
   },
   {
    "duration": 154,
    "start_time": "2021-12-23T09:57:49.998Z"
   },
   {
    "duration": 613,
    "start_time": "2021-12-23T09:57:58.177Z"
   },
   {
    "duration": 560,
    "start_time": "2021-12-23T09:58:03.737Z"
   },
   {
    "duration": 520,
    "start_time": "2021-12-23T09:58:11.301Z"
   },
   {
    "duration": 510,
    "start_time": "2021-12-23T09:58:22.025Z"
   },
   {
    "duration": 539,
    "start_time": "2021-12-23T09:58:31.984Z"
   },
   {
    "duration": 517,
    "start_time": "2021-12-23T09:58:42.350Z"
   },
   {
    "duration": 513,
    "start_time": "2021-12-23T09:59:23.856Z"
   },
   {
    "duration": 474,
    "start_time": "2021-12-23T09:59:42.834Z"
   },
   {
    "duration": 564,
    "start_time": "2021-12-23T09:59:52.207Z"
   },
   {
    "duration": 567,
    "start_time": "2021-12-23T10:00:06.306Z"
   },
   {
    "duration": 476,
    "start_time": "2021-12-23T10:00:30.592Z"
   },
   {
    "duration": 642,
    "start_time": "2021-12-23T10:00:41.226Z"
   },
   {
    "duration": 591,
    "start_time": "2021-12-23T10:00:51.182Z"
   },
   {
    "duration": 583,
    "start_time": "2021-12-23T10:01:01.087Z"
   },
   {
    "duration": 623,
    "start_time": "2021-12-23T10:01:05.737Z"
   },
   {
    "duration": 607,
    "start_time": "2021-12-23T10:01:10.927Z"
   },
   {
    "duration": 617,
    "start_time": "2021-12-23T10:01:22.554Z"
   },
   {
    "duration": 540,
    "start_time": "2021-12-23T10:01:57.355Z"
   },
   {
    "duration": 555,
    "start_time": "2021-12-23T10:02:03.139Z"
   },
   {
    "duration": 908,
    "start_time": "2021-12-23T10:04:32.039Z"
   },
   {
    "duration": 1087,
    "start_time": "2021-12-23T10:04:39.897Z"
   },
   {
    "duration": 545,
    "start_time": "2021-12-23T10:04:47.095Z"
   },
   {
    "duration": 618,
    "start_time": "2021-12-23T10:05:01.347Z"
   },
   {
    "duration": 1188,
    "start_time": "2021-12-23T10:05:43.513Z"
   },
   {
    "duration": 572,
    "start_time": "2021-12-23T10:05:49.995Z"
   },
   {
    "duration": 824,
    "start_time": "2021-12-23T10:07:31.143Z"
   },
   {
    "duration": 3,
    "start_time": "2021-12-23T10:08:07.110Z"
   },
   {
    "duration": 838,
    "start_time": "2021-12-23T10:08:15.296Z"
   },
   {
    "duration": 230,
    "start_time": "2021-12-23T11:43:42.806Z"
   },
   {
    "duration": 392,
    "start_time": "2021-12-23T11:44:37.119Z"
   },
   {
    "duration": 532,
    "start_time": "2021-12-23T11:45:29.057Z"
   },
   {
    "duration": 206,
    "start_time": "2021-12-23T11:45:53.784Z"
   },
   {
    "duration": 218,
    "start_time": "2021-12-23T11:46:04.334Z"
   },
   {
    "duration": 120,
    "start_time": "2021-12-23T11:46:09.402Z"
   },
   {
    "duration": 27,
    "start_time": "2021-12-23T11:46:18.661Z"
   },
   {
    "duration": 4,
    "start_time": "2021-12-23T11:46:41.194Z"
   },
   {
    "duration": 42,
    "start_time": "2021-12-23T11:47:16.746Z"
   },
   {
    "duration": 76,
    "start_time": "2021-12-23T11:47:53.397Z"
   },
   {
    "duration": 29,
    "start_time": "2021-12-23T11:48:44.545Z"
   },
   {
    "duration": 28,
    "start_time": "2021-12-23T11:49:02.510Z"
   },
   {
    "duration": 99,
    "start_time": "2021-12-23T11:54:19.997Z"
   },
   {
    "duration": 329,
    "start_time": "2021-12-23T11:54:24.879Z"
   },
   {
    "duration": 47,
    "start_time": "2021-12-23T11:55:56.671Z"
   },
   {
    "duration": 67,
    "start_time": "2021-12-23T11:56:05.150Z"
   },
   {
    "duration": 88,
    "start_time": "2021-12-23T11:56:59.798Z"
   },
   {
    "duration": 416,
    "start_time": "2021-12-23T11:58:22.040Z"
   },
   {
    "duration": 323,
    "start_time": "2021-12-23T11:58:34.479Z"
   },
   {
    "duration": 1222,
    "start_time": "2021-12-23T11:58:53.693Z"
   },
   {
    "duration": 83,
    "start_time": "2021-12-23T11:59:25.140Z"
   },
   {
    "duration": 82,
    "start_time": "2021-12-23T11:59:47.037Z"
   },
   {
    "duration": 349,
    "start_time": "2021-12-23T12:01:22.497Z"
   },
   {
    "duration": 86,
    "start_time": "2021-12-23T12:01:37.183Z"
   },
   {
    "duration": 82,
    "start_time": "2021-12-23T12:02:03.332Z"
   },
   {
    "duration": 84,
    "start_time": "2021-12-23T12:02:29.469Z"
   },
   {
    "duration": 63,
    "start_time": "2021-12-23T12:04:51.338Z"
   },
   {
    "duration": 47,
    "start_time": "2021-12-23T12:07:32.274Z"
   },
   {
    "duration": 588,
    "start_time": "2021-12-23T12:08:30.533Z"
   },
   {
    "duration": 568,
    "start_time": "2021-12-23T12:08:41.863Z"
   },
   {
    "duration": 632,
    "start_time": "2021-12-23T12:08:58.276Z"
   },
   {
    "duration": 636,
    "start_time": "2021-12-23T12:09:34.478Z"
   },
   {
    "duration": 645,
    "start_time": "2021-12-23T12:09:49.457Z"
   },
   {
    "duration": 858,
    "start_time": "2021-12-23T12:10:22.547Z"
   },
   {
    "duration": 848,
    "start_time": "2021-12-23T12:10:47.225Z"
   },
   {
    "duration": 985,
    "start_time": "2021-12-23T12:12:00.396Z"
   },
   {
    "duration": 4,
    "start_time": "2021-12-23T12:12:20.638Z"
   },
   {
    "duration": 586,
    "start_time": "2021-12-23T12:12:25.642Z"
   },
   {
    "duration": 786,
    "start_time": "2021-12-23T12:13:11.669Z"
   },
   {
    "duration": 676,
    "start_time": "2021-12-23T12:13:35.215Z"
   },
   {
    "duration": 562,
    "start_time": "2021-12-23T12:13:54.037Z"
   },
   {
    "duration": 641,
    "start_time": "2021-12-23T12:14:12.757Z"
   },
   {
    "duration": 486,
    "start_time": "2021-12-23T12:14:43.726Z"
   },
   {
    "duration": 443,
    "start_time": "2021-12-23T12:14:58.130Z"
   },
   {
    "duration": 209,
    "start_time": "2021-12-23T12:15:25.479Z"
   },
   {
    "duration": 320,
    "start_time": "2021-12-23T12:15:36.606Z"
   },
   {
    "duration": 67,
    "start_time": "2021-12-23T12:38:50.718Z"
   },
   {
    "duration": 367,
    "start_time": "2021-12-23T12:39:25.835Z"
   },
   {
    "duration": 66,
    "start_time": "2021-12-23T12:40:25.955Z"
   },
   {
    "duration": 68,
    "start_time": "2021-12-23T12:42:01.200Z"
   },
   {
    "duration": 411,
    "start_time": "2021-12-23T12:47:01.597Z"
   },
   {
    "duration": 535,
    "start_time": "2021-12-23T12:47:16.536Z"
   },
   {
    "duration": 652,
    "start_time": "2021-12-23T12:47:30.948Z"
   },
   {
    "duration": 489,
    "start_time": "2021-12-23T12:47:35.653Z"
   },
   {
    "duration": 2239,
    "start_time": "2021-12-23T12:48:01.605Z"
   },
   {
    "duration": 3715,
    "start_time": "2021-12-23T12:52:44.081Z"
   },
   {
    "duration": 67,
    "start_time": "2021-12-23T12:53:17.609Z"
   },
   {
    "duration": 70,
    "start_time": "2021-12-23T12:53:23.086Z"
   },
   {
    "duration": 67,
    "start_time": "2021-12-23T12:53:35.443Z"
   },
   {
    "duration": 69,
    "start_time": "2021-12-23T12:53:52.583Z"
   },
   {
    "duration": 67,
    "start_time": "2021-12-23T12:54:03.665Z"
   },
   {
    "duration": 72,
    "start_time": "2021-12-23T12:54:30.236Z"
   },
   {
    "duration": 73,
    "start_time": "2021-12-23T12:54:38.720Z"
   },
   {
    "duration": 286,
    "start_time": "2021-12-23T12:54:43.951Z"
   },
   {
    "duration": 280,
    "start_time": "2021-12-23T12:54:49.799Z"
   },
   {
    "duration": 322,
    "start_time": "2021-12-23T12:54:55.885Z"
   },
   {
    "duration": 284,
    "start_time": "2021-12-23T12:55:00.286Z"
   },
   {
    "duration": 478,
    "start_time": "2021-12-23T12:55:18.836Z"
   },
   {
    "duration": 337,
    "start_time": "2021-12-23T12:55:25.533Z"
   },
   {
    "duration": 71,
    "start_time": "2021-12-23T12:55:53.973Z"
   },
   {
    "duration": 7118,
    "start_time": "2021-12-23T12:56:21.248Z"
   },
   {
    "duration": 24,
    "start_time": "2021-12-23T12:56:50.413Z"
   },
   {
    "duration": 60,
    "start_time": "2021-12-23T12:56:53.623Z"
   },
   {
    "duration": 373,
    "start_time": "2021-12-23T12:57:13.897Z"
   },
   {
    "duration": 278,
    "start_time": "2021-12-23T12:57:29.353Z"
   },
   {
    "duration": 400,
    "start_time": "2021-12-23T12:57:33.690Z"
   },
   {
    "duration": 263,
    "start_time": "2021-12-23T12:57:37.083Z"
   },
   {
    "duration": 60,
    "start_time": "2021-12-23T12:57:43.079Z"
   },
   {
    "duration": 63,
    "start_time": "2021-12-23T12:58:54.981Z"
   },
   {
    "duration": 63,
    "start_time": "2021-12-23T12:59:23.314Z"
   },
   {
    "duration": 61,
    "start_time": "2021-12-23T12:59:58.601Z"
   },
   {
    "duration": 61,
    "start_time": "2021-12-23T13:00:11.596Z"
   },
   {
    "duration": 80,
    "start_time": "2021-12-23T13:00:53.358Z"
   },
   {
    "duration": 73,
    "start_time": "2021-12-23T13:02:11.782Z"
   },
   {
    "duration": 80,
    "start_time": "2021-12-23T13:02:40.079Z"
   },
   {
    "duration": 153,
    "start_time": "2021-12-23T13:03:16.491Z"
   },
   {
    "duration": 409,
    "start_time": "2021-12-23T13:03:20.792Z"
   },
   {
    "duration": 141,
    "start_time": "2021-12-23T13:03:28.927Z"
   },
   {
    "duration": 78,
    "start_time": "2021-12-23T13:03:54.172Z"
   },
   {
    "duration": 87,
    "start_time": "2021-12-23T13:04:17.135Z"
   },
   {
    "duration": 78,
    "start_time": "2021-12-23T13:04:30.239Z"
   },
   {
    "duration": 79,
    "start_time": "2021-12-23T13:04:38.835Z"
   },
   {
    "duration": 56,
    "start_time": "2021-12-23T13:06:05.206Z"
   },
   {
    "duration": 63,
    "start_time": "2021-12-23T13:06:53.794Z"
   },
   {
    "duration": 80,
    "start_time": "2021-12-23T13:08:03.073Z"
   },
   {
    "duration": 24,
    "start_time": "2021-12-23T13:08:58.754Z"
   },
   {
    "duration": 62,
    "start_time": "2021-12-23T13:09:01.824Z"
   },
   {
    "duration": 4,
    "start_time": "2021-12-23T13:09:05.681Z"
   },
   {
    "duration": 205,
    "start_time": "2021-12-23T13:09:05.688Z"
   },
   {
    "duration": 198,
    "start_time": "2021-12-23T13:09:05.896Z"
   },
   {
    "duration": 129,
    "start_time": "2021-12-23T13:09:06.096Z"
   },
   {
    "duration": 28,
    "start_time": "2021-12-23T13:09:06.228Z"
   },
   {
    "duration": 48,
    "start_time": "2021-12-23T13:09:06.259Z"
   },
   {
    "duration": 158,
    "start_time": "2021-12-23T13:09:06.310Z"
   },
   {
    "duration": 130,
    "start_time": "2021-12-23T13:09:06.471Z"
   },
   {
    "duration": 130,
    "start_time": "2021-12-23T13:09:06.606Z"
   },
   {
    "duration": 42,
    "start_time": "2021-12-23T13:09:06.739Z"
   },
   {
    "duration": 90,
    "start_time": "2021-12-23T13:09:06.784Z"
   },
   {
    "duration": 46,
    "start_time": "2021-12-23T13:09:06.877Z"
   },
   {
    "duration": 77,
    "start_time": "2021-12-23T13:09:06.926Z"
   },
   {
    "duration": 656,
    "start_time": "2021-12-23T13:09:07.006Z"
   },
   {
    "duration": 805,
    "start_time": "2021-12-23T13:09:07.666Z"
   },
   {
    "duration": 597,
    "start_time": "2021-12-23T13:09:08.473Z"
   },
   {
    "duration": 361,
    "start_time": "2021-12-23T13:11:19.776Z"
   },
   {
    "duration": 372,
    "start_time": "2021-12-23T13:11:47.224Z"
   },
   {
    "duration": 319,
    "start_time": "2021-12-23T13:12:47.435Z"
   },
   {
    "duration": 340,
    "start_time": "2021-12-23T13:13:06.675Z"
   },
   {
    "duration": 25,
    "start_time": "2021-12-23T13:13:35.860Z"
   },
   {
    "duration": 8493,
    "start_time": "2021-12-23T13:13:47.226Z"
   },
   {
    "duration": 396,
    "start_time": "2021-12-23T13:14:15.090Z"
   },
   {
    "duration": 342,
    "start_time": "2021-12-23T13:14:36.665Z"
   },
   {
    "duration": 8100,
    "start_time": "2021-12-23T13:14:46.924Z"
   },
   {
    "duration": 8811,
    "start_time": "2021-12-23T13:15:02.100Z"
   },
   {
    "duration": 340,
    "start_time": "2021-12-23T13:15:22.918Z"
   },
   {
    "duration": 323,
    "start_time": "2021-12-23T13:15:38.377Z"
   },
   {
    "duration": 362,
    "start_time": "2021-12-23T13:15:50.843Z"
   },
   {
    "duration": 355,
    "start_time": "2021-12-23T13:16:04.814Z"
   },
   {
    "duration": 368,
    "start_time": "2021-12-23T13:16:37.419Z"
   },
   {
    "duration": 14251,
    "start_time": "2021-12-23T13:17:03.001Z"
   },
   {
    "duration": 8693,
    "start_time": "2021-12-23T13:17:21.107Z"
   },
   {
    "duration": 37,
    "start_time": "2021-12-23T13:17:43.570Z"
   },
   {
    "duration": 7637,
    "start_time": "2021-12-23T13:18:19.831Z"
   },
   {
    "duration": 81,
    "start_time": "2021-12-23T13:18:40.928Z"
   },
   {
    "duration": 377,
    "start_time": "2021-12-23T13:18:45.472Z"
   },
   {
    "duration": 322,
    "start_time": "2021-12-23T13:18:54.853Z"
   },
   {
    "duration": 539,
    "start_time": "2021-12-23T13:19:21.719Z"
   },
   {
    "duration": 352,
    "start_time": "2021-12-23T13:19:43.004Z"
   },
   {
    "duration": 652,
    "start_time": "2021-12-23T13:20:23.719Z"
   },
   {
    "duration": 28,
    "start_time": "2021-12-23T13:22:09.699Z"
   },
   {
    "duration": 472,
    "start_time": "2021-12-23T13:22:32.499Z"
   },
   {
    "duration": 465,
    "start_time": "2021-12-23T13:22:47.229Z"
   },
   {
    "duration": 465,
    "start_time": "2021-12-23T13:22:53.966Z"
   },
   {
    "duration": 446,
    "start_time": "2021-12-23T13:23:03.384Z"
   },
   {
    "duration": 159,
    "start_time": "2021-12-23T13:24:48.048Z"
   },
   {
    "duration": 487,
    "start_time": "2021-12-23T13:24:59.232Z"
   },
   {
    "duration": 469,
    "start_time": "2021-12-23T13:25:31.854Z"
   },
   {
    "duration": 102,
    "start_time": "2021-12-23T13:28:00.687Z"
   },
   {
    "duration": 321,
    "start_time": "2021-12-23T13:28:07.311Z"
   },
   {
    "duration": 558,
    "start_time": "2021-12-23T13:28:44.000Z"
   },
   {
    "duration": 460,
    "start_time": "2021-12-23T13:32:03.461Z"
   },
   {
    "duration": 490,
    "start_time": "2021-12-23T13:33:01.361Z"
   },
   {
    "duration": 130,
    "start_time": "2021-12-23T13:35:14.297Z"
   },
   {
    "duration": 95,
    "start_time": "2021-12-23T13:35:49.703Z"
   },
   {
    "duration": 366,
    "start_time": "2021-12-23T13:35:56.881Z"
   },
   {
    "duration": 482,
    "start_time": "2021-12-23T13:36:34.274Z"
   },
   {
    "duration": 622,
    "start_time": "2021-12-23T13:36:37.956Z"
   },
   {
    "duration": 466,
    "start_time": "2021-12-23T13:36:49.522Z"
   },
   {
    "duration": 551,
    "start_time": "2021-12-23T13:37:05.608Z"
   },
   {
    "duration": 461,
    "start_time": "2021-12-23T13:37:16.232Z"
   },
   {
    "duration": 461,
    "start_time": "2021-12-23T13:37:25.306Z"
   },
   {
    "duration": 2301,
    "start_time": "2021-12-23T13:43:35.041Z"
   },
   {
    "duration": 8542,
    "start_time": "2021-12-23T13:44:08.385Z"
   },
   {
    "duration": 55,
    "start_time": "2021-12-23T13:44:33.137Z"
   },
   {
    "duration": 295,
    "start_time": "2021-12-23T13:45:45.454Z"
   },
   {
    "duration": 483,
    "start_time": "2021-12-23T13:46:24.222Z"
   },
   {
    "duration": 518,
    "start_time": "2021-12-23T13:46:54.541Z"
   },
   {
    "duration": 494,
    "start_time": "2021-12-23T13:47:30.927Z"
   },
   {
    "duration": 483,
    "start_time": "2021-12-23T13:48:02.222Z"
   },
   {
    "duration": 471,
    "start_time": "2021-12-23T13:48:55.327Z"
   },
   {
    "duration": 467,
    "start_time": "2021-12-23T13:49:09.693Z"
   },
   {
    "duration": 346,
    "start_time": "2021-12-23T13:49:20.660Z"
   },
   {
    "duration": 460,
    "start_time": "2021-12-23T13:50:26.061Z"
   },
   {
    "duration": 328,
    "start_time": "2021-12-23T13:50:42.543Z"
   },
   {
    "duration": 467,
    "start_time": "2021-12-23T13:50:53.116Z"
   },
   {
    "duration": 492,
    "start_time": "2021-12-23T13:51:39.619Z"
   },
   {
    "duration": 518,
    "start_time": "2021-12-23T13:51:57.659Z"
   },
   {
    "duration": 475,
    "start_time": "2021-12-23T13:52:15.146Z"
   },
   {
    "duration": 573,
    "start_time": "2021-12-23T14:01:01.530Z"
   },
   {
    "duration": 195,
    "start_time": "2021-12-23T14:01:44.029Z"
   },
   {
    "duration": 574,
    "start_time": "2021-12-23T14:01:57.980Z"
   },
   {
    "duration": 794,
    "start_time": "2021-12-23T14:04:09.669Z"
   },
   {
    "duration": 787,
    "start_time": "2021-12-23T14:04:20.995Z"
   },
   {
    "duration": 714,
    "start_time": "2021-12-23T14:04:27.796Z"
   },
   {
    "duration": 691,
    "start_time": "2021-12-23T14:04:44.824Z"
   },
   {
    "duration": 847,
    "start_time": "2021-12-23T14:07:31.254Z"
   },
   {
    "duration": 828,
    "start_time": "2021-12-23T14:07:44.558Z"
   },
   {
    "duration": 806,
    "start_time": "2021-12-23T14:08:07.375Z"
   },
   {
    "duration": 759,
    "start_time": "2021-12-23T14:08:29.097Z"
   },
   {
    "duration": 782,
    "start_time": "2021-12-23T14:09:05.406Z"
   },
   {
    "duration": 1119,
    "start_time": "2021-12-23T14:10:04.544Z"
   },
   {
    "duration": 769,
    "start_time": "2021-12-23T14:10:15.032Z"
   },
   {
    "duration": 731,
    "start_time": "2021-12-23T14:10:31.098Z"
   },
   {
    "duration": 826,
    "start_time": "2021-12-23T14:11:11.959Z"
   },
   {
    "duration": 802,
    "start_time": "2021-12-23T14:12:21.882Z"
   },
   {
    "duration": 784,
    "start_time": "2021-12-23T14:12:31.230Z"
   },
   {
    "duration": 825,
    "start_time": "2021-12-23T14:13:39.620Z"
   },
   {
    "duration": 972,
    "start_time": "2021-12-23T14:13:51.466Z"
   },
   {
    "duration": 884,
    "start_time": "2021-12-23T14:14:16.439Z"
   },
   {
    "duration": 835,
    "start_time": "2021-12-23T14:15:44.099Z"
   },
   {
    "duration": 992,
    "start_time": "2021-12-23T14:16:01.106Z"
   },
   {
    "duration": 850,
    "start_time": "2021-12-23T14:16:12.131Z"
   },
   {
    "duration": 1018,
    "start_time": "2021-12-23T14:25:11.900Z"
   },
   {
    "duration": 809,
    "start_time": "2021-12-23T14:25:41.578Z"
   },
   {
    "duration": 740,
    "start_time": "2021-12-23T14:25:46.706Z"
   },
   {
    "duration": 753,
    "start_time": "2021-12-23T14:25:54.276Z"
   },
   {
    "duration": 785,
    "start_time": "2021-12-23T14:26:37.760Z"
   },
   {
    "duration": 783,
    "start_time": "2021-12-23T14:26:47.750Z"
   },
   {
    "duration": 824,
    "start_time": "2021-12-23T14:28:35.314Z"
   },
   {
    "duration": 639,
    "start_time": "2021-12-23T14:36:23.228Z"
   },
   {
    "duration": 1113,
    "start_time": "2021-12-23T17:38:54.261Z"
   },
   {
    "duration": 643,
    "start_time": "2021-12-23T17:40:16.722Z"
   },
   {
    "duration": 604,
    "start_time": "2021-12-23T17:40:31.073Z"
   },
   {
    "duration": 675,
    "start_time": "2021-12-23T17:40:36.861Z"
   },
   {
    "duration": 649,
    "start_time": "2021-12-23T17:41:04.417Z"
   },
   {
    "duration": 674,
    "start_time": "2021-12-23T17:41:15.773Z"
   },
   {
    "duration": 666,
    "start_time": "2021-12-23T17:41:23.976Z"
   },
   {
    "duration": 673,
    "start_time": "2021-12-23T17:41:29.927Z"
   },
   {
    "duration": 662,
    "start_time": "2021-12-23T17:42:08.679Z"
   },
   {
    "duration": 775,
    "start_time": "2021-12-23T17:42:15.966Z"
   },
   {
    "duration": 690,
    "start_time": "2021-12-23T17:45:39.999Z"
   },
   {
    "duration": 660,
    "start_time": "2021-12-23T17:49:09.176Z"
   },
   {
    "duration": 681,
    "start_time": "2021-12-23T17:49:35.861Z"
   },
   {
    "duration": 672,
    "start_time": "2021-12-23T17:50:27.012Z"
   },
   {
    "duration": 692,
    "start_time": "2021-12-23T17:50:49.992Z"
   },
   {
    "duration": 679,
    "start_time": "2021-12-23T17:51:01.872Z"
   },
   {
    "duration": 699,
    "start_time": "2021-12-23T17:51:48.057Z"
   },
   {
    "duration": 667,
    "start_time": "2021-12-23T17:52:18.091Z"
   },
   {
    "duration": 467,
    "start_time": "2021-12-23T18:13:28.479Z"
   },
   {
    "duration": 4,
    "start_time": "2021-12-23T18:14:57.578Z"
   },
   {
    "duration": 7,
    "start_time": "2021-12-23T18:16:32.001Z"
   },
   {
    "duration": 7,
    "start_time": "2021-12-23T18:17:14.777Z"
   },
   {
    "duration": 6,
    "start_time": "2021-12-23T18:17:25.026Z"
   },
   {
    "duration": 5,
    "start_time": "2021-12-23T18:20:38.611Z"
   },
   {
    "duration": 230,
    "start_time": "2021-12-23T18:20:38.619Z"
   },
   {
    "duration": 208,
    "start_time": "2021-12-23T18:20:38.852Z"
   },
   {
    "duration": 153,
    "start_time": "2021-12-23T18:20:39.062Z"
   },
   {
    "duration": 29,
    "start_time": "2021-12-23T18:20:39.218Z"
   },
   {
    "duration": 46,
    "start_time": "2021-12-23T18:20:39.250Z"
   },
   {
    "duration": 120,
    "start_time": "2021-12-23T18:20:39.299Z"
   },
   {
    "duration": 103,
    "start_time": "2021-12-23T18:20:39.423Z"
   },
   {
    "duration": 100,
    "start_time": "2021-12-23T18:20:39.529Z"
   },
   {
    "duration": 38,
    "start_time": "2021-12-23T18:20:39.632Z"
   },
   {
    "duration": 97,
    "start_time": "2021-12-23T18:20:39.673Z"
   },
   {
    "duration": 60,
    "start_time": "2021-12-23T18:20:39.773Z"
   },
   {
    "duration": 72,
    "start_time": "2021-12-23T18:20:39.837Z"
   },
   {
    "duration": 1164,
    "start_time": "2021-12-23T18:20:39.912Z"
   },
   {
    "duration": 766,
    "start_time": "2021-12-23T18:20:41.080Z"
   },
   {
    "duration": 1931,
    "start_time": "2021-12-23T18:20:41.850Z"
   },
   {
    "duration": 916,
    "start_time": "2021-12-23T18:20:43.784Z"
   },
   {
    "duration": 8,
    "start_time": "2021-12-23T18:20:44.703Z"
   },
   {
    "duration": 343,
    "start_time": "2021-12-23T18:20:44.715Z"
   },
   {
    "duration": 296,
    "start_time": "2021-12-23T18:21:53.951Z"
   },
   {
    "duration": 9,
    "start_time": "2021-12-23T18:22:28.496Z"
   },
   {
    "duration": 57,
    "start_time": "2021-12-23T18:22:32.587Z"
   },
   {
    "duration": 12,
    "start_time": "2021-12-23T18:22:56.274Z"
   },
   {
    "duration": 60,
    "start_time": "2021-12-23T18:23:01.746Z"
   },
   {
    "duration": 873,
    "start_time": "2021-12-23T18:23:31.405Z"
   },
   {
    "duration": 16,
    "start_time": "2021-12-23T18:24:10.569Z"
   },
   {
    "duration": 16,
    "start_time": "2021-12-23T18:24:28.449Z"
   },
   {
    "duration": 12,
    "start_time": "2021-12-23T18:27:36.446Z"
   },
   {
    "duration": 17,
    "start_time": "2021-12-23T18:28:00.819Z"
   },
   {
    "duration": 764,
    "start_time": "2021-12-23T19:02:27.956Z"
   },
   {
    "duration": 746,
    "start_time": "2021-12-23T19:02:44.695Z"
   },
   {
    "duration": 452,
    "start_time": "2021-12-24T12:56:57.703Z"
   },
   {
    "duration": 1394,
    "start_time": "2021-12-24T12:57:03.217Z"
   },
   {
    "duration": 224,
    "start_time": "2021-12-24T12:57:04.614Z"
   },
   {
    "duration": 187,
    "start_time": "2021-12-24T12:57:04.841Z"
   },
   {
    "duration": 130,
    "start_time": "2021-12-24T12:57:05.031Z"
   },
   {
    "duration": 29,
    "start_time": "2021-12-24T12:57:05.164Z"
   },
   {
    "duration": 41,
    "start_time": "2021-12-24T12:57:05.196Z"
   },
   {
    "duration": 123,
    "start_time": "2021-12-24T12:57:05.240Z"
   },
   {
    "duration": 99,
    "start_time": "2021-12-24T12:57:05.366Z"
   },
   {
    "duration": 93,
    "start_time": "2021-12-24T12:57:05.468Z"
   },
   {
    "duration": 27,
    "start_time": "2021-12-24T12:57:05.564Z"
   },
   {
    "duration": 127,
    "start_time": "2021-12-24T12:57:05.594Z"
   },
   {
    "duration": 526,
    "start_time": "2021-12-24T12:57:05.724Z"
   },
   {
    "duration": 56,
    "start_time": "2021-12-24T12:57:06.196Z"
   },
   {
    "duration": 54,
    "start_time": "2021-12-24T12:57:06.199Z"
   },
   {
    "duration": 51,
    "start_time": "2021-12-24T12:57:06.203Z"
   },
   {
    "duration": 49,
    "start_time": "2021-12-24T12:57:06.207Z"
   },
   {
    "duration": 48,
    "start_time": "2021-12-24T12:57:06.209Z"
   },
   {
    "duration": 28,
    "start_time": "2021-12-24T12:57:06.230Z"
   },
   {
    "duration": 19,
    "start_time": "2021-12-24T12:57:06.241Z"
   },
   {
    "duration": 50,
    "start_time": "2021-12-24T12:59:49.891Z"
   },
   {
    "duration": 74,
    "start_time": "2021-12-24T13:00:24.839Z"
   },
   {
    "duration": 989,
    "start_time": "2021-12-24T13:00:28.259Z"
   },
   {
    "duration": 759,
    "start_time": "2021-12-24T13:00:32.285Z"
   },
   {
    "duration": 399,
    "start_time": "2021-12-24T13:00:39.509Z"
   },
   {
    "duration": 841,
    "start_time": "2021-12-24T13:00:50.131Z"
   },
   {
    "duration": 1117,
    "start_time": "2021-12-24T13:01:10.901Z"
   },
   {
    "duration": 818,
    "start_time": "2021-12-24T13:01:21.944Z"
   },
   {
    "duration": 9,
    "start_time": "2021-12-24T13:01:49.072Z"
   },
   {
    "duration": 4,
    "start_time": "2021-12-24T13:02:31.277Z"
   },
   {
    "duration": 218,
    "start_time": "2021-12-24T13:02:31.285Z"
   },
   {
    "duration": 195,
    "start_time": "2021-12-24T13:02:31.507Z"
   },
   {
    "duration": 129,
    "start_time": "2021-12-24T13:02:31.705Z"
   },
   {
    "duration": 27,
    "start_time": "2021-12-24T13:02:31.836Z"
   },
   {
    "duration": 95,
    "start_time": "2021-12-24T13:02:31.866Z"
   },
   {
    "duration": 115,
    "start_time": "2021-12-24T13:02:31.963Z"
   },
   {
    "duration": 101,
    "start_time": "2021-12-24T13:02:32.081Z"
   },
   {
    "duration": 93,
    "start_time": "2021-12-24T13:02:32.185Z"
   },
   {
    "duration": 28,
    "start_time": "2021-12-24T13:02:32.281Z"
   },
   {
    "duration": 95,
    "start_time": "2021-12-24T13:02:32.312Z"
   },
   {
    "duration": 68,
    "start_time": "2021-12-24T13:02:32.411Z"
   },
   {
    "duration": 47,
    "start_time": "2021-12-24T13:02:32.481Z"
   },
   {
    "duration": 838,
    "start_time": "2021-12-24T13:02:32.531Z"
   },
   {
    "duration": 761,
    "start_time": "2021-12-24T13:02:33.372Z"
   },
   {
    "duration": 773,
    "start_time": "2021-12-24T13:02:34.135Z"
   },
   {
    "duration": 782,
    "start_time": "2021-12-24T13:02:34.910Z"
   },
   {
    "duration": 8,
    "start_time": "2021-12-24T13:02:35.695Z"
   },
   {
    "duration": 378,
    "start_time": "2021-12-24T13:02:35.705Z"
   },
   {
    "duration": 19,
    "start_time": "2021-12-24T13:05:00.585Z"
   },
   {
    "duration": 661,
    "start_time": "2021-12-24T13:06:03.488Z"
   },
   {
    "duration": 751,
    "start_time": "2021-12-24T13:06:13.856Z"
   },
   {
    "duration": 15,
    "start_time": "2021-12-24T13:06:36.307Z"
   },
   {
    "duration": 18,
    "start_time": "2021-12-24T13:06:49.188Z"
   },
   {
    "duration": 16,
    "start_time": "2021-12-24T13:07:03.496Z"
   },
   {
    "duration": 16,
    "start_time": "2021-12-24T13:07:09.796Z"
   },
   {
    "duration": 15,
    "start_time": "2021-12-24T13:08:01.016Z"
   },
   {
    "duration": 11,
    "start_time": "2021-12-24T13:08:35.647Z"
   },
   {
    "duration": 14,
    "start_time": "2021-12-24T13:08:52.433Z"
   },
   {
    "duration": 61,
    "start_time": "2021-12-24T13:11:05.400Z"
   },
   {
    "duration": 45,
    "start_time": "2021-12-24T13:11:14.569Z"
   },
   {
    "duration": 39,
    "start_time": "2021-12-24T13:11:40.141Z"
   },
   {
    "duration": 33,
    "start_time": "2021-12-24T13:12:21.914Z"
   },
   {
    "duration": 32,
    "start_time": "2021-12-24T13:13:27.017Z"
   },
   {
    "duration": 38,
    "start_time": "2021-12-24T13:13:32.128Z"
   },
   {
    "duration": 52,
    "start_time": "2021-12-24T13:14:15.982Z"
   },
   {
    "duration": 2617,
    "start_time": "2021-12-24T13:14:49.069Z"
   },
   {
    "duration": 45,
    "start_time": "2021-12-24T13:15:40.899Z"
   },
   {
    "duration": 45,
    "start_time": "2021-12-24T13:18:40.377Z"
   },
   {
    "duration": 75,
    "start_time": "2021-12-24T13:18:52.168Z"
   },
   {
    "duration": 643,
    "start_time": "2021-12-24T13:20:45.898Z"
   },
   {
    "duration": 1871,
    "start_time": "2021-12-24T13:26:53.438Z"
   },
   {
    "duration": 77,
    "start_time": "2021-12-24T13:27:55.931Z"
   },
   {
    "duration": 92,
    "start_time": "2021-12-24T13:28:27.887Z"
   },
   {
    "duration": 42,
    "start_time": "2021-12-24T13:28:31.394Z"
   },
   {
    "duration": 220,
    "start_time": "2021-12-24T13:30:31.908Z"
   },
   {
    "duration": 215,
    "start_time": "2021-12-24T13:30:42.301Z"
   },
   {
    "duration": 137,
    "start_time": "2021-12-24T13:30:50.422Z"
   },
   {
    "duration": 60,
    "start_time": "2021-12-24T13:30:58.997Z"
   },
   {
    "duration": 784,
    "start_time": "2021-12-24T13:43:10.536Z"
   },
   {
    "duration": 156,
    "start_time": "2021-12-24T13:43:47.041Z"
   },
   {
    "duration": 381,
    "start_time": "2021-12-24T13:45:32.274Z"
   },
   {
    "duration": 67,
    "start_time": "2021-12-24T13:45:37.939Z"
   },
   {
    "duration": 19,
    "start_time": "2021-12-24T13:45:48.110Z"
   },
   {
    "duration": 246,
    "start_time": "2021-12-24T13:46:29.213Z"
   },
   {
    "duration": 399,
    "start_time": "2021-12-24T13:46:39.575Z"
   },
   {
    "duration": 413,
    "start_time": "2021-12-24T13:47:11.104Z"
   },
   {
    "duration": 405,
    "start_time": "2021-12-24T13:48:31.396Z"
   },
   {
    "duration": 11273,
    "start_time": "2021-12-24T13:49:24.029Z"
   },
   {
    "duration": 9855,
    "start_time": "2021-12-24T13:49:52.896Z"
   },
   {
    "duration": 268,
    "start_time": "2021-12-24T13:52:43.932Z"
   },
   {
    "duration": 335,
    "start_time": "2021-12-24T13:52:57.172Z"
   },
   {
    "duration": 412,
    "start_time": "2021-12-24T13:53:12.206Z"
   },
   {
    "duration": 1503,
    "start_time": "2021-12-24T13:53:30.679Z"
   },
   {
    "duration": 844,
    "start_time": "2021-12-24T13:53:54.586Z"
   },
   {
    "duration": 415,
    "start_time": "2021-12-24T13:54:10.954Z"
   },
   {
    "duration": 239,
    "start_time": "2021-12-24T13:54:24.648Z"
   },
   {
    "duration": 19,
    "start_time": "2021-12-24T13:54:36.121Z"
   },
   {
    "duration": 718,
    "start_time": "2021-12-24T14:07:03.549Z"
   },
   {
    "duration": 1421,
    "start_time": "2021-12-24T14:19:22.418Z"
   },
   {
    "duration": 260,
    "start_time": "2021-12-24T14:19:23.842Z"
   },
   {
    "duration": 223,
    "start_time": "2021-12-24T14:19:24.105Z"
   },
   {
    "duration": 156,
    "start_time": "2021-12-24T14:19:24.330Z"
   },
   {
    "duration": 35,
    "start_time": "2021-12-24T14:19:24.489Z"
   },
   {
    "duration": 60,
    "start_time": "2021-12-24T14:19:24.527Z"
   },
   {
    "duration": 149,
    "start_time": "2021-12-24T14:19:24.590Z"
   },
   {
    "duration": 101,
    "start_time": "2021-12-24T14:19:24.745Z"
   },
   {
    "duration": 121,
    "start_time": "2021-12-24T14:19:24.862Z"
   },
   {
    "duration": 27,
    "start_time": "2021-12-24T14:19:24.987Z"
   },
   {
    "duration": 90,
    "start_time": "2021-12-24T14:19:25.016Z"
   },
   {
    "duration": 72,
    "start_time": "2021-12-24T14:19:25.109Z"
   },
   {
    "duration": 51,
    "start_time": "2021-12-24T14:19:25.187Z"
   },
   {
    "duration": 1057,
    "start_time": "2021-12-24T14:19:25.240Z"
   },
   {
    "duration": 1214,
    "start_time": "2021-12-24T14:19:26.299Z"
   },
   {
    "duration": 769,
    "start_time": "2021-12-24T14:19:27.516Z"
   },
   {
    "duration": 758,
    "start_time": "2021-12-24T14:19:28.288Z"
   },
   {
    "duration": 54,
    "start_time": "2021-12-24T14:19:29.049Z"
   },
   {
    "duration": 15,
    "start_time": "2021-12-24T14:19:29.105Z"
   },
   {
    "duration": 79,
    "start_time": "2021-12-24T14:19:29.122Z"
   },
   {
    "duration": 21,
    "start_time": "2021-12-24T14:19:29.204Z"
   },
   {
    "duration": 1206,
    "start_time": "2021-12-25T09:15:26.858Z"
   },
   {
    "duration": 180,
    "start_time": "2021-12-25T09:15:28.066Z"
   },
   {
    "duration": 158,
    "start_time": "2021-12-25T09:15:28.248Z"
   },
   {
    "duration": 106,
    "start_time": "2021-12-25T09:15:28.407Z"
   },
   {
    "duration": 23,
    "start_time": "2021-12-25T09:15:28.515Z"
   },
   {
    "duration": 39,
    "start_time": "2021-12-25T09:15:28.539Z"
   },
   {
    "duration": 93,
    "start_time": "2021-12-25T09:15:28.580Z"
   },
   {
    "duration": 57,
    "start_time": "2021-12-25T09:15:28.674Z"
   },
   {
    "duration": 68,
    "start_time": "2021-12-25T09:15:28.734Z"
   },
   {
    "duration": 16,
    "start_time": "2021-12-25T09:15:28.804Z"
   },
   {
    "duration": 58,
    "start_time": "2021-12-25T09:15:28.822Z"
   },
   {
    "duration": 29,
    "start_time": "2021-12-25T09:15:28.882Z"
   },
   {
    "duration": 49,
    "start_time": "2021-12-25T09:15:28.913Z"
   },
   {
    "duration": 535,
    "start_time": "2021-12-25T09:15:28.963Z"
   },
   {
    "duration": 511,
    "start_time": "2021-12-25T09:15:29.500Z"
   },
   {
    "duration": 507,
    "start_time": "2021-12-25T09:15:30.013Z"
   },
   {
    "duration": 406,
    "start_time": "2021-12-25T09:15:30.523Z"
   },
   {
    "duration": 33,
    "start_time": "2021-12-25T09:15:30.931Z"
   },
   {
    "duration": 10,
    "start_time": "2021-12-25T09:15:30.966Z"
   },
   {
    "duration": 35,
    "start_time": "2021-12-25T09:15:30.978Z"
   },
   {
    "duration": 12,
    "start_time": "2021-12-25T09:15:31.014Z"
   },
   {
    "duration": 30,
    "start_time": "2021-12-25T09:19:21.920Z"
   }
  ],
  "kernelspec": {
   "display_name": "Python 3",
   "language": "python",
   "name": "python3"
  },
  "language_info": {
   "codemirror_mode": {
    "name": "ipython",
    "version": 3
   },
   "file_extension": ".py",
   "mimetype": "text/x-python",
   "name": "python",
   "nbconvert_exporter": "python",
   "pygments_lexer": "ipython3",
   "version": "3.8.8"
  },
  "toc": {
   "base_numbering": 1,
   "nav_menu": {},
   "number_sections": true,
   "sideBar": true,
   "skip_h1_title": true,
   "title_cell": "Table of Contents",
   "title_sidebar": "Contents",
   "toc_cell": false,
   "toc_position": {
    "height": "calc(100% - 180px)",
    "left": "10px",
    "top": "150px",
    "width": "366.390625px"
   },
   "toc_section_display": true,
   "toc_window_display": false
  }
 },
 "nbformat": 4,
 "nbformat_minor": 2
}
