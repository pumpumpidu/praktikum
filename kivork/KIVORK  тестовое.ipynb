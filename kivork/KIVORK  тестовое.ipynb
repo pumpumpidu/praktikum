{
 "cells": [
  {
   "cell_type": "markdown",
   "id": "99276751",
   "metadata": {},
   "source": [
    "# KIVORK  // тестовое задание"
   ]
  },
  {
   "cell_type": "markdown",
   "id": "c9ef7b5b",
   "metadata": {},
   "source": [
    "## Вступительная информация для Задания 1:\n",
    "Приложение - мобильная утилита для сканирования документов. Модель монетизации подписочная, есть пробный период 7 дней с дальнейшим переходом в оплату 4.99 USD в неделю. По ссылке ниже выгрузка с базы данных по оформлениям подписок и оплат. Каждая строка представляет собой отдельное событие (либо оформление пробной подписки, либо оплата после завершения пробного периода). Задание построено таким образом, чтобы проверить понимание принципов unit-экономики предприятия. Задание 1 предпочтительней делать с помощью Python."
   ]
  },
  {
   "cell_type": "markdown",
   "id": "fde5a6ab",
   "metadata": {},
   "source": [
    "### Загрузка датасета"
   ]
  },
  {
   "cell_type": "code",
   "execution_count": 70,
   "id": "c6c92529",
   "metadata": {},
   "outputs": [],
   "source": [
    "#импортирую библиотеки\n",
    "import pandas as pd\n",
    "from datetime import datetime, timedelta\n",
    "from matplotlib import pyplot as plt\n",
    "import numpy as np"
   ]
  },
  {
   "cell_type": "code",
   "execution_count": 71,
   "id": "cc2abad8",
   "metadata": {},
   "outputs": [],
   "source": [
    "#открываю датасет\n",
    "df = pd.read_excel('test case data analyst.xlsx')"
   ]
  },
  {
   "cell_type": "code",
   "execution_count": 72,
   "id": "d595f386",
   "metadata": {},
   "outputs": [
    {
     "data": {
      "text/html": [
       "<div>\n",
       "<style scoped>\n",
       "    .dataframe tbody tr th:only-of-type {\n",
       "        vertical-align: middle;\n",
       "    }\n",
       "\n",
       "    .dataframe tbody tr th {\n",
       "        vertical-align: top;\n",
       "    }\n",
       "\n",
       "    .dataframe thead th {\n",
       "        text-align: right;\n",
       "    }\n",
       "</style>\n",
       "<table border=\"1\" class=\"dataframe\">\n",
       "  <thead>\n",
       "    <tr style=\"text-align: right;\">\n",
       "      <th></th>\n",
       "      <th>product_id</th>\n",
       "      <th>quantity</th>\n",
       "      <th>is_trial_period</th>\n",
       "      <th>purchase_date</th>\n",
       "      <th>user_id</th>\n",
       "    </tr>\n",
       "  </thead>\n",
       "  <tbody>\n",
       "    <tr>\n",
       "      <th>0</th>\n",
       "      <td>1week_4.99_USD_subscription_7days_trial</td>\n",
       "      <td>1</td>\n",
       "      <td>False</td>\n",
       "      <td>2020-02-19</td>\n",
       "      <td>9484222</td>\n",
       "    </tr>\n",
       "    <tr>\n",
       "      <th>1</th>\n",
       "      <td>1week_4.99_USD_subscription_7days_trial</td>\n",
       "      <td>1</td>\n",
       "      <td>False</td>\n",
       "      <td>2020-02-17</td>\n",
       "      <td>9422402</td>\n",
       "    </tr>\n",
       "    <tr>\n",
       "      <th>2</th>\n",
       "      <td>1week_4.99_USD_subscription_7days_trial</td>\n",
       "      <td>1</td>\n",
       "      <td>False</td>\n",
       "      <td>2020-02-18</td>\n",
       "      <td>4997991</td>\n",
       "    </tr>\n",
       "    <tr>\n",
       "      <th>3</th>\n",
       "      <td>1week_4.99_USD_subscription_7days_trial</td>\n",
       "      <td>1</td>\n",
       "      <td>False</td>\n",
       "      <td>2020-02-18</td>\n",
       "      <td>9455582</td>\n",
       "    </tr>\n",
       "    <tr>\n",
       "      <th>4</th>\n",
       "      <td>1week_4.99_USD_subscription_7days_trial</td>\n",
       "      <td>1</td>\n",
       "      <td>False</td>\n",
       "      <td>2020-02-16</td>\n",
       "      <td>8803657</td>\n",
       "    </tr>\n",
       "  </tbody>\n",
       "</table>\n",
       "</div>"
      ],
      "text/plain": [
       "                                product_id  quantity  is_trial_period  \\\n",
       "0  1week_4.99_USD_subscription_7days_trial         1            False   \n",
       "1  1week_4.99_USD_subscription_7days_trial         1            False   \n",
       "2  1week_4.99_USD_subscription_7days_trial         1            False   \n",
       "3  1week_4.99_USD_subscription_7days_trial         1            False   \n",
       "4  1week_4.99_USD_subscription_7days_trial         1            False   \n",
       "\n",
       "  purchase_date  user_id  \n",
       "0    2020-02-19  9484222  \n",
       "1    2020-02-17  9422402  \n",
       "2    2020-02-18  4997991  \n",
       "3    2020-02-18  9455582  \n",
       "4    2020-02-16  8803657  "
      ]
     },
     "metadata": {},
     "output_type": "display_data"
    },
    {
     "name": "stdout",
     "output_type": "stream",
     "text": [
      "<class 'pandas.core.frame.DataFrame'>\n",
      "RangeIndex: 114200 entries, 0 to 114199\n",
      "Data columns (total 5 columns):\n",
      " #   Column           Non-Null Count   Dtype         \n",
      "---  ------           --------------   -----         \n",
      " 0   product_id       114200 non-null  object        \n",
      " 1   quantity         114200 non-null  int64         \n",
      " 2   is_trial_period  114200 non-null  bool          \n",
      " 3   purchase_date    114200 non-null  datetime64[ns]\n",
      " 4   user_id          114200 non-null  int64         \n",
      "dtypes: bool(1), datetime64[ns](1), int64(2), object(1)\n",
      "memory usage: 3.6+ MB\n"
     ]
    }
   ],
   "source": [
    "#проверяем данные\n",
    "display(df.head())\n",
    "df.info()"
   ]
  },
  {
   "cell_type": "markdown",
   "id": "43ee7a8a",
   "metadata": {},
   "source": [
    "Датасет впорядке, предобработка не требуется"
   ]
  },
  {
   "cell_type": "markdown",
   "id": "b848c63f",
   "metadata": {},
   "source": [
    "### 1. Необходимо рассчитать текущий LTV юзера, используя когортный анализ (cohorting event - оформление пробного периода, когорта представляет собой кол-во возможных операций)."
   ]
  },
  {
   "cell_type": "markdown",
   "id": "7017d5ff",
   "metadata": {},
   "source": [
    "В описание не указано есть ли возможность у пользователей пользоваться бесплатной версией или возможна только пробная подписка, с последующем переходом в платную. Так как это тестовое задание примем что возможна только пробная подписка с последующей платной.\n",
    "\n",
    "Исходя из модели подписки, получается что первая дата оплаты(purchase_date) являеться датой первого визита."
   ]
  },
  {
   "cell_type": "code",
   "execution_count": 73,
   "id": "37d8bd02",
   "metadata": {
    "scrolled": true
   },
   "outputs": [
    {
     "data": {
      "text/html": [
       "<div>\n",
       "<style scoped>\n",
       "    .dataframe tbody tr th:only-of-type {\n",
       "        vertical-align: middle;\n",
       "    }\n",
       "\n",
       "    .dataframe tbody tr th {\n",
       "        vertical-align: top;\n",
       "    }\n",
       "\n",
       "    .dataframe thead th {\n",
       "        text-align: right;\n",
       "    }\n",
       "</style>\n",
       "<table border=\"1\" class=\"dataframe\">\n",
       "  <thead>\n",
       "    <tr style=\"text-align: right;\">\n",
       "      <th></th>\n",
       "      <th>product_id</th>\n",
       "      <th>quantity</th>\n",
       "      <th>is_trial_period</th>\n",
       "      <th>purchase_date</th>\n",
       "      <th>user_id</th>\n",
       "      <th>first_ts</th>\n",
       "    </tr>\n",
       "  </thead>\n",
       "  <tbody>\n",
       "    <tr>\n",
       "      <th>0</th>\n",
       "      <td>1week_4.99_USD_subscription_7days_trial</td>\n",
       "      <td>1</td>\n",
       "      <td>False</td>\n",
       "      <td>2020-02-19</td>\n",
       "      <td>9484222</td>\n",
       "      <td>2020-02-12</td>\n",
       "    </tr>\n",
       "    <tr>\n",
       "      <th>1</th>\n",
       "      <td>1week_4.99_USD_subscription_7days_trial</td>\n",
       "      <td>1</td>\n",
       "      <td>True</td>\n",
       "      <td>2020-02-12</td>\n",
       "      <td>9484222</td>\n",
       "      <td>2020-02-12</td>\n",
       "    </tr>\n",
       "    <tr>\n",
       "      <th>2</th>\n",
       "      <td>1week_4.99_USD_subscription_7days_trial</td>\n",
       "      <td>1</td>\n",
       "      <td>False</td>\n",
       "      <td>2020-02-17</td>\n",
       "      <td>9422402</td>\n",
       "      <td>2020-02-10</td>\n",
       "    </tr>\n",
       "    <tr>\n",
       "      <th>3</th>\n",
       "      <td>1week_4.99_USD_subscription_7days_trial</td>\n",
       "      <td>1</td>\n",
       "      <td>True</td>\n",
       "      <td>2020-02-10</td>\n",
       "      <td>9422402</td>\n",
       "      <td>2020-02-10</td>\n",
       "    </tr>\n",
       "    <tr>\n",
       "      <th>4</th>\n",
       "      <td>1week_4.99_USD_subscription_7days_trial</td>\n",
       "      <td>1</td>\n",
       "      <td>False</td>\n",
       "      <td>2020-02-18</td>\n",
       "      <td>4997991</td>\n",
       "      <td>2020-02-11</td>\n",
       "    </tr>\n",
       "  </tbody>\n",
       "</table>\n",
       "</div>"
      ],
      "text/plain": [
       "                                product_id  quantity  is_trial_period  \\\n",
       "0  1week_4.99_USD_subscription_7days_trial         1            False   \n",
       "1  1week_4.99_USD_subscription_7days_trial         1             True   \n",
       "2  1week_4.99_USD_subscription_7days_trial         1            False   \n",
       "3  1week_4.99_USD_subscription_7days_trial         1             True   \n",
       "4  1week_4.99_USD_subscription_7days_trial         1            False   \n",
       "\n",
       "  purchase_date  user_id   first_ts  \n",
       "0    2020-02-19  9484222 2020-02-12  \n",
       "1    2020-02-12  9484222 2020-02-12  \n",
       "2    2020-02-17  9422402 2020-02-10  \n",
       "3    2020-02-10  9422402 2020-02-10  \n",
       "4    2020-02-18  4997991 2020-02-11  "
      ]
     },
     "execution_count": 73,
     "metadata": {},
     "output_type": "execute_result"
    }
   ],
   "source": [
    "#создаю профили пользователей\n",
    "profiles = (\n",
    "        df.sort_values(by=['user_id', 'purchase_date'])\n",
    "        .groupby('user_id')\n",
    "        .agg({'purchase_date': 'first'})\n",
    "        .rename(columns={'purchase_date': 'first_ts'})\n",
    "        .reset_index()  # возвращаем user_id из индекса\n",
    "    )\n",
    "#объединяю профили с основным датафреймом\n",
    "df = df.merge(profiles, on='user_id')\n",
    "df.head()"
   ]
  },
  {
   "cell_type": "code",
   "execution_count": 74,
   "id": "dcb409f4",
   "metadata": {
    "scrolled": true
   },
   "outputs": [
    {
     "data": {
      "text/html": [
       "<div>\n",
       "<style scoped>\n",
       "    .dataframe tbody tr th:only-of-type {\n",
       "        vertical-align: middle;\n",
       "    }\n",
       "\n",
       "    .dataframe tbody tr th {\n",
       "        vertical-align: top;\n",
       "    }\n",
       "\n",
       "    .dataframe thead th {\n",
       "        text-align: right;\n",
       "    }\n",
       "</style>\n",
       "<table border=\"1\" class=\"dataframe\">\n",
       "  <thead>\n",
       "    <tr style=\"text-align: right;\">\n",
       "      <th></th>\n",
       "      <th>product_id</th>\n",
       "      <th>quantity</th>\n",
       "      <th>is_trial_period</th>\n",
       "      <th>purchase_date</th>\n",
       "      <th>user_id</th>\n",
       "      <th>first_ts</th>\n",
       "      <th>lifetime</th>\n",
       "    </tr>\n",
       "  </thead>\n",
       "  <tbody>\n",
       "    <tr>\n",
       "      <th>0</th>\n",
       "      <td>1week_4.99_USD_subscription_7days_trial</td>\n",
       "      <td>1</td>\n",
       "      <td>False</td>\n",
       "      <td>2020-02-19</td>\n",
       "      <td>9484222</td>\n",
       "      <td>2020-02-12</td>\n",
       "      <td>7</td>\n",
       "    </tr>\n",
       "    <tr>\n",
       "      <th>1</th>\n",
       "      <td>1week_4.99_USD_subscription_7days_trial</td>\n",
       "      <td>1</td>\n",
       "      <td>True</td>\n",
       "      <td>2020-02-12</td>\n",
       "      <td>9484222</td>\n",
       "      <td>2020-02-12</td>\n",
       "      <td>0</td>\n",
       "    </tr>\n",
       "    <tr>\n",
       "      <th>2</th>\n",
       "      <td>1week_4.99_USD_subscription_7days_trial</td>\n",
       "      <td>1</td>\n",
       "      <td>False</td>\n",
       "      <td>2020-02-17</td>\n",
       "      <td>9422402</td>\n",
       "      <td>2020-02-10</td>\n",
       "      <td>7</td>\n",
       "    </tr>\n",
       "    <tr>\n",
       "      <th>3</th>\n",
       "      <td>1week_4.99_USD_subscription_7days_trial</td>\n",
       "      <td>1</td>\n",
       "      <td>True</td>\n",
       "      <td>2020-02-10</td>\n",
       "      <td>9422402</td>\n",
       "      <td>2020-02-10</td>\n",
       "      <td>0</td>\n",
       "    </tr>\n",
       "    <tr>\n",
       "      <th>4</th>\n",
       "      <td>1week_4.99_USD_subscription_7days_trial</td>\n",
       "      <td>1</td>\n",
       "      <td>False</td>\n",
       "      <td>2020-02-18</td>\n",
       "      <td>4997991</td>\n",
       "      <td>2020-02-11</td>\n",
       "      <td>7</td>\n",
       "    </tr>\n",
       "  </tbody>\n",
       "</table>\n",
       "</div>"
      ],
      "text/plain": [
       "                                product_id  quantity  is_trial_period  \\\n",
       "0  1week_4.99_USD_subscription_7days_trial         1            False   \n",
       "1  1week_4.99_USD_subscription_7days_trial         1             True   \n",
       "2  1week_4.99_USD_subscription_7days_trial         1            False   \n",
       "3  1week_4.99_USD_subscription_7days_trial         1             True   \n",
       "4  1week_4.99_USD_subscription_7days_trial         1            False   \n",
       "\n",
       "  purchase_date  user_id   first_ts  lifetime  \n",
       "0    2020-02-19  9484222 2020-02-12         7  \n",
       "1    2020-02-12  9484222 2020-02-12         0  \n",
       "2    2020-02-17  9422402 2020-02-10         7  \n",
       "3    2020-02-10  9422402 2020-02-10         0  \n",
       "4    2020-02-18  4997991 2020-02-11         7  "
      ]
     },
     "execution_count": 74,
     "metadata": {},
     "output_type": "execute_result"
    }
   ],
   "source": [
    "#считаю лайфтайм для каждго события\n",
    "df['lifetime'] = (df['purchase_date'] - df['first_ts']).dt.days\n",
    "df.head()"
   ]
  },
  {
   "cell_type": "markdown",
   "id": "2f1d9687",
   "metadata": {},
   "source": [
    "Посмотрим на первую и последнюю зафиксированную дату в датасете"
   ]
  },
  {
   "cell_type": "code",
   "execution_count": 75,
   "id": "9de1d1e0",
   "metadata": {},
   "outputs": [
    {
     "name": "stdout",
     "output_type": "stream",
     "text": [
      "Первая дата в датасете: 2020-01-01 00:00:00\n",
      "Последняя дата в датасете: 2020-02-20 00:00:00\n"
     ]
    }
   ],
   "source": [
    "print('Первая дата в датасете:', df['purchase_date'].min())\n",
    "print('Последняя дата в датасете:', df['purchase_date'].max())"
   ]
  },
  {
   "cell_type": "markdown",
   "id": "d99a5a85",
   "metadata": {},
   "source": [
    "Посмотрим как распределены лайфтаймы в таблице"
   ]
  },
  {
   "cell_type": "code",
   "execution_count": 76,
   "id": "cd02bc93",
   "metadata": {},
   "outputs": [
    {
     "data": {
      "text/plain": [
       "<AxesSubplot:ylabel='Frequency'>"
      ]
     },
     "execution_count": 76,
     "metadata": {},
     "output_type": "execute_result"
    },
    {
     "data": {
      "image/png": "[encoded data removed]",
      "text/plain": [
       "<Figure size 720x360 with 1 Axes>"
      ]
     },
     "metadata": {
      "needs_background": "light"
     },
     "output_type": "display_data"
    }
   ],
   "source": [
    "df['lifetime'].plot(kind='hist',bins=50, figsize=(10, 5))"
   ]
  },
  {
   "cell_type": "markdown",
   "id": "c358a28c",
   "metadata": {},
   "source": [
    "Данные за первый день корректируют масштаб и затрудняют анализ графика. Отсечем первый день"
   ]
  },
  {
   "cell_type": "code",
   "execution_count": 77,
   "id": "14dee494",
   "metadata": {},
   "outputs": [
    {
     "data": {
      "text/plain": [
       "<AxesSubplot:ylabel='Frequency'>"
      ]
     },
     "execution_count": 77,
     "metadata": {},
     "output_type": "execute_result"
    },
    {
     "data": {
      "image/png": "[encoded data removed]",
      "text/plain": [
       "<Figure size 720x360 with 1 Axes>"
      ]
     },
     "metadata": {
      "needs_background": "light"
     },
     "output_type": "display_data"
    }
   ],
   "source": [
    "df['lifetime'].plot(kind='hist',bins=50, figsize=(10, 5), xlim=(1,50), ylim=(0,20000))\n"
   ]
  },
  {
   "cell_type": "markdown",
   "id": "9ae3e12a",
   "metadata": {},
   "source": [
    "На графике видны всплески по дням кратным недели, что логично так как подписка понедельная.\n",
    "Чтобы включить в анализ большое количество пользователей ограничимся анализом 29 дней, так большое количество пользователей из датафрейма \"проживут\" все лайфтаймы.\n",
    "Моментом анализа примем последний день то есть 2020-02-20"
   ]
  },
  {
   "cell_type": "code",
   "execution_count": 78,
   "id": "26104098",
   "metadata": {
    "scrolled": false
   },
   "outputs": [
    {
     "name": "stderr",
     "output_type": "stream",
     "text": [
      "/opt/anaconda3/lib/python3.8/site-packages/pandas/core/indexing.py:1599: SettingWithCopyWarning: \n",
      "A value is trying to be set on a copy of a slice from a DataFrame.\n",
      "Try using .loc[row_indexer,col_indexer] = value instead\n",
      "\n",
      "See the caveats in the documentation: https://pandas.pydata.org/pandas-docs/stable/user_guide/indexing.html#returning-a-view-versus-a-copy\n",
      "  self.obj[key] = infer_fill_value(value)\n",
      "/opt/anaconda3/lib/python3.8/site-packages/pandas/core/indexing.py:1720: SettingWithCopyWarning: \n",
      "A value is trying to be set on a copy of a slice from a DataFrame.\n",
      "Try using .loc[row_indexer,col_indexer] = value instead\n",
      "\n",
      "See the caveats in the documentation: https://pandas.pydata.org/pandas-docs/stable/user_guide/indexing.html#returning-a-view-versus-a-copy\n",
      "  self._setitem_single_column(loc, value, pi)\n"
     ]
    },
    {
     "data": {
      "text/html": [
       "<div>\n",
       "<style scoped>\n",
       "    .dataframe tbody tr th:only-of-type {\n",
       "        vertical-align: middle;\n",
       "    }\n",
       "\n",
       "    .dataframe tbody tr th {\n",
       "        vertical-align: top;\n",
       "    }\n",
       "\n",
       "    .dataframe thead th {\n",
       "        text-align: right;\n",
       "    }\n",
       "</style>\n",
       "<table border=\"1\" class=\"dataframe\">\n",
       "  <thead>\n",
       "    <tr style=\"text-align: right;\">\n",
       "      <th></th>\n",
       "      <th>product_id</th>\n",
       "      <th>quantity</th>\n",
       "      <th>is_trial_period</th>\n",
       "      <th>purchase_date</th>\n",
       "      <th>user_id</th>\n",
       "      <th>first_ts</th>\n",
       "      <th>lifetime</th>\n",
       "      <th>revenue</th>\n",
       "    </tr>\n",
       "  </thead>\n",
       "  <tbody>\n",
       "    <tr>\n",
       "      <th>8</th>\n",
       "      <td>1week_4.99_USD_subscription_7days_trial</td>\n",
       "      <td>1</td>\n",
       "      <td>False</td>\n",
       "      <td>2020-02-16</td>\n",
       "      <td>8803657</td>\n",
       "      <td>2020-01-19</td>\n",
       "      <td>28</td>\n",
       "      <td>4.99</td>\n",
       "    </tr>\n",
       "    <tr>\n",
       "      <th>9</th>\n",
       "      <td>1week_4.99_USD_subscription_7days_trial</td>\n",
       "      <td>1</td>\n",
       "      <td>True</td>\n",
       "      <td>2020-01-19</td>\n",
       "      <td>8803657</td>\n",
       "      <td>2020-01-19</td>\n",
       "      <td>0</td>\n",
       "      <td>NaN</td>\n",
       "    </tr>\n",
       "    <tr>\n",
       "      <th>10</th>\n",
       "      <td>1week_4.99_USD_subscription_7days_trial</td>\n",
       "      <td>1</td>\n",
       "      <td>False</td>\n",
       "      <td>2020-01-26</td>\n",
       "      <td>8803657</td>\n",
       "      <td>2020-01-19</td>\n",
       "      <td>7</td>\n",
       "      <td>4.99</td>\n",
       "    </tr>\n",
       "    <tr>\n",
       "      <th>11</th>\n",
       "      <td>1week_4.99_USD_subscription_7days_trial</td>\n",
       "      <td>1</td>\n",
       "      <td>False</td>\n",
       "      <td>2020-02-02</td>\n",
       "      <td>8803657</td>\n",
       "      <td>2020-01-19</td>\n",
       "      <td>14</td>\n",
       "      <td>4.99</td>\n",
       "    </tr>\n",
       "    <tr>\n",
       "      <th>12</th>\n",
       "      <td>1week_4.99_USD_subscription_7days_trial</td>\n",
       "      <td>1</td>\n",
       "      <td>False</td>\n",
       "      <td>2020-02-09</td>\n",
       "      <td>8803657</td>\n",
       "      <td>2020-01-19</td>\n",
       "      <td>21</td>\n",
       "      <td>4.99</td>\n",
       "    </tr>\n",
       "  </tbody>\n",
       "</table>\n",
       "</div>"
      ],
      "text/plain": [
       "                                 product_id  quantity  is_trial_period  \\\n",
       "8   1week_4.99_USD_subscription_7days_trial         1            False   \n",
       "9   1week_4.99_USD_subscription_7days_trial         1             True   \n",
       "10  1week_4.99_USD_subscription_7days_trial         1            False   \n",
       "11  1week_4.99_USD_subscription_7days_trial         1            False   \n",
       "12  1week_4.99_USD_subscription_7days_trial         1            False   \n",
       "\n",
       "   purchase_date  user_id   first_ts  lifetime  revenue  \n",
       "8     2020-02-16  8803657 2020-01-19        28     4.99  \n",
       "9     2020-01-19  8803657 2020-01-19         0      NaN  \n",
       "10    2020-01-26  8803657 2020-01-19         7     4.99  \n",
       "11    2020-02-02  8803657 2020-01-19        14     4.99  \n",
       "12    2020-02-09  8803657 2020-01-19        21     4.99  "
      ]
     },
     "execution_count": 78,
     "metadata": {},
     "output_type": "execute_result"
    }
   ],
   "source": [
    "#определяю момент анализа\n",
    "observation_date = datetime(2020, 2, 20).date()\n",
    "\n",
    "#определяю количество дней для анализа\n",
    "horizon_days = 29\n",
    "\n",
    "#исключаем пользователей не проживших месяц\n",
    "last_suitable_acquisition_date = observation_date - timedelta(\n",
    "            days=horizon_days - 1\n",
    "        )\n",
    "result_df = df.query('first_ts <= @last_suitable_acquisition_date')\n",
    "result_df.head()\n",
    "\n",
    "#добавляю столбец с доходом от пользователея\n",
    "result_df.loc[result_df['is_trial_period'] == False, 'revenue'] = 4.99\n",
    "result_df.head()"
   ]
  },
  {
   "cell_type": "markdown",
   "id": "496bebe4",
   "metadata": {},
   "source": [
    "Вычисляю размер когорт"
   ]
  },
  {
   "cell_type": "code",
   "execution_count": 79,
   "id": "ceb16fee",
   "metadata": {},
   "outputs": [
    {
     "data": {
      "text/html": [
       "<div>\n",
       "<style scoped>\n",
       "    .dataframe tbody tr th:only-of-type {\n",
       "        vertical-align: middle;\n",
       "    }\n",
       "\n",
       "    .dataframe tbody tr th {\n",
       "        vertical-align: top;\n",
       "    }\n",
       "\n",
       "    .dataframe thead th {\n",
       "        text-align: right;\n",
       "    }\n",
       "</style>\n",
       "<table border=\"1\" class=\"dataframe\">\n",
       "  <thead>\n",
       "    <tr style=\"text-align: right;\">\n",
       "      <th></th>\n",
       "      <th>cohort_size</th>\n",
       "    </tr>\n",
       "    <tr>\n",
       "      <th>product_id</th>\n",
       "      <th></th>\n",
       "    </tr>\n",
       "  </thead>\n",
       "  <tbody>\n",
       "    <tr>\n",
       "      <th>1week_4.99_USD_subscription_7days_trial</th>\n",
       "      <td>29487</td>\n",
       "    </tr>\n",
       "  </tbody>\n",
       "</table>\n",
       "</div>"
      ],
      "text/plain": [
       "                                         cohort_size\n",
       "product_id                                          \n",
       "1week_4.99_USD_subscription_7days_trial        29487"
      ]
     },
     "execution_count": 79,
     "metadata": {},
     "output_type": "execute_result"
    }
   ],
   "source": [
    "cohort_sizes = (\n",
    "    result_df.groupby('product_id')\n",
    "    .agg({'user_id': 'nunique'})\n",
    "    .rename(columns={'user_id': 'cohort_size'})\n",
    ")\n",
    "\n",
    "cohort_sizes.head()"
   ]
  },
  {
   "cell_type": "markdown",
   "id": "9262966f",
   "metadata": {},
   "source": [
    "Строю таблицу с доходом и лайфтаймом"
   ]
  },
  {
   "cell_type": "code",
   "execution_count": 80,
   "id": "64cf97a1",
   "metadata": {
    "scrolled": false
   },
   "outputs": [
    {
     "data": {
      "text/html": [
       "<div>\n",
       "<style scoped>\n",
       "    .dataframe tbody tr th:only-of-type {\n",
       "        vertical-align: middle;\n",
       "    }\n",
       "\n",
       "    .dataframe tbody tr th {\n",
       "        vertical-align: top;\n",
       "    }\n",
       "\n",
       "    .dataframe thead th {\n",
       "        text-align: right;\n",
       "    }\n",
       "</style>\n",
       "<table border=\"1\" class=\"dataframe\">\n",
       "  <thead>\n",
       "    <tr style=\"text-align: right;\">\n",
       "      <th></th>\n",
       "      <th>cohort_size</th>\n",
       "      <th>0</th>\n",
       "      <th>1</th>\n",
       "      <th>2</th>\n",
       "      <th>3</th>\n",
       "      <th>4</th>\n",
       "      <th>5</th>\n",
       "      <th>6</th>\n",
       "      <th>7</th>\n",
       "      <th>8</th>\n",
       "      <th>...</th>\n",
       "      <th>19</th>\n",
       "      <th>20</th>\n",
       "      <th>21</th>\n",
       "      <th>22</th>\n",
       "      <th>23</th>\n",
       "      <th>24</th>\n",
       "      <th>25</th>\n",
       "      <th>26</th>\n",
       "      <th>27</th>\n",
       "      <th>28</th>\n",
       "    </tr>\n",
       "    <tr>\n",
       "      <th>product_id</th>\n",
       "      <th></th>\n",
       "      <th></th>\n",
       "      <th></th>\n",
       "      <th></th>\n",
       "      <th></th>\n",
       "      <th></th>\n",
       "      <th></th>\n",
       "      <th></th>\n",
       "      <th></th>\n",
       "      <th></th>\n",
       "      <th></th>\n",
       "      <th></th>\n",
       "      <th></th>\n",
       "      <th></th>\n",
       "      <th></th>\n",
       "      <th></th>\n",
       "      <th></th>\n",
       "      <th></th>\n",
       "      <th></th>\n",
       "      <th></th>\n",
       "      <th></th>\n",
       "    </tr>\n",
       "  </thead>\n",
       "  <tbody>\n",
       "    <tr>\n",
       "      <th>1week_4.99_USD_subscription_7days_trial</th>\n",
       "      <td>29487</td>\n",
       "      <td>0.001354</td>\n",
       "      <td>0.001354</td>\n",
       "      <td>0.001354</td>\n",
       "      <td>0.001354</td>\n",
       "      <td>0.001354</td>\n",
       "      <td>0.001523</td>\n",
       "      <td>0.001523</td>\n",
       "      <td>1.647595</td>\n",
       "      <td>1.685841</td>\n",
       "      <td>...</td>\n",
       "      <td>3.165732</td>\n",
       "      <td>3.187731</td>\n",
       "      <td>4.222217</td>\n",
       "      <td>4.2674</td>\n",
       "      <td>4.299723</td>\n",
       "      <td>4.330522</td>\n",
       "      <td>4.359291</td>\n",
       "      <td>4.389751</td>\n",
       "      <td>4.415305</td>\n",
       "      <td>5.27464</td>\n",
       "    </tr>\n",
       "  </tbody>\n",
       "</table>\n",
       "<p>1 rows × 30 columns</p>\n",
       "</div>"
      ],
      "text/plain": [
       "                                         cohort_size         0         1  \\\n",
       "product_id                                                                 \n",
       "1week_4.99_USD_subscription_7days_trial        29487  0.001354  0.001354   \n",
       "\n",
       "                                                2         3         4  \\\n",
       "product_id                                                              \n",
       "1week_4.99_USD_subscription_7days_trial  0.001354  0.001354  0.001354   \n",
       "\n",
       "                                                5         6         7  \\\n",
       "product_id                                                              \n",
       "1week_4.99_USD_subscription_7days_trial  0.001523  0.001523  1.647595   \n",
       "\n",
       "                                                8  ...        19        20  \\\n",
       "product_id                                         ...                       \n",
       "1week_4.99_USD_subscription_7days_trial  1.685841  ...  3.165732  3.187731   \n",
       "\n",
       "                                               21      22        23        24  \\\n",
       "product_id                                                                      \n",
       "1week_4.99_USD_subscription_7days_trial  4.222217  4.2674  4.299723  4.330522   \n",
       "\n",
       "                                               25        26        27       28  \n",
       "product_id                                                                      \n",
       "1week_4.99_USD_subscription_7days_trial  4.359291  4.389751  4.415305  5.27464  \n",
       "\n",
       "[1 rows x 30 columns]"
      ]
     },
     "execution_count": 80,
     "metadata": {},
     "output_type": "execute_result"
    }
   ],
   "source": [
    "result = result_df.pivot_table(\n",
    "            index='product_id',\n",
    "            columns='lifetime',\n",
    "            values='revenue',  # в ячейках — выручка за каждый лайфтайм\n",
    "            aggfunc='sum',\n",
    "        )\n",
    "# считаю сумму выручки с накоплением\n",
    "result = result.fillna(0).cumsum(axis=1)\n",
    "#Объединяю размеры когорт и таблицу с лайфтаймами\n",
    "result = cohort_sizes.merge(result, on='product_id', how='left').fillna(0)\n",
    "#делю каждую «ячейку» в строке на размер когорты\n",
    "result = result.div(result['cohort_size'], axis=0)\n",
    "# исключаем все лайфтаймы, превышающие горизонт анализа\n",
    "result = result[['cohort_size'] + list(range(horizon_days))]\n",
    "#восстанавливаю размер когорт\n",
    "result['cohort_size'] = cohort_sizes\n",
    "\n",
    "result"
   ]
  },
  {
   "cell_type": "markdown",
   "id": "af17c374",
   "metadata": {},
   "source": [
    "Строю график LTV"
   ]
  },
  {
   "cell_type": "code",
   "execution_count": 81,
   "id": "748132e6",
   "metadata": {
    "scrolled": false
   },
   "outputs": [
    {
     "name": "stdout",
     "output_type": "stream",
     "text": [
      "\n"
     ]
    },
    {
     "data": {
      "image/png": "[encoded data removed]",
      "text/plain": [
       "<Figure size 720x360 with 1 Axes>"
      ]
     },
     "metadata": {
      "needs_background": "light"
     },
     "output_type": "display_data"
    }
   ],
   "source": [
    "report = result.drop(columns=['cohort_size'])\n",
    "report.T.plot(grid=True, figsize=(10, 5), xticks=list(report.columns.values))\n",
    "plt.title('График LTV')\n",
    "print()"
   ]
  },
  {
   "cell_type": "markdown",
   "id": "606bf63b",
   "metadata": {},
   "source": [
    "___Вывод___:\n",
    "- LTV на 28 лайфтайм равен 5.27 USD"
   ]
  },
  {
   "cell_type": "markdown",
   "id": "9311796c",
   "metadata": {},
   "source": [
    "### 4. Рассчитать ROMI на 4 недели и на полгода, если стоимость привлечения платящего пользователя 6 USD (ROMI нужно брать операционный, а не бухгалтерский, цель: узнать как окупятся наши инвестиции)."
   ]
  },
  {
   "cell_type": "markdown",
   "id": "a898d738",
   "metadata": {},
   "source": [
    "Оставим в таблице только платящих пользователей"
   ]
  },
  {
   "cell_type": "code",
   "execution_count": 86,
   "id": "7ecee7f2",
   "metadata": {},
   "outputs": [
    {
     "data": {
      "text/html": [
       "<div>\n",
       "<style scoped>\n",
       "    .dataframe tbody tr th:only-of-type {\n",
       "        vertical-align: middle;\n",
       "    }\n",
       "\n",
       "    .dataframe tbody tr th {\n",
       "        vertical-align: top;\n",
       "    }\n",
       "\n",
       "    .dataframe thead th {\n",
       "        text-align: right;\n",
       "    }\n",
       "</style>\n",
       "<table border=\"1\" class=\"dataframe\">\n",
       "  <thead>\n",
       "    <tr style=\"text-align: right;\">\n",
       "      <th></th>\n",
       "      <th>product_id</th>\n",
       "      <th>quantity</th>\n",
       "      <th>is_trial_period</th>\n",
       "      <th>purchase_date</th>\n",
       "      <th>user_id</th>\n",
       "      <th>first_ts</th>\n",
       "      <th>lifetime</th>\n",
       "      <th>revenue</th>\n",
       "      <th>revenue_total</th>\n",
       "    </tr>\n",
       "  </thead>\n",
       "  <tbody>\n",
       "    <tr>\n",
       "      <th>0</th>\n",
       "      <td>1week_4.99_USD_subscription_7days_trial</td>\n",
       "      <td>1</td>\n",
       "      <td>False</td>\n",
       "      <td>2020-02-16</td>\n",
       "      <td>8803657</td>\n",
       "      <td>2020-01-19</td>\n",
       "      <td>28</td>\n",
       "      <td>4.99</td>\n",
       "      <td>19.96</td>\n",
       "    </tr>\n",
       "    <tr>\n",
       "      <th>1</th>\n",
       "      <td>1week_4.99_USD_subscription_7days_trial</td>\n",
       "      <td>1</td>\n",
       "      <td>True</td>\n",
       "      <td>2020-01-19</td>\n",
       "      <td>8803657</td>\n",
       "      <td>2020-01-19</td>\n",
       "      <td>0</td>\n",
       "      <td>NaN</td>\n",
       "      <td>19.96</td>\n",
       "    </tr>\n",
       "    <tr>\n",
       "      <th>2</th>\n",
       "      <td>1week_4.99_USD_subscription_7days_trial</td>\n",
       "      <td>1</td>\n",
       "      <td>False</td>\n",
       "      <td>2020-01-26</td>\n",
       "      <td>8803657</td>\n",
       "      <td>2020-01-19</td>\n",
       "      <td>7</td>\n",
       "      <td>4.99</td>\n",
       "      <td>19.96</td>\n",
       "    </tr>\n",
       "    <tr>\n",
       "      <th>3</th>\n",
       "      <td>1week_4.99_USD_subscription_7days_trial</td>\n",
       "      <td>1</td>\n",
       "      <td>False</td>\n",
       "      <td>2020-02-02</td>\n",
       "      <td>8803657</td>\n",
       "      <td>2020-01-19</td>\n",
       "      <td>14</td>\n",
       "      <td>4.99</td>\n",
       "      <td>19.96</td>\n",
       "    </tr>\n",
       "    <tr>\n",
       "      <th>4</th>\n",
       "      <td>1week_4.99_USD_subscription_7days_trial</td>\n",
       "      <td>1</td>\n",
       "      <td>False</td>\n",
       "      <td>2020-02-09</td>\n",
       "      <td>8803657</td>\n",
       "      <td>2020-01-19</td>\n",
       "      <td>21</td>\n",
       "      <td>4.99</td>\n",
       "      <td>19.96</td>\n",
       "    </tr>\n",
       "  </tbody>\n",
       "</table>\n",
       "</div>"
      ],
      "text/plain": [
       "                                product_id  quantity  is_trial_period  \\\n",
       "0  1week_4.99_USD_subscription_7days_trial         1            False   \n",
       "1  1week_4.99_USD_subscription_7days_trial         1             True   \n",
       "2  1week_4.99_USD_subscription_7days_trial         1            False   \n",
       "3  1week_4.99_USD_subscription_7days_trial         1            False   \n",
       "4  1week_4.99_USD_subscription_7days_trial         1            False   \n",
       "\n",
       "  purchase_date  user_id   first_ts  lifetime  revenue  revenue_total  \n",
       "0    2020-02-16  8803657 2020-01-19        28     4.99          19.96  \n",
       "1    2020-01-19  8803657 2020-01-19         0      NaN          19.96  \n",
       "2    2020-01-26  8803657 2020-01-19         7     4.99          19.96  \n",
       "3    2020-02-02  8803657 2020-01-19        14     4.99          19.96  \n",
       "4    2020-02-09  8803657 2020-01-19        21     4.99          19.96  "
      ]
     },
     "execution_count": 86,
     "metadata": {},
     "output_type": "execute_result"
    }
   ],
   "source": [
    "#делаю список платящих пользовтателей\n",
    "pay_user = result_df[['user_id', 'revenue']].groupby('user_id', as_index=False).agg({'revenue':'sum'}).query('revenue > 0')\n",
    "#добавляю столбец с общим доходом с пользователя\n",
    "pay_user.columns=('user_id', 'revenue_total')\n",
    "#оставляю в датасете только платящих пользователей\n",
    "df_pay_user = result_df[result_df['user_id'].isin(pay_user['user_id'])]\n",
    "#добавляю к таблице остальные данные датафрейма\n",
    "df_pay_user = df_pay_user.merge(pay_user, on='user_id')\n",
    "\n",
    "df_pay_user.head()"
   ]
  },
  {
   "cell_type": "markdown",
   "id": "5574e9af",
   "metadata": {},
   "source": [
    "Вычисляю размер когорт для платищих пользователей"
   ]
  },
  {
   "cell_type": "code",
   "execution_count": 83,
   "id": "bec15915",
   "metadata": {},
   "outputs": [
    {
     "data": {
      "text/html": [
       "<div>\n",
       "<style scoped>\n",
       "    .dataframe tbody tr th:only-of-type {\n",
       "        vertical-align: middle;\n",
       "    }\n",
       "\n",
       "    .dataframe tbody tr th {\n",
       "        vertical-align: top;\n",
       "    }\n",
       "\n",
       "    .dataframe thead th {\n",
       "        text-align: right;\n",
       "    }\n",
       "</style>\n",
       "<table border=\"1\" class=\"dataframe\">\n",
       "  <thead>\n",
       "    <tr style=\"text-align: right;\">\n",
       "      <th></th>\n",
       "      <th>cohort_size</th>\n",
       "    </tr>\n",
       "    <tr>\n",
       "      <th>product_id</th>\n",
       "      <th></th>\n",
       "    </tr>\n",
       "  </thead>\n",
       "  <tbody>\n",
       "    <tr>\n",
       "      <th>1week_4.99_USD_subscription_7days_trial</th>\n",
       "      <td>11405</td>\n",
       "    </tr>\n",
       "  </tbody>\n",
       "</table>\n",
       "</div>"
      ],
      "text/plain": [
       "                                         cohort_size\n",
       "product_id                                          \n",
       "1week_4.99_USD_subscription_7days_trial        11405"
      ]
     },
     "execution_count": 83,
     "metadata": {},
     "output_type": "execute_result"
    }
   ],
   "source": [
    "cohort_sizes_payer = (\n",
    "    df_pay_user.groupby('product_id')\n",
    "    .agg({'user_id': 'nunique'})\n",
    "    .rename(columns={'user_id': 'cohort_size'})\n",
    ")\n",
    "\n",
    "cohort_sizes_payer.head()"
   ]
  },
  {
   "cell_type": "code",
   "execution_count": 87,
   "id": "c29d1185",
   "metadata": {
    "scrolled": true
   },
   "outputs": [
    {
     "name": "stdout",
     "output_type": "stream",
     "text": [
      "ROI по лайфтаймам:\n"
     ]
    },
    {
     "data": {
      "text/html": [
       "<div>\n",
       "<style scoped>\n",
       "    .dataframe tbody tr th:only-of-type {\n",
       "        vertical-align: middle;\n",
       "    }\n",
       "\n",
       "    .dataframe tbody tr th {\n",
       "        vertical-align: top;\n",
       "    }\n",
       "\n",
       "    .dataframe thead th {\n",
       "        text-align: right;\n",
       "    }\n",
       "</style>\n",
       "<table border=\"1\" class=\"dataframe\">\n",
       "  <thead>\n",
       "    <tr style=\"text-align: right;\">\n",
       "      <th></th>\n",
       "      <th>0</th>\n",
       "      <th>1</th>\n",
       "      <th>5</th>\n",
       "      <th>6</th>\n",
       "      <th>7</th>\n",
       "      <th>8</th>\n",
       "      <th>9</th>\n",
       "      <th>10</th>\n",
       "      <th>11</th>\n",
       "      <th>12</th>\n",
       "      <th>...</th>\n",
       "      <th>19</th>\n",
       "      <th>20</th>\n",
       "      <th>21</th>\n",
       "      <th>22</th>\n",
       "      <th>23</th>\n",
       "      <th>24</th>\n",
       "      <th>25</th>\n",
       "      <th>26</th>\n",
       "      <th>27</th>\n",
       "      <th>28</th>\n",
       "    </tr>\n",
       "    <tr>\n",
       "      <th>product_id</th>\n",
       "      <th></th>\n",
       "      <th></th>\n",
       "      <th></th>\n",
       "      <th></th>\n",
       "      <th></th>\n",
       "      <th></th>\n",
       "      <th></th>\n",
       "      <th></th>\n",
       "      <th></th>\n",
       "      <th></th>\n",
       "      <th></th>\n",
       "      <th></th>\n",
       "      <th></th>\n",
       "      <th></th>\n",
       "      <th></th>\n",
       "      <th></th>\n",
       "      <th></th>\n",
       "      <th></th>\n",
       "      <th></th>\n",
       "      <th></th>\n",
       "      <th></th>\n",
       "    </tr>\n",
       "  </thead>\n",
       "  <tbody>\n",
       "    <tr>\n",
       "      <th>1week_4.99_USD_subscription_7days_trial</th>\n",
       "      <td>0.000583</td>\n",
       "      <td>0.000583</td>\n",
       "      <td>0.000656</td>\n",
       "      <td>0.000656</td>\n",
       "      <td>0.709961</td>\n",
       "      <td>0.726441</td>\n",
       "      <td>0.736432</td>\n",
       "      <td>0.74438</td>\n",
       "      <td>0.75211</td>\n",
       "      <td>0.7586</td>\n",
       "      <td>...</td>\n",
       "      <td>1.364138</td>\n",
       "      <td>1.373617</td>\n",
       "      <td>1.819385</td>\n",
       "      <td>1.838855</td>\n",
       "      <td>1.852783</td>\n",
       "      <td>1.866054</td>\n",
       "      <td>1.878451</td>\n",
       "      <td>1.891577</td>\n",
       "      <td>1.902588</td>\n",
       "      <td>2.272882</td>\n",
       "    </tr>\n",
       "  </tbody>\n",
       "</table>\n",
       "<p>1 rows × 26 columns</p>\n",
       "</div>"
      ],
      "text/plain": [
       "                                               0         1         5   \\\n",
       "product_id                                                              \n",
       "1week_4.99_USD_subscription_7days_trial  0.000583  0.000583  0.000656   \n",
       "\n",
       "                                               6         7         8   \\\n",
       "product_id                                                              \n",
       "1week_4.99_USD_subscription_7days_trial  0.000656  0.709961  0.726441   \n",
       "\n",
       "                                               9        10       11      12  \\\n",
       "product_id                                                                    \n",
       "1week_4.99_USD_subscription_7days_trial  0.736432  0.74438  0.75211  0.7586   \n",
       "\n",
       "                                         ...        19        20        21  \\\n",
       "product_id                               ...                                 \n",
       "1week_4.99_USD_subscription_7days_trial  ...  1.364138  1.373617  1.819385   \n",
       "\n",
       "                                               22        23        24  \\\n",
       "product_id                                                              \n",
       "1week_4.99_USD_subscription_7days_trial  1.838855  1.852783  1.866054   \n",
       "\n",
       "                                               25        26        27  \\\n",
       "product_id                                                              \n",
       "1week_4.99_USD_subscription_7days_trial  1.878451  1.891577  1.902588   \n",
       "\n",
       "                                               28  \n",
       "product_id                                         \n",
       "1week_4.99_USD_subscription_7days_trial  2.272882  \n",
       "\n",
       "[1 rows x 26 columns]"
      ]
     },
     "metadata": {},
     "output_type": "display_data"
    }
   ],
   "source": [
    "#строю таблицу с доходом по лайфтаймам для платящих пользователей\n",
    "result_payer = df_pay_user.pivot_table(\n",
    "            index='product_id',\n",
    "            columns='lifetime',\n",
    "            values='revenue',  # в ячейках — выручка за каждый лайфтайм\n",
    "            aggfunc='sum',\n",
    "        )\n",
    "# считаю сумму выручки с накоплением\n",
    "result_payer = result_payer.fillna(0).cumsum(axis=1)\n",
    "#добавляю размер когорт\n",
    "result_payer = cohort_sizes_payer.merge(result_payer, on='product_id', how='left').fillna(0)\n",
    "#делю каждую «ячейку» в строке на размер когорты\n",
    "result_payer = result_payer.div(result_payer['cohort_size'], axis=0)\n",
    "# исключаем все лайфтаймы, превышающие горизонт анализа\n",
    "result_payer = result_payer[[0,1]+ list(range(5,29))]\n",
    "#считаю ROI с учетом того что стоимость привлечения 1 пользователя равна 6 usd\n",
    "result_payer = result_payer.div(6, axis=0)\n",
    "\n",
    "print('ROI по лайфтаймам:')\n",
    "display(result_payer)"
   ]
  },
  {
   "cell_type": "markdown",
   "id": "3556e6f8",
   "metadata": {},
   "source": [
    "Строю график ROI"
   ]
  },
  {
   "cell_type": "code",
   "execution_count": 85,
   "id": "6d87108f",
   "metadata": {},
   "outputs": [
    {
     "data": {
      "image/png": "[encoded data removed]",
      "text/plain": [
       "<Figure size 720x360 with 1 Axes>"
      ]
     },
     "metadata": {
      "needs_background": "light"
     },
     "output_type": "display_data"
    }
   ],
   "source": [
    "result_payer.T.plot(grid=True, figsize=(10, 5), xticks=list(result_payer.columns.values))\n",
    "\n",
    "plt.title('график ROI')\n",
    "plt.ylabel('ROI')\n",
    "plt.xlabel('Лайфтайм')\n",
    "plt.axhline(y=1, color='red', linestyle='--', label='Уровень окупаемости')\n",
    "plt.legend()\n",
    "plt.show()"
   ]
  },
  {
   "cell_type": "markdown",
   "id": "cd2ad193",
   "metadata": {},
   "source": [
    "___Вывод___: \n",
    "- ROI для платящих пользователей на 4 недлю(29 день) день составляет 227%\n",
    "- Стоимость привлечения платящих пользователей окупается на 14 лайфтайм"
   ]
  }
 ],
 "metadata": {
  "kernelspec": {
   "display_name": "Python 3",
   "language": "python",
   "name": "python3"
  },
  "language_info": {
   "codemirror_mode": {
    "name": "ipython",
    "version": 3
   },
   "file_extension": ".py",
   "mimetype": "text/x-python",
   "name": "python",
   "nbconvert_exporter": "python",
   "pygments_lexer": "ipython3",
   "version": "3.8.8"
  }
 },
 "nbformat": 4,
 "nbformat_minor": 5
}
