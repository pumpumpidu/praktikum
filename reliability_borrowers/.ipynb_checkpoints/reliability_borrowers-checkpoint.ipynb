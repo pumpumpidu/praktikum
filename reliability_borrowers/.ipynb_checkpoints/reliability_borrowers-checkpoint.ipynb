{
 "cells": [
  {
   "cell_type": "markdown",
   "metadata": {},
   "source": [
    "# Исследование надёжности заёмщиков\n",
    "\n",
    "___Описание проекта___:\n",
    "\n",
    "Заказчик — кредитный отдел банка. Нужно разобраться, влияет ли семейное положение и количество детей клиента на факт погашения кредита в срок. Входные данные от банка — статистика о платёжеспособности клиентов.\n",
    "\n",
    "Результаты исследования будут учтены при построении модели кредитного скоринга — специальной системы, которая оценивает способность потенциального заёмщика вернуть кредит банку.\n",
    "\n",
    "___Описание данных___:\n",
    "\n",
    "- children — количество детей в семье\n",
    "- days_employed — общий трудовой стаж в днях\n",
    "- dob_years — возраст клиента в годах\n",
    "- education — уровень образования клиента\n",
    "- education_id — идентификатор уровня образования\n",
    "- family_status — семейное положение\n",
    "- family_status_id — идентификатор семейного положения\n",
    "- gender — пол клиента\n",
    "- income_type — тип занятости\n",
    "- debt — имел ли задолженность по возврату кредитов\n",
    "- total_income — ежемесячный доход\n",
    "- purpose — цель получения кредита"
   ]
  },
  {
   "cell_type": "markdown",
   "metadata": {},
   "source": [
    "## Загрузка датасетов и обзор данных"
   ]
  },
  {
   "cell_type": "code",
   "execution_count": 1,
   "metadata": {},
   "outputs": [
    {
     "name": "stdout",
     "output_type": "stream",
     "text": [
      "<class 'pandas.core.frame.DataFrame'>\n",
      "RangeIndex: 21525 entries, 0 to 21524\n",
      "Data columns (total 12 columns):\n",
      "children            21525 non-null int64\n",
      "days_employed       19351 non-null float64\n",
      "dob_years           21525 non-null int64\n",
      "education           21525 non-null object\n",
      "education_id        21525 non-null int64\n",
      "family_status       21525 non-null object\n",
      "family_status_id    21525 non-null int64\n",
      "gender              21525 non-null object\n",
      "income_type         21525 non-null object\n",
      "debt                21525 non-null int64\n",
      "total_income        19351 non-null float64\n",
      "purpose             21525 non-null object\n",
      "dtypes: float64(2), int64(5), object(5)\n",
      "memory usage: 2.0+ MB\n"
     ]
    },
    {
     "data": {
      "text/html": [
       "<div>\n",
       "<style scoped>\n",
       "    .dataframe tbody tr th:only-of-type {\n",
       "        vertical-align: middle;\n",
       "    }\n",
       "\n",
       "    .dataframe tbody tr th {\n",
       "        vertical-align: top;\n",
       "    }\n",
       "\n",
       "    .dataframe thead th {\n",
       "        text-align: right;\n",
       "    }\n",
       "</style>\n",
       "<table border=\"1\" class=\"dataframe\">\n",
       "  <thead>\n",
       "    <tr style=\"text-align: right;\">\n",
       "      <th></th>\n",
       "      <th>children</th>\n",
       "      <th>days_employed</th>\n",
       "      <th>dob_years</th>\n",
       "      <th>education</th>\n",
       "      <th>education_id</th>\n",
       "      <th>family_status</th>\n",
       "      <th>family_status_id</th>\n",
       "      <th>gender</th>\n",
       "      <th>income_type</th>\n",
       "      <th>debt</th>\n",
       "      <th>total_income</th>\n",
       "      <th>purpose</th>\n",
       "    </tr>\n",
       "  </thead>\n",
       "  <tbody>\n",
       "    <tr>\n",
       "      <td>0</td>\n",
       "      <td>1</td>\n",
       "      <td>-8437.673028</td>\n",
       "      <td>42</td>\n",
       "      <td>высшее</td>\n",
       "      <td>0</td>\n",
       "      <td>женат / замужем</td>\n",
       "      <td>0</td>\n",
       "      <td>F</td>\n",
       "      <td>сотрудник</td>\n",
       "      <td>0</td>\n",
       "      <td>253875.639453</td>\n",
       "      <td>покупка жилья</td>\n",
       "    </tr>\n",
       "    <tr>\n",
       "      <td>1</td>\n",
       "      <td>1</td>\n",
       "      <td>-4024.803754</td>\n",
       "      <td>36</td>\n",
       "      <td>среднее</td>\n",
       "      <td>1</td>\n",
       "      <td>женат / замужем</td>\n",
       "      <td>0</td>\n",
       "      <td>F</td>\n",
       "      <td>сотрудник</td>\n",
       "      <td>0</td>\n",
       "      <td>112080.014102</td>\n",
       "      <td>приобретение автомобиля</td>\n",
       "    </tr>\n",
       "    <tr>\n",
       "      <td>2</td>\n",
       "      <td>0</td>\n",
       "      <td>-5623.422610</td>\n",
       "      <td>33</td>\n",
       "      <td>Среднее</td>\n",
       "      <td>1</td>\n",
       "      <td>женат / замужем</td>\n",
       "      <td>0</td>\n",
       "      <td>M</td>\n",
       "      <td>сотрудник</td>\n",
       "      <td>0</td>\n",
       "      <td>145885.952297</td>\n",
       "      <td>покупка жилья</td>\n",
       "    </tr>\n",
       "    <tr>\n",
       "      <td>3</td>\n",
       "      <td>3</td>\n",
       "      <td>-4124.747207</td>\n",
       "      <td>32</td>\n",
       "      <td>среднее</td>\n",
       "      <td>1</td>\n",
       "      <td>женат / замужем</td>\n",
       "      <td>0</td>\n",
       "      <td>M</td>\n",
       "      <td>сотрудник</td>\n",
       "      <td>0</td>\n",
       "      <td>267628.550329</td>\n",
       "      <td>дополнительное образование</td>\n",
       "    </tr>\n",
       "    <tr>\n",
       "      <td>4</td>\n",
       "      <td>0</td>\n",
       "      <td>340266.072047</td>\n",
       "      <td>53</td>\n",
       "      <td>среднее</td>\n",
       "      <td>1</td>\n",
       "      <td>гражданский брак</td>\n",
       "      <td>1</td>\n",
       "      <td>F</td>\n",
       "      <td>пенсионер</td>\n",
       "      <td>0</td>\n",
       "      <td>158616.077870</td>\n",
       "      <td>сыграть свадьбу</td>\n",
       "    </tr>\n",
       "  </tbody>\n",
       "</table>\n",
       "</div>"
      ],
      "text/plain": [
       "   children  days_employed  dob_years education  education_id  \\\n",
       "0         1   -8437.673028         42    высшее             0   \n",
       "1         1   -4024.803754         36   среднее             1   \n",
       "2         0   -5623.422610         33   Среднее             1   \n",
       "3         3   -4124.747207         32   среднее             1   \n",
       "4         0  340266.072047         53   среднее             1   \n",
       "\n",
       "      family_status  family_status_id gender income_type  debt   total_income  \\\n",
       "0   женат / замужем                 0      F   сотрудник     0  253875.639453   \n",
       "1   женат / замужем                 0      F   сотрудник     0  112080.014102   \n",
       "2   женат / замужем                 0      M   сотрудник     0  145885.952297   \n",
       "3   женат / замужем                 0      M   сотрудник     0  267628.550329   \n",
       "4  гражданский брак                 1      F   пенсионер     0  158616.077870   \n",
       "\n",
       "                      purpose  \n",
       "0               покупка жилья  \n",
       "1     приобретение автомобиля  \n",
       "2               покупка жилья  \n",
       "3  дополнительное образование  \n",
       "4             сыграть свадьбу  "
      ]
     },
     "execution_count": 1,
     "metadata": {},
     "output_type": "execute_result"
    }
   ],
   "source": [
    "import pandas as pd\n",
    "try: \n",
    "    data = pd.read_csv('data.csv')\n",
    "except: \n",
    "    data = pd.read_csv('/datasets/data.csv')\n",
    "data.info()\n",
    "data.head()"
   ]
  },
  {
   "cell_type": "markdown",
   "metadata": {},
   "source": [
    "**Вывод** \n",
    "1) Есть пропущенные значения в столбцах 'days_employed' и 'total_income'\n",
    "\n",
    "2) В столбце 'days_employed'(дней трудового стажа) есть отрицательные значения и есть аномально большие значения. Вероятно, отрицательные значения указаны в днях, а положительные в часах.\n",
    "\n",
    "3) В столбце 'education' присутствуют явные дубли"
   ]
  },
  {
   "cell_type": "markdown",
   "metadata": {},
   "source": []
  },
  {
   "cell_type": "markdown",
   "metadata": {},
   "source": [
    "## Предобработка данных"
   ]
  },
  {
   "cell_type": "markdown",
   "metadata": {},
   "source": [
    "### Обработка пропусков"
   ]
  },
  {
   "cell_type": "markdown",
   "metadata": {},
   "source": [
    "Выясним откуда взялись пропуски. Оставим только строки с пропущщенными значениями в столбце 'days_employed':"
   ]
  },
  {
   "cell_type": "code",
   "execution_count": 2,
   "metadata": {
    "scrolled": false
   },
   "outputs": [
    {
     "data": {
      "text/html": [
       "<div>\n",
       "<style scoped>\n",
       "    .dataframe tbody tr th:only-of-type {\n",
       "        vertical-align: middle;\n",
       "    }\n",
       "\n",
       "    .dataframe tbody tr th {\n",
       "        vertical-align: top;\n",
       "    }\n",
       "\n",
       "    .dataframe thead th {\n",
       "        text-align: right;\n",
       "    }\n",
       "</style>\n",
       "<table border=\"1\" class=\"dataframe\">\n",
       "  <thead>\n",
       "    <tr style=\"text-align: right;\">\n",
       "      <th></th>\n",
       "      <th>children</th>\n",
       "      <th>days_employed</th>\n",
       "      <th>dob_years</th>\n",
       "      <th>education</th>\n",
       "      <th>education_id</th>\n",
       "      <th>family_status</th>\n",
       "      <th>family_status_id</th>\n",
       "      <th>gender</th>\n",
       "      <th>income_type</th>\n",
       "      <th>debt</th>\n",
       "      <th>total_income</th>\n",
       "      <th>purpose</th>\n",
       "    </tr>\n",
       "  </thead>\n",
       "  <tbody>\n",
       "    <tr>\n",
       "      <td>12</td>\n",
       "      <td>0</td>\n",
       "      <td>NaN</td>\n",
       "      <td>65</td>\n",
       "      <td>среднее</td>\n",
       "      <td>1</td>\n",
       "      <td>гражданский брак</td>\n",
       "      <td>1</td>\n",
       "      <td>M</td>\n",
       "      <td>пенсионер</td>\n",
       "      <td>0</td>\n",
       "      <td>NaN</td>\n",
       "      <td>сыграть свадьбу</td>\n",
       "    </tr>\n",
       "    <tr>\n",
       "      <td>26</td>\n",
       "      <td>0</td>\n",
       "      <td>NaN</td>\n",
       "      <td>41</td>\n",
       "      <td>среднее</td>\n",
       "      <td>1</td>\n",
       "      <td>женат / замужем</td>\n",
       "      <td>0</td>\n",
       "      <td>M</td>\n",
       "      <td>госслужащий</td>\n",
       "      <td>0</td>\n",
       "      <td>NaN</td>\n",
       "      <td>образование</td>\n",
       "    </tr>\n",
       "    <tr>\n",
       "      <td>29</td>\n",
       "      <td>0</td>\n",
       "      <td>NaN</td>\n",
       "      <td>63</td>\n",
       "      <td>среднее</td>\n",
       "      <td>1</td>\n",
       "      <td>Не женат / не замужем</td>\n",
       "      <td>4</td>\n",
       "      <td>F</td>\n",
       "      <td>пенсионер</td>\n",
       "      <td>0</td>\n",
       "      <td>NaN</td>\n",
       "      <td>строительство жилой недвижимости</td>\n",
       "    </tr>\n",
       "    <tr>\n",
       "      <td>41</td>\n",
       "      <td>0</td>\n",
       "      <td>NaN</td>\n",
       "      <td>50</td>\n",
       "      <td>среднее</td>\n",
       "      <td>1</td>\n",
       "      <td>женат / замужем</td>\n",
       "      <td>0</td>\n",
       "      <td>F</td>\n",
       "      <td>госслужащий</td>\n",
       "      <td>0</td>\n",
       "      <td>NaN</td>\n",
       "      <td>сделка с подержанным автомобилем</td>\n",
       "    </tr>\n",
       "    <tr>\n",
       "      <td>55</td>\n",
       "      <td>0</td>\n",
       "      <td>NaN</td>\n",
       "      <td>54</td>\n",
       "      <td>среднее</td>\n",
       "      <td>1</td>\n",
       "      <td>гражданский брак</td>\n",
       "      <td>1</td>\n",
       "      <td>F</td>\n",
       "      <td>пенсионер</td>\n",
       "      <td>1</td>\n",
       "      <td>NaN</td>\n",
       "      <td>сыграть свадьбу</td>\n",
       "    </tr>\n",
       "  </tbody>\n",
       "</table>\n",
       "</div>"
      ],
      "text/plain": [
       "    children  days_employed  dob_years education  education_id  \\\n",
       "12         0            NaN         65   среднее             1   \n",
       "26         0            NaN         41   среднее             1   \n",
       "29         0            NaN         63   среднее             1   \n",
       "41         0            NaN         50   среднее             1   \n",
       "55         0            NaN         54   среднее             1   \n",
       "\n",
       "            family_status  family_status_id gender  income_type  debt  \\\n",
       "12       гражданский брак                 1      M    пенсионер     0   \n",
       "26        женат / замужем                 0      M  госслужащий     0   \n",
       "29  Не женат / не замужем                 4      F    пенсионер     0   \n",
       "41        женат / замужем                 0      F  госслужащий     0   \n",
       "55       гражданский брак                 1      F    пенсионер     1   \n",
       "\n",
       "    total_income                           purpose  \n",
       "12           NaN                   сыграть свадьбу  \n",
       "26           NaN                       образование  \n",
       "29           NaN  строительство жилой недвижимости  \n",
       "41           NaN  сделка с подержанным автомобилем  \n",
       "55           NaN                   сыграть свадьбу  "
      ]
     },
     "execution_count": 2,
     "metadata": {},
     "output_type": "execute_result"
    }
   ],
   "source": [
    "data[data['days_employed'].isna()].head()"
   ]
  },
  {
   "cell_type": "markdown",
   "metadata": {},
   "source": [
    "Сравним совпадают ли строки с пропущенными значениями в столбцах 'days_employed' и 'total_income':"
   ]
  },
  {
   "cell_type": "code",
   "execution_count": 3,
   "metadata": {},
   "outputs": [
    {
     "name": "stdout",
     "output_type": "stream",
     "text": [
      "Проверка показала что в столбцах 'days_employed' и 'total_income' значения пропущены в одних и тех же строках\n"
     ]
    }
   ],
   "source": [
    "if data['days_employed'].isna().count() == data['total_income'].isna().count():\n",
    "    print('Проверка показала что в столбцах \\'days_employed\\' и \\'total_income\\' значения пропущены в одних и тех же строках')\n",
    "else:\n",
    "    print('Проверка показала что в столбцах \\'days_employed\\' и \\'total_income\\' значения пропущены в разных строках')"
   ]
  },
  {
   "cell_type": "markdown",
   "metadata": {},
   "source": [
    "Возможно, это те кто отказался предоставить данные о своей работе. Так как цель анализа не связана с доходом и стажем, заполним пропущенные значения, медианными значениями.\n",
    "\n",
    "Предварительно исправляем значения в столбце 'days_employed' - убираем знак '-', переводим часы в дни"
   ]
  },
  {
   "cell_type": "code",
   "execution_count": 4,
   "metadata": {},
   "outputs": [
    {
     "name": "stdout",
     "output_type": "stream",
     "text": [
      "<class 'pandas.core.frame.DataFrame'>\n",
      "RangeIndex: 21525 entries, 0 to 21524\n",
      "Data columns (total 12 columns):\n",
      "children            21525 non-null int64\n",
      "days_employed       21525 non-null float64\n",
      "dob_years           21525 non-null int64\n",
      "education           21525 non-null object\n",
      "education_id        21525 non-null int64\n",
      "family_status       21525 non-null object\n",
      "family_status_id    21525 non-null int64\n",
      "gender              21525 non-null object\n",
      "income_type         21525 non-null object\n",
      "debt                21525 non-null int64\n",
      "total_income        21525 non-null float64\n",
      "purpose             21525 non-null object\n",
      "dtypes: float64(2), int64(5), object(5)\n",
      "memory usage: 2.0+ MB\n"
     ]
    }
   ],
   "source": [
    "data.loc[data['days_employed'] > 0, 'days_employed'] = data.loc[data['days_employed'] > 0, 'days_employed'] / 24\n",
    "data['days_employed'] = data['days_employed'].apply(abs)\n",
    "days_employed_mean = data['days_employed'].mean()\n",
    "total_income_mean = data['total_income'].mean()\n",
    "data['days_employed'] = data['days_employed'].fillna(days_employed_mean)\n",
    "data['total_income'] = data['total_income'].fillna(total_income_mean)\n",
    "data.info()"
   ]
  },
  {
   "cell_type": "markdown",
   "metadata": {},
   "source": [
    "**Вывод**\n",
    "Пропущенные значения были одновременно в двух столбцах одних и тех же строк(трудовой стаж и доход), что веоятно связано с отказом некоторой части аудитории, предоставлять данные о доходах. Возможно был выдан кредит без подтверждения дохода.\n",
    "\n",
    "Так как эти данные не влияют на цель анализа, то они были заменены на мединые значения."
   ]
  },
  {
   "cell_type": "markdown",
   "metadata": {},
   "source": [
    "### Замена типа данных"
   ]
  },
  {
   "cell_type": "markdown",
   "metadata": {},
   "source": [
    "Переведем типы данных методом astype('int'), так как метод достаточно простой"
   ]
  },
  {
   "cell_type": "code",
   "execution_count": 5,
   "metadata": {},
   "outputs": [
    {
     "name": "stdout",
     "output_type": "stream",
     "text": [
      "<class 'pandas.core.frame.DataFrame'>\n",
      "RangeIndex: 21525 entries, 0 to 21524\n",
      "Data columns (total 12 columns):\n",
      "children            21525 non-null int64\n",
      "days_employed       21525 non-null int64\n",
      "dob_years           21525 non-null int64\n",
      "education           21525 non-null object\n",
      "education_id        21525 non-null int64\n",
      "family_status       21525 non-null object\n",
      "family_status_id    21525 non-null int64\n",
      "gender              21525 non-null object\n",
      "income_type         21525 non-null object\n",
      "debt                21525 non-null int64\n",
      "total_income        21525 non-null int64\n",
      "purpose             21525 non-null object\n",
      "dtypes: int64(7), object(5)\n",
      "memory usage: 2.0+ MB\n"
     ]
    }
   ],
   "source": [
    "data['days_employed'] = data['days_employed'].astype('int')\n",
    "data['total_income'] = data['total_income'].astype('int')\n",
    "data.info()"
   ]
  },
  {
   "cell_type": "markdown",
   "metadata": {},
   "source": [
    "**Вывод** Для удобства были переведены в целочисленный формат, значения столбцов 'days_employed' и 'total_income'"
   ]
  },
  {
   "cell_type": "markdown",
   "metadata": {},
   "source": [
    "### Обработка дубликатов"
   ]
  },
  {
   "cell_type": "markdown",
   "metadata": {},
   "source": [
    "Проверим таблицу на явные дубли. Выведем уникальные значения столбцов 'education', 'family_status', 'income_type', 'purpose'"
   ]
  },
  {
   "cell_type": "code",
   "execution_count": 6,
   "metadata": {},
   "outputs": [
    {
     "data": {
      "text/plain": [
       "array(['высшее', 'среднее', 'Среднее', 'СРЕДНЕЕ', 'ВЫСШЕЕ',\n",
       "       'неоконченное высшее', 'начальное', 'Высшее',\n",
       "       'НЕОКОНЧЕННОЕ ВЫСШЕЕ', 'Неоконченное высшее', 'НАЧАЛЬНОЕ',\n",
       "       'Начальное', 'Ученая степень', 'УЧЕНАЯ СТЕПЕНЬ', 'ученая степень'],\n",
       "      dtype=object)"
      ]
     },
     "metadata": {},
     "output_type": "display_data"
    },
    {
     "data": {
      "text/plain": [
       "array(['женат / замужем', 'гражданский брак', 'вдовец / вдова',\n",
       "       'в разводе', 'Не женат / не замужем'], dtype=object)"
      ]
     },
     "metadata": {},
     "output_type": "display_data"
    },
    {
     "data": {
      "text/plain": [
       "array(['сотрудник', 'пенсионер', 'компаньон', 'госслужащий',\n",
       "       'безработный', 'предприниматель', 'студент', 'в декрете'],\n",
       "      dtype=object)"
      ]
     },
     "metadata": {},
     "output_type": "display_data"
    },
    {
     "data": {
      "text/plain": [
       "array(['покупка жилья', 'приобретение автомобиля',\n",
       "       'дополнительное образование', 'сыграть свадьбу',\n",
       "       'операции с жильем', 'образование', 'на проведение свадьбы',\n",
       "       'покупка жилья для семьи', 'покупка недвижимости',\n",
       "       'покупка коммерческой недвижимости', 'покупка жилой недвижимости',\n",
       "       'строительство собственной недвижимости', 'недвижимость',\n",
       "       'строительство недвижимости', 'на покупку подержанного автомобиля',\n",
       "       'на покупку своего автомобиля',\n",
       "       'операции с коммерческой недвижимостью',\n",
       "       'строительство жилой недвижимости', 'жилье',\n",
       "       'операции со своей недвижимостью', 'автомобили',\n",
       "       'заняться образованием', 'сделка с подержанным автомобилем',\n",
       "       'получение образования', 'автомобиль', 'свадьба',\n",
       "       'получение дополнительного образования', 'покупка своего жилья',\n",
       "       'операции с недвижимостью', 'получение высшего образования',\n",
       "       'свой автомобиль', 'сделка с автомобилем',\n",
       "       'профильное образование', 'высшее образование',\n",
       "       'покупка жилья для сдачи', 'на покупку автомобиля', 'ремонт жилью',\n",
       "       'заняться высшим образованием'], dtype=object)"
      ]
     },
     "metadata": {},
     "output_type": "display_data"
    }
   ],
   "source": [
    "display(data['education'].unique())\n",
    "display(data['family_status'].unique())\n",
    "display(data['income_type'].unique())\n",
    "display(data['purpose'].unique())"
   ]
  },
  {
   "cell_type": "markdown",
   "metadata": {},
   "source": [
    "В столбце 'education' присутствуют явные дубли. Приведем все значения в нижний регистр:"
   ]
  },
  {
   "cell_type": "code",
   "execution_count": 7,
   "metadata": {},
   "outputs": [
    {
     "data": {
      "text/plain": [
       "array(['высшее', 'среднее', 'неоконченное высшее', 'начальное',\n",
       "       'ученая степень'], dtype=object)"
      ]
     },
     "execution_count": 7,
     "metadata": {},
     "output_type": "execute_result"
    }
   ],
   "source": [
    "data['education'] = data['education'].str.lower()\n",
    "data['education'].unique()"
   ]
  },
  {
   "cell_type": "markdown",
   "metadata": {},
   "source": [
    "Приведем столбец 'family_status' к единому стилю и поменяем регистр во всех значениях на нижний:"
   ]
  },
  {
   "cell_type": "code",
   "execution_count": 8,
   "metadata": {},
   "outputs": [
    {
     "data": {
      "text/plain": [
       "array(['женат / замужем', 'гражданский брак', 'вдовец / вдова',\n",
       "       'в разводе', 'не женат / не замужем'], dtype=object)"
      ]
     },
     "execution_count": 8,
     "metadata": {},
     "output_type": "execute_result"
    }
   ],
   "source": [
    "data['family_status'] = data['family_status'].str.lower()\n",
    "data['family_status'].unique()"
   ]
  },
  {
   "cell_type": "markdown",
   "metadata": {},
   "source": []
  },
  {
   "cell_type": "markdown",
   "metadata": {},
   "source": [
    "**Вывод** В столбце 'education' присутствовали явные дубли из за разного регистра в значениях, а в столбце 'family_status' значения были написаны разным стилем(разный регистр у разных значений). Вероятно разный регистр появился из за человеческого фактора. Значения в этих столбцах приведены к единому, низкому регистру."
   ]
  },
  {
   "cell_type": "markdown",
   "metadata": {},
   "source": [
    "В столбце 'children' присутствуют отрицательные числа, вероятно это человеческий фактор. Оставим значения модулей чисел:"
   ]
  },
  {
   "cell_type": "code",
   "execution_count": 9,
   "metadata": {},
   "outputs": [
    {
     "data": {
      "text/plain": [
       "array([ 1,  0,  3,  2,  4, 20,  5])"
      ]
     },
     "execution_count": 9,
     "metadata": {},
     "output_type": "execute_result"
    }
   ],
   "source": [
    "data['children'] = data['children'].abs()\n",
    "data['children'].unique()"
   ]
  },
  {
   "cell_type": "markdown",
   "metadata": {},
   "source": [
    "Удалим дубликаты"
   ]
  },
  {
   "cell_type": "code",
   "execution_count": 10,
   "metadata": {},
   "outputs": [
    {
     "data": {
      "text/plain": [
       "0"
      ]
     },
     "execution_count": 10,
     "metadata": {},
     "output_type": "execute_result"
    }
   ],
   "source": [
    "data = data.drop_duplicates()\n",
    "data.duplicated().sum()"
   ]
  },
  {
   "cell_type": "markdown",
   "metadata": {},
   "source": [
    "### Лемматизация"
   ]
  },
  {
   "cell_type": "markdown",
   "metadata": {},
   "source": [
    "Выделим уникальные слова столбца 'purpose', проведем лемматизацию и отсортируем их по убыванию частоты упоминания"
   ]
  },
  {
   "cell_type": "code",
   "execution_count": 11,
   "metadata": {},
   "outputs": [
    {
     "data": {
      "text/plain": [
       "[(' ', 96),\n",
       " ('покупка', 10),\n",
       " ('недвижимость', 10),\n",
       " ('автомобиль', 9),\n",
       " ('образование', 9),\n",
       " ('жилье', 7),\n",
       " ('с', 5),\n",
       " ('операция', 4),\n",
       " ('на', 4),\n",
       " ('свой', 4),\n",
       " ('свадьба', 3),\n",
       " ('строительство', 3),\n",
       " ('получение', 3),\n",
       " ('высокий', 3),\n",
       " ('дополнительный', 2),\n",
       " ('для', 2),\n",
       " ('коммерческий', 2),\n",
       " ('жилой', 2),\n",
       " ('подержать', 2),\n",
       " ('заниматься', 2),\n",
       " ('сделка', 2),\n",
       " ('приобретение', 1),\n",
       " ('сыграть', 1),\n",
       " ('проведение', 1),\n",
       " ('семья', 1),\n",
       " ('собственный', 1),\n",
       " ('со', 1),\n",
       " ('профильный', 1),\n",
       " ('сдача', 1),\n",
       " ('ремонт', 1),\n",
       " ('\\n', 1)]"
      ]
     },
     "execution_count": 11,
     "metadata": {},
     "output_type": "execute_result"
    }
   ],
   "source": [
    "from pymystem3 import Mystem\n",
    "m = Mystem()\n",
    "\n",
    "lemmas = m.lemmatize(' '.join(data['purpose'].unique()))\n",
    "lemmas\n",
    "from collections import Counter\n",
    "Counter(lemmas).most_common()"
   ]
  },
  {
   "cell_type": "markdown",
   "metadata": {},
   "source": [
    "### Категоризация данных"
   ]
  },
  {
   "cell_type": "markdown",
   "metadata": {},
   "source": [
    "Для построения сводных таблиц разобъем на категории те столбцы в которых присутствует большое количество значений\n",
    "\n",
    "Разобъем цели получения кредита на крупные категории и добавим их в таблицу отдельным столбцом 'purpose_group'"
   ]
  },
  {
   "cell_type": "code",
   "execution_count": 12,
   "metadata": {
    "scrolled": true
   },
   "outputs": [
    {
     "data": {
      "text/plain": [
       "недвижимость    10811\n",
       "автомобиль       4306\n",
       "образование      4013\n",
       "свадьба          2324\n",
       "Name: purpose_group, dtype: int64"
      ]
     },
     "execution_count": 12,
     "metadata": {},
     "output_type": "execute_result"
    }
   ],
   "source": [
    "def purpose_grouping(data_purpose):\n",
    "    lemmas = m.lemmatize(data_purpose)\n",
    "    if 'жилье' in lemmas or 'недвижимость' in lemmas:\n",
    "        return 'недвижимость'\n",
    "    if 'автомобиль' in lemmas:\n",
    "        return 'автомобиль'\n",
    "    if 'образование' in lemmas:\n",
    "        return 'образование'\n",
    "    if 'свадьба' in lemmas:\n",
    "        return 'свадьба'\n",
    "    else:\n",
    "        return 'прочее'\n",
    "\n",
    "data['purpose_group'] = data['purpose'].apply(purpose_grouping)\n",
    "data['purpose_group'].value_counts()"
   ]
  },
  {
   "cell_type": "markdown",
   "metadata": {},
   "source": [
    "Добавим категорию с информацией о налиции без детей\\1-2 ребенка\\многодетный"
   ]
  },
  {
   "cell_type": "code",
   "execution_count": 13,
   "metadata": {},
   "outputs": [
    {
     "data": {
      "text/plain": [
       "без детей      14091\n",
       "1-2 ребенка     6907\n",
       "многодетный      456\n",
       "Name: children_group, dtype: int64"
      ]
     },
     "execution_count": 13,
     "metadata": {},
     "output_type": "execute_result"
    }
   ],
   "source": [
    "def children_grouping(data_children):\n",
    "    if data_children == 0:\n",
    "        return 'без детей'\n",
    "    if 1 <= data_children <=2:\n",
    "        return '1-2 ребенка'\n",
    "    else:\n",
    "        return 'многодетный'\n",
    "\n",
    "data['children_group'] = data['children'].apply(children_grouping)\n",
    "data['children_group'].value_counts()"
   ]
  },
  {
   "cell_type": "markdown",
   "metadata": {},
   "source": [
    "Теперь добвим категорию с доходом в зависимости от значения столбца с ежемесячным доодом"
   ]
  },
  {
   "cell_type": "code",
   "execution_count": 14,
   "metadata": {},
   "outputs": [
    {
     "data": {
      "text/plain": [
       "средний доход    7559\n",
       "высокий доход    7459\n",
       "низкий доход     6436\n",
       "Name: income_group, dtype: int64"
      ]
     },
     "execution_count": 14,
     "metadata": {},
     "output_type": "execute_result"
    }
   ],
   "source": [
    "def income_grouping(data_income):\n",
    "    if data_income == 0:\n",
    "        return 'нет дохода'\n",
    "    if 0 < data_income <= data['total_income'].quantile(.3):\n",
    "        return 'низкий доход'\n",
    "    if data['total_income'].quantile(.3) < data_income <= data['total_income'].quantile(.6):\n",
    "        return 'средний доход'\n",
    "    if data['total_income'].quantile(.6) < data_income:\n",
    "        return 'высокий доход'\n",
    "\n",
    "data['income_group'] = data['total_income'].apply(income_grouping)\n",
    "data['income_group'].value_counts()"
   ]
  },
  {
   "cell_type": "markdown",
   "metadata": {},
   "source": [
    "**Вывод** Самая частая цель получения кредита - 'недвижимость'"
   ]
  },
  {
   "cell_type": "markdown",
   "metadata": {},
   "source": [
    "## Выявление закономерностей"
   ]
  },
  {
   "cell_type": "markdown",
   "metadata": {},
   "source": [
    "### Зависимость между наличием детей и возвратом кредита в срок"
   ]
  },
  {
   "cell_type": "code",
   "execution_count": 15,
   "metadata": {},
   "outputs": [
    {
     "data": {
      "text/html": [
       "<div>\n",
       "<style scoped>\n",
       "    .dataframe tbody tr th:only-of-type {\n",
       "        vertical-align: middle;\n",
       "    }\n",
       "\n",
       "    .dataframe tbody tr th {\n",
       "        vertical-align: top;\n",
       "    }\n",
       "\n",
       "    .dataframe thead th {\n",
       "        text-align: right;\n",
       "    }\n",
       "</style>\n",
       "<table border=\"1\" class=\"dataframe\">\n",
       "  <thead>\n",
       "    <tr style=\"text-align: right;\">\n",
       "      <th></th>\n",
       "      <th>no_debt</th>\n",
       "      <th>debt</th>\n",
       "      <th>percent_no_debt</th>\n",
       "    </tr>\n",
       "    <tr>\n",
       "      <th>children_group</th>\n",
       "      <th></th>\n",
       "      <th></th>\n",
       "      <th></th>\n",
       "    </tr>\n",
       "  </thead>\n",
       "  <tbody>\n",
       "    <tr>\n",
       "      <td>1-2 ребенка</td>\n",
       "      <td>6268</td>\n",
       "      <td>639</td>\n",
       "      <td>0.907485</td>\n",
       "    </tr>\n",
       "    <tr>\n",
       "      <td>без детей</td>\n",
       "      <td>13028</td>\n",
       "      <td>1063</td>\n",
       "      <td>0.924562</td>\n",
       "    </tr>\n",
       "    <tr>\n",
       "      <td>многодетный</td>\n",
       "      <td>417</td>\n",
       "      <td>39</td>\n",
       "      <td>0.914474</td>\n",
       "    </tr>\n",
       "  </tbody>\n",
       "</table>\n",
       "</div>"
      ],
      "text/plain": [
       "                no_debt  debt  percent_no_debt\n",
       "children_group                                \n",
       "1-2 ребенка        6268   639         0.907485\n",
       "без детей         13028  1063         0.924562\n",
       "многодетный         417    39         0.914474"
      ]
     },
     "execution_count": 15,
     "metadata": {},
     "output_type": "execute_result"
    }
   ],
   "source": [
    "data_pivot_children = data.pivot_table(index=['children_group'], columns='debt', values='total_income', aggfunc='count')\n",
    "data_pivot_children.columns = ['no_debt', 'debt']\n",
    "data_pivot_children['percent_no_debt'] = data_pivot_children['no_debt'] / (data_pivot_children['no_debt'] + data_pivot_children['debt'])\n",
    "data_pivot_children"
   ]
  },
  {
   "cell_type": "markdown",
   "metadata": {},
   "source": [
    "**Вывод** Заемщики без детей реже всего имеют задолженности, чаще всего задолженность имеют заемщики с 1-2 детьми. Зависимость по категориям в пределах 1,7%"
   ]
  },
  {
   "cell_type": "markdown",
   "metadata": {},
   "source": [
    "### Зависимость между семейным положением и возвратом кредита в срок"
   ]
  },
  {
   "cell_type": "code",
   "execution_count": 16,
   "metadata": {},
   "outputs": [
    {
     "data": {
      "text/html": [
       "<div>\n",
       "<style scoped>\n",
       "    .dataframe tbody tr th:only-of-type {\n",
       "        vertical-align: middle;\n",
       "    }\n",
       "\n",
       "    .dataframe tbody tr th {\n",
       "        vertical-align: top;\n",
       "    }\n",
       "\n",
       "    .dataframe thead th {\n",
       "        text-align: right;\n",
       "    }\n",
       "</style>\n",
       "<table border=\"1\" class=\"dataframe\">\n",
       "  <thead>\n",
       "    <tr style=\"text-align: right;\">\n",
       "      <th></th>\n",
       "      <th>no_debt</th>\n",
       "      <th>debt</th>\n",
       "      <th>percent_no_debt</th>\n",
       "    </tr>\n",
       "    <tr>\n",
       "      <th>family_status</th>\n",
       "      <th></th>\n",
       "      <th></th>\n",
       "      <th></th>\n",
       "    </tr>\n",
       "  </thead>\n",
       "  <tbody>\n",
       "    <tr>\n",
       "      <td>в разводе</td>\n",
       "      <td>1110</td>\n",
       "      <td>85</td>\n",
       "      <td>0.928870</td>\n",
       "    </tr>\n",
       "    <tr>\n",
       "      <td>вдовец / вдова</td>\n",
       "      <td>896</td>\n",
       "      <td>63</td>\n",
       "      <td>0.934307</td>\n",
       "    </tr>\n",
       "    <tr>\n",
       "      <td>гражданский брак</td>\n",
       "      <td>3763</td>\n",
       "      <td>388</td>\n",
       "      <td>0.906529</td>\n",
       "    </tr>\n",
       "    <tr>\n",
       "      <td>женат / замужем</td>\n",
       "      <td>11408</td>\n",
       "      <td>931</td>\n",
       "      <td>0.924548</td>\n",
       "    </tr>\n",
       "    <tr>\n",
       "      <td>не женат / не замужем</td>\n",
       "      <td>2536</td>\n",
       "      <td>274</td>\n",
       "      <td>0.902491</td>\n",
       "    </tr>\n",
       "  </tbody>\n",
       "</table>\n",
       "</div>"
      ],
      "text/plain": [
       "                       no_debt  debt  percent_no_debt\n",
       "family_status                                        \n",
       "в разводе                 1110    85         0.928870\n",
       "вдовец / вдова             896    63         0.934307\n",
       "гражданский брак          3763   388         0.906529\n",
       "женат / замужем          11408   931         0.924548\n",
       "не женат / не замужем     2536   274         0.902491"
      ]
     },
     "execution_count": 16,
     "metadata": {},
     "output_type": "execute_result"
    }
   ],
   "source": [
    "data_pivot_family_status = data.pivot_table(index=['family_status'], columns='debt', values='total_income', aggfunc='count')\n",
    "data_pivot_family_status.columns = ['no_debt', 'debt']\n",
    "data_pivot_family_status['percent_no_debt'] = data_pivot_family_status['no_debt'] / (data_pivot_family_status['no_debt'] + data_pivot_family_status['debt'])\n",
    "data_pivot_family_status"
   ]
  },
  {
   "cell_type": "markdown",
   "metadata": {},
   "source": [
    "**Вывод** Чаще всего задолженность имеют заемщики со статусом не женат/ не замужем, реже всего вдовы / вдовцы. Зависимость по категориям в пределах 3,2%"
   ]
  },
  {
   "cell_type": "markdown",
   "metadata": {},
   "source": [
    "### Зависимость между уровнем дохода и возвратом кредита в срок"
   ]
  },
  {
   "cell_type": "code",
   "execution_count": 17,
   "metadata": {},
   "outputs": [
    {
     "data": {
      "text/html": [
       "<div>\n",
       "<style scoped>\n",
       "    .dataframe tbody tr th:only-of-type {\n",
       "        vertical-align: middle;\n",
       "    }\n",
       "\n",
       "    .dataframe tbody tr th {\n",
       "        vertical-align: top;\n",
       "    }\n",
       "\n",
       "    .dataframe thead th {\n",
       "        text-align: right;\n",
       "    }\n",
       "</style>\n",
       "<table border=\"1\" class=\"dataframe\">\n",
       "  <thead>\n",
       "    <tr style=\"text-align: right;\">\n",
       "      <th></th>\n",
       "      <th>no_debt</th>\n",
       "      <th>debt</th>\n",
       "      <th>percent_no_debt</th>\n",
       "    </tr>\n",
       "    <tr>\n",
       "      <th>income_group</th>\n",
       "      <th></th>\n",
       "      <th></th>\n",
       "      <th></th>\n",
       "    </tr>\n",
       "  </thead>\n",
       "  <tbody>\n",
       "    <tr>\n",
       "      <td>высокий доход</td>\n",
       "      <td>6891</td>\n",
       "      <td>568</td>\n",
       "      <td>0.923850</td>\n",
       "    </tr>\n",
       "    <tr>\n",
       "      <td>низкий доход</td>\n",
       "      <td>5913</td>\n",
       "      <td>523</td>\n",
       "      <td>0.918738</td>\n",
       "    </tr>\n",
       "    <tr>\n",
       "      <td>средний доход</td>\n",
       "      <td>6909</td>\n",
       "      <td>650</td>\n",
       "      <td>0.914010</td>\n",
       "    </tr>\n",
       "  </tbody>\n",
       "</table>\n",
       "</div>"
      ],
      "text/plain": [
       "               no_debt  debt  percent_no_debt\n",
       "income_group                                 \n",
       "высокий доход     6891   568         0.923850\n",
       "низкий доход      5913   523         0.918738\n",
       "средний доход     6909   650         0.914010"
      ]
     },
     "execution_count": 17,
     "metadata": {},
     "output_type": "execute_result"
    }
   ],
   "source": [
    "data_pivot_income = data.pivot_table(index=['income_group'], columns='debt', values='total_income', aggfunc='count')\n",
    "data_pivot_income.columns = ['no_debt', 'debt']\n",
    "data_pivot_income['percent_no_debt'] = data_pivot_income['no_debt'] / (data_pivot_income['no_debt'] + data_pivot_income['debt'])\n",
    "data_pivot_income\n"
   ]
  },
  {
   "cell_type": "markdown",
   "metadata": {},
   "source": [
    "**Вывод** Чаще всего задолженность имеют заемщики со средним доходом, реже всего заемщики с высоким доходом.\n",
    "Зависимость по категориям в пределах 0,9%\n"
   ]
  },
  {
   "cell_type": "markdown",
   "metadata": {},
   "source": [
    "### Влияние цели кредита на его возврат в срок"
   ]
  },
  {
   "cell_type": "code",
   "execution_count": 18,
   "metadata": {},
   "outputs": [
    {
     "data": {
      "text/html": [
       "<div>\n",
       "<style scoped>\n",
       "    .dataframe tbody tr th:only-of-type {\n",
       "        vertical-align: middle;\n",
       "    }\n",
       "\n",
       "    .dataframe tbody tr th {\n",
       "        vertical-align: top;\n",
       "    }\n",
       "\n",
       "    .dataframe thead th {\n",
       "        text-align: right;\n",
       "    }\n",
       "</style>\n",
       "<table border=\"1\" class=\"dataframe\">\n",
       "  <thead>\n",
       "    <tr style=\"text-align: right;\">\n",
       "      <th></th>\n",
       "      <th>no_debt</th>\n",
       "      <th>debt</th>\n",
       "      <th>percent_no_debt</th>\n",
       "    </tr>\n",
       "    <tr>\n",
       "      <th>purpose_group</th>\n",
       "      <th></th>\n",
       "      <th></th>\n",
       "      <th></th>\n",
       "    </tr>\n",
       "  </thead>\n",
       "  <tbody>\n",
       "    <tr>\n",
       "      <td>автомобиль</td>\n",
       "      <td>3903</td>\n",
       "      <td>403</td>\n",
       "      <td>0.906410</td>\n",
       "    </tr>\n",
       "    <tr>\n",
       "      <td>недвижимость</td>\n",
       "      <td>10029</td>\n",
       "      <td>782</td>\n",
       "      <td>0.927666</td>\n",
       "    </tr>\n",
       "    <tr>\n",
       "      <td>образование</td>\n",
       "      <td>3643</td>\n",
       "      <td>370</td>\n",
       "      <td>0.907800</td>\n",
       "    </tr>\n",
       "    <tr>\n",
       "      <td>свадьба</td>\n",
       "      <td>2138</td>\n",
       "      <td>186</td>\n",
       "      <td>0.919966</td>\n",
       "    </tr>\n",
       "  </tbody>\n",
       "</table>\n",
       "</div>"
      ],
      "text/plain": [
       "               no_debt  debt  percent_no_debt\n",
       "purpose_group                                \n",
       "автомобиль        3903   403         0.906410\n",
       "недвижимость     10029   782         0.927666\n",
       "образование       3643   370         0.907800\n",
       "свадьба           2138   186         0.919966"
      ]
     },
     "execution_count": 18,
     "metadata": {},
     "output_type": "execute_result"
    }
   ],
   "source": [
    "data_pivot_purpose = data.pivot_table(index=['purpose_group'], columns='debt', values='total_income', aggfunc='count')\n",
    "data_pivot_purpose.columns = ['no_debt', 'debt']\n",
    "data_pivot_purpose['percent_no_debt'] = data_pivot_purpose['no_debt'] / (data_pivot_purpose['no_debt'] + data_pivot_purpose['debt'])\n",
    "data_pivot_purpose"
   ]
  },
  {
   "cell_type": "markdown",
   "metadata": {},
   "source": [
    "**Вывод** Чаще всего задолженность имеют заемщики с кредитом на атомобиль, реже всего заемщики с кредитом на недвижимость.\n",
    "Зависимость по категориям в пределах 2,1%"
   ]
  },
  {
   "cell_type": "markdown",
   "metadata": {},
   "source": [
    "## Общий вывод"
   ]
  },
  {
   "cell_type": "markdown",
   "metadata": {},
   "source": [
    "Больше всего отсутствие задолженности зависит от семеного пложения - интервал между максимальным и минимальным значением равен 3,2%\n",
    "\n",
    "Меньше всего отсутствие задолженности зависит от уровня дохода - интервал между максимальным и минимальным значением равен 0,9%"
   ]
  }
 ],
 "metadata": {
  "ExecuteTimeLog": [
   {
    "duration": 1105,
    "start_time": "2021-11-23T13:28:39.630Z"
   },
   {
    "duration": 12,
    "start_time": "2021-11-23T13:28:40.737Z"
   },
   {
    "duration": 6,
    "start_time": "2021-11-23T13:28:40.751Z"
   },
   {
    "duration": 23,
    "start_time": "2021-11-23T13:28:40.759Z"
   },
   {
    "duration": 37,
    "start_time": "2021-11-23T13:28:40.784Z"
   },
   {
    "duration": 12,
    "start_time": "2021-11-23T13:28:40.823Z"
   },
   {
    "duration": 14,
    "start_time": "2021-11-23T13:28:40.837Z"
   },
   {
    "duration": 17,
    "start_time": "2021-11-23T13:28:40.853Z"
   },
   {
    "duration": 496,
    "start_time": "2021-11-23T13:28:40.872Z"
   },
   {
    "duration": 375,
    "start_time": "2021-11-23T14:06:04.298Z"
   },
   {
    "duration": 3831,
    "start_time": "2021-11-23T14:07:04.405Z"
   },
   {
    "duration": 3746,
    "start_time": "2021-11-23T14:07:13.967Z"
   },
   {
    "duration": 3925,
    "start_time": "2021-11-23T14:07:37.322Z"
   },
   {
    "duration": 1084,
    "start_time": "2021-11-23T14:08:47.922Z"
   },
   {
    "duration": 25,
    "start_time": "2021-11-23T14:09:55.724Z"
   },
   {
    "duration": 8,
    "start_time": "2021-11-23T14:10:02.337Z"
   },
   {
    "duration": 356,
    "start_time": "2021-11-23T14:10:55.281Z"
   },
   {
    "duration": 6,
    "start_time": "2021-11-23T14:13:24.170Z"
   },
   {
    "duration": 386,
    "start_time": "2021-11-23T14:14:22.144Z"
   },
   {
    "duration": 365,
    "start_time": "2021-11-23T14:15:05.797Z"
   },
   {
    "duration": 363,
    "start_time": "2021-11-23T14:15:26.596Z"
   },
   {
    "duration": 352,
    "start_time": "2021-11-23T14:21:24.447Z"
   },
   {
    "duration": 124,
    "start_time": "2021-11-23T14:22:03.216Z"
   },
   {
    "duration": 306,
    "start_time": "2021-11-23T14:22:27.362Z"
   },
   {
    "duration": 12,
    "start_time": "2021-11-23T14:22:27.670Z"
   },
   {
    "duration": 5,
    "start_time": "2021-11-23T14:22:27.684Z"
   },
   {
    "duration": 34,
    "start_time": "2021-11-23T14:22:27.691Z"
   },
   {
    "duration": 13,
    "start_time": "2021-11-23T14:22:27.727Z"
   },
   {
    "duration": 13,
    "start_time": "2021-11-23T14:22:27.741Z"
   },
   {
    "duration": 15,
    "start_time": "2021-11-23T14:22:27.756Z"
   },
   {
    "duration": 55,
    "start_time": "2021-11-23T14:22:27.772Z"
   },
   {
    "duration": 119,
    "start_time": "2021-11-23T14:22:27.829Z"
   },
   {
    "duration": 129,
    "start_time": "2021-11-23T14:23:41.353Z"
   },
   {
    "duration": 113,
    "start_time": "2021-11-23T14:24:24.339Z"
   },
   {
    "duration": 134,
    "start_time": "2021-11-23T14:24:29.629Z"
   },
   {
    "duration": 670,
    "start_time": "2021-11-23T14:24:52.138Z"
   },
   {
    "duration": 716,
    "start_time": "2021-11-23T14:25:03.435Z"
   },
   {
    "duration": 694,
    "start_time": "2021-11-23T14:27:10.992Z"
   },
   {
    "duration": 682,
    "start_time": "2021-11-23T14:27:37.667Z"
   },
   {
    "duration": 1059,
    "start_time": "2021-11-23T14:31:22.163Z"
   },
   {
    "duration": 715,
    "start_time": "2021-11-23T14:31:30.011Z"
   },
   {
    "duration": 133,
    "start_time": "2021-11-23T14:32:54.700Z"
   },
   {
    "duration": 130,
    "start_time": "2021-11-23T14:32:58.313Z"
   },
   {
    "duration": 1094,
    "start_time": "2021-11-23T14:33:03.461Z"
   },
   {
    "duration": 728,
    "start_time": "2021-11-23T14:33:07.451Z"
   },
   {
    "duration": 119,
    "start_time": "2021-11-24T09:12:09.473Z"
   },
   {
    "duration": 547,
    "start_time": "2021-11-24T09:12:21.126Z"
   },
   {
    "duration": 357,
    "start_time": "2021-11-24T09:13:06.471Z"
   },
   {
    "duration": 330,
    "start_time": "2021-11-24T09:13:33.933Z"
   },
   {
    "duration": 7,
    "start_time": "2021-11-24T09:13:57.529Z"
   },
   {
    "duration": 328,
    "start_time": "2021-11-24T09:14:15.201Z"
   },
   {
    "duration": 394,
    "start_time": "2021-11-24T09:14:32.360Z"
   },
   {
    "duration": 951,
    "start_time": "2021-11-24T09:14:41.715Z"
   },
   {
    "duration": 16,
    "start_time": "2021-11-24T09:14:42.667Z"
   },
   {
    "duration": 5,
    "start_time": "2021-11-24T09:14:42.686Z"
   },
   {
    "duration": 22,
    "start_time": "2021-11-24T09:14:42.706Z"
   },
   {
    "duration": 13,
    "start_time": "2021-11-24T09:14:42.730Z"
   },
   {
    "duration": 15,
    "start_time": "2021-11-24T09:14:42.745Z"
   },
   {
    "duration": 50,
    "start_time": "2021-11-24T09:14:42.762Z"
   },
   {
    "duration": 21,
    "start_time": "2021-11-24T09:14:42.815Z"
   },
   {
    "duration": 699,
    "start_time": "2021-11-24T09:14:42.838Z"
   },
   {
    "duration": 1903,
    "start_time": "2021-11-24T09:14:43.540Z"
   },
   {
    "duration": 3,
    "start_time": "2021-11-24T09:15:21.665Z"
   },
   {
    "duration": 3685,
    "start_time": "2021-11-24T09:15:33.088Z"
   },
   {
    "duration": 1127,
    "start_time": "2021-11-24T09:19:51.422Z"
   },
   {
    "duration": 14,
    "start_time": "2021-11-24T09:19:52.551Z"
   },
   {
    "duration": 10,
    "start_time": "2021-11-24T09:19:52.567Z"
   },
   {
    "duration": 54,
    "start_time": "2021-11-24T09:19:52.579Z"
   },
   {
    "duration": 13,
    "start_time": "2021-11-24T09:19:52.636Z"
   },
   {
    "duration": 36,
    "start_time": "2021-11-24T09:19:52.650Z"
   },
   {
    "duration": 45,
    "start_time": "2021-11-24T09:19:52.688Z"
   },
   {
    "duration": 48,
    "start_time": "2021-11-24T09:19:52.736Z"
   },
   {
    "duration": 693,
    "start_time": "2021-11-24T09:19:52.786Z"
   },
   {
    "duration": 4,
    "start_time": "2021-11-24T09:20:58.008Z"
   },
   {
    "duration": 68812,
    "start_time": "2021-11-24T09:21:01.868Z"
   },
   {
    "duration": 18,
    "start_time": "2021-11-24T09:22:47.621Z"
   },
   {
    "duration": 7,
    "start_time": "2021-11-24T09:23:37.978Z"
   },
   {
    "duration": 5,
    "start_time": "2021-11-24T09:25:02.965Z"
   },
   {
    "duration": 9,
    "start_time": "2021-11-24T09:25:09.777Z"
   },
   {
    "duration": 136267,
    "start_time": "2021-11-24T09:26:24.640Z"
   },
   {
    "duration": 9,
    "start_time": "2021-11-24T09:29:04.978Z"
   },
   {
    "duration": 21,
    "start_time": "2021-11-24T09:29:09.760Z"
   },
   {
    "duration": 125,
    "start_time": "2021-11-24T09:30:04.917Z"
   },
   {
    "duration": 120,
    "start_time": "2021-11-24T09:30:48.927Z"
   },
   {
    "duration": 2,
    "start_time": "2021-11-24T09:30:57.358Z"
   },
   {
    "duration": 9,
    "start_time": "2021-11-24T09:31:39.527Z"
   },
   {
    "duration": 2825,
    "start_time": "2021-11-24T09:32:18.795Z"
   },
   {
    "duration": 9271,
    "start_time": "2021-11-24T09:32:52.113Z"
   },
   {
    "duration": 4473,
    "start_time": "2021-11-24T09:34:02.267Z"
   },
   {
    "duration": 8404,
    "start_time": "2021-11-24T09:34:30.737Z"
   },
   {
    "duration": 3031,
    "start_time": "2021-11-24T09:36:48.846Z"
   },
   {
    "duration": 3012,
    "start_time": "2021-11-24T09:36:56.820Z"
   },
   {
    "duration": 1655,
    "start_time": "2021-11-24T09:41:18.726Z"
   },
   {
    "duration": 116,
    "start_time": "2021-11-24T09:43:05.988Z"
   },
   {
    "duration": 2522,
    "start_time": "2021-11-24T09:43:40.084Z"
   },
   {
    "duration": 26,
    "start_time": "2021-11-24T09:45:46.116Z"
   },
   {
    "duration": 19,
    "start_time": "2021-11-24T09:46:03.878Z"
   },
   {
    "duration": 336,
    "start_time": "2021-11-24T09:46:15.604Z"
   },
   {
    "duration": 13,
    "start_time": "2021-11-24T09:46:15.941Z"
   },
   {
    "duration": 13,
    "start_time": "2021-11-24T09:46:15.956Z"
   },
   {
    "duration": 37,
    "start_time": "2021-11-24T09:46:15.971Z"
   },
   {
    "duration": 13,
    "start_time": "2021-11-24T09:46:16.010Z"
   },
   {
    "duration": 18,
    "start_time": "2021-11-24T09:46:16.025Z"
   },
   {
    "duration": 18,
    "start_time": "2021-11-24T09:46:16.045Z"
   },
   {
    "duration": 48,
    "start_time": "2021-11-24T09:46:16.065Z"
   },
   {
    "duration": 703,
    "start_time": "2021-11-24T09:46:16.116Z"
   },
   {
    "duration": 20,
    "start_time": "2021-11-24T09:46:16.821Z"
   },
   {
    "duration": 300,
    "start_time": "2021-11-24T09:46:46.368Z"
   },
   {
    "duration": 13,
    "start_time": "2021-11-24T09:46:46.670Z"
   },
   {
    "duration": 17,
    "start_time": "2021-11-24T09:46:46.686Z"
   },
   {
    "duration": 24,
    "start_time": "2021-11-24T09:46:46.705Z"
   },
   {
    "duration": 14,
    "start_time": "2021-11-24T09:46:46.731Z"
   },
   {
    "duration": 12,
    "start_time": "2021-11-24T09:46:46.747Z"
   },
   {
    "duration": 15,
    "start_time": "2021-11-24T09:46:46.760Z"
   },
   {
    "duration": 28,
    "start_time": "2021-11-24T09:46:46.806Z"
   },
   {
    "duration": 675,
    "start_time": "2021-11-24T09:46:46.836Z"
   },
   {
    "duration": 2604,
    "start_time": "2021-11-24T09:46:47.513Z"
   },
   {
    "duration": 7,
    "start_time": "2021-11-24T09:47:51.292Z"
   },
   {
    "duration": 7933,
    "start_time": "2021-11-24T09:48:37.789Z"
   },
   {
    "duration": 7752,
    "start_time": "2021-11-24T09:49:27.382Z"
   },
   {
    "duration": 21,
    "start_time": "2021-11-24T09:49:52.612Z"
   },
   {
    "duration": 106,
    "start_time": "2021-11-24T10:03:16.895Z"
   },
   {
    "duration": 562,
    "start_time": "2021-11-24T10:03:32.684Z"
   },
   {
    "duration": 1563,
    "start_time": "2021-11-24T10:04:20.803Z"
   },
   {
    "duration": 5842,
    "start_time": "2021-11-24T10:04:35.953Z"
   },
   {
    "duration": 7803,
    "start_time": "2021-11-24T10:07:07.133Z"
   },
   {
    "duration": 1675,
    "start_time": "2021-11-24T10:08:09.194Z"
   },
   {
    "duration": 283,
    "start_time": "2021-11-24T10:08:20.497Z"
   },
   {
    "duration": 11,
    "start_time": "2021-11-24T10:08:20.782Z"
   },
   {
    "duration": 9,
    "start_time": "2021-11-24T10:08:20.795Z"
   },
   {
    "duration": 36,
    "start_time": "2021-11-24T10:08:20.806Z"
   },
   {
    "duration": 13,
    "start_time": "2021-11-24T10:08:20.844Z"
   },
   {
    "duration": 17,
    "start_time": "2021-11-24T10:08:20.859Z"
   },
   {
    "duration": 14,
    "start_time": "2021-11-24T10:08:20.878Z"
   },
   {
    "duration": 29,
    "start_time": "2021-11-24T10:08:20.894Z"
   },
   {
    "duration": 733,
    "start_time": "2021-11-24T10:08:20.926Z"
   },
   {
    "duration": 1610,
    "start_time": "2021-11-24T10:08:21.661Z"
   },
   {
    "duration": 2999,
    "start_time": "2021-11-24T10:09:16.125Z"
   },
   {
    "duration": 2816,
    "start_time": "2021-11-24T10:09:39.527Z"
   },
   {
    "duration": 2990,
    "start_time": "2021-11-24T10:11:37.517Z"
   },
   {
    "duration": 3391,
    "start_time": "2021-11-24T10:12:32.358Z"
   },
   {
    "duration": 2997,
    "start_time": "2021-11-24T10:13:13.698Z"
   },
   {
    "duration": 128,
    "start_time": "2021-11-24T10:15:16.740Z"
   },
   {
    "duration": 3148,
    "start_time": "2021-11-24T10:15:55.083Z"
   },
   {
    "duration": 2927,
    "start_time": "2021-11-24T10:16:28.700Z"
   },
   {
    "duration": 3257,
    "start_time": "2021-11-24T10:17:03.619Z"
   },
   {
    "duration": 3039,
    "start_time": "2021-11-24T10:17:24.737Z"
   },
   {
    "duration": 10,
    "start_time": "2021-11-24T10:49:16.047Z"
   },
   {
    "duration": 21,
    "start_time": "2021-11-24T10:49:21.877Z"
   },
   {
    "duration": 114,
    "start_time": "2021-11-24T10:50:08.035Z"
   },
   {
    "duration": 9,
    "start_time": "2021-11-24T10:50:13.791Z"
   },
   {
    "duration": 11,
    "start_time": "2021-11-24T10:55:04.046Z"
   },
   {
    "duration": 17,
    "start_time": "2021-11-24T10:56:26.037Z"
   },
   {
    "duration": 111,
    "start_time": "2021-11-24T10:58:36.787Z"
   },
   {
    "duration": 9984,
    "start_time": "2021-11-24T10:59:03.805Z"
   },
   {
    "duration": 11,
    "start_time": "2021-11-24T10:59:24.400Z"
   },
   {
    "duration": 127,
    "start_time": "2021-11-24T11:00:07.989Z"
   },
   {
    "duration": 129,
    "start_time": "2021-11-24T11:00:15.835Z"
   },
   {
    "duration": 16,
    "start_time": "2021-11-24T11:00:25.646Z"
   },
   {
    "duration": 4730,
    "start_time": "2021-11-24T11:03:08.113Z"
   },
   {
    "duration": 6,
    "start_time": "2021-11-24T11:03:30.417Z"
   },
   {
    "duration": 4466,
    "start_time": "2021-11-24T11:04:32.894Z"
   },
   {
    "duration": 10,
    "start_time": "2021-11-24T11:04:51.431Z"
   },
   {
    "duration": 8,
    "start_time": "2021-11-24T11:05:21.524Z"
   },
   {
    "duration": 9,
    "start_time": "2021-11-24T11:05:57.555Z"
   },
   {
    "duration": 8,
    "start_time": "2021-11-24T11:06:02.321Z"
   },
   {
    "duration": 347,
    "start_time": "2021-11-24T11:06:32.982Z"
   },
   {
    "duration": 120,
    "start_time": "2021-11-24T11:08:41.175Z"
   },
   {
    "duration": 143,
    "start_time": "2021-11-24T11:09:00.796Z"
   },
   {
    "duration": 378,
    "start_time": "2021-11-24T11:09:14.565Z"
   },
   {
    "duration": 10,
    "start_time": "2021-11-24T11:09:24.840Z"
   },
   {
    "duration": 25,
    "start_time": "2021-11-24T11:09:32.264Z"
   },
   {
    "duration": 358,
    "start_time": "2021-11-24T11:10:18.721Z"
   },
   {
    "duration": 368,
    "start_time": "2021-11-24T11:11:24.541Z"
   },
   {
    "duration": 2143,
    "start_time": "2021-11-24T11:11:39.752Z"
   },
   {
    "duration": 512,
    "start_time": "2021-11-24T12:42:16.080Z"
   },
   {
    "duration": 36,
    "start_time": "2021-11-24T12:42:16.594Z"
   },
   {
    "duration": 5,
    "start_time": "2021-11-24T12:42:16.632Z"
   },
   {
    "duration": 29,
    "start_time": "2021-11-24T12:42:16.638Z"
   },
   {
    "duration": 13,
    "start_time": "2021-11-24T12:42:16.669Z"
   },
   {
    "duration": 33,
    "start_time": "2021-11-24T12:42:16.684Z"
   },
   {
    "duration": 22,
    "start_time": "2021-11-24T12:42:16.719Z"
   },
   {
    "duration": 34,
    "start_time": "2021-11-24T12:42:16.744Z"
   },
   {
    "duration": 982,
    "start_time": "2021-11-24T12:42:16.780Z"
   },
   {
    "duration": 3489,
    "start_time": "2021-11-24T12:42:17.764Z"
   },
   {
    "duration": 2028,
    "start_time": "2021-11-24T12:42:21.255Z"
   },
   {
    "duration": 10,
    "start_time": "2021-11-24T12:52:47.139Z"
   },
   {
    "duration": 10,
    "start_time": "2021-11-24T12:54:28.631Z"
   },
   {
    "duration": 9,
    "start_time": "2021-11-24T12:55:00.293Z"
   },
   {
    "duration": 10,
    "start_time": "2021-11-24T12:55:10.646Z"
   },
   {
    "duration": 9,
    "start_time": "2021-11-24T12:56:23.562Z"
   },
   {
    "duration": 20,
    "start_time": "2021-11-24T12:57:04.435Z"
   },
   {
    "duration": 12,
    "start_time": "2021-11-24T12:57:43.407Z"
   },
   {
    "duration": 16,
    "start_time": "2021-11-24T12:57:51.193Z"
   },
   {
    "duration": 31,
    "start_time": "2021-11-24T12:58:35.803Z"
   },
   {
    "duration": 20,
    "start_time": "2021-11-24T12:58:44.819Z"
   },
   {
    "duration": 376,
    "start_time": "2021-11-24T13:06:52.449Z"
   },
   {
    "duration": 17,
    "start_time": "2021-11-24T13:08:17.124Z"
   },
   {
    "duration": 20,
    "start_time": "2021-11-24T13:08:23.240Z"
   },
   {
    "duration": 12,
    "start_time": "2021-11-24T13:15:12.318Z"
   },
   {
    "duration": 25,
    "start_time": "2021-11-24T13:15:41.943Z"
   },
   {
    "duration": 19,
    "start_time": "2021-11-24T13:16:23.160Z"
   },
   {
    "duration": 7157,
    "start_time": "2021-11-24T13:17:39.795Z"
   },
   {
    "duration": 9316,
    "start_time": "2021-11-24T13:17:57.586Z"
   },
   {
    "duration": 17,
    "start_time": "2021-11-24T13:18:38.685Z"
   },
   {
    "duration": 20,
    "start_time": "2021-11-24T13:18:44.746Z"
   },
   {
    "duration": 20,
    "start_time": "2021-11-24T13:19:42.259Z"
   },
   {
    "duration": 20,
    "start_time": "2021-11-24T13:20:15.409Z"
   },
   {
    "duration": 22,
    "start_time": "2021-11-24T13:22:02.992Z"
   },
   {
    "duration": 21,
    "start_time": "2021-11-24T13:24:08.677Z"
   },
   {
    "duration": 22,
    "start_time": "2021-11-24T13:24:33.065Z"
   },
   {
    "duration": 20,
    "start_time": "2021-11-24T13:29:18.463Z"
   },
   {
    "duration": 23,
    "start_time": "2021-11-24T13:29:56.098Z"
   },
   {
    "duration": 20,
    "start_time": "2021-11-24T13:30:32.159Z"
   },
   {
    "duration": 21,
    "start_time": "2021-11-24T13:31:20.009Z"
   },
   {
    "duration": 24,
    "start_time": "2021-11-24T13:32:39.582Z"
   },
   {
    "duration": 23,
    "start_time": "2021-11-24T13:33:02.222Z"
   },
   {
    "duration": 22,
    "start_time": "2021-11-24T13:37:37.578Z"
   },
   {
    "duration": 357,
    "start_time": "2021-11-24T13:38:39.410Z"
   },
   {
    "duration": 21,
    "start_time": "2021-11-24T13:38:56.478Z"
   },
   {
    "duration": 21,
    "start_time": "2021-11-24T13:39:09.591Z"
   },
   {
    "duration": 20,
    "start_time": "2021-11-24T13:41:45.337Z"
   },
   {
    "duration": 9546,
    "start_time": "2021-11-24T13:42:55.104Z"
   },
   {
    "duration": 20,
    "start_time": "2021-11-24T13:43:10.433Z"
   },
   {
    "duration": 353,
    "start_time": "2021-11-24T13:43:41.035Z"
   },
   {
    "duration": 23,
    "start_time": "2021-11-24T13:43:55.195Z"
   },
   {
    "duration": 30,
    "start_time": "2021-11-24T13:44:55.843Z"
   },
   {
    "duration": 20,
    "start_time": "2021-11-24T13:45:00.926Z"
   },
   {
    "duration": 22,
    "start_time": "2021-11-24T13:46:24.778Z"
   },
   {
    "duration": 113,
    "start_time": "2021-11-24T13:54:33.049Z"
   },
   {
    "duration": 17,
    "start_time": "2021-11-24T14:01:04.421Z"
   },
   {
    "duration": 19,
    "start_time": "2021-11-24T14:01:23.278Z"
   },
   {
    "duration": 16,
    "start_time": "2021-11-24T14:02:47.894Z"
   },
   {
    "duration": 20,
    "start_time": "2021-11-24T14:03:08.025Z"
   },
   {
    "duration": 16,
    "start_time": "2021-11-24T14:03:33.280Z"
   },
   {
    "duration": 26,
    "start_time": "2021-11-24T14:04:46.350Z"
   },
   {
    "duration": 304,
    "start_time": "2021-11-24T14:05:02.741Z"
   },
   {
    "duration": 14,
    "start_time": "2021-11-24T14:05:03.047Z"
   },
   {
    "duration": 24,
    "start_time": "2021-11-24T14:05:03.063Z"
   },
   {
    "duration": 32,
    "start_time": "2021-11-24T14:05:03.089Z"
   },
   {
    "duration": 13,
    "start_time": "2021-11-24T14:05:03.123Z"
   },
   {
    "duration": 58,
    "start_time": "2021-11-24T14:05:03.138Z"
   },
   {
    "duration": 18,
    "start_time": "2021-11-24T14:05:03.198Z"
   },
   {
    "duration": 24,
    "start_time": "2021-11-24T14:05:03.218Z"
   },
   {
    "duration": 727,
    "start_time": "2021-11-24T14:05:03.244Z"
   },
   {
    "duration": 3058,
    "start_time": "2021-11-24T14:05:03.973Z"
   },
   {
    "duration": 12,
    "start_time": "2021-11-24T14:05:07.033Z"
   },
   {
    "duration": 24,
    "start_time": "2021-11-24T14:05:07.047Z"
   },
   {
    "duration": 47,
    "start_time": "2021-11-24T14:05:07.073Z"
   },
   {
    "duration": 22,
    "start_time": "2021-11-24T14:05:07.122Z"
   },
   {
    "duration": 20,
    "start_time": "2021-11-24T14:05:07.145Z"
   },
   {
    "duration": 45,
    "start_time": "2021-11-24T14:05:07.167Z"
   },
   {
    "duration": 19,
    "start_time": "2021-11-24T14:05:57.763Z"
   },
   {
    "duration": 329,
    "start_time": "2021-11-24T14:35:26.526Z"
   },
   {
    "duration": 18,
    "start_time": "2021-11-24T14:35:26.857Z"
   },
   {
    "duration": 5,
    "start_time": "2021-11-24T14:35:26.877Z"
   },
   {
    "duration": 45,
    "start_time": "2021-11-24T14:35:26.885Z"
   },
   {
    "duration": 19,
    "start_time": "2021-11-24T14:35:26.933Z"
   },
   {
    "duration": 17,
    "start_time": "2021-11-24T14:35:26.954Z"
   },
   {
    "duration": 50,
    "start_time": "2021-11-24T14:35:26.973Z"
   },
   {
    "duration": 29,
    "start_time": "2021-11-24T14:35:27.026Z"
   },
   {
    "duration": 786,
    "start_time": "2021-11-24T14:35:27.058Z"
   },
   {
    "duration": 3094,
    "start_time": "2021-11-24T14:35:27.846Z"
   },
   {
    "duration": 12,
    "start_time": "2021-11-24T14:35:30.942Z"
   },
   {
    "duration": 37,
    "start_time": "2021-11-24T14:35:30.956Z"
   },
   {
    "duration": 44,
    "start_time": "2021-11-24T14:35:30.995Z"
   },
   {
    "duration": 69,
    "start_time": "2021-11-24T14:35:31.041Z"
   },
   {
    "duration": 128,
    "start_time": "2021-11-24T14:35:31.111Z"
   },
   {
    "duration": 67,
    "start_time": "2021-11-24T14:35:31.241Z"
   },
   {
    "duration": 800,
    "start_time": "2021-11-24T15:33:54.798Z"
   },
   {
    "duration": 12,
    "start_time": "2021-11-24T15:33:55.600Z"
   },
   {
    "duration": 5,
    "start_time": "2021-11-24T15:33:55.615Z"
   },
   {
    "duration": 26,
    "start_time": "2021-11-24T15:33:55.621Z"
   },
   {
    "duration": 12,
    "start_time": "2021-11-24T15:33:55.648Z"
   },
   {
    "duration": 36,
    "start_time": "2021-11-24T15:33:55.661Z"
   },
   {
    "duration": 13,
    "start_time": "2021-11-24T15:33:55.699Z"
   },
   {
    "duration": 25,
    "start_time": "2021-11-24T15:33:55.714Z"
   },
   {
    "duration": 648,
    "start_time": "2021-11-24T15:33:55.741Z"
   },
   {
    "duration": 2600,
    "start_time": "2021-11-24T15:33:56.391Z"
   },
   {
    "duration": 12,
    "start_time": "2021-11-24T15:33:58.992Z"
   },
   {
    "duration": 17,
    "start_time": "2021-11-24T15:33:59.005Z"
   },
   {
    "duration": 26,
    "start_time": "2021-11-24T15:33:59.024Z"
   },
   {
    "duration": 41,
    "start_time": "2021-11-24T15:33:59.052Z"
   },
   {
    "duration": 18,
    "start_time": "2021-11-24T15:33:59.095Z"
   },
   {
    "duration": 17,
    "start_time": "2021-11-24T15:33:59.115Z"
   },
   {
    "duration": 84,
    "start_time": "2021-11-24T15:39:18.220Z"
   },
   {
    "duration": 12,
    "start_time": "2021-11-24T15:39:21.803Z"
   },
   {
    "duration": 75,
    "start_time": "2021-11-24T15:45:52.065Z"
   },
   {
    "duration": 106,
    "start_time": "2021-11-25T08:06:26.072Z"
   },
   {
    "duration": 393,
    "start_time": "2021-11-25T08:08:09.412Z"
   },
   {
    "duration": 1203,
    "start_time": "2021-11-25T08:08:15.902Z"
   },
   {
    "duration": 26,
    "start_time": "2021-11-25T08:08:17.108Z"
   },
   {
    "duration": 7,
    "start_time": "2021-11-25T08:08:17.138Z"
   },
   {
    "duration": 75,
    "start_time": "2021-11-25T08:08:17.149Z"
   },
   {
    "duration": 26,
    "start_time": "2021-11-25T08:08:17.227Z"
   },
   {
    "duration": 44,
    "start_time": "2021-11-25T08:08:17.256Z"
   },
   {
    "duration": 32,
    "start_time": "2021-11-25T08:08:17.303Z"
   },
   {
    "duration": 67,
    "start_time": "2021-11-25T08:08:17.340Z"
   },
   {
    "duration": 8,
    "start_time": "2021-11-25T08:08:17.411Z"
   },
   {
    "duration": 1037,
    "start_time": "2021-11-25T08:08:17.421Z"
   },
   {
    "duration": 3973,
    "start_time": "2021-11-25T08:08:18.462Z"
   },
   {
    "duration": 18,
    "start_time": "2021-11-25T08:08:22.437Z"
   },
   {
    "duration": 42,
    "start_time": "2021-11-25T08:08:22.458Z"
   },
   {
    "duration": 39,
    "start_time": "2021-11-25T08:08:22.502Z"
   },
   {
    "duration": 58,
    "start_time": "2021-11-25T08:08:22.543Z"
   },
   {
    "duration": 29,
    "start_time": "2021-11-25T08:08:22.603Z"
   },
   {
    "duration": 54,
    "start_time": "2021-11-25T08:08:22.635Z"
   },
   {
    "duration": 2301,
    "start_time": "2021-11-25T08:08:58.343Z"
   },
   {
    "duration": 308,
    "start_time": "2021-11-25T08:10:07.031Z"
   },
   {
    "duration": 312,
    "start_time": "2021-11-25T08:14:19.039Z"
   },
   {
    "duration": 292,
    "start_time": "2021-11-25T08:14:43.677Z"
   },
   {
    "duration": 303,
    "start_time": "2021-11-25T08:17:12.136Z"
   },
   {
    "duration": 305,
    "start_time": "2021-11-25T08:17:23.563Z"
   },
   {
    "duration": 302,
    "start_time": "2021-11-25T08:22:25.207Z"
   },
   {
    "duration": 330,
    "start_time": "2021-11-25T08:25:32.802Z"
   },
   {
    "duration": 445,
    "start_time": "2021-11-25T08:26:24.207Z"
   },
   {
    "duration": 362,
    "start_time": "2021-11-25T08:26:39.954Z"
   },
   {
    "duration": 19,
    "start_time": "2021-11-25T08:26:40.319Z"
   },
   {
    "duration": 11,
    "start_time": "2021-11-25T08:26:40.341Z"
   },
   {
    "duration": 54,
    "start_time": "2021-11-25T08:26:40.355Z"
   },
   {
    "duration": 31,
    "start_time": "2021-11-25T08:26:40.411Z"
   },
   {
    "duration": 40,
    "start_time": "2021-11-25T08:26:40.444Z"
   },
   {
    "duration": 22,
    "start_time": "2021-11-25T08:26:40.486Z"
   },
   {
    "duration": 24,
    "start_time": "2021-11-25T08:26:40.512Z"
   },
   {
    "duration": 422,
    "start_time": "2021-11-25T08:26:40.539Z"
   },
   {
    "duration": 44,
    "start_time": "2021-11-25T08:26:40.920Z"
   },
   {
    "duration": 43,
    "start_time": "2021-11-25T08:26:40.923Z"
   },
   {
    "duration": 43,
    "start_time": "2021-11-25T08:26:40.925Z"
   },
   {
    "duration": 42,
    "start_time": "2021-11-25T08:26:40.928Z"
   },
   {
    "duration": 40,
    "start_time": "2021-11-25T08:26:40.931Z"
   },
   {
    "duration": 17,
    "start_time": "2021-11-25T08:26:40.956Z"
   },
   {
    "duration": 9,
    "start_time": "2021-11-25T08:26:40.965Z"
   },
   {
    "duration": 8,
    "start_time": "2021-11-25T08:26:40.968Z"
   },
   {
    "duration": 7,
    "start_time": "2021-11-25T08:27:02.410Z"
   },
   {
    "duration": 9,
    "start_time": "2021-11-25T08:27:14.628Z"
   },
   {
    "duration": 24,
    "start_time": "2021-11-25T08:33:12.761Z"
   },
   {
    "duration": 22,
    "start_time": "2021-11-25T08:33:21.162Z"
   },
   {
    "duration": 23,
    "start_time": "2021-11-25T08:33:29.771Z"
   },
   {
    "duration": 23,
    "start_time": "2021-11-25T08:34:06.773Z"
   },
   {
    "duration": 336,
    "start_time": "2021-11-25T08:35:04.250Z"
   },
   {
    "duration": 283,
    "start_time": "2021-11-25T08:37:03.477Z"
   },
   {
    "duration": 31,
    "start_time": "2021-11-25T08:37:03.763Z"
   },
   {
    "duration": 7,
    "start_time": "2021-11-25T08:37:03.797Z"
   },
   {
    "duration": 28,
    "start_time": "2021-11-25T08:37:03.807Z"
   },
   {
    "duration": 51,
    "start_time": "2021-11-25T08:37:03.837Z"
   },
   {
    "duration": 21,
    "start_time": "2021-11-25T08:37:03.890Z"
   },
   {
    "duration": 21,
    "start_time": "2021-11-25T08:37:03.913Z"
   },
   {
    "duration": 62,
    "start_time": "2021-11-25T08:37:03.938Z"
   },
   {
    "duration": 21,
    "start_time": "2021-11-25T08:37:04.003Z"
   },
   {
    "duration": 313,
    "start_time": "2021-11-25T08:37:04.026Z"
   },
   {
    "duration": 32,
    "start_time": "2021-11-25T08:37:04.309Z"
   },
   {
    "duration": 31,
    "start_time": "2021-11-25T08:37:04.312Z"
   },
   {
    "duration": 29,
    "start_time": "2021-11-25T08:37:04.315Z"
   },
   {
    "duration": 24,
    "start_time": "2021-11-25T08:37:04.322Z"
   },
   {
    "duration": 22,
    "start_time": "2021-11-25T08:37:04.325Z"
   },
   {
    "duration": 20,
    "start_time": "2021-11-25T08:37:04.328Z"
   },
   {
    "duration": 19,
    "start_time": "2021-11-25T08:37:04.331Z"
   },
   {
    "duration": 17,
    "start_time": "2021-11-25T08:37:04.334Z"
   },
   {
    "duration": 42,
    "start_time": "2021-11-25T08:41:04.260Z"
   },
   {
    "duration": 53,
    "start_time": "2021-11-25T08:41:17.486Z"
   },
   {
    "duration": 14,
    "start_time": "2021-11-25T08:42:00.113Z"
   },
   {
    "duration": 294,
    "start_time": "2021-11-25T08:43:23.935Z"
   },
   {
    "duration": 19,
    "start_time": "2021-11-25T08:43:24.232Z"
   },
   {
    "duration": 5,
    "start_time": "2021-11-25T08:43:24.254Z"
   },
   {
    "duration": 28,
    "start_time": "2021-11-25T08:43:24.283Z"
   },
   {
    "duration": 16,
    "start_time": "2021-11-25T08:43:24.314Z"
   },
   {
    "duration": 53,
    "start_time": "2021-11-25T08:43:24.332Z"
   },
   {
    "duration": 21,
    "start_time": "2021-11-25T08:43:24.387Z"
   },
   {
    "duration": 23,
    "start_time": "2021-11-25T08:43:24.412Z"
   },
   {
    "duration": 6,
    "start_time": "2021-11-25T08:43:24.438Z"
   },
   {
    "duration": 44,
    "start_time": "2021-11-25T08:43:24.482Z"
   },
   {
    "duration": 971,
    "start_time": "2021-11-25T08:43:24.529Z"
   },
   {
    "duration": 3858,
    "start_time": "2021-11-25T08:43:25.503Z"
   },
   {
    "duration": 28,
    "start_time": "2021-11-25T08:43:29.364Z"
   },
   {
    "duration": 25,
    "start_time": "2021-11-25T08:43:29.395Z"
   },
   {
    "duration": 80,
    "start_time": "2021-11-25T08:43:29.422Z"
   },
   {
    "duration": 31,
    "start_time": "2021-11-25T08:43:29.505Z"
   },
   {
    "duration": 58,
    "start_time": "2021-11-25T08:43:29.539Z"
   },
   {
    "duration": 31,
    "start_time": "2021-11-25T08:43:29.600Z"
   },
   {
    "duration": 17,
    "start_time": "2021-11-25T08:45:21.589Z"
   },
   {
    "duration": 296,
    "start_time": "2021-11-25T08:45:39.943Z"
   },
   {
    "duration": 22,
    "start_time": "2021-11-25T08:45:40.243Z"
   },
   {
    "duration": 6,
    "start_time": "2021-11-25T08:45:40.281Z"
   },
   {
    "duration": 28,
    "start_time": "2021-11-25T08:45:40.290Z"
   },
   {
    "duration": 18,
    "start_time": "2021-11-25T08:45:40.321Z"
   },
   {
    "duration": 51,
    "start_time": "2021-11-25T08:45:40.341Z"
   },
   {
    "duration": 20,
    "start_time": "2021-11-25T08:45:40.394Z"
   },
   {
    "duration": 25,
    "start_time": "2021-11-25T08:45:40.418Z"
   },
   {
    "duration": 41,
    "start_time": "2021-11-25T08:45:40.445Z"
   },
   {
    "duration": 52,
    "start_time": "2021-11-25T08:45:40.488Z"
   },
   {
    "duration": 970,
    "start_time": "2021-11-25T08:45:40.542Z"
   },
   {
    "duration": 3898,
    "start_time": "2021-11-25T08:45:41.514Z"
   },
   {
    "duration": 18,
    "start_time": "2021-11-25T08:45:45.414Z"
   },
   {
    "duration": 27,
    "start_time": "2021-11-25T08:45:45.434Z"
   },
   {
    "duration": 38,
    "start_time": "2021-11-25T08:45:45.482Z"
   },
   {
    "duration": 29,
    "start_time": "2021-11-25T08:45:45.522Z"
   },
   {
    "duration": 66,
    "start_time": "2021-11-25T08:45:45.554Z"
   },
   {
    "duration": 66,
    "start_time": "2021-11-25T08:45:45.623Z"
   },
   {
    "duration": 528,
    "start_time": "2021-11-25T08:51:23.741Z"
   },
   {
    "duration": 504,
    "start_time": "2021-11-25T08:52:23.614Z"
   },
   {
    "duration": 372,
    "start_time": "2021-11-25T08:58:13.412Z"
   },
   {
    "duration": 26,
    "start_time": "2021-11-25T09:00:52.865Z"
   },
   {
    "duration": 333,
    "start_time": "2021-11-25T09:01:16.722Z"
   },
   {
    "duration": 23,
    "start_time": "2021-11-25T09:01:24.159Z"
   },
   {
    "duration": 24,
    "start_time": "2021-11-25T09:01:31.642Z"
   },
   {
    "duration": 35930,
    "start_time": "2021-11-25T09:02:06.370Z"
   },
   {
    "duration": 1068,
    "start_time": "2021-11-25T09:05:21.853Z"
   },
   {
    "duration": 28,
    "start_time": "2021-11-25T09:05:22.924Z"
   },
   {
    "duration": 27,
    "start_time": "2021-11-25T09:05:22.956Z"
   },
   {
    "duration": 32,
    "start_time": "2021-11-25T09:05:22.986Z"
   },
   {
    "duration": 17,
    "start_time": "2021-11-25T09:05:23.020Z"
   },
   {
    "duration": 50,
    "start_time": "2021-11-25T09:05:23.040Z"
   },
   {
    "duration": 20,
    "start_time": "2021-11-25T09:05:23.092Z"
   },
   {
    "duration": 23,
    "start_time": "2021-11-25T09:05:23.117Z"
   },
   {
    "duration": 52,
    "start_time": "2021-11-25T09:05:23.143Z"
   },
   {
    "duration": 45,
    "start_time": "2021-11-25T09:05:23.198Z"
   },
   {
    "duration": 936,
    "start_time": "2021-11-25T09:05:23.245Z"
   },
   {
    "duration": 3680,
    "start_time": "2021-11-25T09:05:24.184Z"
   },
   {
    "duration": 29,
    "start_time": "2021-11-25T09:05:27.867Z"
   },
   {
    "duration": 98125,
    "start_time": "2021-11-25T09:05:27.898Z"
   },
   {
    "duration": 39,
    "start_time": "2021-11-25T09:07:06.025Z"
   },
   {
    "duration": 36,
    "start_time": "2021-11-25T09:07:06.081Z"
   },
   {
    "duration": 31,
    "start_time": "2021-11-25T09:07:06.120Z"
   },
   {
    "duration": 28,
    "start_time": "2021-11-25T09:07:06.181Z"
   },
   {
    "duration": 324,
    "start_time": "2021-11-25T09:18:48.489Z"
   },
   {
    "duration": 26,
    "start_time": "2021-11-25T09:18:48.816Z"
   },
   {
    "duration": 18,
    "start_time": "2021-11-25T09:18:48.846Z"
   },
   {
    "duration": 32,
    "start_time": "2021-11-25T09:18:48.883Z"
   },
   {
    "duration": 20,
    "start_time": "2021-11-25T09:18:48.919Z"
   },
   {
    "duration": 59,
    "start_time": "2021-11-25T09:18:48.942Z"
   },
   {
    "duration": 23,
    "start_time": "2021-11-25T09:18:49.004Z"
   },
   {
    "duration": 62,
    "start_time": "2021-11-25T09:18:49.033Z"
   },
   {
    "duration": 9,
    "start_time": "2021-11-25T09:18:49.098Z"
   },
   {
    "duration": 73,
    "start_time": "2021-11-25T09:18:49.110Z"
   },
   {
    "duration": 960,
    "start_time": "2021-11-25T09:18:49.186Z"
   },
   {
    "duration": 3918,
    "start_time": "2021-11-25T09:18:50.150Z"
   },
   {
    "duration": 25,
    "start_time": "2021-11-25T09:18:54.070Z"
   },
   {
    "duration": 105856,
    "start_time": "2021-11-25T09:18:54.098Z"
   },
   {
    "duration": 48,
    "start_time": "2021-11-25T09:20:39.957Z"
   },
   {
    "duration": 29,
    "start_time": "2021-11-25T09:20:40.008Z"
   },
   {
    "duration": 50,
    "start_time": "2021-11-25T09:20:40.039Z"
   },
   {
    "duration": 42,
    "start_time": "2021-11-25T09:20:40.092Z"
   },
   {
    "duration": 924,
    "start_time": "2021-11-25T12:54:19.889Z"
   },
   {
    "duration": 16,
    "start_time": "2021-11-25T12:54:20.815Z"
   },
   {
    "duration": 5,
    "start_time": "2021-11-25T12:54:20.833Z"
   },
   {
    "duration": 22,
    "start_time": "2021-11-25T12:54:20.841Z"
   },
   {
    "duration": 13,
    "start_time": "2021-11-25T12:54:20.865Z"
   },
   {
    "duration": 12,
    "start_time": "2021-11-25T12:54:20.879Z"
   },
   {
    "duration": 14,
    "start_time": "2021-11-25T12:54:20.893Z"
   },
   {
    "duration": 56,
    "start_time": "2021-11-25T12:54:20.909Z"
   },
   {
    "duration": 6,
    "start_time": "2021-11-25T12:54:20.968Z"
   },
   {
    "duration": 30,
    "start_time": "2021-11-25T12:54:20.975Z"
   },
   {
    "duration": 809,
    "start_time": "2021-11-25T12:54:21.007Z"
   },
   {
    "duration": 3227,
    "start_time": "2021-11-25T12:54:21.819Z"
   },
   {
    "duration": 13,
    "start_time": "2021-11-25T12:54:25.048Z"
   },
   {
    "duration": 57120,
    "start_time": "2021-11-25T12:54:25.063Z"
   },
   {
    "duration": 26,
    "start_time": "2021-11-25T12:55:22.185Z"
   },
   {
    "duration": 40,
    "start_time": "2021-11-25T12:55:22.213Z"
   },
   {
    "duration": 28,
    "start_time": "2021-11-25T12:55:22.255Z"
   },
   {
    "duration": 19,
    "start_time": "2021-11-25T12:55:22.285Z"
   },
   {
    "duration": 91,
    "start_time": "2021-11-25T12:56:15.391Z"
   }
  ],
  "kernelspec": {
   "display_name": "Python 3",
   "language": "python",
   "name": "python3"
  },
  "language_info": {
   "codemirror_mode": {
    "name": "ipython",
    "version": 3
   },
   "file_extension": ".py",
   "mimetype": "text/x-python",
   "name": "python",
   "nbconvert_exporter": "python",
   "pygments_lexer": "ipython3",
   "version": "3.8.8"
  },
  "toc": {
   "base_numbering": 1,
   "nav_menu": {},
   "number_sections": true,
   "sideBar": true,
   "skip_h1_title": true,
   "title_cell": "Table of Contents",
   "title_sidebar": "Contents",
   "toc_cell": false,
   "toc_position": {},
   "toc_section_display": true,
   "toc_window_display": false
  }
 },
 "nbformat": 4,
 "nbformat_minor": 2
}
